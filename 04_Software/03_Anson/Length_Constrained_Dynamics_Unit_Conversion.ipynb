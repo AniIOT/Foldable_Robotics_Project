{
 "cells": [
  {
   "cell_type": "code",
   "execution_count": 1,
   "id": "d75ff359",
   "metadata": {},
   "outputs": [],
   "source": [
    "%matplotlib inline"
   ]
  },
  {
   "cell_type": "code",
   "execution_count": 2,
   "id": "c9554a1e",
   "metadata": {},
   "outputs": [],
   "source": [
    "#Set model to freely swim\n",
    "use_free_move = False"
   ]
  },
  {
   "cell_type": "markdown",
   "id": "01a651d9",
   "metadata": {},
   "source": [
    "# Importing Libraries\n",
    "\n",
    "Importing libraries for script"
   ]
  },
  {
   "cell_type": "code",
   "execution_count": 3,
   "id": "19dc092c",
   "metadata": {},
   "outputs": [],
   "source": [
    "import pynamics\n",
    "from pynamics.frame import Frame\n",
    "from pynamics.variable_types import Differentiable,Constant\n",
    "from pynamics.system import System\n",
    "from pynamics.body import Body\n",
    "from pynamics.dyadic import Dyadic\n",
    "from pynamics.output import Output,PointsOutput\n",
    "from pynamics.output_points_3d import PointsOutput3D\n",
    "from pynamics.constraint import AccelerationConstraint,KinematicConstraint\n",
    "from pynamics.particle import Particle\n",
    "import pynamics.integration\n",
    "import numpy\n",
    "import matplotlib.pyplot as plt\n",
    "plt.ion()\n",
    "from math import pi,sin\n",
    "import sympy\n",
    "from sympy import sqrt\n",
    "import math\n",
    "import idealab_tools.units\n",
    "import scipy.optimize\n",
    "from matplotlib import animation, rc\n",
    "from IPython.display import HTML\n",
    "\n",
    "\n",
    "system = System()\n",
    "pynamics.set_system(__name__,system)\n",
    "\n",
    "\n",
    "#Setting Unit scaling for model\n",
    "idealab_tools.units.Unit.set_scaling(m=1000) #units mm\n",
    "idealab_tools.units.Unit.set_scaling(kg=1000) #units g\n",
    "density_u = idealab_tools.units.Unit(kg = 1,m = -3)\n",
    "area_u = idealab_tools.units.Unit(m = 2)\n",
    "rotational_damping = idealab_tools.units.Unit(N = 1,m= 1,rad= -1)"
   ]
  },
  {
   "cell_type": "markdown",
   "id": "92c478a5",
   "metadata": {},
   "source": [
    "# Constants of System\n",
    "\n",
    "In this block of code we are defining all the constants of our system that we will use for our simulation"
   ]
  },
  {
   "cell_type": "code",
   "execution_count": 4,
   "id": "73ab2bd7",
   "metadata": {},
   "outputs": [],
   "source": [
    "#Defining Constants of System\n",
    "seg_len = 0.03  #segment mass\n",
    "seg_mass = 1 #segment mass \n",
    "seg_h = 1 #segment height\n",
    "seg_th = 1 #segment thickness\n",
    "\n",
    "#Set segment lengths\n",
    "lA = Constant(seg_len*idealab_tools.units.length,'lA',system)\n",
    "lB = Constant(seg_len*idealab_tools.units.length,'lB',system)\n",
    "lC = Constant(seg_len*idealab_tools.units.length,'lC',system)\n",
    "lD = Constant(seg_len*idealab_tools.units.length,'lD',system)\n",
    "lE = Constant(seg_len*idealab_tools.units.length,'lE',system)\n",
    "lF = Constant(seg_len*idealab_tools.units.length,'lF',system)\n",
    "lG = Constant(seg_len*idealab_tools.units.length,'lG',system) #Tail segment\n",
    "lP = Constant(seg_len*5*idealab_tools.units.length,'lP',system) #Constrained length\n",
    "\n",
    "#Set masses\n",
    "mA = Constant(seg_mass*idealab_tools.units.mass,'mA',system)\n",
    "mB = Constant(seg_mass*idealab_tools.units.mass,'mB',system)\n",
    "mC = Constant(seg_mass*idealab_tools.units.mass,'mC',system)\n",
    "mD = Constant(seg_mass*idealab_tools.units.mass,'mD',system)\n",
    "mE = Constant(seg_mass*idealab_tools.units.mass,'mE',system)\n",
    "mF = Constant(seg_mass*idealab_tools.units.mass,'mF',system)\n",
    "mG = Constant(seg_mass*idealab_tools.units.mass,'mF',system)\n",
    "\n",
    "\n",
    "b = Constant(1e-1*rotational_damping,'b',system)\n",
    "k = Constant(1e-1*idealab_tools.units.rotational_stiffness,'k',system)\n",
    "area = Constant(seg_len*seg_h*area_u,'area',system)\n",
    "rho = Constant(998*density_u,'rho',system)\n",
    "\n",
    "freq = Constant(0.5,'freq',system)\n",
    "amp = Constant(44*pi/180,'amp',system)\n",
    "torque = Constant(1e0,'torque',system)\n",
    "\n",
    "Ix = 1/12*seg_mass*(seg_h**2 + seg_th**2)\n",
    "Iy = 1/12*seg_mass*(seg_h**2 + seg_len**2)\n",
    "Iz = 1/12*seg_mass*(seg_len**2 + seg_th**2)\n",
    "\n",
    "Ixx_A = Constant(Ix*idealab_tools.units.inertia,'Ixx_A',system)\n",
    "Iyy_A = Constant(Iy*idealab_tools.units.inertia,'Iyy_A',system)\n",
    "Izz_A = Constant(Iz*idealab_tools.units.inertia,'Izz_A',system)\n",
    "Ixx_B = Constant(Ix*idealab_tools.units.inertia,'Ixx_B',system)\n",
    "Iyy_B = Constant(Iy*idealab_tools.units.inertia,'Iyy_B',system)\n",
    "Izz_B = Constant(Iz*idealab_tools.units.inertia,'Izz_B',system)\n",
    "Ixx_C = Constant(Ix*idealab_tools.units.inertia,'Ixx_C',system)\n",
    "Iyy_C = Constant(Iy*idealab_tools.units.inertia,'Iyy_C',system)\n",
    "Izz_C = Constant(Iz*idealab_tools.units.inertia,'Izz_C',system)\n",
    "Ixx_D = Constant(Ix*idealab_tools.units.inertia,'Ixx_D',system)\n",
    "Iyy_D = Constant(Iy*idealab_tools.units.inertia,'Iyy_D',system)\n",
    "Izz_D = Constant(Iz*idealab_tools.units.inertia,'Izz_D',system)\n",
    "Ixx_E = Constant(Ix*idealab_tools.units.inertia,'Ixx_E',system)\n",
    "Iyy_E = Constant(Iy*idealab_tools.units.inertia,'Iyy_E',system)\n",
    "Izz_E = Constant(Iz*idealab_tools.units.inertia,'Izz_E',system)\n",
    "Ixx_F = Constant(Ix*idealab_tools.units.inertia,'Ixx_F',system)\n",
    "Iyy_F = Constant(Iy*idealab_tools.units.inertia,'Iyy_F',system)\n",
    "Izz_F = Constant(Iz*idealab_tools.units.inertia,'Izz_F',system)\n",
    "Ixx_G = Constant(Ix*idealab_tools.units.inertia,'Ixx_G',system)\n",
    "Iyy_G = Constant(Iy*idealab_tools.units.inertia,'Iyy_G',system)\n",
    "Izz_G = Constant(Iz*idealab_tools.units.inertia,'Izz_G',system)"
   ]
  },
  {
   "cell_type": "code",
   "execution_count": 5,
   "id": "e398a02c",
   "metadata": {},
   "outputs": [],
   "source": [
    "#Set integration tolerance\n",
    "tol = 1e-6"
   ]
  },
  {
   "cell_type": "code",
   "execution_count": 6,
   "id": "0be73862",
   "metadata": {},
   "outputs": [],
   "source": [
    "#Set simulation run time\n",
    "fps = 30/(1*idealab_tools.units.time)\n",
    "tinitial = 0*idealab_tools.units.time\n",
    "tfinal = 5*idealab_tools.units.time\n",
    "tstep = 1/fps\n",
    "t = numpy.r_[tinitial:tfinal:tstep]"
   ]
  },
  {
   "cell_type": "code",
   "execution_count": 7,
   "id": "9afc2913",
   "metadata": {},
   "outputs": [],
   "source": [
    "#Define derivatives of frames\n",
    "qA,qA_d,qA_dd = Differentiable('qA',system)\n",
    "qB,qB_d,qB_dd = Differentiable('qB',system)\n",
    "qC,qC_d,qC_dd = Differentiable('qC',system)\n",
    "qD,qD_d,qD_dd = Differentiable('qD',system)\n",
    "qE,qE_d,qE_dd = Differentiable('qE',system)\n",
    "qF,qF_d,qF_dd = Differentiable('qF',system)\n",
    "qG,qG_d,qG_dd = Differentiable('qG',system)\n",
    "\n",
    "if use_free_move:\n",
    "    x,x_d,x_dd = Differentiable('x',system)\n",
    "    y,y_d,y_dd = Differentiable('y',system)"
   ]
  },
  {
   "cell_type": "code",
   "execution_count": 8,
   "id": "ea73239d",
   "metadata": {},
   "outputs": [],
   "source": [
    "#set initial conditions\n",
    "initialvalues = {}\n",
    "initialvalues[qA]=70*pi/180*idealab_tools.units.radian\n",
    "initialvalues[qA_d]=0*pi/180*idealab_tools.units.rotational_speed\n",
    "initialvalues[qB]=30*pi/180*idealab_tools.units.radian\n",
    "initialvalues[qB_d]=0*pi/180*idealab_tools.units.rotational_speed\n",
    "initialvalues[qC]=0*pi/180*idealab_tools.units.radian\n",
    "initialvalues[qC_d]=0*pi/180*idealab_tools.units.rotational_speed\n",
    "initialvalues[qD]=0*pi/180*idealab_tools.units.radian\n",
    "initialvalues[qD_d]=0*pi/180*idealab_tools.units.rotational_speed\n",
    "initialvalues[qE]=-10*pi/180*idealab_tools.units.radian\n",
    "initialvalues[qE_d]=0*pi/180*idealab_tools.units.rotational_speed\n",
    "initialvalues[qF]=-40*pi/180*idealab_tools.units.radian\n",
    "initialvalues[qF_d]=0*pi/180*idealab_tools.units.rotational_speed\n",
    "initialvalues[qG]=-40*pi/180*idealab_tools.units.radian\n",
    "initialvalues[qG_d]=0*pi/180*idealab_tools.units.rotational_speed\n",
    "\n",
    "if use_free_move:\n",
    "    initialvalues[x]=0*pi/180*idealab_tools.units.radian\n",
    "    initialvalues[x_d]=0*pi/180*idealab_tools.units.rotational_speed\n",
    "    initialvalues[y]=0*pi/180*idealab_tools.units.radian\n",
    "    initialvalues[y_d]=0*pi/180*idealab_tools.units.rotational_speed\n",
    "\n",
    "statevariables = system.get_state_variables()\n",
    "ini0 = [initialvalues[item] for item in statevariables]"
   ]
  },
  {
   "cell_type": "code",
   "execution_count": 9,
   "id": "c3799823",
   "metadata": {},
   "outputs": [],
   "source": [
    "#Frames\n",
    "N = Frame('N',system)\n",
    "A = Frame('A',system)\n",
    "B = Frame('B',system)\n",
    "C = Frame('C',system)\n",
    "D = Frame('D',system)\n",
    "E = Frame('E',system)\n",
    "F = Frame('F',system)\n",
    "G = Frame('G',system)\n",
    "\n",
    "system.set_newtonian(N)\n",
    "\n",
    "A.rotate_fixed_axis(N,[0,0,1],qA,system)\n",
    "B.rotate_fixed_axis(N,[0,0,1],qB,system)\n",
    "C.rotate_fixed_axis(N,[0,0,1],qC,system)\n",
    "D.rotate_fixed_axis(N,[0,0,1],qD,system)\n",
    "E.rotate_fixed_axis(N,[0,0,1],qE,system)\n",
    "F.rotate_fixed_axis(N,[0,0,1],qF,system)\n",
    "G.rotate_fixed_axis(N,[0,0,1],qG,system)"
   ]
  },
  {
   "cell_type": "markdown",
   "id": "8d126165",
   "metadata": {},
   "source": [
    "# Defining Vectors\n",
    "\n",
    "In this section of code we are defining all the position and center of mass vecotors. Additionally we are calculating angular velocity of each frame and the respective linear velocities at the center of mass. We also build each body of the system in this section."
   ]
  },
  {
   "cell_type": "code",
   "execution_count": 10,
   "id": "1e8f4de1",
   "metadata": {},
   "outputs": [],
   "source": [
    "#Vectors\n",
    "\n",
    "if use_free_move:\n",
    "    pNA=x*N.x + y*N.y + 0*N.z\n",
    "    pP = lP*N.x + pNA\n",
    "else:\n",
    "    pNA=0*N.x + 0*N.y + 0*N.z\n",
    "    pP = lP*N.x\n",
    "    \n",
    "pAB= pNA + lA*A.x\n",
    "pBC = pAB + lB*B.x\n",
    "pCD = pBC + lC*C.x\n",
    "pDE = pCD + lD*D.x\n",
    "pEF = pDE + lE*E.x\n",
    "pFG = pEF + lF*F.x\n",
    "pGtip = pFG + lG*G.x\n",
    "\n",
    "#Center of Mass\n",
    "pAcm=pNA+lA/2*A.x\n",
    "pBcm=pAB+lB/2*B.x\n",
    "pCcm=pBC+lC/2*C.x\n",
    "pDcm=pCD+lD/2*D.x\n",
    "pEcm=pDE+lE/2*E.x\n",
    "pFcm=pEF+lF/2*F.x\n",
    "pGcm=pFG+lG/2*G.x\n",
    "\n",
    "#Angular Velocity\n",
    "wNA = N.get_w_to(A)\n",
    "wAB = A.get_w_to(B) \n",
    "wBC = B.get_w_to(C)\n",
    "wCD = C.get_w_to(D) \n",
    "wDE = D.get_w_to(E)\n",
    "wEF = E.get_w_to(F)\n",
    "wFG = F.get_w_to(G)\n",
    "\n",
    "#Velocities \n",
    "vA=pAcm.time_derivative()\n",
    "vB=pBcm.time_derivative()\n",
    "vC=pCcm.time_derivative()\n",
    "vD=pDcm.time_derivative()\n",
    "vE=pEcm.time_derivative()\n",
    "vF=pFcm.time_derivative()\n",
    "vGtip=pGtip.time_derivative()\n",
    "\n",
    "#Interia and Bodys\n",
    "IA = Dyadic.build(A,Ixx_A,Iyy_A,Izz_A)\n",
    "IB = Dyadic.build(B,Ixx_B,Iyy_B,Izz_B)\n",
    "IC = Dyadic.build(C,Ixx_C,Iyy_C,Izz_C)\n",
    "ID = Dyadic.build(D,Ixx_D,Iyy_D,Izz_D)\n",
    "IE = Dyadic.build(E,Ixx_E,Iyy_E,Izz_E)\n",
    "IF = Dyadic.build(F,Ixx_F,Iyy_F,Izz_F)\n",
    "IG = Dyadic.build(G,Ixx_G,Iyy_G,Izz_G)\n",
    "\n",
    "BodyA = Body('BodyA',A,pAcm,mA,IA,system)\n",
    "BodyB = Body('BodyB',B,pBcm,mB,IB,system)\n",
    "BodyC = Body('BodyC',C,pCcm,mC,IC,system)\n",
    "BodyD = Body('BodyD',D,pDcm,mD,ID,system)\n",
    "BodyE = Body('BodyE',E,pEcm,mE,IE,system)\n",
    "BodyF = Body('BodyF',F,pFcm,mF,IF,system)\n",
    "BodyG = Body('BodyG',G,pGcm,mG,IG,system)"
   ]
  },
  {
   "cell_type": "markdown",
   "id": "b41227bd",
   "metadata": {},
   "source": [
    "# Adding Forces\n",
    "\n",
    "In this section of code we are adding the aerodynamic, spring, and damping forces in the system. The damping and spring values will be calculated experimentally"
   ]
  },
  {
   "cell_type": "code",
   "execution_count": 11,
   "id": "5f8946a3",
   "metadata": {},
   "outputs": [
    {
     "data": {
      "text/plain": [
       "(<pynamics.force.Force at 0x1b5a3890760>,\n",
       " <pynamics.spring.Spring at 0x1b5a38906a0>)"
      ]
     },
     "execution_count": 11,
     "metadata": {},
     "output_type": "execute_result"
    }
   ],
   "source": [
    "#Forces\n",
    "#system.addforce(torque*sympy.cos(freq*2*pi*system.t)*A.z,wNA)\n",
    "\n",
    "#Aerodynamic Forces\n",
    "f_aero_Ay = rho * vA.length()*(vA.dot(A.y)) * area * A.y\n",
    "f_aero_By = rho * vB.length()*(vB.dot(B.y)) * area * B.y\n",
    "f_aero_Cy = rho * vC.length()*(vC.dot(C.y)) * area * C.y\n",
    "f_aero_Dy = rho * vD.length()*(vD.dot(D.y)) * area * D.y\n",
    "f_aero_Ey = rho * vE.length()*(vE.dot(E.y)) * area * E.y\n",
    "f_aero_Fy = rho * vF.length()*(vF.dot(F.y)) * area * F.y\n",
    "f_aero_Gy = rho * vGtip.length()*(vGtip.dot(G.y)) * area * G.y\n",
    "\n",
    "system.addforce(-f_aero_Ay,vA)\n",
    "system.addforce(-f_aero_By,vB)\n",
    "system.addforce(-f_aero_Cy,vC)\n",
    "system.addforce(-f_aero_Dy,vD)\n",
    "system.addforce(-f_aero_Ey,vE)\n",
    "system.addforce(-f_aero_Fy,vF)\n",
    "system.addforce(-f_aero_Gy,vGtip)\n",
    "\n",
    "#Damping Forces\n",
    "system.addforce(-b*wNA,wNA)\n",
    "system.addforce(-b*wAB,wAB)\n",
    "system.addforce(-b*wBC,wBC)\n",
    "system.addforce(-b*wCD,wCD)\n",
    "system.addforce(-b*wDE,wDE)\n",
    "system.addforce(-b*wEF,wEF)\n",
    "system.addforce(-b*wFG,wFG)\n",
    "\n",
    "#Spring Force (Torsion)\n",
    "system.add_spring_force1(k,(qA)*N.z,wNA) \n",
    "system.add_spring_force1(k,(qB-qA)*N.z,wAB)\n",
    "system.add_spring_force1(k,(qC-qB)*N.z,wBC)\n",
    "system.add_spring_force1(k,(qD-qC)*N.z,wCD) \n",
    "system.add_spring_force1(k,(qE-qD)*N.z,wDE)\n",
    "system.add_spring_force1(k,(qF-qE)*N.z,wEF)\n",
    "system.add_spring_force1(k,(qG-qF)*N.z,wFG)"
   ]
  },
  {
   "cell_type": "code",
   "execution_count": 12,
   "id": "6714f080",
   "metadata": {},
   "outputs": [],
   "source": [
    "#Constraints for initial condition\n",
    "\n",
    "eq = []\n",
    "eq.append(pFG-pP)\n",
    "    \n",
    "eq_scalar = []\n",
    "eq_scalar.append(eq[0].dot(N.x))\n",
    "eq_scalar.append(eq[0].dot(N.y))"
   ]
  },
  {
   "cell_type": "code",
   "execution_count": 13,
   "id": "5cd73806",
   "metadata": {},
   "outputs": [
    {
     "name": "stderr",
     "output_type": "stream",
     "text": [
      "2022-04-06 22:02:58,010 - pynamics.output - INFO - calculating outputs\n",
      "2022-04-06 22:02:58,012 - pynamics.output - INFO - done calculating outputs\n"
     ]
    },
    {
     "data": {
      "text/plain": [
       "<AxesSubplot:>"
      ]
     },
     "execution_count": 13,
     "metadata": {},
     "output_type": "execute_result"
    },
    {
     "data": {
      "image/png": "[encoded data removed]",
      "text/plain": [
       "<Figure size 432x288 with 1 Axes>"
      ]
     },
     "metadata": {
      "needs_background": "light"
     },
     "output_type": "display_data"
    }
   ],
   "source": [
    "#Solve for Intial Conditions\n",
    "if use_free_move:\n",
    "    qi = [qA,x,y]\n",
    "else:  \n",
    "    qi = [qA]\n",
    "    \n",
    "c=KinematicConstraint(eq_scalar)\n",
    "\n",
    "variables = [qB,qC,qD,qE,qF]\n",
    "\n",
    "constant_states = list(set(system.get_q(0))-set(variables))\n",
    "constants = system.constant_values.copy()\n",
    "for key in constant_states:\n",
    "    constants[key] = initialvalues[key] \n",
    "guess = [initialvalues[item] for item in variables]\n",
    "result = c.solve_numeric(variables,guess,constants)\n",
    "ini = []\n",
    "\n",
    "for item in system.get_state_variables():\n",
    "    if item in variables:\n",
    "        ini.append(result[item])\n",
    "    else:\n",
    "        ini.append(initialvalues[item])\n",
    "        \n",
    "points = [pNA,pAB,pBC,pCD,pDE,pEF,pFG,pGtip]\n",
    "        \n",
    "points = PointsOutput(points, constant_values=system.constant_values)\n",
    "points.calc(numpy.array([ini0,ini]),[0,1])\n",
    "points.plot_time()"
   ]
  },
  {
   "cell_type": "code",
   "execution_count": 21,
   "id": "838764ed",
   "metadata": {},
   "outputs": [],
   "source": [
    "#Adding Dynamic Constraints\n",
    "\n",
    "#Position of motor limits\n",
    "pos = amp*sympy.cos(freq*2*pi*system.t)\n",
    "\n",
    "eq.append(pos*N.z-qA*N.z)\n",
    "\n",
    "eq_d = [item.time_derivative() for item in eq]\n",
    "eq_dd = [item.time_derivative() for item in eq_d]\n",
    "\n",
    "eq_dd_scalar = []\n",
    "eq_dd_scalar.append(eq_dd[0].dot(N.x))\n",
    "eq_dd_scalar.append(eq_dd[0].dot(N.y))\n",
    "eq_dd_scalar.append(eq_dd[1].dot(N.z))\n",
    "\n",
    "system.add_constraint(AccelerationConstraint(eq_dd_scalar))"
   ]
  },
  {
   "cell_type": "code",
   "execution_count": 22,
   "id": "7b18b3c6",
   "metadata": {},
   "outputs": [
    {
     "name": "stderr",
     "output_type": "stream",
     "text": [
      "2022-04-06 22:03:32,368 - pynamics.system - INFO - getting dynamic equations\n",
      "2022-04-06 22:03:33,218 - pynamics.system - INFO - solving a = f/m and creating function\n",
      "2022-04-06 22:03:36,036 - pynamics.system - INFO - substituting constrained in Ma-f.\n",
      "2022-04-06 22:03:36,714 - pynamics.system - INFO - done solving a = f/m and creating function\n",
      "2022-04-06 22:03:36,715 - pynamics.system - INFO - calculating function for lambdas\n",
      "2022-04-06 22:03:36,715 - pynamics.integration - INFO - beginning integration\n",
      "2022-04-06 22:03:36,716 - pynamics.system - INFO - integration at time 0000.00\n"
     ]
    },
    {
     "ename": "LinAlgError",
     "evalue": "Matrix is singular.",
     "output_type": "error",
     "traceback": [
      "\u001b[1;31m---------------------------------------------------------------------------\u001b[0m",
      "\u001b[1;31mLinAlgError\u001b[0m                               Traceback (most recent call last)",
      "Input \u001b[1;32mIn [22]\u001b[0m, in \u001b[0;36m<cell line: 7>\u001b[1;34m()\u001b[0m\n\u001b[0;32m      3\u001b[0m f,ma \u001b[38;5;241m=\u001b[39m system\u001b[38;5;241m.\u001b[39mgetdynamics()\n\u001b[0;32m      5\u001b[0m func1,lambda1 \u001b[38;5;241m=\u001b[39m system\u001b[38;5;241m.\u001b[39mstate_space_post_invert(f,ma,return_lambda \u001b[38;5;241m=\u001b[39m \u001b[38;5;28;01mTrue\u001b[39;00m)\n\u001b[1;32m----> 7\u001b[0m states\u001b[38;5;241m=\u001b[39m\u001b[43mpynamics\u001b[49m\u001b[38;5;241;43m.\u001b[39;49m\u001b[43mintegration\u001b[49m\u001b[38;5;241;43m.\u001b[39;49m\u001b[43mintegrate\u001b[49m\u001b[43m(\u001b[49m\u001b[43mfunc1\u001b[49m\u001b[43m,\u001b[49m\u001b[43mini\u001b[49m\u001b[43m,\u001b[49m\u001b[43mt\u001b[49m\u001b[43m,\u001b[49m\u001b[43mrtol\u001b[49m\u001b[38;5;241;43m=\u001b[39;49m\u001b[43mtol\u001b[49m\u001b[43m,\u001b[49m\u001b[43matol\u001b[49m\u001b[38;5;241;43m=\u001b[39;49m\u001b[43mtol\u001b[49m\u001b[43m,\u001b[49m\u001b[43mhmin\u001b[49m\u001b[38;5;241;43m=\u001b[39;49m\u001b[43mtol\u001b[49m\u001b[43m,\u001b[49m\u001b[43m \u001b[49m\u001b[43margs\u001b[49m\u001b[38;5;241;43m=\u001b[39;49m\u001b[43m(\u001b[49m\u001b[43m{\u001b[49m\u001b[38;5;124;43m'\u001b[39;49m\u001b[38;5;124;43mconstants\u001b[39;49m\u001b[38;5;124;43m'\u001b[39;49m\u001b[43m:\u001b[49m\u001b[43msystem\u001b[49m\u001b[38;5;241;43m.\u001b[39;49m\u001b[43mconstant_values\u001b[49m\u001b[43m}\u001b[49m\u001b[43m,\u001b[49m\u001b[43m)\u001b[49m\u001b[43m)\u001b[49m\n\u001b[0;32m      9\u001b[0m plt\u001b[38;5;241m.\u001b[39mfigure()\n\u001b[0;32m     10\u001b[0m artists \u001b[38;5;241m=\u001b[39m plt\u001b[38;5;241m.\u001b[39mplot(t,states[:,:\u001b[38;5;241m7\u001b[39m])\n",
      "File \u001b[1;32m~\\Downloads\\Conda\\code_pynamics-master\\python\\pynamics\\integration.py:8\u001b[0m, in \u001b[0;36mintegrate\u001b[1;34m(*args, **kwargs)\u001b[0m\n\u001b[0;32m      6\u001b[0m \u001b[38;5;28;01mdef\u001b[39;00m \u001b[38;5;21mintegrate\u001b[39m(\u001b[38;5;241m*\u001b[39margs,\u001b[38;5;241m*\u001b[39m\u001b[38;5;241m*\u001b[39mkwargs):\n\u001b[0;32m      7\u001b[0m     \u001b[38;5;28;01mif\u001b[39;00m pynamics\u001b[38;5;241m.\u001b[39mintegrator\u001b[38;5;241m==\u001b[39m\u001b[38;5;241m0\u001b[39m:\n\u001b[1;32m----> 8\u001b[0m         \u001b[38;5;28;01mreturn\u001b[39;00m integrate_odeint(\u001b[38;5;241m*\u001b[39margs,\u001b[38;5;241m*\u001b[39m\u001b[38;5;241m*\u001b[39mkwargs)\n\u001b[0;32m      9\u001b[0m     \u001b[38;5;28;01melif\u001b[39;00m pynamics\u001b[38;5;241m.\u001b[39mintegrator\u001b[38;5;241m==\u001b[39m\u001b[38;5;241m1\u001b[39m:\n\u001b[0;32m     10\u001b[0m         newargs \u001b[38;5;241m=\u001b[39m args[\u001b[38;5;241m0\u001b[39m],args[\u001b[38;5;241m2\u001b[39m][\u001b[38;5;241m0\u001b[39m],args[\u001b[38;5;241m1\u001b[39m],args[\u001b[38;5;241m2\u001b[39m][\u001b[38;5;241m-\u001b[39m\u001b[38;5;241m1\u001b[39m]\n",
      "File \u001b[1;32m~\\Downloads\\Conda\\code_pynamics-master\\python\\pynamics\\integration.py:19\u001b[0m, in \u001b[0;36mintegrate_odeint\u001b[1;34m(*arguments, **keyword_arguments)\u001b[0m\n\u001b[0;32m     16\u001b[0m \u001b[38;5;28;01mimport\u001b[39;00m \u001b[38;5;21;01mscipy\u001b[39;00m\u001b[38;5;21;01m.\u001b[39;00m\u001b[38;5;21;01mintegrate\u001b[39;00m\n\u001b[0;32m     18\u001b[0m logger\u001b[38;5;241m.\u001b[39minfo(\u001b[38;5;124m'\u001b[39m\u001b[38;5;124mbeginning integration\u001b[39m\u001b[38;5;124m'\u001b[39m)\n\u001b[1;32m---> 19\u001b[0m result \u001b[38;5;241m=\u001b[39m scipy\u001b[38;5;241m.\u001b[39mintegrate\u001b[38;5;241m.\u001b[39modeint(\u001b[38;5;241m*\u001b[39marguments,\u001b[38;5;241m*\u001b[39m\u001b[38;5;241m*\u001b[39mkeyword_arguments)\n\u001b[0;32m     20\u001b[0m logger\u001b[38;5;241m.\u001b[39minfo(\u001b[38;5;124m'\u001b[39m\u001b[38;5;124mfinished integration\u001b[39m\u001b[38;5;124m'\u001b[39m)\n\u001b[0;32m     21\u001b[0m \u001b[38;5;28;01mreturn\u001b[39;00m result\n",
      "File \u001b[1;32mC:\\ProgramData\\Miniconda3\\lib\\site-packages\\scipy\\integrate\\odepack.py:241\u001b[0m, in \u001b[0;36modeint\u001b[1;34m(func, y0, t, args, Dfun, col_deriv, full_output, ml, mu, rtol, atol, tcrit, h0, hmax, hmin, ixpr, mxstep, mxhnil, mxordn, mxords, printmessg, tfirst)\u001b[0m\n\u001b[0;32m    239\u001b[0m t \u001b[38;5;241m=\u001b[39m copy(t)\n\u001b[0;32m    240\u001b[0m y0 \u001b[38;5;241m=\u001b[39m copy(y0)\n\u001b[1;32m--> 241\u001b[0m output \u001b[38;5;241m=\u001b[39m \u001b[43m_odepack\u001b[49m\u001b[38;5;241;43m.\u001b[39;49m\u001b[43modeint\u001b[49m\u001b[43m(\u001b[49m\u001b[43mfunc\u001b[49m\u001b[43m,\u001b[49m\u001b[43m \u001b[49m\u001b[43my0\u001b[49m\u001b[43m,\u001b[49m\u001b[43m \u001b[49m\u001b[43mt\u001b[49m\u001b[43m,\u001b[49m\u001b[43m \u001b[49m\u001b[43margs\u001b[49m\u001b[43m,\u001b[49m\u001b[43m \u001b[49m\u001b[43mDfun\u001b[49m\u001b[43m,\u001b[49m\u001b[43m \u001b[49m\u001b[43mcol_deriv\u001b[49m\u001b[43m,\u001b[49m\u001b[43m \u001b[49m\u001b[43mml\u001b[49m\u001b[43m,\u001b[49m\u001b[43m \u001b[49m\u001b[43mmu\u001b[49m\u001b[43m,\u001b[49m\n\u001b[0;32m    242\u001b[0m \u001b[43m                         \u001b[49m\u001b[43mfull_output\u001b[49m\u001b[43m,\u001b[49m\u001b[43m \u001b[49m\u001b[43mrtol\u001b[49m\u001b[43m,\u001b[49m\u001b[43m \u001b[49m\u001b[43matol\u001b[49m\u001b[43m,\u001b[49m\u001b[43m \u001b[49m\u001b[43mtcrit\u001b[49m\u001b[43m,\u001b[49m\u001b[43m \u001b[49m\u001b[43mh0\u001b[49m\u001b[43m,\u001b[49m\u001b[43m \u001b[49m\u001b[43mhmax\u001b[49m\u001b[43m,\u001b[49m\u001b[43m \u001b[49m\u001b[43mhmin\u001b[49m\u001b[43m,\u001b[49m\n\u001b[0;32m    243\u001b[0m \u001b[43m                         \u001b[49m\u001b[43mixpr\u001b[49m\u001b[43m,\u001b[49m\u001b[43m \u001b[49m\u001b[43mmxstep\u001b[49m\u001b[43m,\u001b[49m\u001b[43m \u001b[49m\u001b[43mmxhnil\u001b[49m\u001b[43m,\u001b[49m\u001b[43m \u001b[49m\u001b[43mmxordn\u001b[49m\u001b[43m,\u001b[49m\u001b[43m \u001b[49m\u001b[43mmxords\u001b[49m\u001b[43m,\u001b[49m\n\u001b[0;32m    244\u001b[0m \u001b[43m                         \u001b[49m\u001b[38;5;28;43mint\u001b[39;49m\u001b[43m(\u001b[49m\u001b[38;5;28;43mbool\u001b[39;49m\u001b[43m(\u001b[49m\u001b[43mtfirst\u001b[49m\u001b[43m)\u001b[49m\u001b[43m)\u001b[49m\u001b[43m)\u001b[49m\n\u001b[0;32m    245\u001b[0m \u001b[38;5;28;01mif\u001b[39;00m output[\u001b[38;5;241m-\u001b[39m\u001b[38;5;241m1\u001b[39m] \u001b[38;5;241m<\u001b[39m \u001b[38;5;241m0\u001b[39m:\n\u001b[0;32m    246\u001b[0m     warning_msg \u001b[38;5;241m=\u001b[39m _msgs[output[\u001b[38;5;241m-\u001b[39m\u001b[38;5;241m1\u001b[39m]] \u001b[38;5;241m+\u001b[39m \u001b[38;5;124m\"\u001b[39m\u001b[38;5;124m Run with full_output = 1 to get quantitative information.\u001b[39m\u001b[38;5;124m\"\u001b[39m\n",
      "File \u001b[1;32m~\\Downloads\\Conda\\code_pynamics-master\\python\\pynamics\\system.py:444\u001b[0m, in \u001b[0;36mSystem.state_space_post_invert.<locals>.func\u001b[1;34m(arg0, arg1, *args)\u001b[0m\n\u001b[0;32m    441\u001b[0m bi \u001b[38;5;241m=\u001b[39m numpy\u001b[38;5;241m.\u001b[39marray(fb(\u001b[38;5;241m*\u001b[39mstate_i_full),dtype\u001b[38;5;241m=\u001b[39m\u001b[38;5;28mfloat\u001b[39m)\n\u001b[0;32m    443\u001b[0m x1 \u001b[38;5;241m=\u001b[39m numpy\u001b[38;5;241m.\u001b[39marray(f_position_derivatives(\u001b[38;5;241m*\u001b[39mstate_i_full),dtype\u001b[38;5;241m=\u001b[39m\u001b[38;5;28mfloat\u001b[39m)\u001b[38;5;241m.\u001b[39mflatten()\n\u001b[1;32m--> 444\u001b[0m x2 \u001b[38;5;241m=\u001b[39m numpy\u001b[38;5;241m.\u001b[39marray(\u001b[43mscipy\u001b[49m\u001b[38;5;241;43m.\u001b[39;49m\u001b[43mlinalg\u001b[49m\u001b[38;5;241;43m.\u001b[39;49m\u001b[43msolve\u001b[49m\u001b[43m(\u001b[49m\u001b[43mAi\u001b[49m\u001b[43m,\u001b[49m\u001b[43mbi\u001b[49m\u001b[43m)\u001b[49m)\u001b[38;5;241m.\u001b[39mflatten()\n\u001b[0;32m    445\u001b[0m x3 \u001b[38;5;241m=\u001b[39m numpy\u001b[38;5;241m.\u001b[39mr_[x1,x2[:m]]\n\u001b[0;32m    446\u001b[0m x4 \u001b[38;5;241m=\u001b[39m x3\u001b[38;5;241m.\u001b[39mflatten()\u001b[38;5;241m.\u001b[39mtolist()\n",
      "File \u001b[1;32mC:\\ProgramData\\Miniconda3\\lib\\site-packages\\scipy\\linalg\\basic.py:219\u001b[0m, in \u001b[0;36msolve\u001b[1;34m(a, b, sym_pos, lower, overwrite_a, overwrite_b, debug, check_finite, assume_a, transposed)\u001b[0m\n\u001b[0;32m    216\u001b[0m gecon, getrf, getrs \u001b[38;5;241m=\u001b[39m get_lapack_funcs((\u001b[38;5;124m'\u001b[39m\u001b[38;5;124mgecon\u001b[39m\u001b[38;5;124m'\u001b[39m, \u001b[38;5;124m'\u001b[39m\u001b[38;5;124mgetrf\u001b[39m\u001b[38;5;124m'\u001b[39m, \u001b[38;5;124m'\u001b[39m\u001b[38;5;124mgetrs\u001b[39m\u001b[38;5;124m'\u001b[39m),\n\u001b[0;32m    217\u001b[0m                                        (a1, b1))\n\u001b[0;32m    218\u001b[0m lu, ipvt, info \u001b[38;5;241m=\u001b[39m getrf(a1, overwrite_a\u001b[38;5;241m=\u001b[39moverwrite_a)\n\u001b[1;32m--> 219\u001b[0m \u001b[43m_solve_check\u001b[49m\u001b[43m(\u001b[49m\u001b[43mn\u001b[49m\u001b[43m,\u001b[49m\u001b[43m \u001b[49m\u001b[43minfo\u001b[49m\u001b[43m)\u001b[49m\n\u001b[0;32m    220\u001b[0m x, info \u001b[38;5;241m=\u001b[39m getrs(lu, ipvt, b1,\n\u001b[0;32m    221\u001b[0m                 trans\u001b[38;5;241m=\u001b[39mtrans, overwrite_b\u001b[38;5;241m=\u001b[39moverwrite_b)\n\u001b[0;32m    222\u001b[0m _solve_check(n, info)\n",
      "File \u001b[1;32mC:\\ProgramData\\Miniconda3\\lib\\site-packages\\scipy\\linalg\\basic.py:29\u001b[0m, in \u001b[0;36m_solve_check\u001b[1;34m(n, info, lamch, rcond)\u001b[0m\n\u001b[0;32m     26\u001b[0m     \u001b[38;5;28;01mraise\u001b[39;00m \u001b[38;5;167;01mValueError\u001b[39;00m(\u001b[38;5;124m'\u001b[39m\u001b[38;5;124mLAPACK reported an illegal value in \u001b[39m\u001b[38;5;132;01m{}\u001b[39;00m\u001b[38;5;124m-th argument\u001b[39m\u001b[38;5;124m'\u001b[39m\n\u001b[0;32m     27\u001b[0m                      \u001b[38;5;124m'\u001b[39m\u001b[38;5;124m.\u001b[39m\u001b[38;5;124m'\u001b[39m\u001b[38;5;241m.\u001b[39mformat(\u001b[38;5;241m-\u001b[39minfo))\n\u001b[0;32m     28\u001b[0m \u001b[38;5;28;01melif\u001b[39;00m \u001b[38;5;241m0\u001b[39m \u001b[38;5;241m<\u001b[39m info:\n\u001b[1;32m---> 29\u001b[0m     \u001b[38;5;28;01mraise\u001b[39;00m LinAlgError(\u001b[38;5;124m'\u001b[39m\u001b[38;5;124mMatrix is singular.\u001b[39m\u001b[38;5;124m'\u001b[39m)\n\u001b[0;32m     31\u001b[0m \u001b[38;5;28;01mif\u001b[39;00m lamch \u001b[38;5;129;01mis\u001b[39;00m \u001b[38;5;28;01mNone\u001b[39;00m:\n\u001b[0;32m     32\u001b[0m     \u001b[38;5;28;01mreturn\u001b[39;00m\n",
      "\u001b[1;31mLinAlgError\u001b[0m: Matrix is singular."
     ]
    }
   ],
   "source": [
    "#Solve model and plot angles\n",
    "\n",
    "f,ma = system.getdynamics()\n",
    "\n",
    "func1,lambda1 = system.state_space_post_invert(f,ma,return_lambda = True)\n",
    "\n",
    "states=pynamics.integration.integrate(func1,ini,t,rtol=tol,atol=tol,hmin=tol, args=({'constants':system.constant_values},))\n",
    "\n",
    "plt.figure()\n",
    "artists = plt.plot(t,states[:,:7])\n",
    "plt.legend(artists,['qA','qB','qC','qD','qE','qF','qG'])"
   ]
  },
  {
   "cell_type": "code",
   "execution_count": 23,
   "id": "22129fa1",
   "metadata": {
    "scrolled": true
   },
   "outputs": [
    {
     "name": "stderr",
     "output_type": "stream",
     "text": [
      "2022-04-06 22:03:41,895 - pynamics.output - INFO - calculating outputs\n",
      "2022-04-06 22:03:41,905 - pynamics.output - INFO - done calculating outputs\n"
     ]
    },
    {
     "data": {
      "text/plain": [
       "<AxesSubplot:>"
      ]
     },
     "execution_count": 23,
     "metadata": {},
     "output_type": "execute_result"
    },
    {
     "data": {
      "image/png": "[encoded data removed]",
      "text/plain": [
       "<Figure size 432x288 with 1 Axes>"
      ]
     },
     "metadata": {
      "needs_background": "light"
     },
     "output_type": "display_data"
    }
   ],
   "source": [
    "points = [pNA,pAB,pBC,pCD,pDE,pEF,pFG,pGtip]\n",
    "points_output = PointsOutput(points,system)\n",
    "y = points_output.calc(states,t)\n",
    "points_output.plot_time(20)"
   ]
  },
  {
   "cell_type": "code",
   "execution_count": 24,
   "id": "03452b65",
   "metadata": {},
   "outputs": [
    {
     "ename": "LinAlgError",
     "evalue": "Matrix is singular.",
     "output_type": "error",
     "traceback": [
      "\u001b[1;31m---------------------------------------------------------------------------\u001b[0m",
      "\u001b[1;31mLinAlgError\u001b[0m                               Traceback (most recent call last)",
      "Input \u001b[1;32mIn [24]\u001b[0m, in \u001b[0;36m<cell line: 3>\u001b[1;34m()\u001b[0m\n\u001b[0;32m      1\u001b[0m \u001b[38;5;66;03m#Constraint Forces\u001b[39;00m\n\u001b[1;32m----> 3\u001b[0m lambda2 \u001b[38;5;241m=\u001b[39m numpy\u001b[38;5;241m.\u001b[39marray([lambda1(item1,item2,system\u001b[38;5;241m.\u001b[39mconstant_values) \u001b[38;5;28;01mfor\u001b[39;00m item1,item2 \u001b[38;5;129;01min\u001b[39;00m \u001b[38;5;28mzip\u001b[39m(t,states)])\n\u001b[0;32m      4\u001b[0m plt\u001b[38;5;241m.\u001b[39mfigure()\n\u001b[0;32m      5\u001b[0m plt\u001b[38;5;241m.\u001b[39mplot(t, lambda2)\n",
      "Input \u001b[1;32mIn [24]\u001b[0m, in \u001b[0;36m<listcomp>\u001b[1;34m(.0)\u001b[0m\n\u001b[0;32m      1\u001b[0m \u001b[38;5;66;03m#Constraint Forces\u001b[39;00m\n\u001b[1;32m----> 3\u001b[0m lambda2 \u001b[38;5;241m=\u001b[39m numpy\u001b[38;5;241m.\u001b[39marray([\u001b[43mlambda1\u001b[49m\u001b[43m(\u001b[49m\u001b[43mitem1\u001b[49m\u001b[43m,\u001b[49m\u001b[43mitem2\u001b[49m\u001b[43m,\u001b[49m\u001b[43msystem\u001b[49m\u001b[38;5;241;43m.\u001b[39;49m\u001b[43mconstant_values\u001b[49m\u001b[43m)\u001b[49m \u001b[38;5;28;01mfor\u001b[39;00m item1,item2 \u001b[38;5;129;01min\u001b[39;00m \u001b[38;5;28mzip\u001b[39m(t,states)])\n\u001b[0;32m      4\u001b[0m plt\u001b[38;5;241m.\u001b[39mfigure()\n\u001b[0;32m      5\u001b[0m plt\u001b[38;5;241m.\u001b[39mplot(t, lambda2)\n",
      "File \u001b[1;32m~\\Downloads\\Conda\\code_pynamics-master\\python\\pynamics\\system.py:469\u001b[0m, in \u001b[0;36mSystem.state_space_post_invert.<locals>.lambdas\u001b[1;34m(time, state, constants)\u001b[0m\n\u001b[0;32m    466\u001b[0m Ai \u001b[38;5;241m=\u001b[39m numpy\u001b[38;5;241m.\u001b[39marray(fA(\u001b[38;5;241m*\u001b[39mstate_i_full),dtype\u001b[38;5;241m=\u001b[39m\u001b[38;5;28mfloat\u001b[39m)\n\u001b[0;32m    467\u001b[0m bi \u001b[38;5;241m=\u001b[39m numpy\u001b[38;5;241m.\u001b[39marray(fb(\u001b[38;5;241m*\u001b[39mstate_i_full),dtype\u001b[38;5;241m=\u001b[39m\u001b[38;5;28mfloat\u001b[39m)\n\u001b[1;32m--> 469\u001b[0m x2 \u001b[38;5;241m=\u001b[39m numpy\u001b[38;5;241m.\u001b[39marray(\u001b[43mscipy\u001b[49m\u001b[38;5;241;43m.\u001b[39;49m\u001b[43mlinalg\u001b[49m\u001b[38;5;241;43m.\u001b[39;49m\u001b[43msolve\u001b[49m\u001b[43m(\u001b[49m\u001b[43mAi\u001b[49m\u001b[43m,\u001b[49m\u001b[43mbi\u001b[49m\u001b[43m)\u001b[49m)\u001b[38;5;241m.\u001b[39mflatten()\n\u001b[0;32m    470\u001b[0m x4 \u001b[38;5;241m=\u001b[39m x2[m:]\u001b[38;5;241m.\u001b[39mflatten()\u001b[38;5;241m.\u001b[39mtolist()\n\u001b[0;32m    472\u001b[0m \u001b[38;5;28;01mreturn\u001b[39;00m x4\n",
      "File \u001b[1;32mC:\\ProgramData\\Miniconda3\\lib\\site-packages\\scipy\\linalg\\basic.py:219\u001b[0m, in \u001b[0;36msolve\u001b[1;34m(a, b, sym_pos, lower, overwrite_a, overwrite_b, debug, check_finite, assume_a, transposed)\u001b[0m\n\u001b[0;32m    216\u001b[0m gecon, getrf, getrs \u001b[38;5;241m=\u001b[39m get_lapack_funcs((\u001b[38;5;124m'\u001b[39m\u001b[38;5;124mgecon\u001b[39m\u001b[38;5;124m'\u001b[39m, \u001b[38;5;124m'\u001b[39m\u001b[38;5;124mgetrf\u001b[39m\u001b[38;5;124m'\u001b[39m, \u001b[38;5;124m'\u001b[39m\u001b[38;5;124mgetrs\u001b[39m\u001b[38;5;124m'\u001b[39m),\n\u001b[0;32m    217\u001b[0m                                        (a1, b1))\n\u001b[0;32m    218\u001b[0m lu, ipvt, info \u001b[38;5;241m=\u001b[39m getrf(a1, overwrite_a\u001b[38;5;241m=\u001b[39moverwrite_a)\n\u001b[1;32m--> 219\u001b[0m \u001b[43m_solve_check\u001b[49m\u001b[43m(\u001b[49m\u001b[43mn\u001b[49m\u001b[43m,\u001b[49m\u001b[43m \u001b[49m\u001b[43minfo\u001b[49m\u001b[43m)\u001b[49m\n\u001b[0;32m    220\u001b[0m x, info \u001b[38;5;241m=\u001b[39m getrs(lu, ipvt, b1,\n\u001b[0;32m    221\u001b[0m                 trans\u001b[38;5;241m=\u001b[39mtrans, overwrite_b\u001b[38;5;241m=\u001b[39moverwrite_b)\n\u001b[0;32m    222\u001b[0m _solve_check(n, info)\n",
      "File \u001b[1;32mC:\\ProgramData\\Miniconda3\\lib\\site-packages\\scipy\\linalg\\basic.py:29\u001b[0m, in \u001b[0;36m_solve_check\u001b[1;34m(n, info, lamch, rcond)\u001b[0m\n\u001b[0;32m     26\u001b[0m     \u001b[38;5;28;01mraise\u001b[39;00m \u001b[38;5;167;01mValueError\u001b[39;00m(\u001b[38;5;124m'\u001b[39m\u001b[38;5;124mLAPACK reported an illegal value in \u001b[39m\u001b[38;5;132;01m{}\u001b[39;00m\u001b[38;5;124m-th argument\u001b[39m\u001b[38;5;124m'\u001b[39m\n\u001b[0;32m     27\u001b[0m                      \u001b[38;5;124m'\u001b[39m\u001b[38;5;124m.\u001b[39m\u001b[38;5;124m'\u001b[39m\u001b[38;5;241m.\u001b[39mformat(\u001b[38;5;241m-\u001b[39minfo))\n\u001b[0;32m     28\u001b[0m \u001b[38;5;28;01melif\u001b[39;00m \u001b[38;5;241m0\u001b[39m \u001b[38;5;241m<\u001b[39m info:\n\u001b[1;32m---> 29\u001b[0m     \u001b[38;5;28;01mraise\u001b[39;00m LinAlgError(\u001b[38;5;124m'\u001b[39m\u001b[38;5;124mMatrix is singular.\u001b[39m\u001b[38;5;124m'\u001b[39m)\n\u001b[0;32m     31\u001b[0m \u001b[38;5;28;01mif\u001b[39;00m lamch \u001b[38;5;129;01mis\u001b[39;00m \u001b[38;5;28;01mNone\u001b[39;00m:\n\u001b[0;32m     32\u001b[0m     \u001b[38;5;28;01mreturn\u001b[39;00m\n",
      "\u001b[1;31mLinAlgError\u001b[0m: Matrix is singular."
     ]
    }
   ],
   "source": [
    "#Constraint Forces\n",
    "\n",
    "lambda2 = numpy.array([lambda1(item1,item2,system.constant_values) for item1,item2 in zip(t,states)])\n",
    "plt.figure()\n",
    "plt.plot(t, lambda2)"
   ]
  },
  {
   "cell_type": "code",
   "execution_count": 18,
   "id": "0d760c36",
   "metadata": {},
   "outputs": [],
   "source": [
    "#Energy Plot\n",
    "\n",
    "#KE = system.get_KE()\n",
    "#PE = system.getPESprings()\n",
    "#energy_output = Output([KE-PE],system)\n",
    "#energy_output.calc(states,t)\n",
    "#energy_output.plot_time(t)"
   ]
  },
  {
   "cell_type": "code",
   "execution_count": 19,
   "id": "2cc6bbcf",
   "metadata": {
    "scrolled": true
   },
   "outputs": [
    {
     "data": {
      "text/plain": [
       "Text(0, 0.5, 'Position Y (m)')"
      ]
     },
     "execution_count": 19,
     "metadata": {},
     "output_type": "execute_result"
    },
    {
     "data": {
      "image/png": "[encoded data removed]",
      "text/plain": [
       "<Figure size 432x288 with 1 Axes>"
      ]
     },
     "metadata": {
      "needs_background": "light"
     },
     "output_type": "display_data"
    }
   ],
   "source": [
    "#Plotting Motion of Tail\n",
    "\n",
    "plt.plot(y[:,7,0],y[:,7,1])\n",
    "plt.axis('equal')\n",
    "plt.title('Position of Tail')\n",
    "plt.xlabel('Position X (m)')\n",
    "plt.ylabel('Position Y (m)')"
   ]
  },
  {
   "cell_type": "code",
   "execution_count": 20,
   "id": "7443b225",
   "metadata": {
    "scrolled": false
   },
   "outputs": [
    {
     "data": {
      "text/html": [
       "<video width=\"432\" height=\"288\" controls autoplay loop>\n",
       "  <source type=\"video/mp4\" src=\"data:video/mp4;base64,AAAAHGZ0eXBNNFYgAAACAGlzb21pc28yYXZjMQAAAAhmcmVlAAAh+G1kYXQAAAKgBgX//5zcRem9\n",
       "5tlIt5Ys2CDZI+7veDI2NCAtIGNvcmUgMTU5IC0gSC4yNjQvTVBFRy00IEFWQyBjb2RlYyAtIENv\n",
       "cHlsZWZ0IDIwMDMtMjAxOSAtIGh0dHA6Ly93d3cudmlkZW9sYW4ub3JnL3gyNjQuaHRtbCAtIG9w\n",
       "dGlvbnM6IGNhYmFjPTEgcmVmPTMgZGVibG9jaz0xOjA6MCBhbmFseXNlPTB4MzoweDExMyBtZT1o\n",
       "ZXggc3VibWU9NyBwc3k9MSBwc3lfcmQ9MS4wMDowLjAwIG1peGVkX3JlZj0xIG1lX3JhbmdlPTE2\n",
       "IGNocm9tYV9tZT0xIHRyZWxsaXM9MSA4eDhkY3Q9MSBjcW09MCBkZWFkem9uZT0yMSwxMSBmYXN0\n",
       "X3Bza2lwPTEgY2hyb21hX3FwX29mZnNldD0tMiB0aHJlYWRzPTkgbG9va2FoZWFkX3RocmVhZHM9\n",
       "MSBzbGljZWRfdGhyZWFkcz0wIG5yPTAgZGVjaW1hdGU9MSBpbnRlcmxhY2VkPTAgYmx1cmF5X2Nv\n",
       "bXBhdD0wIGNvbnN0cmFpbmVkX2ludHJhPTAgYmZyYW1lcz0zIGJfcHlyYW1pZD0yIGJfYWRhcHQ9\n",
       "MSBiX2JpYXM9MCBkaXJlY3Q9MSB3ZWlnaHRiPTEgb3Blbl9nb3A9MCB3ZWlnaHRwPTIga2V5aW50\n",
       "PTI1MCBrZXlpbnRfbWluPTI1IHNjZW5lY3V0PTQwIGludHJhX3JlZnJlc2g9MCByY19sb29rYWhl\n",
       "YWQ9NDAgcmM9Y3JmIG1idHJlZT0xIGNyZj0yMy4wIHFjb21wPTAuNjAgcXBtaW49MCBxcG1heD02\n",
       "OSBxcHN0ZXA9NCBpcF9yYXRpbz0xLjQwIGFxPTE6MS4wMACAAAASOmWIhAA3//728P4FNjuY0JcR\n",
       "zeidMx+/Fbi6NDe9zgAAAwAAN9zmRP7KkwbmwAAC4AAJ4RFZbT5GLI+YBo8oqgElZ5yClLLvBgo0\n",
       "Gm3GMHUbl2MGFlfQkXt9GJpLPhV+/OazhlDHgUMatw2CHDu2J720P+mx/MIKjoN3Fgm8XN+t1xU/\n",
       "5M4l2P9xzkHTBPUORMbirgkX63orGx29oC2slD7ARi2Uu0W335F+6zANgHjeKUPG78UYBg8xwRdg\n",
       "43lccCqXhcAqwRJeZhZ0k5eW9tgx7dgu7l+pSO1ycEuMPIoDcLgTylVP0wHGXEzPGhLA5Zw2rBIS\n",
       "kwivyJyxJRlF2IGPpvvRJg1dbi8gXM0dIXDVPLPdYIBa27X2y1BQKJin0D1KBP+HP5ZzosU5b8K7\n",
       "iGPPkk7ol5tUIRx5TtJd4uWkHSHZPRyEvpiKawRPFOJCL9NBqE5HjsGQNqVF1FrjaCxApdO3/sUK\n",
       "s0akXcYqR2awx1vnxvQmY8OKyqis4SMYkom0zYxP+9koRBdgC/ZV+losRlltjbhQWm3XOGh93LMH\n",
       "RyK89Sc/G4IMVIXD11t2xWQXIYmB9RqaFJY41rRM2wOQs726z9dIAANclxEilxWDFjXve8p9ukvK\n",
       "iSHwNOlr1HBipSwKMtXuZoW1vB+upS3bXE0M3q/FWq7b66cbqn4XFgoFGRQhB8YqS6V9mVWJmUe1\n",
       "jgk9bE9cFQzdN7YnYid9C4N9TQJcdLv4NQdpWwz8FgLDZEwNTr24wFSuJLIY1rmkY/vVwoXts51w\n",
       "ajR/rdZQftRbnYgcRaYZX/hwhypUaWBE5mitMkpKZJff/UKEbMsXpRVtwcXh81XocyqChJL/4Gmh\n",
       "KFtUFYXyIulW9dQNJEwypcPNF/ZRQrv5mxabSuF7OkGh2aOmEbvxCSuWI9WpNWJ1DWuQI9/+XaN4\n",
       "zYjpd5pPhPwvOjUYkepkKKJ9CTfsiRfdS9J1QuJjDZulXm973NHYYOKeT6VXGnAvMmWjTP35n9t0\n",
       "0yPXKEDRhIm3syZE5uc1AzeY/H0KYeQaMZp9XiTceTSnouhw2703wjNcsYVuZBgoQKXfA6fL8hUg\n",
       "8b3oOLFWoPtTsJ39wHj4pp+2HFcPB9d4L9hFmgdI6j+b37ukJCXOlTna+VCYdE/Wwpb6Ii9+pXqx\n",
       "cDvxU3F6wpRADPQUN+VCb1As78EYYUL0cNIm1kQNz/hwlKYVoOImumAUFlIXRPS8iRTyOnIWrkar\n",
       "vIhaexEKHVdyn4erZIvcwpepVP6203eMZv+j+HFu08zP6g1B565n5z9ytZKkDg6Y9mt08ltgGN6E\n",
       "AjggcexfMZjqHvim/Hc4JHBPn6BM9ge8FztPzjvGcpaCiV9TnVX5+lJKdEbBNEiOvCHPnQq92xC0\n",
       "7KeBI6/kM9wWxjd5rc5m53B3Rt6PE62YxEfniZmurdFArFUDFZmKfiMDOU9f2gx/Z7v1YboL5ZZg\n",
       "pDpbORKEVkpSghliWafowC7GhsGo1ZSnyv4Uh7tCga23CmFeY3C2DgNCE/RPmc11z9aKCPAzKWPO\n",
       "f44yqCKoQ22otHIFlqTTTtDbLE/tjy+2Uuh/fVz6Wp7J2BqVawJs9VIvwpBvaO9x70MzcbARIw+r\n",
       "g2nMmnY+JCvCnlJF2qCaGl4+eTfn8NVm+ddnu5lQ2ke0PCZJE9hVl4oKUSVNjfNt/svkCJ7JTWCj\n",
       "eSkfA1D19bDP4Lgr9Fjf3lMsoLJVnj2gRojYUjbHlgzGDanSKRvTQkQU4+tElRVdntyxskROyAFl\n",
       "qy2wCDtRiArl8Mr38c8+zetsfEeUc/n3pOe9osV/IYOuwCI3+bW1c0kqvm4vQjkznAJ5Tgk/xg8a\n",
       "OjGHbeGTxq4ftOSPiBWRo5mnk4hNevvf0TxZw3QOwi8Z+TcZqiUSjhzikiZoCn+3Y98WGhqaV4+N\n",
       "Q+eXMD+kSqe3fSZ+2zOuHKuAbBEa6RJZs1Yzx5s83pLtuTLKGG8dQgtp5zX0CFRHfGzHWfeJsvcv\n",
       "7m8mgw8z3h7njExQURHnDg0f2Z/LxFm1KpD/pfM7oYTdOoP7ECU6vbCTl0dmKh/Qadgcf5foc8x4\n",
       "ik86LWmTjPoLj8Vkfzkb/WmC0AtaRomx4DXOGNqJHEAF1TihGEw/K8mMszL7ouXY/ArgD8OFvScP\n",
       "PxMpJHTyGsje6vdbEbdqIe6wKrtg4bmJ31Kl2K9xaV213VpOoEftJZMmURIy5axlNKd/IwejOojh\n",
       "29BqtenPpsgYZGqX8GasVkE3iC/5kVEiYWckR2q8dR2YqbUsB+4Mcm4hjRCGgpILxJg0z+6gIO09\n",
       "t9W8cAyaIL6lqDvnU8kQa8vgG2xv2DtEGEhbvk++I1gXKovqI3vVU7+48CosfRs57MXgNmazxuXE\n",
       "onqfsIkpurK7I7zJkMlu6xgcg/K5/8Pe3eTwj3gdbtyfmaEWgMK6Cr98qKxvDZJD216TlzRPK15H\n",
       "lNKow5r22WdHXkmOQzbfQZ2OFjFDKUh5eqIsbAJZduFmzkMwQ3FwY+HAD+Ze13Uy9sxZbRnQ86qz\n",
       "K7VCKdPmAZRLa2+S1nP720Ixt7/u3ZKZgWvPzNPaJcKH3B38wzF5U9y83O4/GCWWOEAZu78q1nfd\n",
       "M9Jxc+iU3gI2v/MugTIzKWF9vcaRMeWrQ8t5y1p1yQaBgC0KDEcS/Ay1X6qsC/gUkYPv7IY+pcJX\n",
       "MVTo2k0DYn6dlZjGZdOdSn7cANPP0QWfacUuklx3cIkKL8xoROA9ZXxe72k2+/Q6AsSZ9MoIDmqW\n",
       "6qP1bPQ/uo0JI5rrbmOfI3Li++cMbzCF1VwoRrIqhERmpaBk0eEjzF5Jf2q2Gye/HsQSgR3UtQVJ\n",
       "IhA/QdyY/zu3sC4zBBTDT4v4fJw++UxuFDhObVoGXeowWAsNVjsekRgPrexppwUk3zkhevwxPpEk\n",
       "tsWtzpTrfZPrUkl0dhNjXNR6PAGebeFINmYdVe1gdtWzdjlPXOkOrQcP5DL3sky4DuUZ+DO+HFSh\n",
       "qNCXAWQySttRE9jBISWCEwzxkemD7c3E0lNGUksOKalMGtkUvTrzcB6yJvnRDCwW+b1FyediKl0K\n",
       "6nPcokwaUVfKcz+j2LuANxN815XRVaoeCUnYlljlyALAryVVZYxqjk6wzBfWaFxe3VwP3h9JohUX\n",
       "cMvyhCUYNk14fMNeJpI5kAh1v+QECQ1OePzCbpt+YicOAUUyx6ZU3k9T1DbFlpRQ+JPlsHBYFDiB\n",
       "POLikBhhIADzCkWfYQPu2zHAFCEtgOUsFNsDq8DUAnHiDRX58tRlEDslhIAiCa6NvC9W5MKqPsTm\n",
       "mkxGdTOC+OsmZFZyh/H4K0bABSTs0M+gpzdnmmlvVO33W+hl4/D6+75/oAe5Zy3ttAqLClJErjc4\n",
       "TsxHh4JTpTtYxBLcEzj5yEMTlrGs+SLl7dm8lG4WKuDCw4le8Iweg++KMd9i1qaEl6gk6xOfQvEA\n",
       "+NWUVIm6eDy/a/BIbf2OR2HM3S+9N4kuDcUR6hDUP2SCbvoMiTOUmKsVOcETao86NMegxZeNp2/U\n",
       "Hvojuh7AnZRNT2cCk1mNrWnv1mdVQw0bEc9C+CPjn21zAKNluE9aypH+RSKTDpas9BVxC8c/NlPl\n",
       "/Meq6V/q0gCtxLA4/2A5M/2MzqBQjqx0PRvcwW2rv7wmDU8fDbPxujD3eZXLjPCznclxBPiCLZzi\n",
       "MxZ22KoEeAl27AWa1MDsFtQXelIJkMPjw5SQl1gwWRJFN5n3kf6JuW6HI9ZPVHY+k3jNGIc+7Tzo\n",
       "YjbyXl1Um+GxZXQ8YKhR96PU121zf/fVM08yxUTc0L8KWH20V5k8QQt8/j8VipI0TAvnyfB3HDi+\n",
       "ozVWXZCdiDBJnr7genQrv6HdHGq7Fen4Rbd0Vyg0w5brMagL6Ss5eDxnImNHZ28tOb2eaBzcZ3Z3\n",
       "Mx53UdEncQu4iDFzZNqPkTtS/i7scctVTkvy5JVviUvkjtq7CbA4RfMJi2pmo2er9RmvuzI1xdZk\n",
       "G7rC1bYaezWF9qvi937InR7pHtvlIvNaF5LHdyL21nfoMa2Sf1H29Yh+G/+LHuqSeQJbtCIHyyeY\n",
       "10Z2YmtyE5ZnB2BQP+3zGo+zuiDvhu3wAGH8y6wSGl9n5VOm7uj+PKLQtts7YKvyHJVPMkeFLyrm\n",
       "7MbqrjbpjABy6e5x8LFQrmRDtsKIFpvX4g4/xQnHIgPl3PhOI4Lq/jYABEcuX28UaGCHQbBTY6FW\n",
       "WTla1ijBi8KTKeZwKVTnF5aEDamig2+aO9rGcr3S77Qg5lvwDMaCL2A23Ygv4+Kgsh7Nn53+mAjh\n",
       "CSNLl2Thtt7eIrF34qw4zc/K/Ozd5dn7eHZAoFhRKXem/n+DUcbvhbYjcmJJ8FscjfKrfhqpm753\n",
       "Fn9ChIXV/8XyrZk5l1Mis1GDFiOUyCglsQk1V2mx4WaP1jSVWrj9MyUc28kNNqqGnqKdKFx0YchL\n",
       "qglN3b8QkfWFgHue2IzDKScu7/8zJrLE1C05KcQuHcjg0JSsm2vkVYYCDHLAQ9PxAbfSnTCNL+V6\n",
       "VFkYM8EyUn5LizBqv/n4DfCgCPSZ6FwXLVXDm7PzH+bgg/co5GSBy+mZDfmX2cErqee3KGBfz85D\n",
       "xhE9dBSfVJQC4tPZW4YEznSqlj9SwqZvNBdmRYdhocSkteRDTisTcllqDErIvALpdF68wuvGuUzy\n",
       "sH39XZqt29qurKgdjRlcUDCvdq+bHZM4wwQs9KI/jZQ5PuA+lyWK9hEuSeUl0chhp5bP7uJwqaCm\n",
       "snifhSBVlWzJzLqe50SbxEY1P2Y7Fz/r0DSZCK6L7KBGGFcmy95jDwEe3bmX/w279gBErrGxaTNj\n",
       "sXLB+qykl81MR4GJoeZRiFkH//hUXJwb2edH9nJxcKzqeiUxMvxyqlIaKocr6UdhRQpbvuTYIkgX\n",
       "L4Lzz/o3XK1a7O1c2hEtjUFrvdZkuFlc+QhDNmk42/sgfSzwncmtIxlcKtJ0sH/PqVlRUZVVPlIZ\n",
       "Vr7X4Y5SUOqv/SpCVbSN7I1llp60iCB7DQs+Qmp6jdMQS8AjtLTNxipufSKEB1d2YfMOlNW9lTw3\n",
       "X6Wz+1HjHVf9g+JftX1oTHh1NmSXpTpWWzMo+DnYPRBvu0C1tZ8Ng4SL9PYA4zkChWwpYrnD8Ivq\n",
       "aYdmgr8pGj4VTdp4ip6Kvyb5xzofKwWmF8eufepnLk2bUruHWeyfi2p/FLZWvrNfl4oFMK6VadAM\n",
       "Nlbo7ZET09YvZsZNd7YMUfrcFy4hxRxVxjVJyvQBAYY2hBLCn7V5gAz94uuee/IzdA0wjWEJa/gp\n",
       "XN3tmQJqhoP5weCd1ySdc+KqfqDhQEwh0lZdRdxNtnqH9rWXTS+pARwnFQaTjDAjCJkOP1FnVr/u\n",
       "Jm9XTWPDExxZU8ktFSq/QHNhfEvsRZHMIyoi+kugFPRtecaG4vb2MOpyzsgApCzMjeh1S0BPC8kM\n",
       "nMWtRv8P7DLr7hxL4DXPZDZjimlWh45JzQPPBqvgU3tij0/Azxf+aCs+aVhBWcfH//+8BOB6vRrs\n",
       "hAAzbdO5pSf+ZvuyemYnInbE++DGr4X3kVCAMPx9Di6SHkiF4TedIRRX3fHFgjanAykZCBMdOP4E\n",
       "RBF77PIAup4Ew/Uq3GJ7L99UOFN+aq4SEnIqgV/Lx+wZPuzlqCRnHB3IWko73hTUdm+yXhX91fNE\n",
       "Uvs1/xYof6hWxyaYUWlPuDG48OMRUadEuXixeuc7l1YvQHmi2KPVQDW8uylKgQmfSe1Xupr3TXlA\n",
       "iTJIoLwpsw2FEieMhkwe6v7pCkF/Vu3S3Axd+d4a/cLCBhPQKUknxoyFrM1jDXAYuyDy810OnByv\n",
       "070Q3zuHSv1eOrDWZoWbNXpkrG61Ld1yhyuky11xblZD/QRWTqVL8WBW26xqaYvvZ0otmQ32ethw\n",
       "oFgx5I8mD5YmNUZykwgAPPPvs6lfLkvF53Nr2XMv4kzzfkNvViRbnFb+URh2hIJO5Cwddfph+tt/\n",
       "XZ4l5j7Cu+70/z8fVWMTPz3zvP26nvjiHmtfq1WpvQE+Ckg0CplnAQKAa3a4+2HQHFGm9fQFsDZZ\n",
       "qH7TNVku90ou6GzU2sdtKsEElhRrqcP1JG37vim6YqM/cYF6e7X73I5ZlQYX2DOwTITsgFAASU9f\n",
       "eTz1dNY8Oapt1cC6vMGOoIvcsGQ8PLzaL3xdYAezk8+svSgk8BsS7Cffx6DJSZBC3f/8hdkEefwP\n",
       "a57dGsrjZnb/dd5Co9WZonJg4xLX+Fm+EKgAAAMABVUAAADhQZokbEN//qeEADI3FyATSKOnh2xI\n",
       "EBh21RxNoucWUDvqxkHdbLQZ+RZmAJ148Q3VejbgolChh3HLOV3PU2Dyqu5xZL5JWfDqH5azcVfO\n",
       "WALuFqEQCGniPCNnkwR9QGqZUc3odIyFab7OvDfgWxkK6SgLH7gsNjuxORJ54QBiwOjLnPGV2xit\n",
       "ouN0xqoKbQSq3tu2P7mS5hI5zV86idzL3UBnZciOcSEeF3lxfWp7a2JKV30Mq+1fdoJpmO9A88tL\n",
       "2j0cHiBVB3EirZT5YmaHjSHhPCScKCYJHLzD7zZu+I7oAAAAIEGeQniFfwAQXxd+kaoHNvPCKv5V\n",
       "yZmXBfEyFldDuAm5AAAAHQGeYXRCfwAOfszYLTW/SFT07oLbJfy4R5XfoBlQAAAADQGeY2pCfwAV\n",
       "lmg4k4EAAAAvQZpoSahBaJlMCG///qeEABfbujJ0N66gD93ekNsTbuw/nve/emN4ldaoQezGBYEA\n",
       "AAASQZ6GRREsK/8AE1kfFFWj1FdpAAAADQGepXRCfwAAa/zixcEAAAANAZ6nakJ/AADYPGVFwAAA\n",
       "ABpBmqxJqEFsmUwIb//+p4QAAM77KkOaCxLvSAAAAA9BnspFFSwr/wAAqDT3oEEAAAANAZ7pdEJ/\n",
       "AADX+cVFwAAAAAsBnutqQn8AAAMB8wAAABRBmvBJqEFsmUwIb//+p4QAAAMB3QAAAA9Bnw5FFSwr\n",
       "/wAQ1lxOI+EAAAALAZ8tdEJ/AAADAfMAAAALAZ8vakJ/AAADAfMAAAAUQZs0SahBbJlMCG///qeE\n",
       "AAADAd0AAAAPQZ9SRRUsK/8AENZcTiPhAAAACwGfcXRCfwAAAwHzAAAADQGfc2pCfwAVAw+kPSAA\n",
       "AAAYQZt4SahBbJlMCG///qeEABWPxUsgaYKTAAAAE0GflkUVLCv/ABHWYygZSCjQr4AAAAALAZ+1\n",
       "dEJ/AAADAfMAAAALAZ+3akJ/AAADAfMAAAAgQZu8SahBbJlMCG///qeEABYgUQSK6wCEJgQ9onCO\n",
       "YdUAAAAPQZ/aRRUsK/8AD+V6TAtpAAAACwGf+XRCfwAAAwHzAAAACwGf+2pCfwAAAwHzAAAAIEGb\n",
       "4EmoQWyZTAhv//6nhAAT4FDPQwHgAT/O/llV+MaBAAAAEUGeHkUVLCv/ABLWXPr59tMCAAAACwGe\n",
       "PXRCfwAAAwHzAAAACwGeP2pCfwAAAwHzAAAAGEGaJEmoQWyZTAhv//6nhAAJpyUJcagUkAAAABBB\n",
       "nkJFFSwr/wAlrLe0nodNAAAACwGeYXRCfwAAAwHzAAAACwGeY2pCfwAAAwHzAAAAJkGaaEmoQWyZ\n",
       "TAhv//6nhAAvrKIHie0sM7HckAe/sOnBf+xG8oNnAAAAD0GehkUVLCv/ABLWXE4f4QAAAA0BnqV0\n",
       "Qn8ACqzDWYLLAAAACwGep2pCfwAAAwHzAAAAGUGarEmoQWyZTAhv//6nhAAXQFD9N2/vB6QAAAAN\n",
       "QZ7KRRUsK/8AAAMBiwAAAAsBnul0Qn8AAAMB8wAAAAsBnutqQn8AAAMB8wAAABhBmvBJqEFsmUwI\n",
       "b//+p4QACacsXWr4OmEAAAANQZ8ORRUsK/8AAAMBiwAAAAsBny10Qn8AAAMB8wAAAAsBny9qQn8A\n",
       "AAMB8wAAABtBmzRJqEFsmUwIb//+p4QALWutqZam3y3Rwk4AAAANQZ9SRRUsK/8AAAMBiwAAAA0B\n",
       "n3F0Qn8AL8goHCDgAAAACwGfc2pCfwAAAwHzAAAAI0GbeEmoQWyZTAhv//6nhAANgPH1sAKCHf9l\n",
       "eVRg3T5lQSyhAAAADUGflkUVLCv/AAADAYsAAAALAZ+1dEJ/AAADAfMAAAALAZ+3akJ/AAADAfMA\n",
       "AAAlQZu8SahBbJlMCG///qeEABRt4/AHXK/l+IQ4HEFXCHHSyzor4AAAAA9Bn9pFFSwr/wAS1lxO\n",
       "H+EAAAALAZ/5dEJ/AAADAfMAAAALAZ/7akJ/AAADAfMAAAAnQZvgSahBbJlMCG///qeEADEC2W2C\n",
       "LMBCABG42m5qs8olIRsmQKfNAAAAD0GeHkUVLCv/ABLWXE4f4AAAAAsBnj10Qn8AAAMB8wAAAAsB\n",
       "nj9qQn8AAAMB8wAAABlBmiRJqEFsmUwIb//+p4QAF0BQ/eInuuGrAAAAD0GeQkUVLCv/ACWsuJwf\n",
       "4QAAAAsBnmF0Qn8AAAMB8wAAAAsBnmNqQn8AAAMB8wAAADVBmmhJqEFsmUwIb//+p4QALoChiUO/\n",
       "8QCOcYAKr46L1SNRPgojpCxUBmvRB8blBhhDMsRg4QAAAA1BnoZFFSwr/wAAAwGLAAAACwGepXRC\n",
       "fwAAAwHzAAAACwGep2pCfwAAAwHzAAAALUGarEmoQWyZTAhv//6nhAAvrK92OVIMZIgE0GhuSYwn\n",
       "wThc/dvseSRjfaXzwgAAAA1BnspFFSwr/wAAAwGLAAAACwGe6XRCfwAAAwHzAAAACwGe62pCfwAA\n",
       "AwHzAAAAH0Ga8EmoQWyZTAhv//6nhAAZ1Q9yo5iprxb27hVUsoEAAAANQZ8ORRUsK/8AAAMBiwAA\n",
       "AAsBny10Qn8AAAMB8wAAAAsBny9qQn8AAAMB8wAAABdBmzRJqEFsmUwIb//+p4QAFQYvDUBLwAAA\n",
       "AA1Bn1JFFSwr/wAAAwGLAAAACwGfcXRCfwAAAwHzAAAADQGfc2pCfwAVAw+kPSAAAAAgQZt4SahB\n",
       "bJlMCG///qeEABa0likS8sAe/sW24a94PmEAAAAPQZ+WRRUsK/8AD95iuBbQAAAACwGftXRCfwAA\n",
       "AwHzAAAACwGft2pCfwAAAwHzAAAAH0GbvEmoQWyZTAhv//6nhAAT4FC6rDj+0AJ1If4HDYAAAAAN\n",
       "QZ/aRRUsK/8AAAMBiwAAAAsBn/l0Qn8AAAMB8wAAAAsBn/tqQn8AAAMB8wAAADNBm+BJqEFsmUwI\n",
       "b//+p4QAFRI5UyfRgCAF/iNA0DTEAzHnncyICMVmQS48ABl9FZXdlS0AAAAPQZ4eRRUsK/8AEtZc\n",
       "Th/gAAAACwGePXRCfwAAAwHzAAAACwGeP2pCfwAAAwHzAAAAK0GaJEmoQWyZTAhv//6nhAAaU7BS\n",
       "4tgBQN/nyLVDVzNXgSWC89e4hz6rBlQAAAANQZ5CRRUsK/8AAAMBiwAAAAsBnmF0Qn8AAAMB8wAA\n",
       "AAsBnmNqQn8AAAMB8wAAABZBmmhJqEFsmUwIb//+p4QALnavagEPAAAADUGehkUVLCv/AAADAYsA\n",
       "AAALAZ6ldEJ/AAADAfMAAAALAZ6nakJ/AAADAfMAAAAqQZqsSahBbJlMCG///qeEAC1rrac45kFc\n",
       "nXOH+FFI2joBCYHQWwb6KC4QAAAADUGeykUVLCv/AAADAYsAAAALAZ7pdEJ/AAADAfMAAAALAZ7r\n",
       "akJ/AAADAfMAAAAhQZrwSahBbJlMCG///qeEABr4vWABQZQFlH2GzPPnulJPAAAADUGfDkUVLCv/\n",
       "AAADAYsAAAALAZ8tdEJ/AAADAfMAAAALAZ8vakJ/AAADAfMAAAAUQZs0SahBbJlMCG///qeEAAAD\n",
       "Ad0AAAANQZ9SRRUsK/8AAAMBiwAAAAsBn3F0Qn8AAAMB8wAAAAsBn3NqQn8AAAMB8wAAACtBm3hJ\n",
       "qEFsmUwIb//+p4QAL6yvdjdwPkQgAUBh3lTkmKFmctY+RpdhpEFtAAAADUGflkUVLCv/AAADAYsA\n",
       "AAALAZ+1dEJ/AAADAfMAAAALAZ+3akJ/AAADAfMAAAAXQZu8SahBbJlMCG///qeEABUSOVI4LuAA\n",
       "AAAPQZ/aRRUsK/8AEtZcTh/hAAAACwGf+XRCfwAAAwHzAAAACwGf+2pCfwAAAwHzAAAAFEGb4Emo\n",
       "QWyZTAhv//6nhAAAAwHdAAAAD0GeHkUVLCv/ABLWXE4f4AAAAAsBnj10Qn8AAAMB8wAAAAsBnj9q\n",
       "Qn8AAAMB8wAAABRBmiRJqEFsmUwIb//+p4QAAAMB3QAAAA9BnkJFFSwr/wAS1lxOH+EAAAALAZ5h\n",
       "dEJ/AAADAfMAAAALAZ5jakJ/AAADAfMAAAAUQZpoSahBbJlMCG///qeEAAADAd0AAAAPQZ6GRRUs\n",
       "K/8AEtZcTh/hAAAACwGepXRCfwAAAwHzAAAACwGep2pCfwAAAwHzAAAAFkGarEmoQWyZTAhv//6n\n",
       "hAAVi1e1AScAAAARQZ7KRRUsK/8AEtZc9gnLZ/kAAAALAZ7pdEJ/AAADAfMAAAALAZ7rakJ/AAAD\n",
       "AfMAAAAWQZrwSahBbJlMCGf//p4QAFq9WaIFlQAAABJBnw5FFSwr/wAS2SEGMYQdMWEAAAALAZ8t\n",
       "dEJ/AAADAfMAAAALAZ8vakJ/AAADAfMAAAATQZs0SahBbJlMCFf//jhAAAAccAAAABVBn1JFFSwr\n",
       "/wAlrLoZuSOjGOmGR60AAAALAZ9xdEJ/AAADAfMAAAALAZ9zakJ/AAADAfMAAAAUQZt1SahBbJlM\n",
       "CE///fEAAAMARcEAAAo2bW9vdgAAAGxtdmhkAAAAAAAAAAAAAAAAAAAD6AAAE4gAAQAAAQAAAAAA\n",
       "AAAAAAAAAAEAAAAAAAAAAAAAAAAAAAABAAAAAAAAAAAAAAAAAABAAAAAAAAAAAAAAAAAAAAAAAAA\n",
       "AAAAAAAAAAAAAAAAAgAACWB0cmFrAAAAXHRraGQAAAADAAAAAAAAAAAAAAABAAAAAAAAE4gAAAAA\n",
       "AAAAAAAAAAAAAAAAAAEAAAAAAAAAAAAAAAAAAAABAAAAAAAAAAAAAAAAAABAAAAAAbAAAAEgAAAA\n",
       "AAAkZWR0cwAAABxlbHN0AAAAAAAAAAEAABOIAAAEAAABAAAAAAjYbWRpYQAAACBtZGhkAAAAAAAA\n",
       "AAAAAAAAAAA8AAABLABVxAAAAAAALWhkbHIAAAAAAAAAAHZpZGUAAAAAAAAAAAAAAABWaWRlb0hh\n",
       "bmRsZXIAAAAIg21pbmYAAAAUdm1oZAAAAAEAAAAAAAAAAAAAACRkaW5mAAAAHGRyZWYAAAAAAAAA\n",
       "AQAAAAx1cmwgAAAAAQAACENzdGJsAAAAs3N0c2QAAAAAAAAAAQAAAKNhdmMxAAAAAAAAAAEAAAAA\n",
       "AAAAAAAAAAAAAAAAAbABIABIAAAASAAAAAAAAAABAAAAAAAAAAAAAAAAAAAAAAAAAAAAAAAAAAAA\n",
       "AAAAAAAAGP//AAAAMWF2Y0MBZAAV/+EAGGdkABWs2UGwloQAAAMABAAAAwDwPFi2WAEABmjr48si\n",
       "wAAAABx1dWlka2hA8l8kT8W6OaUbzwMj8wAAAAAAAAAYc3R0cwAAAAAAAAABAAAAlgAAAgAAAAAU\n",
       "c3RzcwAAAAAAAAABAAAAAQAABMBjdHRzAAAAAAAAAJYAAAABAAAEAAAAAAEAAAoAAAAAAQAABAAA\n",
       "AAABAAAAAAAAAAEAAAIAAAAAAQAACgAAAAABAAAEAAAAAAEAAAAAAAAAAQAAAgAAAAABAAAKAAAA\n",
       "AAEAAAQAAAAAAQAAAAAAAAABAAACAAAAAAEAAAoAAAAAAQAABAAAAAABAAAAAAAAAAEAAAIAAAAA\n",
       "AQAACgAAAAABAAAEAAAAAAEAAAAAAAAAAQAAAgAAAAABAAAKAAAAAAEAAAQAAAAAAQAAAAAAAAAB\n",
       "AAACAAAAAAEAAAoAAAAAAQAABAAAAAABAAAAAAAAAAEAAAIAAAAAAQAACgAAAAABAAAEAAAAAAEA\n",
       "AAAAAAAAAQAAAgAAAAABAAAKAAAAAAEAAAQAAAAAAQAAAAAAAAABAAACAAAAAAEAAAoAAAAAAQAA\n",
       "BAAAAAABAAAAAAAAAAEAAAIAAAAAAQAACgAAAAABAAAEAAAAAAEAAAAAAAAAAQAAAgAAAAABAAAK\n",
       "AAAAAAEAAAQAAAAAAQAAAAAAAAABAAACAAAAAAEAAAoAAAAAAQAABAAAAAABAAAAAAAAAAEAAAIA\n",
       "AAAAAQAACgAAAAABAAAEAAAAAAEAAAAAAAAAAQAAAgAAAAABAAAKAAAAAAEAAAQAAAAAAQAAAAAA\n",
       "AAABAAACAAAAAAEAAAoAAAAAAQAABAAAAAABAAAAAAAAAAEAAAIAAAAAAQAACgAAAAABAAAEAAAA\n",
       "AAEAAAAAAAAAAQAAAgAAAAABAAAKAAAAAAEAAAQAAAAAAQAAAAAAAAABAAACAAAAAAEAAAoAAAAA\n",
       "AQAABAAAAAABAAAAAAAAAAEAAAIAAAAAAQAACgAAAAABAAAEAAAAAAEAAAAAAAAAAQAAAgAAAAAB\n",
       "AAAKAAAAAAEAAAQAAAAAAQAAAAAAAAABAAACAAAAAAEAAAoAAAAAAQAABAAAAAABAAAAAAAAAAEA\n",
       "AAIAAAAAAQAACgAAAAABAAAEAAAAAAEAAAAAAAAAAQAAAgAAAAABAAAKAAAAAAEAAAQAAAAAAQAA\n",
       "AAAAAAABAAACAAAAAAEAAAoAAAAAAQAABAAAAAABAAAAAAAAAAEAAAIAAAAAAQAACgAAAAABAAAE\n",
       "AAAAAAEAAAAAAAAAAQAAAgAAAAABAAAKAAAAAAEAAAQAAAAAAQAAAAAAAAABAAACAAAAAAEAAAoA\n",
       "AAAAAQAABAAAAAABAAAAAAAAAAEAAAIAAAAAAQAACgAAAAABAAAEAAAAAAEAAAAAAAAAAQAAAgAA\n",
       "AAABAAAKAAAAAAEAAAQAAAAAAQAAAAAAAAABAAACAAAAAAEAAAoAAAAAAQAABAAAAAABAAAAAAAA\n",
       "AAEAAAIAAAAAAQAACgAAAAABAAAEAAAAAAEAAAAAAAAAAQAAAgAAAAABAAAKAAAAAAEAAAQAAAAA\n",
       "AQAAAAAAAAABAAACAAAAAAEAAAoAAAAAAQAABAAAAAABAAAAAAAAAAEAAAIAAAAAAQAACgAAAAAB\n",
       "AAAEAAAAAAEAAAAAAAAAAQAAAgAAAAABAAAKAAAAAAEAAAQAAAAAAQAAAAAAAAABAAACAAAAAAEA\n",
       "AAoAAAAAAQAABAAAAAABAAAAAAAAAAEAAAIAAAAAAQAABAAAAAAcc3RzYwAAAAAAAAABAAAAAQAA\n",
       "AJYAAAABAAACbHN0c3oAAAAAAAAAAAAAAJYAABTiAAAA5QAAACQAAAAhAAAAEQAAADMAAAAWAAAA\n",
       "EQAAABEAAAAeAAAAEwAAABEAAAAPAAAAGAAAABMAAAAPAAAADwAAABgAAAATAAAADwAAABEAAAAc\n",
       "AAAAFwAAAA8AAAAPAAAAJAAAABMAAAAPAAAADwAAACQAAAAVAAAADwAAAA8AAAAcAAAAFAAAAA8A\n",
       "AAAPAAAAKgAAABMAAAARAAAADwAAAB0AAAARAAAADwAAAA8AAAAcAAAAEQAAAA8AAAAPAAAAHwAA\n",
       "ABEAAAARAAAADwAAACcAAAARAAAADwAAAA8AAAApAAAAEwAAAA8AAAAPAAAAKwAAABMAAAAPAAAA\n",
       "DwAAAB0AAAATAAAADwAAAA8AAAA5AAAAEQAAAA8AAAAPAAAAMQAAABEAAAAPAAAADwAAACMAAAAR\n",
       "AAAADwAAAA8AAAAbAAAAEQAAAA8AAAARAAAAJAAAABMAAAAPAAAADwAAACMAAAARAAAADwAAAA8A\n",
       "AAA3AAAAEwAAAA8AAAAPAAAALwAAABEAAAAPAAAADwAAABoAAAARAAAADwAAAA8AAAAuAAAAEQAA\n",
       "AA8AAAAPAAAAJQAAABEAAAAPAAAADwAAABgAAAARAAAADwAAAA8AAAAvAAAAEQAAAA8AAAAPAAAA\n",
       "GwAAABMAAAAPAAAADwAAABgAAAATAAAADwAAAA8AAAAYAAAAEwAAAA8AAAAPAAAAGAAAABMAAAAP\n",
       "AAAADwAAABoAAAAVAAAADwAAAA8AAAAaAAAAFgAAAA8AAAAPAAAAFwAAABkAAAAPAAAADwAAABgA\n",
       "AAAUc3RjbwAAAAAAAAABAAAALAAAAGJ1ZHRhAAAAWm1ldGEAAAAAAAAAIWhkbHIAAAAAAAAAAG1k\n",
       "aXJhcHBsAAAAAAAAAAAAAAAALWlsc3QAAAAlqXRvbwAAAB1kYXRhAAAAAQAAAABMYXZmNTguMjku\n",
       "MTAw\n",
       "\">\n",
       "  Your browser does not support the video tag.\n",
       "</video>"
      ],
      "text/plain": [
       "<IPython.core.display.HTML object>"
      ]
     },
     "execution_count": 20,
     "metadata": {},
     "output_type": "execute_result"
    },
    {
     "data": {
      "image/png": "[encoded data removed]",
      "text/plain": [
       "<Figure size 432x288 with 1 Axes>"
      ]
     },
     "metadata": {
      "needs_background": "light"
     },
     "output_type": "display_data"
    }
   ],
   "source": [
    "if use_free_move:\n",
    "    points_output.animate(fps = fps,movie_name = 'dynamics_free_swimming.mp4',lw=2,marker='o',color=(1,0,0,1),linestyle='-')\n",
    "else:\n",
    "    points_output.animate(fps = fps,movie_name = 'dynamics.mp4',lw=2,marker='o',color=(1,0,0,1),linestyle='-')\n",
    "    \n",
    "HTML(points_output.anim.to_html5_video())"
   ]
  }
 ],
 "metadata": {
  "kernelspec": {
   "display_name": "Python 3 (ipykernel)",
   "language": "python",
   "name": "python3"
  },
  "language_info": {
   "codemirror_mode": {
    "name": "ipython",
    "version": 3
   },
   "file_extension": ".py",
   "mimetype": "text/x-python",
   "name": "python",
   "nbconvert_exporter": "python",
   "pygments_lexer": "ipython3",
   "version": "3.9.7"
  }
 },
 "nbformat": 4,
 "nbformat_minor": 5
}
