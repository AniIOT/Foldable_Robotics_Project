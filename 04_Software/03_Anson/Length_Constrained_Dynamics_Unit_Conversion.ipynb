{
 "cells": [
  {
   "cell_type": "code",
   "execution_count": 1,
   "id": "d75ff359",
   "metadata": {},
   "outputs": [],
   "source": [
    "%matplotlib inline"
   ]
  },
  {
   "cell_type": "code",
   "execution_count": 2,
   "id": "c9554a1e",
   "metadata": {},
   "outputs": [],
   "source": [
    "#Set model to freely swim\n",
    "use_free_move = False"
   ]
  },
  {
   "cell_type": "markdown",
   "id": "01a651d9",
   "metadata": {},
   "source": [
    "# Importing Libraries\n",
    "\n",
    "Importing libraries for script"
   ]
  },
  {
   "cell_type": "code",
   "execution_count": 3,
   "id": "19dc092c",
   "metadata": {},
   "outputs": [],
   "source": [
    "import pynamics\n",
    "from pynamics.frame import Frame\n",
    "from pynamics.variable_types import Differentiable,Constant\n",
    "from pynamics.system import System\n",
    "from pynamics.body import Body\n",
    "from pynamics.dyadic import Dyadic\n",
    "from pynamics.output import Output,PointsOutput\n",
    "from pynamics.output_points_3d import PointsOutput3D\n",
    "from pynamics.constraint import AccelerationConstraint,KinematicConstraint\n",
    "from pynamics.particle import Particle\n",
    "import pynamics.integration\n",
    "import numpy\n",
    "import matplotlib.pyplot as plt\n",
    "plt.ion()\n",
    "from math import pi,sin\n",
    "import sympy\n",
    "from sympy import sqrt\n",
    "import math\n",
    "import idealab_tools.units\n",
    "import scipy.optimize\n",
    "from matplotlib import animation, rc\n",
    "from IPython.display import HTML\n",
    "\n",
    "\n",
    "system = System()\n",
    "pynamics.set_system(__name__,system)\n",
    "\n",
    "\n",
    "#Setting Unit scaling for model\n",
    "idealab_tools.units.Unit.set_scaling(m=100) #units mm\n",
    "idealab_tools.units.Unit.set_scaling(kg=100) #units g\n",
    "density_u = idealab_tools.units.Unit(kg = 1,m = -3)\n",
    "area_u = idealab_tools.units.Unit(m = 2)\n",
    "rotational_damping = idealab_tools.units.Unit(N = 1,m= 1,rad= -1)"
   ]
  },
  {
   "cell_type": "markdown",
   "id": "92c478a5",
   "metadata": {},
   "source": [
    "# Constants of System\n",
    "\n",
    "In this block of code we are defining all the constants of our system that we will use for our simulation"
   ]
  },
  {
   "cell_type": "code",
   "execution_count": 4,
   "id": "73ab2bd7",
   "metadata": {},
   "outputs": [],
   "source": [
    "#Defining Constants of System\n",
    "seg_len = 0.005  #segment mass\n",
    "seg_mass = 0.005 #segment mass \n",
    "seg_h = 0.02 #segment height\n",
    "seg_th = 0.005 #segment thickness\n",
    "\n",
    "#Set segment lengths\n",
    "lA = Constant(seg_len*idealab_tools.units.length,'lA',system)\n",
    "lB = Constant(seg_len*idealab_tools.units.length,'lB',system)\n",
    "lC = Constant(seg_len*idealab_tools.units.length,'lC',system)\n",
    "lD = Constant(seg_len*idealab_tools.units.length,'lD',system)\n",
    "lE = Constant(seg_len*idealab_tools.units.length,'lE',system)\n",
    "lF = Constant(seg_len*idealab_tools.units.length,'lF',system)\n",
    "lG = Constant(seg_len*idealab_tools.units.length,'lG',system) #Tail segment\n",
    "lP = Constant(seg_len*5*idealab_tools.units.length,'lP',system) #Constrained length\n",
    "\n",
    "#Set masses\n",
    "mA = Constant(seg_mass*idealab_tools.units.mass,'mA',system)\n",
    "mB = Constant(seg_mass*idealab_tools.units.mass,'mB',system)\n",
    "mC = Constant(seg_mass*idealab_tools.units.mass,'mC',system)\n",
    "mD = Constant(seg_mass*idealab_tools.units.mass,'mD',system)\n",
    "mE = Constant(seg_mass*idealab_tools.units.mass,'mE',system)\n",
    "mF = Constant(seg_mass*idealab_tools.units.mass,'mF',system)\n",
    "mG = Constant(seg_mass*idealab_tools.units.mass,'mF',system)\n",
    "\n",
    "\n",
    "b = Constant(1e-1*rotational_damping,'b',system)\n",
    "k = Constant(1e-1*idealab_tools.units.rotational_stiffness,'k',system)\n",
    "area = Constant(seg_len*seg_h*area_u,'area',system)\n",
    "rho = Constant(998*density_u,'rho',system)\n",
    "\n",
    "freq = Constant(0.5,'freq',system)\n",
    "amp = Constant(44*pi/180,'amp',system)\n",
    "torque = Constant(1e0,'torque',system)\n",
    "\n",
    "Ix = 1/12*seg_mass*(seg_h**2 + seg_th**2)\n",
    "Iy = 1/12*seg_mass*(seg_h**2 + seg_len**2)\n",
    "Iz = 1/12*seg_mass*(seg_len**2 + seg_th**2)\n",
    "\n",
    "Ixx_A = Constant(Ix*idealab_tools.units.inertia,'Ixx_A',system)\n",
    "Iyy_A = Constant(Iy*idealab_tools.units.inertia,'Iyy_A',system)\n",
    "Izz_A = Constant(Iz*idealab_tools.units.inertia,'Izz_A',system)\n",
    "Ixx_B = Constant(Ix*idealab_tools.units.inertia,'Ixx_B',system)\n",
    "Iyy_B = Constant(Iy*idealab_tools.units.inertia,'Iyy_B',system)\n",
    "Izz_B = Constant(Iz*idealab_tools.units.inertia,'Izz_B',system)\n",
    "Ixx_C = Constant(Ix*idealab_tools.units.inertia,'Ixx_C',system)\n",
    "Iyy_C = Constant(Iy*idealab_tools.units.inertia,'Iyy_C',system)\n",
    "Izz_C = Constant(Iz*idealab_tools.units.inertia,'Izz_C',system)\n",
    "Ixx_D = Constant(Ix*idealab_tools.units.inertia,'Ixx_D',system)\n",
    "Iyy_D = Constant(Iy*idealab_tools.units.inertia,'Iyy_D',system)\n",
    "Izz_D = Constant(Iz*idealab_tools.units.inertia,'Izz_D',system)\n",
    "Ixx_E = Constant(Ix*idealab_tools.units.inertia,'Ixx_E',system)\n",
    "Iyy_E = Constant(Iy*idealab_tools.units.inertia,'Iyy_E',system)\n",
    "Izz_E = Constant(Iz*idealab_tools.units.inertia,'Izz_E',system)\n",
    "Ixx_F = Constant(Ix*idealab_tools.units.inertia,'Ixx_F',system)\n",
    "Iyy_F = Constant(Iy*idealab_tools.units.inertia,'Iyy_F',system)\n",
    "Izz_F = Constant(Iz*idealab_tools.units.inertia,'Izz_F',system)\n",
    "Ixx_G = Constant(Ix*idealab_tools.units.inertia,'Ixx_G',system)\n",
    "Iyy_G = Constant(Iy*idealab_tools.units.inertia,'Iyy_G',system)\n",
    "Izz_G = Constant(Iz*idealab_tools.units.inertia,'Izz_G',system)"
   ]
  },
  {
   "cell_type": "code",
   "execution_count": 5,
   "id": "e398a02c",
   "metadata": {},
   "outputs": [],
   "source": [
    "#Set integration tolerance\n",
    "tol = 1e-6"
   ]
  },
  {
   "cell_type": "code",
   "execution_count": 6,
   "id": "0be73862",
   "metadata": {},
   "outputs": [],
   "source": [
    "#Set simulation run time\n",
    "fps = 30/(1*idealab_tools.units.time)\n",
    "tinitial = 0*idealab_tools.units.time\n",
    "tfinal = 5*idealab_tools.units.time\n",
    "tstep = 1/fps\n",
    "t = numpy.r_[tinitial:tfinal:tstep]"
   ]
  },
  {
   "cell_type": "code",
   "execution_count": 7,
   "id": "9afc2913",
   "metadata": {},
   "outputs": [],
   "source": [
    "#Define derivatives of frames\n",
    "qA,qA_d,qA_dd = Differentiable('qA',system)\n",
    "qB,qB_d,qB_dd = Differentiable('qB',system)\n",
    "qC,qC_d,qC_dd = Differentiable('qC',system)\n",
    "qD,qD_d,qD_dd = Differentiable('qD',system)\n",
    "qE,qE_d,qE_dd = Differentiable('qE',system)\n",
    "qF,qF_d,qF_dd = Differentiable('qF',system)\n",
    "qG,qG_d,qG_dd = Differentiable('qG',system)\n",
    "\n",
    "if use_free_move:\n",
    "    x,x_d,x_dd = Differentiable('x',system)\n",
    "    y,y_d,y_dd = Differentiable('y',system)"
   ]
  },
  {
   "cell_type": "code",
   "execution_count": 8,
   "id": "ea73239d",
   "metadata": {},
   "outputs": [],
   "source": [
    "#set initial conditions\n",
    "initialvalues = {}\n",
    "initialvalues[qA]=70*pi/180*idealab_tools.units.radian\n",
    "initialvalues[qA_d]=0*pi/180*idealab_tools.units.rotational_speed\n",
    "initialvalues[qB]=30*pi/180*idealab_tools.units.radian\n",
    "initialvalues[qB_d]=0*pi/180*idealab_tools.units.rotational_speed\n",
    "initialvalues[qC]=0*pi/180*idealab_tools.units.radian\n",
    "initialvalues[qC_d]=0*pi/180*idealab_tools.units.rotational_speed\n",
    "initialvalues[qD]=0*pi/180*idealab_tools.units.radian\n",
    "initialvalues[qD_d]=0*pi/180*idealab_tools.units.rotational_speed\n",
    "initialvalues[qE]=-10*pi/180*idealab_tools.units.radian\n",
    "initialvalues[qE_d]=0*pi/180*idealab_tools.units.rotational_speed\n",
    "initialvalues[qF]=-40*pi/180*idealab_tools.units.radian\n",
    "initialvalues[qF_d]=0*pi/180*idealab_tools.units.rotational_speed\n",
    "initialvalues[qG]=-40*pi/180*idealab_tools.units.radian\n",
    "initialvalues[qG_d]=0*pi/180*idealab_tools.units.rotational_speed\n",
    "\n",
    "if use_free_move:\n",
    "    initialvalues[x]=0*pi/180*idealab_tools.units.radian\n",
    "    initialvalues[x_d]=0*pi/180*idealab_tools.units.rotational_speed\n",
    "    initialvalues[y]=0*pi/180*idealab_tools.units.radian\n",
    "    initialvalues[y_d]=0*pi/180*idealab_tools.units.rotational_speed\n",
    "\n",
    "statevariables = system.get_state_variables()\n",
    "ini0 = [initialvalues[item] for item in statevariables]"
   ]
  },
  {
   "cell_type": "code",
   "execution_count": 9,
   "id": "c3799823",
   "metadata": {},
   "outputs": [],
   "source": [
    "#Frames\n",
    "N = Frame('N',system)\n",
    "A = Frame('A',system)\n",
    "B = Frame('B',system)\n",
    "C = Frame('C',system)\n",
    "D = Frame('D',system)\n",
    "E = Frame('E',system)\n",
    "F = Frame('F',system)\n",
    "G = Frame('G',system)\n",
    "\n",
    "system.set_newtonian(N)\n",
    "\n",
    "A.rotate_fixed_axis(N,[0,0,1],qA,system)\n",
    "B.rotate_fixed_axis(N,[0,0,1],qB,system)\n",
    "C.rotate_fixed_axis(N,[0,0,1],qC,system)\n",
    "D.rotate_fixed_axis(N,[0,0,1],qD,system)\n",
    "E.rotate_fixed_axis(N,[0,0,1],qE,system)\n",
    "F.rotate_fixed_axis(N,[0,0,1],qF,system)\n",
    "G.rotate_fixed_axis(N,[0,0,1],qG,system)"
   ]
  },
  {
   "cell_type": "markdown",
   "id": "8d126165",
   "metadata": {},
   "source": [
    "# Defining Vectors\n",
    "\n",
    "In this section of code we are defining all the position and center of mass vecotors. Additionally we are calculating angular velocity of each frame and the respective linear velocities at the center of mass. We also build each body of the system in this section."
   ]
  },
  {
   "cell_type": "code",
   "execution_count": 10,
   "id": "1e8f4de1",
   "metadata": {},
   "outputs": [],
   "source": [
    "#Vectors\n",
    "\n",
    "if use_free_move:\n",
    "    pNA=x*N.x + y*N.y + 0*N.z\n",
    "    pP = lP*N.x + pNA\n",
    "else:\n",
    "    pNA=0*N.x + 0*N.y + 0*N.z\n",
    "    pP = lP*N.x\n",
    "    \n",
    "pAB= pNA + lA*A.x\n",
    "pBC = pAB + lB*B.x\n",
    "pCD = pBC + lC*C.x\n",
    "pDE = pCD + lD*D.x\n",
    "pEF = pDE + lE*E.x\n",
    "pFG = pEF + lF*F.x\n",
    "pGtip = pFG + lG*G.x\n",
    "\n",
    "#Center of Mass\n",
    "pAcm=pNA+lA/2*A.x\n",
    "pBcm=pAB+lB/2*B.x\n",
    "pCcm=pBC+lC/2*C.x\n",
    "pDcm=pCD+lD/2*D.x\n",
    "pEcm=pDE+lE/2*E.x\n",
    "pFcm=pEF+lF/2*F.x\n",
    "pGcm=pFG+lF/2*G.x\n",
    "\n",
    "#Angular Velocity\n",
    "wNA = N.get_w_to(A)\n",
    "wAB = A.get_w_to(B) \n",
    "wBC = B.get_w_to(C)\n",
    "wCD = C.get_w_to(D) \n",
    "wDE = D.get_w_to(E)\n",
    "wEF = E.get_w_to(F)\n",
    "wFG = F.get_w_to(G)\n",
    "\n",
    "#Velocities \n",
    "vA=pAcm.time_derivative()\n",
    "vB=pBcm.time_derivative()\n",
    "vC=pCcm.time_derivative()\n",
    "vD=pDcm.time_derivative()\n",
    "vE=pEcm.time_derivative()\n",
    "vF=pFcm.time_derivative()\n",
    "vGtip=pGtip.time_derivative()\n",
    "\n",
    "#Interia and Bodys\n",
    "IA = Dyadic.build(A,Ixx_A,Iyy_A,Izz_A)\n",
    "IB = Dyadic.build(B,Ixx_B,Iyy_B,Izz_B)\n",
    "IC = Dyadic.build(C,Ixx_C,Iyy_C,Izz_C)\n",
    "ID = Dyadic.build(D,Ixx_D,Iyy_D,Izz_D)\n",
    "IE = Dyadic.build(E,Ixx_E,Iyy_E,Izz_E)\n",
    "IF = Dyadic.build(F,Ixx_F,Iyy_F,Izz_F)\n",
    "IG = Dyadic.build(G,Ixx_G,Iyy_G,Izz_G)\n",
    "\n",
    "BodyA = Body('BodyA',A,pAcm,mA,IA,system)\n",
    "BodyB = Body('BodyB',B,pBcm,mB,IB,system)\n",
    "BodyC = Body('BodyC',C,pCcm,mC,IC,system)\n",
    "BodyD = Body('BodyD',D,pDcm,mD,ID,system)\n",
    "BodyE = Body('BodyE',E,pEcm,mE,IE,system)\n",
    "BodyF = Body('BodyF',F,pFcm,mF,IF,system)\n",
    "BodyG = Body('BodyG',G,pGcm,mG,IG,system)"
   ]
  },
  {
   "cell_type": "markdown",
   "id": "b41227bd",
   "metadata": {},
   "source": [
    "# Adding Forces\n",
    "\n",
    "In this section of code we are adding the aerodynamic, spring, and damping forces in the system. The damping and spring values will be calculated experimentally"
   ]
  },
  {
   "cell_type": "code",
   "execution_count": 11,
   "id": "5f8946a3",
   "metadata": {},
   "outputs": [
    {
     "data": {
      "text/plain": [
       "(<pynamics.force.Force at 0x2a7f5c613d0>,\n",
       " <pynamics.spring.Spring at 0x2a7f5c61340>)"
      ]
     },
     "execution_count": 11,
     "metadata": {},
     "output_type": "execute_result"
    }
   ],
   "source": [
    "#Forces\n",
    "#system.addforce(torque*sympy.cos(freq*2*pi*system.t)*A.z,wNA)\n",
    "\n",
    "#Aerodynamic Forces\n",
    "f_aero_Ay = rho * vA.length()*(vA.dot(A.y)) * area * A.y\n",
    "f_aero_By = rho * vB.length()*(vB.dot(B.y)) * area * B.y\n",
    "f_aero_Cy = rho * vC.length()*(vC.dot(C.y)) * area * C.y\n",
    "f_aero_Dy = rho * vD.length()*(vD.dot(D.y)) * area * D.y\n",
    "f_aero_Ey = rho * vE.length()*(vE.dot(E.y)) * area * E.y\n",
    "f_aero_Fy = rho * vF.length()*(vF.dot(F.y)) * area * F.y\n",
    "f_aero_Gy = rho * vGtip.length()*(vGtip.dot(G.y)) * area * G.y\n",
    "\n",
    "system.addforce(-f_aero_Ay,vA)\n",
    "system.addforce(-f_aero_By,vB)\n",
    "system.addforce(-f_aero_Cy,vC)\n",
    "system.addforce(-f_aero_Dy,vD)\n",
    "system.addforce(-f_aero_Ey,vE)\n",
    "system.addforce(-f_aero_Fy,vF)\n",
    "system.addforce(-f_aero_Gy,vGtip)\n",
    "\n",
    "#Damping Forces\n",
    "system.addforce(-b*wNA,wNA)\n",
    "system.addforce(-b*wAB,wAB)\n",
    "system.addforce(-b*wBC,wBC)\n",
    "system.addforce(-b*wCD,wCD)\n",
    "system.addforce(-b*wDE,wDE)\n",
    "system.addforce(-b*wEF,wEF)\n",
    "system.addforce(-b*wFG,wFG)\n",
    "\n",
    "#Spring Force (Torsion)\n",
    "system.add_spring_force1(k,(qA)*N.z,wNA) \n",
    "system.add_spring_force1(k,(qB-qA)*N.z,wAB)\n",
    "system.add_spring_force1(k,(qC-qB)*N.z,wBC)\n",
    "system.add_spring_force1(k,(qD-qC)*N.z,wCD) \n",
    "system.add_spring_force1(k,(qE-qD)*N.z,wDE)\n",
    "system.add_spring_force1(k,(qF-qE)*N.z,wEF)\n",
    "system.add_spring_force1(k,(qG-qF)*N.z,wFG)"
   ]
  },
  {
   "cell_type": "code",
   "execution_count": 12,
   "id": "6714f080",
   "metadata": {},
   "outputs": [],
   "source": [
    "#Constraints for initial condition\n",
    "\n",
    "eq = []\n",
    "\n",
    "eq.append(pFG-pP)\n",
    "    \n",
    "eq_scalar = []\n",
    "eq_scalar.append(eq[0].dot(N.x))\n",
    "eq_scalar.append(eq[0].dot(N.y))"
   ]
  },
  {
   "cell_type": "code",
   "execution_count": 13,
   "id": "5cd73806",
   "metadata": {},
   "outputs": [
    {
     "name": "stderr",
     "output_type": "stream",
     "text": [
      "2022-03-29 09:09:54,031 - pynamics.output - INFO - calculating outputs\n",
      "2022-03-29 09:09:54,031 - pynamics.output - INFO - done calculating outputs\n"
     ]
    },
    {
     "data": {
      "text/plain": [
       "<AxesSubplot:>"
      ]
     },
     "execution_count": 13,
     "metadata": {},
     "output_type": "execute_result"
    },
    {
     "data": {
      "image/png": "[encoded data removed]",
      "text/plain": [
       "<Figure size 432x288 with 1 Axes>"
      ]
     },
     "metadata": {
      "needs_background": "light"
     },
     "output_type": "display_data"
    }
   ],
   "source": [
    "#Solve for Intial Conditions\n",
    "if use_free_move:\n",
    "    qi = [qA,x,y]\n",
    "else:  \n",
    "    qi = [qA]\n",
    "\n",
    "c=KinematicConstraint(eq_scalar)\n",
    "\n",
    "variables = [qB,qC,qD,qE,qF,qG]\n",
    "\n",
    "constant_states = list(set(system.get_q(0))-set(variables))\n",
    "constants = system.constant_values.copy()\n",
    "\n",
    "for key in constant_states:\n",
    "    constants[key] = initialvalues[key] \n",
    "guess = [initialvalues[item] for item in variables]\n",
    "\n",
    "result = c.solve_numeric(variables,guess,constants)\n",
    "\n",
    "ini = []\n",
    "for item in system.get_state_variables():\n",
    "    if item in variables:\n",
    "        ini.append(result[item])\n",
    "    else:\n",
    "        ini.append(initialvalues[item])\n",
    "        \n",
    "points = [pNA,pAB,pBC,pCD,pDE,pEF,pFG,pGtip]\n",
    "        \n",
    "points = PointsOutput(points, constant_values=system.constant_values)\n",
    "points.calc(numpy.array([ini0,ini]),[0,1])\n",
    "points.plot_time()"
   ]
  },
  {
   "cell_type": "code",
   "execution_count": 14,
   "id": "838764ed",
   "metadata": {},
   "outputs": [],
   "source": [
    "#Adding Dynamic Constraints\n",
    "\n",
    "#Position of motor limits\n",
    "pos = amp*sympy.cos(freq*2*pi*system.t)\n",
    "\n",
    "eq = []\n",
    "eq.append(pFG-pP)\n",
    "#eq.append(pos*N.z-qA*N.z)\n",
    "\n",
    "eq_d = []\n",
    "eq_d = [item.time_derivative() for item in eq]\n",
    "\n",
    "eq_dd = []\n",
    "eq_dd = [item.time_derivative() for item in eq_d]\n",
    "\n",
    "eq_scalar_dd = []\n",
    "eq_scalar_dd.append(eq[0].dot(N.x))\n",
    "eq_scalar_dd.append(eq[0].dot(N.y))\n",
    "#eq_scalar_dd.append(eq[1].dot(N.z))\n",
    "\n",
    "system.add_constraint(AccelerationConstraint(eq_scalar_dd))"
   ]
  },
  {
   "cell_type": "code",
   "execution_count": 15,
   "id": "7b18b3c6",
   "metadata": {},
   "outputs": [
    {
     "name": "stderr",
     "output_type": "stream",
     "text": [
      "2022-03-29 09:09:54,399 - pynamics.system - INFO - getting dynamic equations\n",
      "2022-03-29 09:09:55,960 - pynamics.system - INFO - solving a = f/m and creating function\n",
      "2022-03-29 09:10:01,123 - pynamics.system - INFO - substituting constrained in Ma-f.\n",
      "2022-03-29 09:10:01,843 - pynamics.system - INFO - done solving a = f/m and creating function\n",
      "2022-03-29 09:10:01,851 - pynamics.system - INFO - calculating function for lambdas\n",
      "2022-03-29 09:10:01,875 - pynamics.integration - INFO - beginning integration\n",
      "2022-03-29 09:10:01,875 - pynamics.system - INFO - integration at time 0000.00\n"
     ]
    },
    {
     "ename": "LinAlgError",
     "evalue": "Matrix is singular.",
     "output_type": "error",
     "traceback": [
      "\u001b[1;31m---------------------------------------------------------------------------\u001b[0m",
      "\u001b[1;31mLinAlgError\u001b[0m                               Traceback (most recent call last)",
      "Input \u001b[1;32mIn [15]\u001b[0m, in \u001b[0;36m<cell line: 7>\u001b[1;34m()\u001b[0m\n\u001b[0;32m      3\u001b[0m f,ma \u001b[38;5;241m=\u001b[39m system\u001b[38;5;241m.\u001b[39mgetdynamics()\n\u001b[0;32m      5\u001b[0m func1,lambda1 \u001b[38;5;241m=\u001b[39m system\u001b[38;5;241m.\u001b[39mstate_space_post_invert(f,ma,return_lambda \u001b[38;5;241m=\u001b[39m \u001b[38;5;28;01mTrue\u001b[39;00m)\n\u001b[1;32m----> 7\u001b[0m states\u001b[38;5;241m=\u001b[39m\u001b[43mpynamics\u001b[49m\u001b[38;5;241;43m.\u001b[39;49m\u001b[43mintegration\u001b[49m\u001b[38;5;241;43m.\u001b[39;49m\u001b[43mintegrate\u001b[49m\u001b[43m(\u001b[49m\u001b[43mfunc1\u001b[49m\u001b[43m,\u001b[49m\u001b[43mini\u001b[49m\u001b[43m,\u001b[49m\u001b[43mt\u001b[49m\u001b[43m,\u001b[49m\u001b[43mrtol\u001b[49m\u001b[38;5;241;43m=\u001b[39;49m\u001b[43mtol\u001b[49m\u001b[43m,\u001b[49m\u001b[43matol\u001b[49m\u001b[38;5;241;43m=\u001b[39;49m\u001b[43mtol\u001b[49m\u001b[43m,\u001b[49m\u001b[43mhmin\u001b[49m\u001b[38;5;241;43m=\u001b[39;49m\u001b[43mtol\u001b[49m\u001b[43m,\u001b[49m\u001b[43m \u001b[49m\u001b[43margs\u001b[49m\u001b[38;5;241;43m=\u001b[39;49m\u001b[43m(\u001b[49m\u001b[43m{\u001b[49m\u001b[38;5;124;43m'\u001b[39;49m\u001b[38;5;124;43mconstants\u001b[39;49m\u001b[38;5;124;43m'\u001b[39;49m\u001b[43m:\u001b[49m\u001b[43msystem\u001b[49m\u001b[38;5;241;43m.\u001b[39;49m\u001b[43mconstant_values\u001b[49m\u001b[43m}\u001b[49m\u001b[43m,\u001b[49m\u001b[43m)\u001b[49m\u001b[43m)\u001b[49m\n\u001b[0;32m      9\u001b[0m plt\u001b[38;5;241m.\u001b[39mfigure()\n\u001b[0;32m     10\u001b[0m artists \u001b[38;5;241m=\u001b[39m plt\u001b[38;5;241m.\u001b[39mplot(t,states[:,:\u001b[38;5;241m7\u001b[39m])\n",
      "File \u001b[1;32m~\\Downloads\\Conda\\code_pynamics-master\\python\\pynamics\\integration.py:8\u001b[0m, in \u001b[0;36mintegrate\u001b[1;34m(*args, **kwargs)\u001b[0m\n\u001b[0;32m      6\u001b[0m \u001b[38;5;28;01mdef\u001b[39;00m \u001b[38;5;21mintegrate\u001b[39m(\u001b[38;5;241m*\u001b[39margs,\u001b[38;5;241m*\u001b[39m\u001b[38;5;241m*\u001b[39mkwargs):\n\u001b[0;32m      7\u001b[0m     \u001b[38;5;28;01mif\u001b[39;00m pynamics\u001b[38;5;241m.\u001b[39mintegrator\u001b[38;5;241m==\u001b[39m\u001b[38;5;241m0\u001b[39m:\n\u001b[1;32m----> 8\u001b[0m         \u001b[38;5;28;01mreturn\u001b[39;00m integrate_odeint(\u001b[38;5;241m*\u001b[39margs,\u001b[38;5;241m*\u001b[39m\u001b[38;5;241m*\u001b[39mkwargs)\n\u001b[0;32m      9\u001b[0m     \u001b[38;5;28;01melif\u001b[39;00m pynamics\u001b[38;5;241m.\u001b[39mintegrator\u001b[38;5;241m==\u001b[39m\u001b[38;5;241m1\u001b[39m:\n\u001b[0;32m     10\u001b[0m         newargs \u001b[38;5;241m=\u001b[39m args[\u001b[38;5;241m0\u001b[39m],args[\u001b[38;5;241m2\u001b[39m][\u001b[38;5;241m0\u001b[39m],args[\u001b[38;5;241m1\u001b[39m],args[\u001b[38;5;241m2\u001b[39m][\u001b[38;5;241m-\u001b[39m\u001b[38;5;241m1\u001b[39m]\n",
      "File \u001b[1;32m~\\Downloads\\Conda\\code_pynamics-master\\python\\pynamics\\integration.py:19\u001b[0m, in \u001b[0;36mintegrate_odeint\u001b[1;34m(*arguments, **keyword_arguments)\u001b[0m\n\u001b[0;32m     16\u001b[0m \u001b[38;5;28;01mimport\u001b[39;00m \u001b[38;5;21;01mscipy\u001b[39;00m\u001b[38;5;21;01m.\u001b[39;00m\u001b[38;5;21;01mintegrate\u001b[39;00m\n\u001b[0;32m     18\u001b[0m logger\u001b[38;5;241m.\u001b[39minfo(\u001b[38;5;124m'\u001b[39m\u001b[38;5;124mbeginning integration\u001b[39m\u001b[38;5;124m'\u001b[39m)\n\u001b[1;32m---> 19\u001b[0m result \u001b[38;5;241m=\u001b[39m scipy\u001b[38;5;241m.\u001b[39mintegrate\u001b[38;5;241m.\u001b[39modeint(\u001b[38;5;241m*\u001b[39marguments,\u001b[38;5;241m*\u001b[39m\u001b[38;5;241m*\u001b[39mkeyword_arguments)\n\u001b[0;32m     20\u001b[0m logger\u001b[38;5;241m.\u001b[39minfo(\u001b[38;5;124m'\u001b[39m\u001b[38;5;124mfinished integration\u001b[39m\u001b[38;5;124m'\u001b[39m)\n\u001b[0;32m     21\u001b[0m \u001b[38;5;28;01mreturn\u001b[39;00m result\n",
      "File \u001b[1;32mC:\\ProgramData\\Miniconda3\\lib\\site-packages\\scipy\\integrate\\odepack.py:241\u001b[0m, in \u001b[0;36modeint\u001b[1;34m(func, y0, t, args, Dfun, col_deriv, full_output, ml, mu, rtol, atol, tcrit, h0, hmax, hmin, ixpr, mxstep, mxhnil, mxordn, mxords, printmessg, tfirst)\u001b[0m\n\u001b[0;32m    239\u001b[0m t \u001b[38;5;241m=\u001b[39m copy(t)\n\u001b[0;32m    240\u001b[0m y0 \u001b[38;5;241m=\u001b[39m copy(y0)\n\u001b[1;32m--> 241\u001b[0m output \u001b[38;5;241m=\u001b[39m \u001b[43m_odepack\u001b[49m\u001b[38;5;241;43m.\u001b[39;49m\u001b[43modeint\u001b[49m\u001b[43m(\u001b[49m\u001b[43mfunc\u001b[49m\u001b[43m,\u001b[49m\u001b[43m \u001b[49m\u001b[43my0\u001b[49m\u001b[43m,\u001b[49m\u001b[43m \u001b[49m\u001b[43mt\u001b[49m\u001b[43m,\u001b[49m\u001b[43m \u001b[49m\u001b[43margs\u001b[49m\u001b[43m,\u001b[49m\u001b[43m \u001b[49m\u001b[43mDfun\u001b[49m\u001b[43m,\u001b[49m\u001b[43m \u001b[49m\u001b[43mcol_deriv\u001b[49m\u001b[43m,\u001b[49m\u001b[43m \u001b[49m\u001b[43mml\u001b[49m\u001b[43m,\u001b[49m\u001b[43m \u001b[49m\u001b[43mmu\u001b[49m\u001b[43m,\u001b[49m\n\u001b[0;32m    242\u001b[0m \u001b[43m                         \u001b[49m\u001b[43mfull_output\u001b[49m\u001b[43m,\u001b[49m\u001b[43m \u001b[49m\u001b[43mrtol\u001b[49m\u001b[43m,\u001b[49m\u001b[43m \u001b[49m\u001b[43matol\u001b[49m\u001b[43m,\u001b[49m\u001b[43m \u001b[49m\u001b[43mtcrit\u001b[49m\u001b[43m,\u001b[49m\u001b[43m \u001b[49m\u001b[43mh0\u001b[49m\u001b[43m,\u001b[49m\u001b[43m \u001b[49m\u001b[43mhmax\u001b[49m\u001b[43m,\u001b[49m\u001b[43m \u001b[49m\u001b[43mhmin\u001b[49m\u001b[43m,\u001b[49m\n\u001b[0;32m    243\u001b[0m \u001b[43m                         \u001b[49m\u001b[43mixpr\u001b[49m\u001b[43m,\u001b[49m\u001b[43m \u001b[49m\u001b[43mmxstep\u001b[49m\u001b[43m,\u001b[49m\u001b[43m \u001b[49m\u001b[43mmxhnil\u001b[49m\u001b[43m,\u001b[49m\u001b[43m \u001b[49m\u001b[43mmxordn\u001b[49m\u001b[43m,\u001b[49m\u001b[43m \u001b[49m\u001b[43mmxords\u001b[49m\u001b[43m,\u001b[49m\n\u001b[0;32m    244\u001b[0m \u001b[43m                         \u001b[49m\u001b[38;5;28;43mint\u001b[39;49m\u001b[43m(\u001b[49m\u001b[38;5;28;43mbool\u001b[39;49m\u001b[43m(\u001b[49m\u001b[43mtfirst\u001b[49m\u001b[43m)\u001b[49m\u001b[43m)\u001b[49m\u001b[43m)\u001b[49m\n\u001b[0;32m    245\u001b[0m \u001b[38;5;28;01mif\u001b[39;00m output[\u001b[38;5;241m-\u001b[39m\u001b[38;5;241m1\u001b[39m] \u001b[38;5;241m<\u001b[39m \u001b[38;5;241m0\u001b[39m:\n\u001b[0;32m    246\u001b[0m     warning_msg \u001b[38;5;241m=\u001b[39m _msgs[output[\u001b[38;5;241m-\u001b[39m\u001b[38;5;241m1\u001b[39m]] \u001b[38;5;241m+\u001b[39m \u001b[38;5;124m\"\u001b[39m\u001b[38;5;124m Run with full_output = 1 to get quantitative information.\u001b[39m\u001b[38;5;124m\"\u001b[39m\n",
      "File \u001b[1;32m~\\Downloads\\Conda\\code_pynamics-master\\python\\pynamics\\system.py:444\u001b[0m, in \u001b[0;36mSystem.state_space_post_invert.<locals>.func\u001b[1;34m(arg0, arg1, *args)\u001b[0m\n\u001b[0;32m    441\u001b[0m bi \u001b[38;5;241m=\u001b[39m numpy\u001b[38;5;241m.\u001b[39marray(fb(\u001b[38;5;241m*\u001b[39mstate_i_full),dtype\u001b[38;5;241m=\u001b[39m\u001b[38;5;28mfloat\u001b[39m)\n\u001b[0;32m    443\u001b[0m x1 \u001b[38;5;241m=\u001b[39m numpy\u001b[38;5;241m.\u001b[39marray(f_position_derivatives(\u001b[38;5;241m*\u001b[39mstate_i_full),dtype\u001b[38;5;241m=\u001b[39m\u001b[38;5;28mfloat\u001b[39m)\u001b[38;5;241m.\u001b[39mflatten()\n\u001b[1;32m--> 444\u001b[0m x2 \u001b[38;5;241m=\u001b[39m numpy\u001b[38;5;241m.\u001b[39marray(\u001b[43mscipy\u001b[49m\u001b[38;5;241;43m.\u001b[39;49m\u001b[43mlinalg\u001b[49m\u001b[38;5;241;43m.\u001b[39;49m\u001b[43msolve\u001b[49m\u001b[43m(\u001b[49m\u001b[43mAi\u001b[49m\u001b[43m,\u001b[49m\u001b[43mbi\u001b[49m\u001b[43m)\u001b[49m)\u001b[38;5;241m.\u001b[39mflatten()\n\u001b[0;32m    445\u001b[0m x3 \u001b[38;5;241m=\u001b[39m numpy\u001b[38;5;241m.\u001b[39mr_[x1,x2[:m]]\n\u001b[0;32m    446\u001b[0m x4 \u001b[38;5;241m=\u001b[39m x3\u001b[38;5;241m.\u001b[39mflatten()\u001b[38;5;241m.\u001b[39mtolist()\n",
      "File \u001b[1;32mC:\\ProgramData\\Miniconda3\\lib\\site-packages\\scipy\\linalg\\basic.py:219\u001b[0m, in \u001b[0;36msolve\u001b[1;34m(a, b, sym_pos, lower, overwrite_a, overwrite_b, debug, check_finite, assume_a, transposed)\u001b[0m\n\u001b[0;32m    216\u001b[0m gecon, getrf, getrs \u001b[38;5;241m=\u001b[39m get_lapack_funcs((\u001b[38;5;124m'\u001b[39m\u001b[38;5;124mgecon\u001b[39m\u001b[38;5;124m'\u001b[39m, \u001b[38;5;124m'\u001b[39m\u001b[38;5;124mgetrf\u001b[39m\u001b[38;5;124m'\u001b[39m, \u001b[38;5;124m'\u001b[39m\u001b[38;5;124mgetrs\u001b[39m\u001b[38;5;124m'\u001b[39m),\n\u001b[0;32m    217\u001b[0m                                        (a1, b1))\n\u001b[0;32m    218\u001b[0m lu, ipvt, info \u001b[38;5;241m=\u001b[39m getrf(a1, overwrite_a\u001b[38;5;241m=\u001b[39moverwrite_a)\n\u001b[1;32m--> 219\u001b[0m \u001b[43m_solve_check\u001b[49m\u001b[43m(\u001b[49m\u001b[43mn\u001b[49m\u001b[43m,\u001b[49m\u001b[43m \u001b[49m\u001b[43minfo\u001b[49m\u001b[43m)\u001b[49m\n\u001b[0;32m    220\u001b[0m x, info \u001b[38;5;241m=\u001b[39m getrs(lu, ipvt, b1,\n\u001b[0;32m    221\u001b[0m                 trans\u001b[38;5;241m=\u001b[39mtrans, overwrite_b\u001b[38;5;241m=\u001b[39moverwrite_b)\n\u001b[0;32m    222\u001b[0m _solve_check(n, info)\n",
      "File \u001b[1;32mC:\\ProgramData\\Miniconda3\\lib\\site-packages\\scipy\\linalg\\basic.py:29\u001b[0m, in \u001b[0;36m_solve_check\u001b[1;34m(n, info, lamch, rcond)\u001b[0m\n\u001b[0;32m     26\u001b[0m     \u001b[38;5;28;01mraise\u001b[39;00m \u001b[38;5;167;01mValueError\u001b[39;00m(\u001b[38;5;124m'\u001b[39m\u001b[38;5;124mLAPACK reported an illegal value in \u001b[39m\u001b[38;5;132;01m{}\u001b[39;00m\u001b[38;5;124m-th argument\u001b[39m\u001b[38;5;124m'\u001b[39m\n\u001b[0;32m     27\u001b[0m                      \u001b[38;5;124m'\u001b[39m\u001b[38;5;124m.\u001b[39m\u001b[38;5;124m'\u001b[39m\u001b[38;5;241m.\u001b[39mformat(\u001b[38;5;241m-\u001b[39minfo))\n\u001b[0;32m     28\u001b[0m \u001b[38;5;28;01melif\u001b[39;00m \u001b[38;5;241m0\u001b[39m \u001b[38;5;241m<\u001b[39m info:\n\u001b[1;32m---> 29\u001b[0m     \u001b[38;5;28;01mraise\u001b[39;00m LinAlgError(\u001b[38;5;124m'\u001b[39m\u001b[38;5;124mMatrix is singular.\u001b[39m\u001b[38;5;124m'\u001b[39m)\n\u001b[0;32m     31\u001b[0m \u001b[38;5;28;01mif\u001b[39;00m lamch \u001b[38;5;129;01mis\u001b[39;00m \u001b[38;5;28;01mNone\u001b[39;00m:\n\u001b[0;32m     32\u001b[0m     \u001b[38;5;28;01mreturn\u001b[39;00m\n",
      "\u001b[1;31mLinAlgError\u001b[0m: Matrix is singular."
     ]
    }
   ],
   "source": [
    "#Solve model and plot angles\n",
    "\n",
    "f,ma = system.getdynamics()\n",
    "\n",
    "func1,lambda1 = system.state_space_post_invert(f,ma,return_lambda = True)\n",
    "\n",
    "states=pynamics.integration.integrate(func1,ini,t,rtol=tol,atol=tol,hmin=tol, args=({'constants':system.constant_values},))\n",
    "\n",
    "plt.figure()\n",
    "artists = plt.plot(t,states[:,:7])\n",
    "plt.legend(artists,['qA','qB','qC','qD','qE','qF','qG'])"
   ]
  },
  {
   "cell_type": "code",
   "execution_count": null,
   "id": "22129fa1",
   "metadata": {
    "scrolled": true
   },
   "outputs": [],
   "source": [
    "points = [pNA,pAB,pBC,pCD,pDE,pEF,pFG,pGtip]\n",
    "points_output = PointsOutput(points,system)\n",
    "y = points_output.calc(states,t)\n",
    "points_output.plot_time(20)"
   ]
  },
  {
   "cell_type": "code",
   "execution_count": null,
   "id": "03452b65",
   "metadata": {},
   "outputs": [],
   "source": [
    "#Constraint Forces\n",
    "\n",
    "lambda2 = numpy.array([lambda1(item1,item2,system.constant_values) for item1,item2 in zip(t,states)])\n",
    "plt.figure()\n",
    "plt.plot(t, lambda2)"
   ]
  },
  {
   "cell_type": "code",
   "execution_count": null,
   "id": "0d760c36",
   "metadata": {},
   "outputs": [],
   "source": [
    "#Energy Plot\n",
    "\n",
    "#KE = system.get_KE()\n",
    "#PE = system.getPESprings()\n",
    "#energy_output = Output([KE-PE],system)\n",
    "#energy_output.calc(states,t)\n",
    "#energy_output.plot_time(t)"
   ]
  },
  {
   "cell_type": "code",
   "execution_count": null,
   "id": "2cc6bbcf",
   "metadata": {
    "scrolled": true
   },
   "outputs": [],
   "source": [
    "#Plotting Motion of Tail\n",
    "\n",
    "plt.plot(y[:,7,0],y[:,7,1])\n",
    "plt.axis('equal')\n",
    "plt.title('Position of Tail')\n",
    "plt.xlabel('Position X (m)')\n",
    "plt.ylabel('Position Y (m)')"
   ]
  },
  {
   "cell_type": "code",
   "execution_count": null,
   "id": "7443b225",
   "metadata": {
    "scrolled": false
   },
   "outputs": [],
   "source": [
    "if use_free_move:\n",
    "    points_output.animate(fps = fps,movie_name = 'dynamics_free_swimming.mp4',lw=2,marker='o',color=(1,0,0,1),linestyle='-')\n",
    "else:\n",
    "    points_output.animate(fps = fps,movie_name = 'dynamics.mp4',lw=2,marker='o',color=(1,0,0,1),linestyle='-')\n",
    "    \n",
    "HTML(points_output.anim.to_html5_video())"
   ]
  }
 ],
 "metadata": {
  "kernelspec": {
   "display_name": "Python 3 (ipykernel)",
   "language": "python",
   "name": "python3"
  },
  "language_info": {
   "codemirror_mode": {
    "name": "ipython",
    "version": 3
   },
   "file_extension": ".py",
   "mimetype": "text/x-python",
   "name": "python",
   "nbconvert_exporter": "python",
   "pygments_lexer": "ipython3",
   "version": "3.9.7"
  }
 },
 "nbformat": 4,
 "nbformat_minor": 5
}
