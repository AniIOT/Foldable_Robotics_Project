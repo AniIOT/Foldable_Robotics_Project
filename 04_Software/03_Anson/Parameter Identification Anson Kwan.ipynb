{
 "cells": [
  {
   "cell_type": "markdown",
   "id": "38d5b43b",
   "metadata": {},
   "source": [
    "# Goal of Experiment\n",
    "\n",
    "The goal of my experiment is to run a dynamic test of the decided joint material of polyethelyene sheet. From this experiment we hope to fit the data for the damping and stiffness constant. \n"
   ]
  },
  {
   "cell_type": "markdown",
   "id": "43fff240",
   "metadata": {},
   "source": [
    "# Process and Procedure\n",
    "\n",
    "__Process__\n",
    "\n",
    "In order to isolate the joint properties, I manufactured a 2 link, 5-layer laminate structure with 0.002\" polyester film as the flexible layer and 6 layer cardstock as the rigid material. I then conducted a dynamic test by constraining one of the links vertically between two plates and pulled unconstrained link to the side, released and let it come to rest. I recorded this experiment with my phone so that I could import the data into tracker, track the position of the blue dot at the end of my segment, and record the position data over time. This data was then imported into python so that I could fit the data to a simulated experiment.\n",
    "\n",
    "The assumptions I made for this experiment is that the system is exactly vertical. Since I am in a configuration that is meant to negate gravity, but if there was any warping or if the links were not exactly vertical, some forces due to gravity would have an effect. Additionally, I am treating the rigid segments as rigid bodies have no flexure for my model.\n",
    "\n",
    "\n",
    "__Pictures of Experimental Setup__\n",
    "\n",
    "<div>\n",
    "<img src=\"Damping_test_1.jpg\" style=\"align:left;width:50%;height:50%;\" />\n",
    "</div>\n",
    "\n",
    "Set up of experiment from above. One link is constrained allowing only one segment to move.\n",
    "\n",
    "<div>\n",
    "<img src=\"Damping_test_2.jpg\" style=\"align:left;width:50%;height:50%;\" />\n",
    "</div>\n",
    "\n",
    "Side profile of experimental set up. A small blue ball was added to the end of the link to track the motion of the segment as it oscilatted.\n",
    "\n",
    "__Video__\n",
    "\n",
    "<video src=\"Damping_test.MOV\" controls=\"controls\" width=\"560\" height=\"315\" align=\"center\">\n",
    "</video>\n",
    "\n",
    "Video of experiment that was used for tracker."
   ]
  },
  {
   "cell_type": "markdown",
   "id": "d68ffb2c",
   "metadata": {},
   "source": [
    "# Model Fitting\n",
    "\n",
    "The model I used to fit for this experiment was a single link that had a torsional spring and damping force applied to the point of rotation. The reason that the model was built like this is because only one link in the experiment had free motion and the cause of motion was the felxure joint.\n",
    "\n",
    "The optimization method used for my assignment was the scipy.optimize.minimze function. The reason that this method was used was because I was trying to tune the b and k values of the model to best fit the experimental data. Since there was no relationship between these variables, I went with the fastest method of fitting the data. For the purposes of this assignment, the script will not run the fitting to decrease the amount of outputs but the values of the damping and spring constant are calculated from the the optimization."
   ]
  },
  {
   "cell_type": "markdown",
   "id": "5c527785",
   "metadata": {},
   "source": [
    "# Importing Libraries\n",
    "\n",
    "Adding libaries to build dynamic model and fitting algorithms"
   ]
  },
  {
   "cell_type": "code",
   "execution_count": 1,
   "id": "071c68a5",
   "metadata": {},
   "outputs": [],
   "source": [
    "%matplotlib inline"
   ]
  },
  {
   "cell_type": "code",
   "execution_count": 2,
   "id": "4cfa5024",
   "metadata": {},
   "outputs": [],
   "source": [
    "import pynamics\n",
    "from pynamics.frame import Frame\n",
    "from pynamics.variable_types import Differentiable,Constant\n",
    "from pynamics.system import System\n",
    "from pynamics.body import Body\n",
    "from pynamics.dyadic import Dyadic\n",
    "from pynamics.output import Output,PointsOutput\n",
    "from pynamics.output_points_3d import PointsOutput3D\n",
    "from pynamics.particle import Particle\n",
    "import pynamics.integration\n",
    "import numpy\n",
    "import matplotlib.pyplot as plt\n",
    "plt.ion()\n",
    "from math import pi,sin\n",
    "import sympy\n",
    "from sympy import sqrt\n",
    "import math\n",
    "import logging\n",
    "import pynamics.integration\n",
    "import pynamics.system\n",
    "import numpy.random\n",
    "import scipy.interpolate\n",
    "import scipy.optimize\n",
    "import cma\n",
    "import pandas as pd\n",
    "import idealab_tools.units\n",
    "\n",
    "system = System()\n",
    "pynamics.set_system(__name__,system)"
   ]
  },
  {
   "cell_type": "markdown",
   "id": "20af38fd",
   "metadata": {},
   "source": [
    "# Running Optimization and Importing Data\n",
    "\n",
    "Setting variable to True to run fit or false to just run a single simulation. Importing the xlsx file of exerimental data and plot the data. The data was cut at two seconds to focus on the dynamics of the system and to optimize the simulation time so that it would run faster."
   ]
  },
  {
   "cell_type": "code",
   "execution_count": 3,
   "id": "95e9ae41",
   "metadata": {},
   "outputs": [
    {
     "data": {
      "text/plain": [
       "Text(0, 0.5, 'Position (mm)')"
      ]
     },
     "execution_count": 3,
     "metadata": {},
     "output_type": "execute_result"
    },
    {
     "data": {
      "image/png": "[encoded data removed]",
      "text/plain": [
       "<Figure size 432x288 with 1 Axes>"
      ]
     },
     "metadata": {
      "needs_background": "light"
     },
     "output_type": "display_data"
    }
   ],
   "source": [
    "#Run SciPy Opitmization regession fit \n",
    "run_fit = False\n",
    "\n",
    "#import test data and convert to numPy arrays\n",
    "data = pd.read_excel(r'damping data_cut.xlsx')\n",
    "df = data.to_numpy()\n",
    "length = df.shape[0]\n",
    "\n",
    "fig = plt.figure()\n",
    "plt.plot(df[:,1],df[:,3])\n",
    "plt.title('Experimental Data From Tracker')\n",
    "plt.xlabel('Time (s)')\n",
    "plt.ylabel('Position (mm)')"
   ]
  },
  {
   "cell_type": "markdown",
   "id": "ff179b44",
   "metadata": {},
   "source": [
    "# Constants of Model\n",
    "\n",
    "Adding dimensions and interias of segment based off of physical laminate structure. Link dimensions were 50mm x 30 mm x 1 mm. Mass of the tracker was 0.0588 grams and mass of the segment was 1 gram. These values were gotten from teammates from their parameterization documents."
   ]
  },
  {
   "cell_type": "code",
   "execution_count": 4,
   "id": "9fae30c0",
   "metadata": {},
   "outputs": [],
   "source": [
    "#Parameterization\n",
    " \n",
    "#Defining Constants of System\n",
    "seg_len = 0.050    #segment mass\n",
    "seg_mass = 0.001 #segment mass \n",
    "seg_h = 0.040 #segment height\n",
    "seg_th = 0.001\n",
    "\n",
    "#Set segment lengths\n",
    "lA = Constant(seg_len,'lA',system)\n",
    "lB = Constant(seg_len,'lB',system)\n",
    "\n",
    "#Set masses\n",
    "mA = Constant(seg_mass,'mA',system)\n",
    "mB = Constant(seg_mass,'mB',system)\n",
    "mM = Constant(.001/17,'mM',system) #17 trackers was 1 gram so divided to find mass of tracker\n",
    "\n",
    "g = Constant(9.81,'g',system)\n",
    "b = Constant(2.14176688e-06,'b',system) #values generated fro sciPy.minimize\n",
    "k = Constant(1.59953557e-04,'k',system) #values generated fro sciPy.minimize\n",
    "area = Constant(seg_len*seg_h,'area',system)\n",
    "rho = Constant(1.059,'rho',system)\n",
    "\n",
    "Ixx = Constant((1/12*seg_mass*(seg_h**2 + seg_th**2)),'Ixx',system)\n",
    "Iyy = Constant((1/12*seg_mass*(seg_h**2 + seg_len**2)),'Iyy',system)\n",
    "Izz = Constant((1/12*seg_mass*(seg_len**2 + seg_th**2)),'Izz',system)\n",
    "\n",
    "#Define derivatives of frames\n",
    "qA,qA_d,qA_dd = Differentiable('qA',system)\n",
    "\n",
    "#set initial conditions\n",
    "initialvalues = {}\n",
    "initialvalues[qA]=-41*pi/180 #Initial state of experiment\n",
    "initialvalues[qA_d]=0*pi/180\n",
    "\n",
    "statevariables = system.get_state_variables()\n",
    "ini = [initialvalues[item] for item in statevariables]\n",
    "\n",
    "#Set simulation run time\n",
    "tinitial = 0\n",
    "tfinal = df[length-1,1]  #time of simulation to match time of experiment\n",
    "fps = length/tfinal\n",
    "tstep = 1/fps\n",
    "t = numpy.r_[tinitial:tfinal:tstep]"
   ]
  },
  {
   "cell_type": "markdown",
   "id": "26cfd3c8",
   "metadata": {},
   "source": [
    "# Kinematics of Model\n",
    "\n",
    "Adding kinematics of syste. Adding the body of the link and a particle mass of the tracker to the end of the segment."
   ]
  },
  {
   "cell_type": "code",
   "execution_count": 5,
   "id": "1b2002c4",
   "metadata": {},
   "outputs": [],
   "source": [
    "#Kinematics\n",
    "\n",
    "#Frames\n",
    "N = Frame('N',system)\n",
    "A = Frame('A',system)\n",
    "\n",
    "system.set_newtonian(N)\n",
    "\n",
    "A.rotate_fixed_axis(N,[0,0,1],qA,system)\n",
    "\n",
    "#Vectors\n",
    "pNA=0*N.x\n",
    "pAB=pNA+lA*A.x\n",
    "\n",
    "#Centers of Mass\n",
    "pAcm=pNA+lA/2*A.x\n",
    "pMcm=pNA+lA*A.x\n",
    "\n",
    "#Angular Velocity\n",
    "wNA = N.get_w_to(A) \n",
    "\n",
    "#Velocity of Center of Mass\n",
    "vA=pAcm.time_derivative()\n",
    "\n",
    "#Interia and Bodys\n",
    "IA = Dyadic.build(A,Ixx,Iyy,Izz)\n",
    "\n",
    "BodyA = Body('BodyA',A,pAcm,mA,IA,system)\n",
    "BodyM = Particle(pMcm,mM,'ParticleM',system) #Mass of blue dot tracker"
   ]
  },
  {
   "cell_type": "markdown",
   "id": "fa3a9587",
   "metadata": {},
   "source": [
    "# Adding Force\n",
    "\n",
    "Forces were added to the model. Gravity, Aerodynamic against flat plate, spring force and damping force."
   ]
  },
  {
   "cell_type": "code",
   "execution_count": 6,
   "id": "f60eeb59",
   "metadata": {},
   "outputs": [
    {
     "data": {
      "text/plain": [
       "<pynamics.force.Force at 0x260b29ca250>"
      ]
     },
     "execution_count": 6,
     "metadata": {},
     "output_type": "execute_result"
    }
   ],
   "source": [
    "#Forces\n",
    "\n",
    "#Gravity\n",
    "system.addforcegravity(-g*N.z)\n",
    "\n",
    "#Aerodynamic Forces\n",
    "f_aero_A = rho * vA.length()*(vA.dot(A.y))*area*A.y\n",
    "system.addforce(-f_aero_A,vA)\n",
    "\n",
    "#Spring Forces\n",
    "system.add_spring_force1(k, (qA)*N.z, wNA)\n",
    "\n",
    "#Damping Force\n",
    "system.addforce(-b*wNA, wNA)"
   ]
  },
  {
   "cell_type": "markdown",
   "id": "2ed0d6c5",
   "metadata": {},
   "source": [
    "# Building Model\n",
    "\n",
    "Solve for the equations of motion and run the opitimization algorithm if run_fit was set to true"
   ]
  },
  {
   "cell_type": "code",
   "execution_count": 7,
   "id": "a257d253",
   "metadata": {},
   "outputs": [
    {
     "name": "stderr",
     "output_type": "stream",
     "text": [
      "2022-04-12 21:12:24,585 - pynamics.system - INFO - getting dynamic equations\n"
     ]
    }
   ],
   "source": [
    "#Constraints and Plots\n",
    "\n",
    "f,ma = system.getdynamics();\n",
    "\n",
    "\n",
    "tol = 1e-12\n",
    "points = [pNA,pAB]\n",
    "\n",
    "def run_sim(args):\n",
    "    constants = dict([(key,value) for key,value in zip(unknown_constants,args)])\n",
    "    states=pynamics.integration.integrate(func1,ini,t,rtol=tol,atol=tol,hmin=tol, args=({'constants':constants},))\n",
    "    return states\n",
    "\n",
    "def calc_error(args):\n",
    "    states_guess = run_sim(args)\n",
    "    points_output = PointsOutput(points,system)\n",
    "    y_guess =  points_output.calc(states_guess,t)\n",
    "    error = df[:,3] - y_guess[:,1,1]\n",
    "    error **=2\n",
    "    error = error.sum()\n",
    "    return error\n",
    "\n",
    "pynamics.system.logger.setLevel(logging.ERROR)\n",
    "\n",
    "if run_fit:\n",
    "    \n",
    "    unknown_constants = [b,k]\n",
    "\n",
    "    known_constants = list(set(system.constant_values.keys())-set(unknown_constants))\n",
    "    known_constants = dict([(key,system.constant_values[key]) for key in known_constants])\n",
    "\n",
    "    func1,lambda1 = system.state_space_post_invert(f,ma,return_lambda = True,constants = known_constants)\n",
    "\n",
    "    guess = [3e-6,2.17e-4]\n",
    "\n",
    "    pynamics.system.logger.setLevel(logging.ERROR)\n",
    "    \n",
    "    sol = scipy.optimize.minimize(calc_error,guess)\n",
    "    print(sol.fun)\n",
    "    result = sol.x\n",
    "\n",
    "    error_f = calc_error(result)"
   ]
  },
  {
   "cell_type": "markdown",
   "id": "11c4006d",
   "metadata": {},
   "source": [
    "# Plots of Results\n",
    "\n",
    "Plotting the results of the simulated tip of the simulation against the experimental tip."
   ]
  },
  {
   "cell_type": "code",
   "execution_count": 16,
   "id": "af5a0f0f",
   "metadata": {
    "scrolled": false
   },
   "outputs": [
    {
     "name": "stderr",
     "output_type": "stream",
     "text": [
      "2022-04-12 21:20:01,370 - pynamics.integration - INFO - beginning integration\n",
      "2022-04-12 21:20:01,550 - pynamics.integration - INFO - finished integration\n",
      "2022-04-12 21:20:01,559 - pynamics.output - INFO - calculating outputs\n",
      "2022-04-12 21:20:01,561 - pynamics.output - INFO - done calculating outputs\n"
     ]
    },
    {
     "name": "stdout",
     "output_type": "stream",
     "text": [
      "Dapming and Spring Constants Respectivly: [2.14176688e-06 1.59953557e-04]\n",
      "Squared Error from SciPy.Optimize: 0.0002384852610771121\n"
     ]
    },
    {
     "data": {
      "image/png": "[encoded data removed]",
      "text/plain": [
       "<Figure size 640x480 with 3 Axes>"
      ]
     },
     "metadata": {
      "needs_background": "light"
     },
     "output_type": "display_data"
    }
   ],
   "source": [
    "if run_fit:\n",
    "    states2 = run_sim(result)\n",
    "    points_output2 = PointsOutput(points,system)\n",
    "    y2 = points_output2.calc(states2,t)\n",
    "\n",
    "    fig = plt.figure()\n",
    "    ax1 = plt.subplot(2,1,2)\n",
    "    ax1.plot(t,states2[:,:1])\n",
    "    ax1.legend(['qA'])\n",
    "    ax1.set_title('State Positions')\n",
    "    ax1.set_xlabel('Time (s)')\n",
    "    ax1.set_ylabel('Position (mm)')\n",
    "\n",
    "    ax2 = plt.subplot(2,1,1)\n",
    "    ax2.plot(t,y2[:,1,1],df[:,1],df[:,3])\n",
    "    ax2.legend(['pBtip_s' ,'pBtip_a'])\n",
    "    ax2.set_title('Test vs CMA Tip')\n",
    "    ax2.set_xlabel('Time (s)')\n",
    "    ax2.set_ylabel('Position (mm)')\n",
    "\n",
    "    fig.tight_layout()\n",
    "\n",
    "    print(result)\n",
    "    print(error_f)\n",
    "    \n",
    "else:\n",
    "    \n",
    "    func1 = system.state_space_post_invert(f,ma,return_lambda = False)\n",
    "    states=pynamics.integration.integrate(func1,ini,t,rtol=tol,atol=tol,hmin=tol, args=({'constants':system.constant_values},))\n",
    "\n",
    "    points_output = PointsOutput(points,system) \n",
    "    y = points_output.calc(states,t)\n",
    "\n",
    "    fig = plt.figure(figsize=(8, 6), dpi=80)\n",
    "\n",
    "    ax1 = plt.subplot(3,1,1)\n",
    "    ax1.plot(t,states[:,:1])\n",
    "    ax1.legend(['qA'])\n",
    "    ax1.set_title('State Positions')\n",
    "    ax1.set_xlabel('Time (s)')\n",
    "    ax1.set_ylabel('Position (mm)')\n",
    "    ax1.set_ylim([-1, 1])\n",
    "\n",
    "    ax2 = plt.subplot(3,1,2)\n",
    "    ax2.plot(t,y[:,1,1],df[:,1],df[:,3])\n",
    "    ax2.legend(['Tip_sim' ,'Tip_act'])\n",
    "    ax2.set_title('Test vs Simulated Tip')\n",
    "    ax2.set_xlabel('Time (s)')\n",
    "    ax2.set_ylabel('Position (mm)')\n",
    "    ax2.set_ylim([-.05, 0.05])\n",
    "    \n",
    "    ax3 = plt.subplot(3,1,3)\n",
    "    ax3.plot(t,(df[:,3]-y[:,1,1]))\n",
    "    ax3.set_title('Error between Simulation and Experiment')\n",
    "    ax3.set_xlabel('Time (s)')\n",
    "    ax3.set_ylabel('Position (mm)')\n",
    "    ax3.set_ylim([-.005, .005])\n",
    "    \n",
    "    fig.tight_layout()\n",
    "    \n",
    "    print('Dapming and Spring Constants Respectivly: [2.14176688e-06 1.59953557e-04]')\n",
    "    print('Squared Error from SciPy.Optimize: 0.0002384852610771121')"
   ]
  }
 ],
 "metadata": {
  "kernelspec": {
   "display_name": "Python 3 (ipykernel)",
   "language": "python",
   "name": "python3"
  },
  "language_info": {
   "codemirror_mode": {
    "name": "ipython",
    "version": 3
   },
   "file_extension": ".py",
   "mimetype": "text/x-python",
   "name": "python",
   "nbconvert_exporter": "python",
   "pygments_lexer": "ipython3",
   "version": "3.9.7"
  }
 },
 "nbformat": 4,
 "nbformat_minor": 5
}
