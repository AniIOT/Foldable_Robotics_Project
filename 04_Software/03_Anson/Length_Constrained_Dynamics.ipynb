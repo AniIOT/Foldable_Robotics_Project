{
 "cells": [
  {
   "cell_type": "code",
   "execution_count": 1,
   "id": "d75ff359",
   "metadata": {},
   "outputs": [],
   "source": [
    "%matplotlib inline"
   ]
  },
  {
   "cell_type": "code",
   "execution_count": 2,
   "id": "c9554a1e",
   "metadata": {},
   "outputs": [],
   "source": [
    "#Set model to freely swim\n",
    "use_free_move = False"
   ]
  },
  {
   "cell_type": "markdown",
   "id": "01a651d9",
   "metadata": {},
   "source": [
    "# Importing Libraries\n",
    "\n",
    "Importing libraries for script"
   ]
  },
  {
   "cell_type": "code",
   "execution_count": 3,
   "id": "19dc092c",
   "metadata": {},
   "outputs": [],
   "source": [
    "import pynamics\n",
    "from pynamics.frame import Frame\n",
    "from pynamics.variable_types import Differentiable,Constant\n",
    "from pynamics.system import System\n",
    "from pynamics.body import Body\n",
    "from pynamics.dyadic import Dyadic\n",
    "from pynamics.output import Output,PointsOutput\n",
    "from pynamics.output_points_3d import PointsOutput3D\n",
    "from pynamics.constraint import AccelerationConstraint,KinematicConstraint\n",
    "from pynamics.particle import Particle\n",
    "import pynamics.integration\n",
    "import numpy\n",
    "import matplotlib.pyplot as plt\n",
    "plt.ion()\n",
    "from math import pi,sin\n",
    "import sympy\n",
    "from sympy import sqrt\n",
    "import math\n",
    "import scipy.optimize\n",
    "from matplotlib import animation, rc\n",
    "from IPython.display import HTML\n",
    "\n",
    "\n",
    "system = System()\n",
    "pynamics.set_system(__name__,system)"
   ]
  },
  {
   "cell_type": "markdown",
   "id": "92c478a5",
   "metadata": {},
   "source": [
    "# Constants of System\n",
    "\n",
    "In this block of code we are defining all the constants of our system that we will use for our simulation"
   ]
  },
  {
   "cell_type": "code",
   "execution_count": 4,
   "id": "73ab2bd7",
   "metadata": {},
   "outputs": [],
   "source": [
    "#Defining Constants of System\n",
    "seg_len = 0.005    #segment mass\n",
    "seg_mass = 0.01 #segment mass \n",
    "seg_h = 0.01 #segment height\n",
    "seg_th = 0.01 #segment thickness\n",
    "\n",
    "#Set segment lengths\n",
    "l = Constant(seg_len,'l',system)\n",
    "lP = Constant(seg_len*5,'lP',system) #Constrained length\n",
    "\n",
    "#Set masses\n",
    "m = Constant(seg_mass,'m',system)\n",
    "\n",
    "b = Constant(1e-1,'b',system)\n",
    "k = Constant(1e-1,'k',system)\n",
    "area = Constant(seg_len*seg_h,'area',system)\n",
    "rho = Constant(998,'rho',system)\n",
    "\n",
    "freq = Constant(0.2,'freq',system)\n",
    "amp = Constant(30*pi/180,'amp',system)\n",
    "torque = Constant(.7,'torque',system)\n",
    "\n",
    "Ixx = Constant(1/12*seg_mass*(seg_h**2 + seg_th**2),'Ixx',system)\n",
    "Iyy = Constant(1/12*seg_mass*(seg_h**2 + seg_len**2),'Iyy',system)\n",
    "Izz = Constant(1/12*seg_mass*(seg_len**2 + seg_th**2),'Izz',system)\n"
   ]
  },
  {
   "cell_type": "code",
   "execution_count": 5,
   "id": "e398a02c",
   "metadata": {},
   "outputs": [],
   "source": [
    "#Set integration tolerance\n",
    "tol = 1e-12"
   ]
  },
  {
   "cell_type": "code",
   "execution_count": 6,
   "id": "0be73862",
   "metadata": {},
   "outputs": [],
   "source": [
    "#Set simulation run time\n",
    "fps = 30\n",
    "tinitial = 0\n",
    "tfinal = 10\n",
    "tstep = 1/fps\n",
    "t = numpy.r_[tinitial:tfinal:tstep]"
   ]
  },
  {
   "cell_type": "code",
   "execution_count": 7,
   "id": "9afc2913",
   "metadata": {},
   "outputs": [],
   "source": [
    "#Define derivatives of frames\n",
    "qA,qA_d,qA_dd = Differentiable('qA',system)\n",
    "qB,qB_d,qB_dd = Differentiable('qB',system)\n",
    "qC,qC_d,qC_dd = Differentiable('qC',system)\n",
    "qD,qD_d,qD_dd = Differentiable('qD',system)\n",
    "qE,qE_d,qE_dd = Differentiable('qE',system)\n",
    "qF,qF_d,qF_dd = Differentiable('qF',system)\n",
    "qG,qG_d,qG_dd = Differentiable('qG',system)\n",
    "\n",
    "if use_free_move:\n",
    "    x,x_d,x_dd = Differentiable('x',system)\n",
    "    y,y_d,y_dd = Differentiable('y',system)"
   ]
  },
  {
   "cell_type": "code",
   "execution_count": 8,
   "id": "ea73239d",
   "metadata": {},
   "outputs": [],
   "source": [
    "#set initial conditions\n",
    "initialvalues = {}\n",
    "initialvalues[qA]=70*pi/180\n",
    "initialvalues[qA_d]=0*pi/180\n",
    "initialvalues[qB]=30*pi/180\n",
    "initialvalues[qB_d]=0*pi/180\n",
    "initialvalues[qC]=0*pi/180\n",
    "initialvalues[qC_d]=0*pi/180\n",
    "initialvalues[qD]=0*pi/180\n",
    "initialvalues[qD_d]=0*pi/180\n",
    "initialvalues[qE]=-10*pi/180\n",
    "initialvalues[qE_d]=0*pi/180\n",
    "initialvalues[qF]=-40*pi/180\n",
    "initialvalues[qF_d]=0*pi/180\n",
    "initialvalues[qG]=0*pi/180\n",
    "initialvalues[qG_d]=0*pi/180\n",
    "\n",
    "if use_free_move:\n",
    "    initialvalues[x]=0*pi/180\n",
    "    initialvalues[x_d]=0*pi/180\n",
    "    initialvalues[y]=0*pi/180\n",
    "    initialvalues[y_d]=0*pi/180\n",
    "\n",
    "statevariables = system.get_state_variables()\n",
    "ini0 = [initialvalues[item] for item in statevariables]"
   ]
  },
  {
   "cell_type": "code",
   "execution_count": 9,
   "id": "c3799823",
   "metadata": {},
   "outputs": [],
   "source": [
    "#Frames\n",
    "N = Frame('N',system)\n",
    "A = Frame('A',system)\n",
    "B = Frame('B',system)\n",
    "C = Frame('C',system)\n",
    "D = Frame('D',system)\n",
    "E = Frame('E',system)\n",
    "F = Frame('F',system)\n",
    "G = Frame('G',system)\n",
    "\n",
    "system.set_newtonian(N)\n",
    "\n",
    "A.rotate_fixed_axis(N,[0,0,1],qA,system)\n",
    "B.rotate_fixed_axis(N,[0,0,1],qB,system)\n",
    "C.rotate_fixed_axis(N,[0,0,1],qC,system)\n",
    "D.rotate_fixed_axis(N,[0,0,1],qD,system)\n",
    "E.rotate_fixed_axis(N,[0,0,1],qE,system)\n",
    "F.rotate_fixed_axis(N,[0,0,1],qF,system)\n",
    "G.rotate_fixed_axis(N,[0,0,1],qG,system)"
   ]
  },
  {
   "cell_type": "markdown",
   "id": "8d126165",
   "metadata": {},
   "source": [
    "# Defining Vectors\n",
    "\n",
    "In this section of code we are defining all the position and center of mass vecotors. Additionally we are calculating angular velocity of each frame and the respective linear velocities at the center of mass. We also build each body of the system in this section."
   ]
  },
  {
   "cell_type": "code",
   "execution_count": 10,
   "id": "1e8f4de1",
   "metadata": {},
   "outputs": [],
   "source": [
    "#Vectors\n",
    "\n",
    "if use_free_move:\n",
    "    pNA=x*N.x + y*N.y + 0*N.z\n",
    "    pP = lP*N.x + pNA\n",
    "else:\n",
    "    pNA=0*N.x + 0*N.y + 0*N.z\n",
    "    pP = lP*N.x\n",
    "    \n",
    "pAB= pNA + l*A.x\n",
    "pBC = pAB + l*B.x\n",
    "pCD = pBC + l*C.x\n",
    "pDE = pCD + l*D.x\n",
    "pEF = pDE + l*E.x\n",
    "pFG = pEF + l*F.x\n",
    "pGtip = pFG + l*G.x\n",
    "\n",
    "#Center of Mass\n",
    "pAcm=pNA+l/2*A.x\n",
    "pBcm=pAB+l/2*B.x\n",
    "pCcm=pBC+l/2*C.x\n",
    "pDcm=pCD+l/2*D.x\n",
    "pEcm=pDE+l/2*E.x\n",
    "pFcm=pEF+l/2*F.x\n",
    "pGcm=pFG+l/2*G.x\n",
    "\n",
    "#Angular Velocity\n",
    "wNA = N.get_w_to(A)\n",
    "wAB = A.get_w_to(B) \n",
    "wBC = B.get_w_to(C)\n",
    "wCD = C.get_w_to(D) \n",
    "wDE = D.get_w_to(E)\n",
    "wEF = E.get_w_to(F)\n",
    "wFG = F.get_w_to(G)\n",
    "\n",
    "#Velocities \n",
    "vA=pAcm.time_derivative()\n",
    "vB=pBcm.time_derivative()\n",
    "vC=pCcm.time_derivative()\n",
    "vD=pDcm.time_derivative()\n",
    "vE=pEcm.time_derivative()\n",
    "vF=pFcm.time_derivative()\n",
    "vGtip=pGtip.time_derivative()\n",
    "\n",
    "#Interia and Bodys\n",
    "IA = Dyadic.build(A,Ixx,Iyy,Izz)\n",
    "IB = Dyadic.build(B,Ixx,Iyy,Izz)\n",
    "IC = Dyadic.build(C,Ixx,Iyy,Izz)\n",
    "ID = Dyadic.build(D,Ixx,Iyy,Izz)\n",
    "IE = Dyadic.build(E,Ixx,Iyy,Izz)\n",
    "IF = Dyadic.build(F,Ixx,Iyy,Izz)\n",
    "IG = Dyadic.build(G,Ixx,Iyy,Izz)\n",
    "\n",
    "BodyA = Body('BodyA',A,pAcm,m,IA,system)\n",
    "BodyB = Body('BodyB',B,pBcm,m,IB,system)\n",
    "BodyC = Body('BodyC',C,pCcm,m,IC,system)\n",
    "BodyD = Body('BodyD',D,pDcm,m,ID,system)\n",
    "BodyE = Body('BodyE',E,pEcm,m,IE,system)\n",
    "BodyF = Body('BodyF',F,pFcm,m,IF,system)\n",
    "BodyG = Body('BodyG',G,pGcm,m,IG,system)"
   ]
  },
  {
   "cell_type": "markdown",
   "id": "b41227bd",
   "metadata": {},
   "source": [
    "# Adding Forces\n",
    "\n",
    "In this section of code we are adding the aerodynamic, spring, and damping forces in the system. The damping and spring values will be calculated experimentally."
   ]
  },
  {
   "cell_type": "code",
   "execution_count": 11,
   "id": "5f8946a3",
   "metadata": {},
   "outputs": [
    {
     "data": {
      "text/plain": [
       "(<pynamics.force.Force at 0x1c4ca0f3a60>,\n",
       " <pynamics.spring.Spring at 0x1c4ca0f39d0>)"
      ]
     },
     "execution_count": 11,
     "metadata": {},
     "output_type": "execute_result"
    }
   ],
   "source": [
    "#Forces\n",
    "system.addforce(-torque*sympy.sin(freq*2*pi*system.t)*A.z,wNA) #setting motor parameter\n",
    "\n",
    "#Aerodynamic Forces\n",
    "f_aero_Ay = rho * vA.length()*(vA.dot(A.y)) * area * A.y\n",
    "f_aero_By = rho * vB.length()*(vB.dot(B.y)) * area * B.y\n",
    "f_aero_Cy = rho * vC.length()*(vC.dot(C.y)) * area * C.y\n",
    "f_aero_Dy = rho * vD.length()*(vD.dot(D.y)) * area * D.y\n",
    "f_aero_Ey = rho * vE.length()*(vE.dot(E.y)) * area * E.y\n",
    "f_aero_Fy = rho * vF.length()*(vF.dot(F.y)) * area * F.y\n",
    "f_aero_Gy = rho * vGtip.length()*(vGtip.dot(G.y)) * area * G.y\n",
    "\n",
    "system.addforce(-f_aero_Ay,vA)\n",
    "system.addforce(-f_aero_By,vB)\n",
    "system.addforce(-f_aero_Cy,vC)\n",
    "system.addforce(-f_aero_Dy,vD)\n",
    "system.addforce(-f_aero_Ey,vE)\n",
    "system.addforce(-f_aero_Fy,vF)\n",
    "system.addforce(-f_aero_Gy,vGtip)\n",
    "\n",
    "#Damping Forces\n",
    "system.addforce(-b*wNA,wNA)\n",
    "system.addforce(-b*wAB,wAB)\n",
    "system.addforce(-b*wBC,wBC)\n",
    "system.addforce(-b*wCD,wCD)\n",
    "system.addforce(-b*wDE,wDE)\n",
    "system.addforce(-b*wEF,wEF)\n",
    "system.addforce(-b*5*wFG,wFG)\n",
    "\n",
    "#Spring Force (Torsion)\n",
    "system.add_spring_force1(k,(qA)*N.z,wNA) \n",
    "system.add_spring_force1(k,(qB-qA)*N.z,wAB)\n",
    "system.add_spring_force1(k,(qC-qB)*N.z,wBC)\n",
    "system.add_spring_force1(k,(qD-qC)*N.z,wCD) \n",
    "system.add_spring_force1(k,(qE-qD)*N.z,wDE)\n",
    "system.add_spring_force1(k,(qF-qE)*N.z,wEF)\n",
    "system.add_spring_force1(5*k,(qG-qF)*N.z,wFG)"
   ]
  },
  {
   "cell_type": "markdown",
   "id": "4fdef0bc",
   "metadata": {},
   "source": [
    "# Initial Condition\n",
    "\n",
    "Solving for initial condition constraints and using scipy to solve for initial states and setting initial states to system initial states."
   ]
  },
  {
   "cell_type": "code",
   "execution_count": 12,
   "id": "6714f080",
   "metadata": {},
   "outputs": [],
   "source": [
    "#Constraints for initial condition\n",
    "\n",
    "eq = []\n",
    "eq.append(pFG-pP)\n",
    "    \n",
    "eq_scalar = []\n",
    "eq_scalar.append(eq[0].dot(N.x))\n",
    "eq_scalar.append(eq[0].dot(N.y))"
   ]
  },
  {
   "cell_type": "code",
   "execution_count": 13,
   "id": "5cd73806",
   "metadata": {},
   "outputs": [],
   "source": [
    "#Solve for Intial Conditions\n",
    "if use_free_move:\n",
    "    qi = [qA,x,y]\n",
    "else:  \n",
    "    qi = [qA]\n",
    "\n",
    "qd = [qB,qC,qD,qE,qF,qG]\n",
    "\n",
    "eq_scalar_c = [item.subs(system.constant_values) for item in eq_scalar]\n",
    "defined = dict([(item,initialvalues[item]) for item in qi])\n",
    "eq_scalar_c = [item.subs(defined) for item in eq_scalar_c]\n",
    "\n",
    "error = (numpy.array(eq_scalar_c)**2).sum()\n",
    "\n",
    "f = sympy.lambdify(qd,error)\n",
    "\n",
    "def function(args):\n",
    "    return f(*args)\n",
    "\n",
    "guess = [initialvalues[item] for item in qd]\n",
    "\n",
    "result = scipy.optimize.minimize(function,guess)\n",
    "if result.fun>1e-3:\n",
    "    raise(Exception(\"out of tolerance\"))\n",
    "    \n",
    "ini = []\n",
    "for item in system.get_state_variables():\n",
    "    if item in qd:\n",
    "        ini.append(result.x[qd.index(item)])\n",
    "    else:\n",
    "        ini.append(initialvalues[item])"
   ]
  },
  {
   "cell_type": "markdown",
   "id": "523d1c38",
   "metadata": {},
   "source": [
    "# Setting Dynamic Constraints\n",
    "\n",
    "Solving for dynamic constraints of system to run simulation."
   ]
  },
  {
   "cell_type": "code",
   "execution_count": 14,
   "id": "838764ed",
   "metadata": {},
   "outputs": [
    {
     "ename": "IndexError",
     "evalue": "list index out of range",
     "output_type": "error",
     "traceback": [
      "\u001b[1;31m---------------------------------------------------------------------------\u001b[0m",
      "\u001b[1;31mIndexError\u001b[0m                                Traceback (most recent call last)",
      "\u001b[1;32m~\\AppData\\Local\\Temp/ipykernel_13328/2963895864.py\u001b[0m in \u001b[0;36m<module>\u001b[1;34m\u001b[0m\n\u001b[0;32m      9\u001b[0m \u001b[0meq_scalar\u001b[0m\u001b[1;33m.\u001b[0m\u001b[0mappend\u001b[0m\u001b[1;33m(\u001b[0m\u001b[0meq\u001b[0m\u001b[1;33m[\u001b[0m\u001b[1;36m0\u001b[0m\u001b[1;33m]\u001b[0m\u001b[1;33m.\u001b[0m\u001b[0mdot\u001b[0m\u001b[1;33m(\u001b[0m\u001b[0mN\u001b[0m\u001b[1;33m.\u001b[0m\u001b[0mx\u001b[0m\u001b[1;33m)\u001b[0m\u001b[1;33m)\u001b[0m\u001b[1;33m\u001b[0m\u001b[1;33m\u001b[0m\u001b[0m\n\u001b[0;32m     10\u001b[0m \u001b[0meq_scalar\u001b[0m\u001b[1;33m.\u001b[0m\u001b[0mappend\u001b[0m\u001b[1;33m(\u001b[0m\u001b[0meq\u001b[0m\u001b[1;33m[\u001b[0m\u001b[1;36m0\u001b[0m\u001b[1;33m]\u001b[0m\u001b[1;33m.\u001b[0m\u001b[0mdot\u001b[0m\u001b[1;33m(\u001b[0m\u001b[0mN\u001b[0m\u001b[1;33m.\u001b[0m\u001b[0my\u001b[0m\u001b[1;33m)\u001b[0m\u001b[1;33m)\u001b[0m\u001b[1;33m\u001b[0m\u001b[1;33m\u001b[0m\u001b[0m\n\u001b[1;32m---> 11\u001b[1;33m \u001b[0meq_scalar\u001b[0m\u001b[1;33m.\u001b[0m\u001b[0mappend\u001b[0m\u001b[1;33m(\u001b[0m\u001b[0meq\u001b[0m\u001b[1;33m[\u001b[0m\u001b[1;36m1\u001b[0m\u001b[1;33m]\u001b[0m\u001b[1;33m.\u001b[0m\u001b[0mdot\u001b[0m\u001b[1;33m(\u001b[0m\u001b[0mN\u001b[0m\u001b[1;33m.\u001b[0m\u001b[0mz\u001b[0m\u001b[1;33m)\u001b[0m\u001b[1;33m)\u001b[0m\u001b[1;33m\u001b[0m\u001b[1;33m\u001b[0m\u001b[0m\n\u001b[0m\u001b[0;32m     12\u001b[0m \u001b[0meq_scalar_d\u001b[0m \u001b[1;33m=\u001b[0m \u001b[1;33m[\u001b[0m\u001b[0msystem\u001b[0m\u001b[1;33m.\u001b[0m\u001b[0mderivative\u001b[0m\u001b[1;33m(\u001b[0m\u001b[0mitem\u001b[0m\u001b[1;33m)\u001b[0m \u001b[1;32mfor\u001b[0m \u001b[0mitem\u001b[0m \u001b[1;32min\u001b[0m \u001b[0meq_scalar\u001b[0m\u001b[1;33m]\u001b[0m\u001b[1;33m\u001b[0m\u001b[1;33m\u001b[0m\u001b[0m\n\u001b[0;32m     13\u001b[0m \u001b[0meq_scalar_dd\u001b[0m \u001b[1;33m=\u001b[0m \u001b[1;33m[\u001b[0m\u001b[0msystem\u001b[0m\u001b[1;33m.\u001b[0m\u001b[0mderivative\u001b[0m\u001b[1;33m(\u001b[0m\u001b[0mitem\u001b[0m\u001b[1;33m)\u001b[0m \u001b[1;32mfor\u001b[0m \u001b[0mitem\u001b[0m \u001b[1;32min\u001b[0m \u001b[0meq_scalar_d\u001b[0m\u001b[1;33m]\u001b[0m\u001b[1;33m\u001b[0m\u001b[1;33m\u001b[0m\u001b[0m\n",
      "\u001b[1;31mIndexError\u001b[0m: list index out of range"
     ]
    }
   ],
   "source": [
    "#Adding Dynamic Constraints\n",
    "\n",
    "#Position of motor limits\n",
    "pos = amp*sympy.cos(freq*2*pi*system.t)\n",
    "\n",
    "#eq.append(pos*N.z-qA*N.z)\n",
    "\n",
    "eq_scalar = []\n",
    "eq_scalar.append(eq[0].dot(N.x))\n",
    "eq_scalar.append(eq[0].dot(N.y))\n",
    "eq_scalar.append(eq[1].dot(N.z))\n",
    "eq_scalar_d = [system.derivative(item) for item in eq_scalar]\n",
    "eq_scalar_dd = [system.derivative(item) for item in eq_scalar_d]\n",
    "\n",
    "system.add_constraint(AccelerationConstraint(eq_scalar_dd))\n"
   ]
  },
  {
   "cell_type": "markdown",
   "id": "0c1b8795",
   "metadata": {},
   "source": [
    "# Solving for Simulation\n",
    "\n",
    "Code to run simulation and plot motion, states, and total energy in system."
   ]
  },
  {
   "cell_type": "code",
   "execution_count": null,
   "id": "7b18b3c6",
   "metadata": {},
   "outputs": [],
   "source": [
    "#Solve model and plot angles\n",
    "\n",
    "f,ma = system.getdynamics()\n",
    "\n",
    "func1,lambda1 = system.state_space_post_invert(f,ma,return_lambda = True)\n",
    "\n",
    "states=pynamics.integration.integrate(func1,ini,t,rtol=tol,atol=tol,hmin=tol, args=({'constants':system.constant_values},))\n",
    "\n",
    "\n",
    "plt.figure()\n",
    "artists = plt.plot(t,states[:,:7])\n",
    "plt.legend(artists,['qA','qB','qC','qD','qE','qF','qG'])"
   ]
  },
  {
   "cell_type": "code",
   "execution_count": null,
   "id": "22129fa1",
   "metadata": {
    "scrolled": true
   },
   "outputs": [],
   "source": [
    "points = [pNA,pAB,pBC,pCD,pDE,pEF,pFG,pGtip]\n",
    "points_output = PointsOutput(points,system)\n",
    "y = points_output.calc(states,t)\n",
    "points_output.plot_time(20)"
   ]
  },
  {
   "cell_type": "code",
   "execution_count": null,
   "id": "03452b65",
   "metadata": {},
   "outputs": [],
   "source": [
    "#Constraint Forces\n",
    "\n",
    "lambda2 = numpy.array([lambda1(item1,item2,system.constant_values) for item1,item2 in zip(t,states)])\n",
    "plt.figure()\n",
    "plt.plot(t, lambda2)"
   ]
  },
  {
   "cell_type": "code",
   "execution_count": null,
   "id": "0d760c36",
   "metadata": {},
   "outputs": [],
   "source": [
    "#Energy Plot\n",
    "\n",
    "KE = system.get_KE()\n",
    "PE = system.getPESprings()\n",
    "energy_output = Output([KE-PE],system)\n",
    "energy_output.calc(states,t)\n",
    "energy_output.plot_time(t)"
   ]
  },
  {
   "cell_type": "code",
   "execution_count": null,
   "id": "2cc6bbcf",
   "metadata": {
    "scrolled": true
   },
   "outputs": [],
   "source": [
    "#Plotting Motion of Tail\n",
    "\n",
    "plt.plot(y[:,7,0],y[:,7,1])\n",
    "plt.axis('equal')\n",
    "plt.title('Position of Tail')\n",
    "plt.xlabel('Position X (m)')\n",
    "plt.ylabel('Position Y (m)')"
   ]
  },
  {
   "cell_type": "code",
   "execution_count": null,
   "id": "c02dad6f",
   "metadata": {},
   "outputs": [],
   "source": [
    "if use_free_move:\n",
    "    points_output.animate(fps = fps,movie_name = 'dynamics_free_swimming.mp4',lw=2,marker='o',color=(1,0,0,1),linestyle='-')\n",
    "else:\n",
    "    points_output.animate(fps = fps,movie_name = 'dynamics.mp4',lw=2,marker='o',color=(1,0,0,1),linestyle='-')\n",
    "    \n",
    "HTML(points_output.anim.to_html5_video())"
   ]
  }
 ],
 "metadata": {
  "kernelspec": {
   "display_name": "Python 3 (ipykernel)",
   "language": "python",
   "name": "python3"
  },
  "language_info": {
   "codemirror_mode": {
    "name": "ipython",
    "version": 3
   },
   "file_extension": ".py",
   "mimetype": "text/x-python",
   "name": "python",
   "nbconvert_exporter": "python",
   "pygments_lexer": "ipython3",
   "version": "3.9.7"
  }
 },
 "nbformat": 4,
 "nbformat_minor": 5
}
