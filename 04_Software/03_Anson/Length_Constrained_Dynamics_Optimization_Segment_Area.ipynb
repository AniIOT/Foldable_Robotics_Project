{
 "cells": [
  {
   "cell_type": "code",
   "execution_count": 1,
   "id": "d75ff359",
   "metadata": {},
   "outputs": [],
   "source": [
    "%matplotlib inline"
   ]
  },
  {
   "cell_type": "code",
   "execution_count": 2,
   "id": "5eb036ed",
   "metadata": {},
   "outputs": [],
   "source": [
    "#Set script to run optimization\n",
    "run_fit = True"
   ]
  },
  {
   "cell_type": "markdown",
   "id": "fd2f9962",
   "metadata": {},
   "source": [
    "# Importing Libraries\n",
    "\n",
    "Importing libraries for script"
   ]
  },
  {
   "cell_type": "code",
   "execution_count": 3,
   "id": "19dc092c",
   "metadata": {},
   "outputs": [],
   "source": [
    "import pynamics\n",
    "from pynamics.frame import Frame\n",
    "from pynamics.variable_types import Differentiable,Constant,Variable\n",
    "from pynamics.system import System\n",
    "from pynamics.body import Body\n",
    "from pynamics.dyadic import Dyadic\n",
    "from pynamics.output import Output,PointsOutput\n",
    "from pynamics.output_points_3d import PointsOutput3D\n",
    "from pynamics.constraint import AccelerationConstraint,KinematicConstraint\n",
    "from pynamics.particle import Particle\n",
    "import pynamics.integration\n",
    "import numpy\n",
    "import matplotlib.pyplot as plt\n",
    "plt.ion()\n",
    "from math import pi,sin\n",
    "import sympy\n",
    "from sympy import sqrt\n",
    "import math\n",
    "import logging\n",
    "import scipy.optimize\n",
    "import pynamics.integration\n",
    "import pynamics.system\n",
    "import numpy.random\n",
    "import scipy.interpolate\n",
    "import scipy.optimize\n",
    "import cma\n",
    "import pandas as pd\n",
    "import idealab_tools.units\n",
    "from matplotlib import animation, rc\n",
    "from IPython.display import HTML\n",
    "\n",
    "\n",
    "system = System()\n",
    "pynamics.set_system(__name__,system)"
   ]
  },
  {
   "cell_type": "markdown",
   "id": "92c478a5",
   "metadata": {},
   "source": [
    "# Constants of System\n",
    "\n",
    "In this block of code we are defining all the constants of our system that we will use for our simulation"
   ]
  },
  {
   "cell_type": "code",
   "execution_count": 4,
   "id": "73ab2bd7",
   "metadata": {},
   "outputs": [],
   "source": [
    "#[0.01687426 0.06999921]\n",
    "\n",
    "#seg = segment, t = tail\n",
    "seg_l = 0.025\n",
    "t_l = 0.025\n",
    "seg_h = 0.018\n",
    "len_factor = 5.5\n",
    "\n",
    "#Set segment lengths\n",
    "l = Constant(seg_l,'l',system) #Segment Length, Formula:seg_len\n",
    "lT = Constant(seg_l,'tail',system) #Tail Length, Formula:tail_len\n",
    "lP = Constant(seg_l*len_factor,'lP',system) #Constrained length, Forumla:seg_len*constrainted_length_factor\n",
    "\n",
    "#Set masses, 666.7 is density of laminate structure\n",
    "m = Constant(666.7*seg_l*seg_h*0.001,'m',system) #Segment Mass, Formula:666.7*seg_len*seg_h*seg_th\n",
    "mT = Constant(666.7*t_l*seg_h*0.001,'mT',system) #Tail Mass, Formula:666.7*tail_len*seg_h*seg_th\n",
    "\n",
    "b = Constant(2.148e-6,'b',system)\n",
    "k = Constant(1.599e-4,'k',system)\n",
    "rho = Constant(998,'rho',system)\n",
    "area_p = Constant(seg_l*0.01,'area_p',system) #area of flat plates\n",
    "\n",
    "freq = Constant(1,'freq',system) #frequency of head oscilation\n",
    "amp = Constant(40*pi/180,'amp',system) #maximum pitch angle of servo \n",
    "\n",
    "Ixx = Constant(1/12*(666.7*seg_l*seg_h*0.001)*(seg_h**2 + 0.001**2),'Ixx',system) #Formula: 1/12*666.7*seg_len*seg_h*seg_th*(seg_h**2 + seg_th**2\n",
    "Iyy = Constant(1/12*(666.7*seg_l*seg_h*0.001)*(seg_h**2 + seg_l**2),'Iyy',system) #Formula: 1/12*(666.7*seg_len*seg_h*seg_th)*(seg_h**2 + seg_len**2)\n",
    "Izz = Constant(1/12*(666.7*seg_l*seg_h*0.001)*(seg_l**2 + 0.001**2),'Izz',system) #Formula: 1/12*(666.7*seg_len*seg_h*seg_th)*(seg_len**2 + seg_th**2)\n",
    "Ixx_T = Constant(1/12*(666.7*t_l*seg_h*0.001)*(seg_h*2 + 0.001**2),'Ixx_T',system) #Formula: 1/12*(666.7*tail_len*seg_h*seg_th)*(seg_h*2 + seg_th**2) \n",
    "Iyy_T = Constant(1/12*(666.7*t_l*seg_h*0.001)*(seg_h**2 + t_l**2),'Iyy_T',system) #Formula: 1/12*(666.7*tail_len*seg_h*seg_th)*(seg_h**2 + tail_len**2)\n",
    "Izz_T = Constant(1/12*(666.7*t_l*seg_h*0.001)*(t_l**2 + 0.001**2),'Izz_T',system) #Formula: 1/12*(666.7*tail_len*seg_h*seg_th)*(tail_len**2 + seg_th**2)\n",
    "\n"
   ]
  },
  {
   "cell_type": "code",
   "execution_count": 5,
   "id": "e398a02c",
   "metadata": {},
   "outputs": [],
   "source": [
    "#Set integration tolerance\n",
    "tol = 1e-12"
   ]
  },
  {
   "cell_type": "code",
   "execution_count": 6,
   "id": "0be73862",
   "metadata": {},
   "outputs": [],
   "source": [
    "#Set simulation run time\n",
    "fps = 30\n",
    "tinitial = 0\n",
    "tfinal = 2\n",
    "tstep = 1/fps\n",
    "t = numpy.r_[tinitial:tfinal:tstep]"
   ]
  },
  {
   "cell_type": "code",
   "execution_count": 7,
   "id": "9afc2913",
   "metadata": {},
   "outputs": [],
   "source": [
    "#Define derivatives of frames\n",
    "qA,qA_d,qA_dd = Differentiable('qA',system)\n",
    "qB,qB_d,qB_dd = Differentiable('qB',system)\n",
    "qC,qC_d,qC_dd = Differentiable('qC',system)\n",
    "qD,qD_d,qD_dd = Differentiable('qD',system)\n",
    "qE,qE_d,qE_dd = Differentiable('qE',system)\n",
    "qF,qF_d,qF_dd = Differentiable('qF',system)\n",
    "qT,qT_d,qT_dd = Differentiable('qT',system)\n",
    "\n",
    "x,x_d,x_dd = Differentiable('x',system)\n",
    "y,y_d,y_dd = Differentiable('y',system)"
   ]
  },
  {
   "cell_type": "code",
   "execution_count": 8,
   "id": "ea73239d",
   "metadata": {},
   "outputs": [],
   "source": [
    "#set initial conditions\n",
    "initialvalues = {}\n",
    "initialvalues[qA]=40*pi/180\n",
    "initialvalues[qA_d]=0*pi/180\n",
    "initialvalues[qB]=20*pi/180\n",
    "initialvalues[qB_d]=0*pi/180\n",
    "initialvalues[qC]=10*pi/180\n",
    "initialvalues[qC_d]=0*pi/180\n",
    "initialvalues[qD]=0*pi/180\n",
    "initialvalues[qD_d]=0*pi/180\n",
    "initialvalues[qE]=-10*pi/180\n",
    "initialvalues[qE_d]=0*pi/180\n",
    "initialvalues[qF]=-40*pi/180\n",
    "initialvalues[qF_d]=0*pi/180\n",
    "initialvalues[qT]=0*pi/180\n",
    "initialvalues[qT_d]=0*pi/180\n",
    "\n",
    "initialvalues[x]=0*pi/180\n",
    "initialvalues[x_d]=0*pi/180\n",
    "initialvalues[y]=0*pi/180\n",
    "initialvalues[y_d]=0*pi/180\n",
    "\n",
    "statevariables = system.get_state_variables()\n",
    "ini0 = [initialvalues[item] for item in statevariables]"
   ]
  },
  {
   "cell_type": "code",
   "execution_count": 9,
   "id": "c3799823",
   "metadata": {},
   "outputs": [],
   "source": [
    "#Frames\n",
    "N = Frame('N',system)\n",
    "A = Frame('A',system)\n",
    "B = Frame('B',system)\n",
    "C = Frame('C',system)\n",
    "D = Frame('D',system)\n",
    "E = Frame('E',system)\n",
    "F = Frame('F',system)\n",
    "T = Frame('T',system)\n",
    "\n",
    "system.set_newtonian(N)\n",
    "\n",
    "A.rotate_fixed_axis(N,[0,0,1],qA,system)\n",
    "B.rotate_fixed_axis(N,[0,0,1],qB,system)\n",
    "C.rotate_fixed_axis(N,[0,0,1],qC,system)\n",
    "D.rotate_fixed_axis(N,[0,0,1],qD,system)\n",
    "E.rotate_fixed_axis(N,[0,0,1],qE,system)\n",
    "F.rotate_fixed_axis(N,[0,0,1],qF,system)\n",
    "T.rotate_fixed_axis(N,[0,0,1],qT,system)"
   ]
  },
  {
   "cell_type": "markdown",
   "id": "8d126165",
   "metadata": {},
   "source": [
    "# Defining Vectors\n",
    "\n",
    "In this section of code we are defining all the position and center of mass vecotors. Additionally we are calculating angular velocity of each frame and the respective linear velocities at the center of mass. We also build each body of the system in this section."
   ]
  },
  {
   "cell_type": "code",
   "execution_count": 10,
   "id": "1e8f4de1",
   "metadata": {},
   "outputs": [],
   "source": [
    "#Vectors\n",
    "\n",
    "pNA=x*N.x + y*N.y + 0*N.z\n",
    "pP = lP*N.x + pNA\n",
    "   \n",
    "pAB= pNA + l*A.x\n",
    "pBC = pAB + l*B.x\n",
    "pCD = pBC + l*C.x\n",
    "pDE = pCD + l*D.x\n",
    "pEF = pDE + l*E.x\n",
    "pFT = pEF + l*F.x\n",
    "pTtip = pFT + lT*T.x\n",
    "\n",
    "#Center of Mass\n",
    "pAcm=pNA+l/2*A.x\n",
    "pBcm=pAB+l/2*B.x\n",
    "pCcm=pBC+l/2*C.x\n",
    "pDcm=pCD+l/2*D.x\n",
    "pEcm=pDE+l/2*E.x\n",
    "pFcm=pEF+l/2*F.x\n",
    "pTcm=pFT+lT/2*T.x\n",
    "\n",
    "#Angular Velocity\n",
    "wNA = N.get_w_to(A)\n",
    "wAB = A.get_w_to(B) \n",
    "wBC = B.get_w_to(C)\n",
    "wCD = C.get_w_to(D) \n",
    "wDE = D.get_w_to(E)\n",
    "wEF = E.get_w_to(F)\n",
    "wFT = F.get_w_to(T)\n",
    "\n",
    "#Velocities \n",
    "vA=pAcm.time_derivative()\n",
    "vB=pBcm.time_derivative()\n",
    "vC=pCcm.time_derivative()\n",
    "vD=pDcm.time_derivative()\n",
    "vE=pEcm.time_derivative()\n",
    "vF=pFcm.time_derivative()\n",
    "vTtip=pTtip.time_derivative()\n",
    "\n",
    "#Interia and Bodys\n",
    "IA = Dyadic.build(A,Ixx,Iyy,Izz)\n",
    "IB = Dyadic.build(B,Ixx,Iyy,Izz)\n",
    "IC = Dyadic.build(C,Ixx,Iyy,Izz)\n",
    "ID = Dyadic.build(D,Ixx,Iyy,Izz)\n",
    "IE = Dyadic.build(E,Ixx,Iyy,Izz)\n",
    "IF = Dyadic.build(F,Ixx,Iyy,Izz)\n",
    "IT = Dyadic.build(T,Ixx_T,Iyy_T,Izz_T)\n",
    "\n",
    "BodyA = Body('BodyA',A,pAcm,m,IA,system)\n",
    "BodyB = Body('BodyB',B,pBcm,m,IB,system)\n",
    "BodyC = Body('BodyC',C,pCcm,m,IC,system)\n",
    "BodyD = Body('BodyD',D,pDcm,m,ID,system)\n",
    "BodyE = Body('BodyE',E,pEcm,m,IE,system)\n",
    "BodyF = Body('BodyF',F,pFcm,m,IF,system)\n",
    "BodyT = Body('BodyT',T,pTcm,mT,IT,system)"
   ]
  },
  {
   "cell_type": "markdown",
   "id": "b41227bd",
   "metadata": {},
   "source": [
    "# Adding Forces\n",
    "\n",
    "In this section of code we are adding the aerodynamic, spring, and damping forces in the system. The damping and spring values will be calculated experimentally."
   ]
  },
  {
   "cell_type": "code",
   "execution_count": 11,
   "id": "5f8946a3",
   "metadata": {},
   "outputs": [
    {
     "data": {
      "text/plain": [
       "(<pynamics.force.Force at 0x1c0d066acd0>,\n",
       " <pynamics.spring.Spring at 0x1c0d066ac40>)"
      ]
     },
     "execution_count": 11,
     "metadata": {},
     "output_type": "execute_result"
    }
   ],
   "source": [
    "#Forces\n",
    "#system.addforce(-torque*sympy.sin(freq*2*pi*system.t)*A.z,wNA) #setting motor parameter\n",
    "\n",
    "#Aerodynamic Forces orthogonal to flat plates\n",
    "f_aero_Ay = 998 * vA.length()*(vA.dot(A.y)) * area_p * A.y\n",
    "f_aero_By = 998 * vB.length()*(vB.dot(B.y)) * area_p * B.y\n",
    "f_aero_Cy = 998 * vC.length()*(vC.dot(C.y)) * area_p * C.y\n",
    "f_aero_Dy = 998 * vD.length()*(vD.dot(D.y)) * area_p * D.y\n",
    "f_aero_Ey = 998 * vE.length()*(vE.dot(E.y)) * area_p * E.y\n",
    "f_aero_Fy = 998 * vF.length()*(vF.dot(F.y)) * area_p * F.y\n",
    "f_aero_Ty = 998 * vTtip.length()*(vTtip.dot(T.y)) * area_p * T.y\n",
    "\n",
    "system.addforce(-f_aero_Ay,vA)\n",
    "system.addforce(-f_aero_By,vB)\n",
    "system.addforce(-f_aero_Cy,vC)\n",
    "system.addforce(-f_aero_Dy,vD)\n",
    "system.addforce(-f_aero_Ey,vE)\n",
    "system.addforce(-f_aero_Fy,vF)\n",
    "system.addforce(-f_aero_Ty,vTtip)\n",
    "\n",
    "#Aerodynamic Forces against front of device\n",
    "f_aero_Ax = 998 * vA.length()*(vA.dot(A.x)) * (0.01*0.001) * A.x\n",
    "system.addforce(-f_aero_Ax,vA)\n",
    "\n",
    "#Damping Forces\n",
    "system.addforce(-b*wAB,wAB)\n",
    "system.addforce(-b*wBC,wBC)\n",
    "system.addforce(-b*wCD,wCD)\n",
    "system.addforce(-b*wDE,wDE)\n",
    "system.addforce(-b*wEF,wEF)\n",
    "system.addforce(-b*wFT,wFT)\n",
    "\n",
    "#Spring Force (Torsion)\n",
    "system.add_spring_force1(k,(qB-qA)*N.z,wAB)\n",
    "system.add_spring_force1(k,(qC-qB)*N.z,wBC)\n",
    "system.add_spring_force1(k,(qD-qC)*N.z,wCD) \n",
    "system.add_spring_force1(k,(qE-qD)*N.z,wDE)\n",
    "system.add_spring_force1(k,(qF-qE)*N.z,wEF)\n",
    "system.add_spring_force1(k,(qT-qF)*N.z,wFT)"
   ]
  },
  {
   "cell_type": "markdown",
   "id": "4fdef0bc",
   "metadata": {},
   "source": [
    "# Initial Condition\n",
    "\n",
    "Solving for initial condition constraints and using scipy to solve for initial states and setting initial states to system initial states."
   ]
  },
  {
   "cell_type": "code",
   "execution_count": 12,
   "id": "6714f080",
   "metadata": {},
   "outputs": [],
   "source": [
    "#Constraints for initial condition\n",
    "\n",
    "eq = []\n",
    "\n",
    "eq.append(pFT-pP)\n",
    "    \n",
    "eq_scalar = []\n",
    "eq_scalar.append(eq[0].dot(N.x))\n",
    "eq_scalar.append(eq[0].dot(N.y))"
   ]
  },
  {
   "cell_type": "code",
   "execution_count": 13,
   "id": "5cd73806",
   "metadata": {},
   "outputs": [],
   "source": [
    "#Solve for Intial Conditions\n",
    "\n",
    "qi = [qA,x,y]\n",
    "\n",
    "qd = [qB,qC,qD,qE,qF,qT]\n",
    "\n",
    "eq_scalar_c = [item.subs(system.constant_values) for item in eq_scalar]\n",
    "defined = dict([(item,initialvalues[item]) for item in qi])\n",
    "eq_scalar_c = [item.subs(defined) for item in eq_scalar_c]\n",
    "\n",
    "error = (numpy.array(eq_scalar_c)**2).sum()\n",
    "\n",
    "f = sympy.lambdify(qd,error)\n",
    "\n",
    "def function(args):\n",
    "    return f(*args)\n",
    "\n",
    "guess = [initialvalues[item] for item in qd]\n",
    "\n",
    "result = scipy.optimize.minimize(function,guess)\n",
    "if result.fun>1e-3:\n",
    "    raise(Exception(\"out of tolerance\"))\n",
    "    \n",
    "ini = []\n",
    "for item in system.get_state_variables():\n",
    "    if item in qd:\n",
    "        ini.append(result.x[qd.index(item)])\n",
    "    else:\n",
    "        ini.append(initialvalues[item])"
   ]
  },
  {
   "cell_type": "markdown",
   "id": "523d1c38",
   "metadata": {},
   "source": [
    "# Setting Dynamic Constraints\n",
    "\n",
    "Solving for dynamic constraints of system to run simulation."
   ]
  },
  {
   "cell_type": "code",
   "execution_count": 14,
   "id": "838764ed",
   "metadata": {},
   "outputs": [],
   "source": [
    "#Adding Dynamic Constraints\n",
    "\n",
    "#Position of motor limits\n",
    "pos = amp*sympy.cos(freq*2*pi*system.t)\n",
    "\n",
    "eq = []\n",
    "\n",
    "eq.append(pFT-pP)\n",
    "eq.append(pos*N.z-qA*A.z)\n",
    "\n",
    "eq_d = []\n",
    "eq_d = [item.time_derivative() for item in eq]\n",
    "\n",
    "eq_dd = []\n",
    "eq_dd = [item.time_derivative() for item in eq_d]\n",
    "\n",
    "eq_dd_scalar = []\n",
    "eq_dd_scalar.append(eq_dd[0].dot(N.x))\n",
    "eq_dd_scalar.append(eq_dd[0].dot(N.y))\n",
    "eq_dd_scalar.append(eq_dd[1].dot(N.z))\n",
    "\n",
    "system.add_constraint(AccelerationConstraint(eq_dd_scalar))"
   ]
  },
  {
   "cell_type": "markdown",
   "id": "0c1b8795",
   "metadata": {},
   "source": [
    "# Solving for Simulation\n",
    "\n",
    "Code to run simulation and plot motion, states, and total energy in system."
   ]
  },
  {
   "cell_type": "code",
   "execution_count": null,
   "id": "7b18b3c6",
   "metadata": {
    "scrolled": false
   },
   "outputs": [
    {
     "name": "stderr",
     "output_type": "stream",
     "text": [
      "2022-04-20 10:07:09,769 - pynamics.system - INFO - getting dynamic equations\n",
      "2022-04-20 10:07:18,654 - pynamics.integration - INFO - beginning integration\n"
     ]
    },
    {
     "name": "stdout",
     "output_type": "stream",
     "text": [
      "[0.02 0.01]\n"
     ]
    },
    {
     "name": "stderr",
     "output_type": "stream",
     "text": [
      "2022-04-20 10:08:46,597 - pynamics.integration - INFO - finished integration\n",
      "2022-04-20 10:08:46,599 - pynamics.integration - INFO - beginning integration\n"
     ]
    },
    {
     "name": "stdout",
     "output_type": "stream",
     "text": [
      "[0.03291796 0.01      ]\n"
     ]
    },
    {
     "name": "stderr",
     "output_type": "stream",
     "text": [
      "2022-04-20 10:10:04,567 - pynamics.integration - INFO - finished integration\n",
      "2022-04-20 10:10:04,569 - pynamics.integration - INFO - beginning integration\n"
     ]
    },
    {
     "name": "stdout",
     "output_type": "stream",
     "text": [
      "[0.04708204 0.01      ]\n"
     ]
    }
   ],
   "source": [
    "#Solve model and plot angles\n",
    "\n",
    "#Constraints and Plots\n",
    "\n",
    "f,ma = system.getdynamics();\n",
    "\n",
    "tol = 1e-12\n",
    "points = [pNA,pAB,pBC,pCD,pDE,pEF,pFT,pTtip]\n",
    "\n",
    "def run_sim(args):\n",
    "    new_l = args[0] #Set to variables that optimizing\n",
    "    new_h = args[1] #Set to variables that optimizing\n",
    "    \n",
    "    #updating constant values affected by changing optimized values\n",
    "    new_lT = new_l\n",
    "    new_lP = new_l*5.5\n",
    "    new_m = 666.7*new_l*new_h*0.001\n",
    "    new_mT = 666.7*new_l*new_h*0.001\n",
    "    new_area_p = new_l*new_h\n",
    "    new_Ixx = 1/12*(666.7*new_l*new_h*0.001)*(new_h**2 + 0.001**2)\n",
    "    new_Iyy = 1/12*(666.7*new_l*new_h*0.001)*(new_h**2 + new_l**2)\n",
    "    new_Izz = 1/12*(666.7*new_l*new_h*0.001)*(new_l**2 + 0.001**2)\n",
    "    new_Ixx_T = 1/12*(666.7*new_l*new_h*0.001)*(new_h*2 + 0.001**2)\n",
    "    new_Iyy_T = 1/12*(666.7*new_l*new_h*0.001)*(new_h**2 + new_l**2)\n",
    "    new_Izz_T = 1/12*(666.7*new_l*new_h*0.001)*(new_l**2 + 0.001**2)\n",
    "    \n",
    "    #Populate constants with new values\n",
    "    constants = system.constant_values.copy()\n",
    "    constants[l] = new_l\n",
    "    constants[lT] = new_lT\n",
    "    constants[lP] = new_lP\n",
    "    constants[m] = new_m\n",
    "    constants[mT] = new_mT\n",
    "    constants[area_p] = new_area_p\n",
    "    constants[Ixx] = new_Ixx\n",
    "    constants[Iyy] = new_Iyy\n",
    "    constants[Izz] = new_Izz\n",
    "    constants[Ixx_T] = new_Ixx_T\n",
    "    constants[Iyy_T] = new_Iyy_T\n",
    "    constants[Izz_T] = new_Izz_T\n",
    "    \n",
    "    states=pynamics.integration.integrate(func1,ini,t,rtol=tol,atol=tol,hmin=tol, args=({'constants':constants},))\n",
    "    \n",
    "    return states\n",
    "\n",
    "def measured_perf(args):\n",
    "    print(args)\n",
    "    try:\n",
    "        states = run_sim(args)\n",
    "        linear_disp = abs(states[-1,7])/args[0] #linear displacement relative to segment length, in this case args[0] is seg_length\n",
    "        perf = (1/linear_disp)**2\n",
    "        return perf\n",
    "    except scipy.linalg.LinAlgError:\n",
    "        return 1000\n",
    "\n",
    "\n",
    "pynamics.system.logger.setLevel(logging.ERROR)\n",
    "\n",
    "if run_fit:\n",
    "\n",
    "    func1 = system.state_space_post_invert(f,ma)\n",
    "    \n",
    "    guess = [0.02,0.01] #Change depending on what factor you are optimizing \n",
    "\n",
    "    pynamics.system.logger.setLevel(logging.ERROR)\n",
    "    \n",
    "    sol = scipy.optimize.minimize(measured_perf,guess,method='powell',bounds=[(0.01,0.07),(0.01,0.07)]) #Change bounds depending on optimization parameter\n",
    "    print(sol.fun)\n",
    "    result = sol.x"
   ]
  },
  {
   "cell_type": "code",
   "execution_count": null,
   "id": "03452b65",
   "metadata": {
    "scrolled": false
   },
   "outputs": [],
   "source": [
    "#Constraint Forces\n",
    "if run_fit:\n",
    "    states2 = run_sim(result)\n",
    "    points_output = PointsOutput(points,system)\n",
    "    y2 = points_output.calc(states2,t)\n",
    "\n",
    "    fig = plt.figure()\n",
    "    ax1 = plt.subplot(2,1,2)\n",
    "    ax1.plot(t,states2[:,:7])\n",
    "    ax1.legend(['qA','qB','qC','qD','qE','qF','qT'])\n",
    "    ax1.set_title('State Positions')\n",
    "    ax1.set_xlabel('Time (s)')\n",
    "    ax1.set_ylabel('Position (mm)')\n",
    "\n",
    "    ax2 = plt.subplot(2,1,1)\n",
    "    ax2.plot(y2[:,0,0],y2[:,0,1])\n",
    "    ax2.axis('equal')\n",
    "    ax2.set_title('Position of Head')\n",
    "    ax2.set_xlabel('Position X (m)')\n",
    "    ax2.set_ylabel('Position Y (m)')\n",
    "\n",
    "    fig.tight_layout()\n",
    "\n",
    "    print(result)\n",
    "    \n",
    "else:\n",
    "    \n",
    "    func1,lambda1 = system.state_space_post_invert(f,ma,return_lambda = True)\n",
    "    constants = system.constant_values.copy()\n",
    "    states=pynamics.integration.integrate_odeint(func1,ini,t, args=({'constants':constants},))\n",
    "\n",
    "\n",
    "    points_output = PointsOutput(points,system) \n",
    "    y = points_output.calc(states,t)\n",
    "\n",
    "    fig = plt.figure(figsize=(8, 6), dpi=80)\n",
    "\n",
    "    ax1 = plt.subplot(2,1,1)\n",
    "    ax1.plot(y[:,7,0],y[:,7,1])\n",
    "    ax1.axis('equal')\n",
    "    ax1.set_title('Position of Tail Tip')\n",
    "    ax1.set_xlabel('Position X (m)')\n",
    "    ax1.set_ylabel('Position Y (m)')\n",
    "\n",
    "    ax2 = plt.subplot(2,1,2)\n",
    "    ax2.plot(y[:,0,0],y[:,0,1])\n",
    "    ax2.axis('equal')\n",
    "    ax2.set_title('Position of Head')\n",
    "    ax2.set_xlabel('Position X (m)')\n",
    "    ax2.set_ylabel('Position Y (m)')\n",
    "    \n",
    "    \n",
    "    fig.tight_layout()\n",
    "    \n",
    "    lambda2 = numpy.array([lambda1(item1,item2,system.constant_values) for item1,item2 in zip(t,states)])\n",
    "    plt.figure()\n",
    "    plt.plot(t, lambda2)\n",
    "    \n",
    "    points_output = PointsOutput(points,system)\n",
    "    y = points_output.calc(states,t)\n",
    "    points_output.plot_time(20)"
   ]
  },
  {
   "cell_type": "code",
   "execution_count": null,
   "id": "c02dad6f",
   "metadata": {},
   "outputs": [],
   "source": [
    "points_output.animate(fps = fps,movie_name = 'dynamics_free_swimming_opt_plate_area.mp4',lw=2,marker='o',color=(1,0,0,1),linestyle='-')\n",
    "    \n",
    "HTML(points_output.anim.to_html5_video())"
   ]
  },
  {
   "cell_type": "code",
   "execution_count": null,
   "id": "2411d832",
   "metadata": {},
   "outputs": [],
   "source": [
    "linear_disp = abs(states[-1,7])/seg_l\n",
    "print(linear_disp)"
   ]
  }
 ],
 "metadata": {
  "kernelspec": {
   "display_name": "Python 3 (ipykernel)",
   "language": "python",
   "name": "python3"
  },
  "language_info": {
   "codemirror_mode": {
    "name": "ipython",
    "version": 3
   },
   "file_extension": ".py",
   "mimetype": "text/x-python",
   "name": "python",
   "nbconvert_exporter": "python",
   "pygments_lexer": "ipython3",
   "version": "3.9.7"
  }
 },
 "nbformat": 4,
 "nbformat_minor": 5
}
