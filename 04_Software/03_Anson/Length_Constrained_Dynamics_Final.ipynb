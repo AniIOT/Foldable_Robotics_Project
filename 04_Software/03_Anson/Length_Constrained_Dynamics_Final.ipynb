{
 "cells": [
  {
   "cell_type": "code",
   "execution_count": 1,
   "id": "d75ff359",
   "metadata": {},
   "outputs": [],
   "source": [
    "%matplotlib inline"
   ]
  },
  {
   "cell_type": "code",
   "execution_count": 2,
   "id": "c9554a1e",
   "metadata": {},
   "outputs": [],
   "source": [
    "#Set model to freely swim\n",
    "use_free_move = True"
   ]
  },
  {
   "cell_type": "markdown",
   "id": "01a651d9",
   "metadata": {},
   "source": [
    "# Importing Libraries\n",
    "\n",
    "Importing libraries for script"
   ]
  },
  {
   "cell_type": "code",
   "execution_count": 3,
   "id": "19dc092c",
   "metadata": {},
   "outputs": [],
   "source": [
    "import pynamics\n",
    "from pynamics.frame import Frame\n",
    "from pynamics.variable_types import Differentiable,Constant\n",
    "from pynamics.system import System\n",
    "from pynamics.body import Body\n",
    "from pynamics.dyadic import Dyadic\n",
    "from pynamics.output import Output,PointsOutput\n",
    "from pynamics.output_points_3d import PointsOutput3D\n",
    "from pynamics.constraint import AccelerationConstraint,KinematicConstraint\n",
    "from pynamics.particle import Particle\n",
    "import pynamics.integration\n",
    "import numpy\n",
    "import matplotlib.pyplot as plt\n",
    "plt.ion()\n",
    "from math import pi,sin\n",
    "import sympy\n",
    "from sympy import sqrt\n",
    "import math\n",
    "import scipy.optimize\n",
    "from matplotlib import animation, rc\n",
    "from IPython.display import HTML\n",
    "\n",
    "\n",
    "system = System()\n",
    "pynamics.set_system(__name__,system)"
   ]
  },
  {
   "cell_type": "markdown",
   "id": "92c478a5",
   "metadata": {},
   "source": [
    "# Constants of System\n",
    "\n",
    "In this block of code we are defining all the constants of our system that we will use for our simulation"
   ]
  },
  {
   "cell_type": "code",
   "execution_count": 4,
   "id": "73ab2bd7",
   "metadata": {},
   "outputs": [],
   "source": [
    "#Defining Constants of System\n",
    "seg_len = 0.02    #segment mass\n",
    "seg_mass = .0002 #segment mass \n",
    "seg_h = 0.01 #segment height\n",
    "seg_th = 0.001\n",
    "\n",
    "#Set segment lengths\n",
    "lA = Constant(seg_len,'lA',system)\n",
    "lB = Constant(seg_len,'lB',system)\n",
    "lC = Constant(seg_len,'lC',system)\n",
    "lD = Constant(seg_len,'lD',system)\n",
    "lE = Constant(seg_len,'lE',system)\n",
    "lF = Constant(seg_len,'lF',system)\n",
    "lG = Constant(seg_len,'tail',system)\n",
    "lP = Constant(seg_len*5.5,'lP',system) #Constrained length\n",
    "\n",
    "#Set masses\n",
    "mA = Constant(seg_mass,'mA',system)\n",
    "mB = Constant(seg_mass,'mB',system)\n",
    "mC = Constant(seg_mass,'mC',system)\n",
    "mD = Constant(seg_mass,'mD',system)\n",
    "mE = Constant(seg_mass,'mE',system)\n",
    "mF = Constant(seg_mass,'mF',system)\n",
    "mG = Constant(seg_mass,'mG',system)\n",
    "\n",
    "b = Constant(2.148e-6,'b',system)\n",
    "k = Constant(1.6e-4,'k',system)\n",
    "area = Constant(seg_len*seg_h,'area',system)\n",
    "rho = Constant(998,'rho',system)\n",
    "\n",
    "freq = Constant(1,'freq',system)\n",
    "amp = Constant(40*pi/180,'amp',system)\n",
    "torque = Constant(.7,'torque',system)\n",
    "\n",
    "Ixx = Constant(1/12*seg_mass*(seg_h**2 + seg_th**2),'Ixx',system)\n",
    "Iyy = Constant(1/12*seg_mass*(seg_h**2 + seg_len**2),'Iyy',system)\n",
    "Izz = Constant(1/12*seg_mass*(seg_len**2 + seg_th**2),'Izz',system)\n",
    "Ixx_G = Constant(1/12*seg_mass*(seg_h*2 + seg_th**2),'Ixx_G',system)\n",
    "Iyy_G = Constant(1/12*seg_mass*(seg_h**2 + seg_len**2),'Iyy_G',system)\n",
    "Izz_G = Constant(1/12*seg_mass*(seg_len**2 + seg_th**2),'Izz_G',system)\n"
   ]
  },
  {
   "cell_type": "code",
   "execution_count": 5,
   "id": "e398a02c",
   "metadata": {},
   "outputs": [],
   "source": [
    "#Set integration tolerance\n",
    "tol = 1e-12"
   ]
  },
  {
   "cell_type": "code",
   "execution_count": 6,
   "id": "0be73862",
   "metadata": {},
   "outputs": [],
   "source": [
    "#Set simulation run time\n",
    "fps = 30\n",
    "tinitial = 0\n",
    "tfinal = 5\n",
    "tstep = 1/fps\n",
    "t = numpy.r_[tinitial:tfinal:tstep]"
   ]
  },
  {
   "cell_type": "code",
   "execution_count": 7,
   "id": "9afc2913",
   "metadata": {},
   "outputs": [],
   "source": [
    "#Define derivatives of frames\n",
    "qA,qA_d,qA_dd = Differentiable('qA',system)\n",
    "qB,qB_d,qB_dd = Differentiable('qB',system)\n",
    "qC,qC_d,qC_dd = Differentiable('qC',system)\n",
    "qD,qD_d,qD_dd = Differentiable('qD',system)\n",
    "qE,qE_d,qE_dd = Differentiable('qE',system)\n",
    "qF,qF_d,qF_dd = Differentiable('qF',system)\n",
    "qG,qG_d,qG_dd = Differentiable('qG',system)\n",
    "\n",
    "if use_free_move:\n",
    "    x,x_d,x_dd = Differentiable('x',system)\n",
    "    y,y_d,y_dd = Differentiable('y',system)"
   ]
  },
  {
   "cell_type": "code",
   "execution_count": 8,
   "id": "ea73239d",
   "metadata": {},
   "outputs": [],
   "source": [
    "#set initial conditions\n",
    "initialvalues = {}\n",
    "initialvalues[qA]=40*pi/180\n",
    "initialvalues[qA_d]=0*pi/180\n",
    "initialvalues[qB]=20*pi/180\n",
    "initialvalues[qB_d]=0*pi/180\n",
    "initialvalues[qC]=10*pi/180\n",
    "initialvalues[qC_d]=0*pi/180\n",
    "initialvalues[qD]=0*pi/180\n",
    "initialvalues[qD_d]=0*pi/180\n",
    "initialvalues[qE]=-10*pi/180\n",
    "initialvalues[qE_d]=0*pi/180\n",
    "initialvalues[qF]=-40*pi/180\n",
    "initialvalues[qF_d]=0*pi/180\n",
    "initialvalues[qG]=0*pi/180\n",
    "initialvalues[qG_d]=0*pi/180\n",
    "\n",
    "if use_free_move:\n",
    "    initialvalues[x]=0*pi/180\n",
    "    initialvalues[x_d]=0*pi/180\n",
    "    initialvalues[y]=0*pi/180\n",
    "    initialvalues[y_d]=0*pi/180\n",
    "\n",
    "statevariables = system.get_state_variables()\n",
    "ini0 = [initialvalues[item] for item in statevariables]"
   ]
  },
  {
   "cell_type": "code",
   "execution_count": 9,
   "id": "c3799823",
   "metadata": {},
   "outputs": [],
   "source": [
    "#Frames\n",
    "N = Frame('N',system)\n",
    "A = Frame('A',system)\n",
    "B = Frame('B',system)\n",
    "C = Frame('C',system)\n",
    "D = Frame('D',system)\n",
    "E = Frame('E',system)\n",
    "F = Frame('F',system)\n",
    "G = Frame('G',system)\n",
    "\n",
    "system.set_newtonian(N)\n",
    "\n",
    "A.rotate_fixed_axis(N,[0,0,1],qA,system)\n",
    "B.rotate_fixed_axis(N,[0,0,1],qB,system)\n",
    "C.rotate_fixed_axis(N,[0,0,1],qC,system)\n",
    "D.rotate_fixed_axis(N,[0,0,1],qD,system)\n",
    "E.rotate_fixed_axis(N,[0,0,1],qE,system)\n",
    "F.rotate_fixed_axis(N,[0,0,1],qF,system)\n",
    "G.rotate_fixed_axis(N,[0,0,1],qG,system)"
   ]
  },
  {
   "cell_type": "markdown",
   "id": "8d126165",
   "metadata": {},
   "source": [
    "# Defining Vectors\n",
    "\n",
    "In this section of code we are defining all the position and center of mass vecotors. Additionally we are calculating angular velocity of each frame and the respective linear velocities at the center of mass. We also build each body of the system in this section."
   ]
  },
  {
   "cell_type": "code",
   "execution_count": 10,
   "id": "1e8f4de1",
   "metadata": {},
   "outputs": [],
   "source": [
    "#Vectors\n",
    "if use_free_move:\n",
    "    pNA=x*N.x + y*N.y + 0*N.z\n",
    "    pP = lP*N.x + pNA\n",
    "else:\n",
    "    pNA=0*N.x + 0*N.y + 0*N.z\n",
    "    pP = lP*N.x\n",
    "    \n",
    "pAB= pNA + lA*A.x\n",
    "pBC = pAB + lB*B.x\n",
    "pCD = pBC + lC*C.x\n",
    "pDE = pCD + lD*D.x\n",
    "pEF = pDE + lE*E.x\n",
    "pFG = pEF + lF*F.x\n",
    "pGtip = pFG + lG*G.x\n",
    "\n",
    "#Center of Mass\n",
    "pAcm=pNA+lA/2*A.x\n",
    "pBcm=pAB+lB/2*B.x\n",
    "pCcm=pBC+lC/2*C.x\n",
    "pDcm=pCD+lD/2*D.x\n",
    "pEcm=pDE+lE/2*E.x\n",
    "pFcm=pEF+lF/2*F.x\n",
    "pGcm=pFG+lG/2*G.x\n",
    "\n",
    "#Angular Velocity\n",
    "wNA = N.get_w_to(A)\n",
    "wAB = A.get_w_to(B) \n",
    "wBC = B.get_w_to(C)\n",
    "wCD = C.get_w_to(D) \n",
    "wDE = D.get_w_to(E)\n",
    "wEF = E.get_w_to(F)\n",
    "wFG = F.get_w_to(G)\n",
    "\n",
    "#Velocities \n",
    "vA=pAcm.time_derivative()\n",
    "vB=pBcm.time_derivative()\n",
    "vC=pCcm.time_derivative()\n",
    "vD=pDcm.time_derivative()\n",
    "vE=pEcm.time_derivative()\n",
    "vF=pFcm.time_derivative()\n",
    "vGtip=pGtip.time_derivative()\n",
    "\n",
    "#Interia and Bodys\n",
    "IA = Dyadic.build(A,Ixx,Iyy,Izz)\n",
    "IB = Dyadic.build(B,Ixx,Iyy,Izz)\n",
    "IC = Dyadic.build(C,Ixx,Iyy,Izz)\n",
    "ID = Dyadic.build(D,Ixx,Iyy,Izz)\n",
    "IE = Dyadic.build(E,Ixx,Iyy,Izz)\n",
    "IF = Dyadic.build(F,Ixx,Iyy,Izz)\n",
    "IG = Dyadic.build(G,Ixx_G,Iyy_G,Izz_G)\n",
    "\n",
    "BodyA = Body('BodyA',A,pAcm,mA,IA,system)\n",
    "BodyB = Body('BodyB',B,pBcm,mB,IB,system)\n",
    "BodyC = Body('BodyC',C,pCcm,mC,IC,system)\n",
    "BodyD = Body('BodyD',D,pDcm,mD,ID,system)\n",
    "BodyE = Body('BodyE',E,pEcm,mE,IE,system)\n",
    "BodyF = Body('BodyF',F,pFcm,mF,IF,system)\n",
    "BodyG = Body('BodyG',G,pGcm,mG,IG,system)"
   ]
  },
  {
   "cell_type": "markdown",
   "id": "b41227bd",
   "metadata": {},
   "source": [
    "# Adding Forces\n",
    "\n",
    "In this section of code we are adding the aerodynamic, spring, and damping forces in the system. The damping and spring values will be calculated experimentally."
   ]
  },
  {
   "cell_type": "code",
   "execution_count": 11,
   "id": "5f8946a3",
   "metadata": {},
   "outputs": [
    {
     "data": {
      "text/plain": [
       "(<pynamics.force.Force at 0x25301980f40>,\n",
       " <pynamics.spring.Spring at 0x25301980970>)"
      ]
     },
     "execution_count": 11,
     "metadata": {},
     "output_type": "execute_result"
    }
   ],
   "source": [
    "#Forces\n",
    "#system.addforce(-torque*sympy.sin(freq*2*pi*system.t)*A.z,wNA) #setting motor parameter\n",
    "\n",
    "#Aerodynamic Forces\n",
    "f_aero_Ay = rho * vA.length()*(vA.dot(A.y)) * area * A.y\n",
    "f_aero_By = rho * vB.length()*(vB.dot(B.y)) * area * B.y\n",
    "f_aero_Cy = rho * vC.length()*(vC.dot(C.y)) * area * C.y\n",
    "f_aero_Dy = rho * vD.length()*(vD.dot(D.y)) * area * D.y\n",
    "f_aero_Ey = rho * vE.length()*(vE.dot(E.y)) * area * E.y\n",
    "f_aero_Fy = rho * vF.length()*(vF.dot(F.y)) * area * F.y\n",
    "f_aero_Gy = rho * vGtip.length()*(vGtip.dot(G.y)) * area * G.y\n",
    "\n",
    "system.addforce(-f_aero_Ay,vA)\n",
    "system.addforce(-f_aero_By,vB)\n",
    "system.addforce(-f_aero_Cy,vC)\n",
    "system.addforce(-f_aero_Dy,vD)\n",
    "system.addforce(-f_aero_Ey,vE)\n",
    "system.addforce(-f_aero_Fy,vF)\n",
    "system.addforce(-f_aero_Gy,vGtip)\n",
    "\n",
    "#Damping Forces\n",
    "#system.addforce(-b*wNA,wNA)\n",
    "system.addforce(-b*wAB,wAB)\n",
    "system.addforce(-b*wBC,wBC)\n",
    "system.addforce(-b*wCD,wCD)\n",
    "system.addforce(-b*wDE,wDE)\n",
    "system.addforce(-b*wEF,wEF)\n",
    "system.addforce(-b*wFG,wFG)\n",
    "\n",
    "#Spring Force (Torsion)\n",
    "#system.add_spring_force1(k,(qA)*N.z,wNA) \n",
    "system.add_spring_force1(k,(qB-qA)*N.z,wAB)\n",
    "system.add_spring_force1(k,(qC-qB)*N.z,wBC)\n",
    "system.add_spring_force1(k,(qD-qC)*N.z,wCD) \n",
    "system.add_spring_force1(k,(qE-qD)*N.z,wDE)\n",
    "system.add_spring_force1(k,(qF-qE)*N.z,wEF)\n",
    "system.add_spring_force1(k,(qG-qF)*N.z,wFG)"
   ]
  },
  {
   "cell_type": "markdown",
   "id": "4fdef0bc",
   "metadata": {},
   "source": [
    "# Initial Condition\n",
    "\n",
    "Solving for initial condition constraints and using scipy to solve for initial states and setting initial states to system initial states."
   ]
  },
  {
   "cell_type": "code",
   "execution_count": 12,
   "id": "6714f080",
   "metadata": {},
   "outputs": [],
   "source": [
    "#Constraints for initial condition\n",
    "\n",
    "eq = []\n",
    "\n",
    "eq.append(pFG-pP)\n",
    "    \n",
    "eq_scalar = []\n",
    "eq_scalar.append(eq[0].dot(N.x))\n",
    "eq_scalar.append(eq[0].dot(N.y))\n",
    "\n",
    "#system.add_constraint(KinematicConstraint(eq_scalar))"
   ]
  },
  {
   "cell_type": "code",
   "execution_count": 13,
   "id": "5cd73806",
   "metadata": {},
   "outputs": [],
   "source": [
    "#Solve for Intial Conditions\n",
    "if use_free_move:\n",
    "    qi = [qA,x,y]\n",
    "else:  \n",
    "    qi = [qA]\n",
    "\n",
    "qd = [qB,qC,qD,qE,qF,qG]\n",
    "\n",
    "eq_scalar_c = [item.subs(system.constant_values) for item in eq_scalar]\n",
    "defined = dict([(item,initialvalues[item]) for item in qi])\n",
    "eq_scalar_c = [item.subs(defined) for item in eq_scalar_c]\n",
    "\n",
    "error = (numpy.array(eq_scalar_c)**2).sum()\n",
    "\n",
    "f = sympy.lambdify(qd,error)\n",
    "\n",
    "def function(args):\n",
    "    return f(*args)\n",
    "\n",
    "guess = [initialvalues[item] for item in qd]\n",
    "\n",
    "result = scipy.optimize.minimize(function,guess)\n",
    "if result.fun>1e-3:\n",
    "    raise(Exception(\"out of tolerance\"))\n",
    "    \n",
    "ini = []\n",
    "for item in system.get_state_variables():\n",
    "    if item in qd:\n",
    "        ini.append(result.x[qd.index(item)])\n",
    "    else:\n",
    "        ini.append(initialvalues[item])"
   ]
  },
  {
   "cell_type": "code",
   "execution_count": 14,
   "id": "c3462320",
   "metadata": {},
   "outputs": [
    {
     "name": "stderr",
     "output_type": "stream",
     "text": [
      "2022-04-12 16:18:27,065 - pynamics.output - INFO - calculating outputs\n",
      "2022-04-12 16:18:27,074 - pynamics.output - INFO - done calculating outputs\n"
     ]
    },
    {
     "data": {
      "text/plain": [
       "<AxesSubplot:>"
      ]
     },
     "execution_count": 14,
     "metadata": {},
     "output_type": "execute_result"
    },
    {
     "data": {
      "image/png": "[encoded data removed]",
      "text/plain": [
       "<Figure size 432x288 with 1 Axes>"
      ]
     },
     "metadata": {
      "needs_background": "light"
     },
     "output_type": "display_data"
    }
   ],
   "source": [
    "#Plot Initial State\n",
    "points = [pNA,pAB,pBC,pCD,pDE,pEF,pFG,pGtip]\n",
    "points_output = PointsOutput(points, constant_values=system.constant_values)\n",
    "points_output.calc(numpy.array([ini0,ini]),numpy.array([0,1]))\n",
    "points_output.plot_time()"
   ]
  },
  {
   "cell_type": "markdown",
   "id": "523d1c38",
   "metadata": {},
   "source": [
    "# Setting Dynamic Constraints\n",
    "\n",
    "Solving for dynamic constraints of system to run simulation."
   ]
  },
  {
   "cell_type": "code",
   "execution_count": 15,
   "id": "838764ed",
   "metadata": {},
   "outputs": [],
   "source": [
    "#Adding Dynamic Constraints\n",
    "\n",
    "#Position of motor limits\n",
    "pos = amp*sympy.cos(freq*2*pi*system.t)\n",
    "\n",
    "eq = []\n",
    "\n",
    "eq.append(pFG-pP)\n",
    "#eq.append(pos*N.z-qA*A.z)\n",
    "\n",
    "eq_d = []\n",
    "eq_d = [item.time_derivative() for item in eq]\n",
    "\n",
    "eq_dd = []\n",
    "eq_dd = [item.time_derivative() for item in eq_d]\n",
    "\n",
    "eq_dd_scalar = []\n",
    "eq_dd_scalar.append(eq_dd[0].dot(N.x))\n",
    "eq_dd_scalar.append(eq_dd[0].dot(N.y))\n",
    "#eq_dd_scalar.append(eq_dd[1].dot(N.z))\n",
    "\n",
    "system.add_constraint(AccelerationConstraint(eq_dd_scalar))"
   ]
  },
  {
   "cell_type": "markdown",
   "id": "0c1b8795",
   "metadata": {},
   "source": [
    "# Solving for Simulation\n",
    "\n",
    "Code to run simulation and plot motion, states, and total energy in system."
   ]
  },
  {
   "cell_type": "code",
   "execution_count": 16,
   "id": "7b18b3c6",
   "metadata": {
    "scrolled": false
   },
   "outputs": [
    {
     "name": "stderr",
     "output_type": "stream",
     "text": [
      "2022-04-12 16:18:27,290 - pynamics.system - INFO - getting dynamic equations\n",
      "2022-04-12 16:18:29,319 - pynamics.system - INFO - solving a = f/m and creating function\n",
      "2022-04-12 16:18:37,748 - pynamics.system - INFO - substituting constrained in Ma-f.\n",
      "2022-04-12 16:18:39,064 - pynamics.system - INFO - done solving a = f/m and creating function\n",
      "2022-04-12 16:18:39,064 - pynamics.system - INFO - calculating function for lambdas\n",
      "2022-04-12 16:18:39,088 - pynamics.integration - INFO - beginning integration\n",
      "2022-04-12 16:18:39,088 - pynamics.system - INFO - integration at time 0000.00\n",
      "2022-04-12 16:18:48,100 - pynamics.system - INFO - integration at time 0000.10\n",
      "2022-04-12 16:18:57,276 - pynamics.system - INFO - integration at time 0000.20\n",
      "2022-04-12 16:19:06,337 - pynamics.system - INFO - integration at time 0000.35\n",
      "2022-04-12 16:19:15,466 - pynamics.system - INFO - integration at time 0000.82\n",
      "2022-04-12 16:19:24,644 - pynamics.system - INFO - integration at time 0004.74\n",
      "2022-04-12 16:19:24,734 - pynamics.integration - INFO - finished integration\n"
     ]
    },
    {
     "data": {
      "text/plain": [
       "<matplotlib.legend.Legend at 0x2530401cf40>"
      ]
     },
     "execution_count": 16,
     "metadata": {},
     "output_type": "execute_result"
    },
    {
     "data": {
      "image/png": "[encoded data removed]",
      "text/plain": [
       "<Figure size 432x288 with 1 Axes>"
      ]
     },
     "metadata": {
      "needs_background": "light"
     },
     "output_type": "display_data"
    }
   ],
   "source": [
    "#Solve model and plot angles\n",
    "\n",
    "f,ma = system.getdynamics()\n",
    "\n",
    "func1,lambda1 = system.state_space_post_invert(f,ma,return_lambda = True)\n",
    "\n",
    "states=pynamics.integration.integrate(func1,ini,t,rtol=tol,atol=tol,hmin=tol, args=({'constants':system.constant_values},))\n",
    "\n",
    "\n",
    "plt.figure()\n",
    "artists = plt.plot(t,states[:,:7])\n",
    "plt.legend(artists,['qA','qB','qC','qD','qE','qF','qG'])"
   ]
  },
  {
   "cell_type": "code",
   "execution_count": 17,
   "id": "22129fa1",
   "metadata": {
    "scrolled": true
   },
   "outputs": [
    {
     "name": "stderr",
     "output_type": "stream",
     "text": [
      "2022-04-12 16:19:24,937 - pynamics.output - INFO - calculating outputs\n",
      "2022-04-12 16:19:24,950 - pynamics.output - INFO - done calculating outputs\n"
     ]
    },
    {
     "data": {
      "text/plain": [
       "<AxesSubplot:>"
      ]
     },
     "execution_count": 17,
     "metadata": {},
     "output_type": "execute_result"
    },
    {
     "data": {
      "image/png": "[encoded data removed]",
      "text/plain": [
       "<Figure size 432x288 with 1 Axes>"
      ]
     },
     "metadata": {
      "needs_background": "light"
     },
     "output_type": "display_data"
    }
   ],
   "source": [
    "points = [pNA,pAB,pBC,pCD,pDE,pEF,pFG,pGtip]\n",
    "points_output = PointsOutput(points,system)\n",
    "y = points_output.calc(states,t)\n",
    "points_output.plot_time(20)"
   ]
  },
  {
   "cell_type": "code",
   "execution_count": 18,
   "id": "03452b65",
   "metadata": {
    "scrolled": false
   },
   "outputs": [
    {
     "data": {
      "text/plain": [
       "[<matplotlib.lines.Line2D at 0x25303fc0490>,\n",
       " <matplotlib.lines.Line2D at 0x25303fc04f0>]"
      ]
     },
     "execution_count": 18,
     "metadata": {},
     "output_type": "execute_result"
    },
    {
     "data": {
      "image/png": "[encoded data removed]",
      "text/plain": [
       "<Figure size 432x288 with 1 Axes>"
      ]
     },
     "metadata": {
      "needs_background": "light"
     },
     "output_type": "display_data"
    }
   ],
   "source": [
    "#Constraint Forces\n",
    "\n",
    "lambda2 = numpy.array([lambda1(item1,item2,system.constant_values) for item1,item2 in zip(t,states)])\n",
    "plt.figure()\n",
    "plt.plot(t, lambda2)"
   ]
  },
  {
   "cell_type": "code",
   "execution_count": 19,
   "id": "0d760c36",
   "metadata": {
    "scrolled": false
   },
   "outputs": [
    {
     "name": "stderr",
     "output_type": "stream",
     "text": [
      "2022-04-12 16:19:26,767 - pynamics.output - INFO - calculating outputs\n",
      "2022-04-12 16:19:26,816 - pynamics.output - INFO - done calculating outputs\n"
     ]
    },
    {
     "data": {
      "image/png": "[encoded data removed]",
      "text/plain": [
       "<Figure size 432x288 with 1 Axes>"
      ]
     },
     "metadata": {
      "needs_background": "light"
     },
     "output_type": "display_data"
    }
   ],
   "source": [
    "#Energy Plot\n",
    "\n",
    "KE = system.get_KE()\n",
    "PE = system.getPESprings()\n",
    "energy_output = Output([KE-PE],system)\n",
    "energy_output.calc(states,t)\n",
    "energy_output.plot_time(t)"
   ]
  },
  {
   "cell_type": "code",
   "execution_count": 20,
   "id": "2cc6bbcf",
   "metadata": {
    "scrolled": true
   },
   "outputs": [
    {
     "data": {
      "text/plain": [
       "Text(0, 0.5, 'Position Y (m)')"
      ]
     },
     "execution_count": 20,
     "metadata": {},
     "output_type": "execute_result"
    },
    {
     "data": {
      "image/png": "[encoded data removed]",
      "text/plain": [
       "<Figure size 432x288 with 1 Axes>"
      ]
     },
     "metadata": {
      "needs_background": "light"
     },
     "output_type": "display_data"
    }
   ],
   "source": [
    "#Plotting Motion of Tail\n",
    "\n",
    "plt.plot(y[:,7,0],y[:,7,1])\n",
    "plt.axis('equal')\n",
    "plt.title('Position of Tail')\n",
    "plt.xlabel('Position X (m)')\n",
    "plt.ylabel('Position Y (m)')"
   ]
  },
  {
   "cell_type": "code",
   "execution_count": 21,
   "id": "c02dad6f",
   "metadata": {},
   "outputs": [
    {
     "data": {
      "text/html": [
       "<video width=\"432\" height=\"288\" controls autoplay loop>\n",
       "  <source type=\"video/mp4\" src=\"data:video/mp4;base64,AAAAHGZ0eXBNNFYgAAACAGlzb21pc28yYXZjMQAAAAhmcmVlAABf8W1kYXQAAAKgBgX//5zcRem9\n",
       "5tlIt5Ys2CDZI+7veDI2NCAtIGNvcmUgMTU5IC0gSC4yNjQvTVBFRy00IEFWQyBjb2RlYyAtIENv\n",
       "cHlsZWZ0IDIwMDMtMjAxOSAtIGh0dHA6Ly93d3cudmlkZW9sYW4ub3JnL3gyNjQuaHRtbCAtIG9w\n",
       "dGlvbnM6IGNhYmFjPTEgcmVmPTMgZGVibG9jaz0xOjA6MCBhbmFseXNlPTB4MzoweDExMyBtZT1o\n",
       "ZXggc3VibWU9NyBwc3k9MSBwc3lfcmQ9MS4wMDowLjAwIG1peGVkX3JlZj0xIG1lX3JhbmdlPTE2\n",
       "IGNocm9tYV9tZT0xIHRyZWxsaXM9MSA4eDhkY3Q9MSBjcW09MCBkZWFkem9uZT0yMSwxMSBmYXN0\n",
       "X3Bza2lwPTEgY2hyb21hX3FwX29mZnNldD0tMiB0aHJlYWRzPTkgbG9va2FoZWFkX3RocmVhZHM9\n",
       "MSBzbGljZWRfdGhyZWFkcz0wIG5yPTAgZGVjaW1hdGU9MSBpbnRlcmxhY2VkPTAgYmx1cmF5X2Nv\n",
       "bXBhdD0wIGNvbnN0cmFpbmVkX2ludHJhPTAgYmZyYW1lcz0zIGJfcHlyYW1pZD0yIGJfYWRhcHQ9\n",
       "MSBiX2JpYXM9MCBkaXJlY3Q9MSB3ZWlnaHRiPTEgb3Blbl9nb3A9MCB3ZWlnaHRwPTIga2V5aW50\n",
       "PTI1MCBrZXlpbnRfbWluPTI1IHNjZW5lY3V0PTQwIGludHJhX3JlZnJlc2g9MCByY19sb29rYWhl\n",
       "YWQ9NDAgcmM9Y3JmIG1idHJlZT0xIGNyZj0yMy4wIHFjb21wPTAuNjAgcXBtaW49MCBxcG1heD02\n",
       "OSBxcHN0ZXA9NCBpcF9yYXRpbz0xLjQwIGFxPTE6MS4wMACAAAANYmWIhAA3//728P4FNjuY0JcR\n",
       "zeidMx+/Fbi6NDe9zgAAAwAAN9zmRP7KkwbmwAAC4AAJ4RFNZegeC0j/MA103buB2JEtZyWUXELt\n",
       "9OZ28EbrlCQ9T+wbPi1VQbWfs8W8Vq3oBxpFd0u69LtDOWwUq6lfgqTVRrfcFgsR2Q0b02A33hRI\n",
       "qnnQkTlJbaDAOZDXhvHyOUjIe3OW13wP81AKEQfPqp54/pcOBu2Gw/mMCpSrAA/+11F85fr4Phmt\n",
       "LUgT0316eZ9XfWnMDo65GhOVKHds++rxSBAHtLVmo+VoAngrZAzhMLo8PSwtjgrkVLS5hoCuLwYy\n",
       "H+Y+nTVJCExypqOkcus06QYK/RZD75TLNl3lC0C2UswyTAUoyl5djSEog8aYAKvTCt+QKHquuv31\n",
       "siBdKowxf/rQzy4ZjLy4iO+3002dpBdCHYgTI8w20/84UShpgNiSnZYJKN3xwtfx7qHoHuqiFZRe\n",
       "2C5bphihBTnxKdJ+6RNb/ak3ZWQKaZ5BksppMDWmdu8fiA3VJFX09xgZqYGV4GdeOl9FSX/ldmKZ\n",
       "ak8wbDbWyJ4YpGIrf8U+IyTnpmRUJOGitRFyB+fFBnbY+lCtOvuN+MIZ9kECg/jwaEB40II1GVvw\n",
       "SiTynh+ICEP9/bRhCOn/o5Lr1711+03DppySx40y/+dY3dSAIZ5KXKVkCX4uHpfx2rYOagQUJIBR\n",
       "I5BNhADMfSZIwoFcldkueRElh7J9jb4lGgIk/eqV08FiWL0M2TsQ8b2DwBeLpnaPEiM3+rdfGVGM\n",
       "pttxga3ctZm9t0NYSmN/+zN5XHK56Hw+BpWEC2Qo0J9usMqXB6NoZvSQKGCSj5G7yrTiVN72Eg2E\n",
       "Gd8C8Kv7yQMPgRdL1fZHXPmbiptsQn2QRIEMecGKwd3SU5sffSj7oeyfMOSySU6iXC32JQNCps6O\n",
       "Hzq9t9L33LMJh8zVyR3AQ/Zj8k2mvqJI0sTPzxTSMA9FDvyyvRgWYTF/1jBaGUf30nq8g5prEQ/N\n",
       "xbUGWDflC+7PLU8n4eXntilIjj7o29/YgHjbfi386KzmGzLcMh5HJB9ay74Mrajrg6nlFf55vxxe\n",
       "ZNT8NM2mlC8hPY4HtpRoF12M6fsAL8EfP8mPc6yL6ccwtCE4I9oCagxJt51/e25NFdC0qWRn8LMP\n",
       "TyorjgQS1rWiYln62gXbxWRaQuBJZnE8tlBapOZiG2Ltw3J3F9gi9bX7fRSRFFNH8J7sUZTQKnvl\n",
       "2C+lw2tIQmCr6DD+ze4RHhJQShA/RosIvzO8aNqdvyEe4EkhFe4Phqn7Sfu1MNI8nkLzQC81vm6d\n",
       "2N6lJxo+/z0x3BFCgchEMtflRCUnAopjr1dLBpUJ9WIpFcODY31XiheEiL1m12Cz2nr+v7rwQByF\n",
       "LprubxpCjp2gpBmEtxVci+LImJkC9SnwxqhbQ4QimDGWOOQ6vIyBjSHBc5QGxY/f4LGrr8sVgM4e\n",
       "+pIhpGcpkbK+GDjhQi7e+xkJg8q/8BuwPQ2OBfNa76hjZjEPpQi6eyKrtToPO8Wn2jrqoWF/jbUa\n",
       "ObOI9++cpyaKWPfPyEdp9qrUN6xH99USkPoEqxHeAzaPiIXnYnyvLpZb4tNW1hrtJC9XIo7B7vCW\n",
       "Rdsp8CTwDFC9j+IG2jmSX+RQu1muD1I6VYRio2m6nywAhMfKKYrm1L+/NoSep5fssGh8HRYROpXe\n",
       "AEd6KUWA75Ez09bX8vi3UepBzEHymmVMMK2eiQkmyFIllbaQVRxTE4S93q/tASIbIeWXXnwWlnfZ\n",
       "nxz4wtFIirv7CTvBL3lImynEabK8OHl5l2dQQpOxyoFdQw5FDXnRoPXA7UvtBvZiD7RZTEGZ+ke3\n",
       "hWT0zaccUc29DzG8/3RVd1Kk7isBavf9vQwj+5PwORwCidZl3zv+iyj6tf4JFjzCz7m58fJFf8Sj\n",
       "cIOALlTNM1iSXG+//Ld8niZGKjeBiNEoAdECAZk+0Qm0fbwlZOuvSvxy8zZmys+Y/nKLdYBunoS5\n",
       "2kqAOr897Lbh87GnPLu8IFaP331FS75xCCxpwGBngMtfmQVCg2PKvMpiQWVXuHNgn+9WQV0MYeuv\n",
       "0M1ykgiXUZa+xy7YNkKtrNKjWOGTPMZAN7N4h3OL1OYXAGuqM7QDAbjweB8wY8ehheFN5d1MJLGg\n",
       "xPeBDGWyowm6OB9/dMrWke8oNditQi3FP2d1xWEILkUeJxS3HMwfZv1UfhLKIFEufaatpGPiiBOm\n",
       "NRm2yE0FEf4aONKiYwRJpA6CeLAvPlK0WC8VwHILch96FK4bwfVfcskJ/wCV9J1N413+4Tj4BfRR\n",
       "MQ+3Qer+cFjXobtYRe+9fWcNDpM8yEYKpURA6aI49P4Mr1bltZeYS3gtIH/0+L+QXNAIprrI7zTe\n",
       "gAFyd6MzDVTMGFDJdlaV2FmoEEk31Btr4AU0Onjg7hXzeHI44UxUlibEVa8SwMzrUpEt5dOqiHSX\n",
       "BXNH62pSkAKtXq+6e3UyCkXCZcPWbX2qzMlMsh7xZmGPJingYtNnt4875wKrM7WQgXKTWrmiA8kq\n",
       "ZfP4aBUhtkZAUM0zYvYvNR+2tdf5ZoeFLgFLYecTn673PbnGd5LVYhjQbOxwq6u4vIYw8QyXkPYS\n",
       "6C+0m7Al2YRdNbO4UaIV/qAndVl3qixzQjSHMk753Udnypp79L2B1ivGyj9SoRXwpNXmP/ijWihh\n",
       "0flhqo/rO8tJkxrdaAOj4/VU0JbLHVF2zl7GzF/lo3oNwXeRfiIrK/wWh27FU6nK/MGbdo0pO6CC\n",
       "gkxkTtcnZPwnRUDMmzu0z1ZBdFjm7nni2PTp+F1KCund72ES5KXYHjV5yJhBW1mty6jb6oSr6djO\n",
       "NYeroy3gwyrtt5Sc0c0XWCfptvqBVul9A8//jgBqSMR4TnwXIRx4OcevhagGqdYgNQD+SA4JVz0m\n",
       "HkVU62sjihk7Lvzbr5sYXUdKb3ef8eno8/V0PKJaqhlUYcwQgCBnpHq6MvYKj8j+s5MyRFpoNUoc\n",
       "75PSJTkzX1/9Zd7FgwBuAIyHGWGJbu/xc8j9boFmqwwtUuE9uRw+Cv0ZOQ9vyAGyhUFZaAPfGu+y\n",
       "CGuYR/q4BpMK5vfXot6scV9FRN3/YotYWDxgu0buGTfL2S629WeAq2hQ0g2le6tzBKszquRnfjfR\n",
       "HHMdKW8UewQw0Q2PlHIjNPWlWd62bDNHSEGLe2QzFUR1TKm5Fxib78+kqPj+aSFTsKxnvsTwSdzV\n",
       "aqsf61CoHovCuwGesDqUOQCjqNdKMyQwFvNLHCJIGTeekhVFhvEgKpLnBPUOw48n/MSnfA8p/Cv3\n",
       "534mXvEzqMTbPevf5qlwviKVg5cOTPxw4VkUJ4djLmxt+LdXDip4NB4Al82r+Bby8rJo5ujDOZmG\n",
       "qwK3/cQJkeg1qbIF/dLnxT/XOZiHesFEdXw5iGrKiwTFuI3H7UnX/fgQXo00GvyJdSKCBCLD05pH\n",
       "b81OV8KA5rzlR3KNE3H02KwYnSClWuDurPPwnBrcrKdggw71ynXe4jCfo7STxQADxJPjwCb71vUc\n",
       "xhMYRLsQLN1GNVaNvd6g84tnKRqkE75UOdMDeOVyaRK2dPLyT7TrnPImkTyOQib8vQIKLhO5Sr7o\n",
       "nBybHhnKQmj9MP+kyQOYzjHDtOvPeR1Qc3gyun5ujwKxaus5l3wX+kx9nfsaRqV3DrBccBxs/ils\n",
       "rWfooDrbAVcbXIR9hXeWSywhvvIoQmen5FZjX+RrinkM8OKZExRVyzHusSgwa3E276CS0MS5OKQQ\n",
       "X/HlRCGXuwvVdiAdfCEo74YtmbcPdmRNBRIifbiibphh+3SPAB6bjK8Hspzwy8F/DLu7VOdBplkM\n",
       "5XBcArB3s1nP+87o/od8hjioKh/6Lm0ZxXQE8ipf1MgP4XEIl7EDE/GYBFVemQt5Tnh7ZfHgLNGt\n",
       "dSWemeiSJvTRrpfIQpwSpttXY+kGV1n8haVicAoVmIxXy3CHgh8wX/yLrDGPxTLShf+jstT8DSSk\n",
       "JTYOgrkNOABcWtF3wUnWCYZrzsLQ+q0lGfXyqIHQZBH1ChO/sMF4oM27ne8BOfN/0i0eQG5fZ3eB\n",
       "sLukUjbFcsyaOI64GwOZpi9fY43U9awPlL+hLQRHqdhvEPRAxKWTHnx1bPqf6HZHcK6Oml8XuCy+\n",
       "beF+FgyKyq8zzfJ/4gAKcHOdo34joVhPrTeMnSLDNCR7g6uUgwIamBP/pZL0fGSobwVprTyAOvtP\n",
       "L68lNJHBsAAOO9otKcdmRdLpY2IEKJPjlzKxOM9tyGFTuci54hHZECnYD3gWGekYDTsN5Txcaah6\n",
       "3IlJG+ce4E+8fZPhs2tryZzLw3i84cP0Dqn7vHL6zF5Km4g3JO0f749Dnc3iWDsKhg78LtjYVWPt\n",
       "1wSBICJ+E5XxWc35G7TMMuQ+qlSaH8xsA5tG5P/pPM0rH4uHCo0kAFrL+S8hIYBXX6kQ56Nsy8x+\n",
       "NzVR5SSmPaSSZwoTfuPE3m1vbp1hamj2gkC9J3q/eAXNFCQ89y0QZVUNZVLCxx7RNrJ4OxPLRzLM\n",
       "AJ2lYa2/2jqHKqRS815VbX+Px93aZ/MUhiQU2SsdAITHFPjgAAADAAADAAAyYQAABhdBmiRsQ3/+\n",
       "p4QAGT177Uxu7AEmV4zbBnaQRxSj3HHYDDsQljhoxUsGbYCSNJjPJXU0AvndTkXnSbMyxHu2wJlJ\n",
       "fx2grMgWfl32zkc4Ktl9RWp8PFELAvvGwN+kgaCp/v+qRYuqrzs3KLqn1bn55ly59Qpcv6JmQQ5N\n",
       "MMvze7ntjAy1ktbbXZxNAchsn02OISZXaeKew5IUGhXPT+/BdpA+q1CkJl9dV12oHymjDie0EuWF\n",
       "zx2EoS0hi79L8LAV0QA+KajTzOyEk86nFCu9q1wzcmOtB/lmH0hl5uAuPgPHFpe56T2tGqaZI7gZ\n",
       "eIsrgWFCSsPrt1eROJn+98WL/1TpQ0R1a20MGTYoTWD184+6dsCDzC5lsfprsReOShSqFJB6b1Qe\n",
       "EuTf1fvVrv32KbsCQp40TnYbI8dgCvCZLSo4i9gS538fY/zfEzr8IwLeCAiN4DXrEukvjlXql7E4\n",
       "hYh8tTKA+bJcn6Wtozm2RfXoi3A6IMwyb026bFoMYpoDty7cg64rq6dNg0ArD18SRn3khr3y4tjK\n",
       "LP+z8rCPuZsH9OtyAJPcg6cC/tqszIx6B6uDAUQewT9xULfHrmSkFr6WcoJQpNh4NU87XgpkbUrk\n",
       "g+iP6M7LCo47nt2XnKjqFxWP+LumarNE21SZtknUWl6z/QSX6G5DAonz6bAbZYx3uoNmmM9sGW9T\n",
       "8gb0Vnbh8ka6EXO8vPqJUWdSh9HLVkHKOYIqjbnd7AHt3Ka1dMzJhE3iQ/Gb44b7rEMNrpgEgf+B\n",
       "rETYIM8FbUdezGD2f07d21L/vtms0Mfp3KNdTZy9FQgLXXNYdxaJy6KiWFoRwijS7UmmOJQcKian\n",
       "MLJogFsDTvKthhdygCXSMLaA7LaP9TNEhhXniue3LI+JUx/vlSg2MKA2ou4s6lx12i56OGN8PyKy\n",
       "763yP3EpQr2GpXW/Em6eT0PzJJcKk3mJpnIqooK4GvP6VeXVXLgKarxcjsu7z1l6qC67fTVDStSy\n",
       "dVh/bCQUj0m38IAWfdP8J3GeyjtzrNruDRcMagZzWVkC5OeVMwEqcvBU077jRyh7tsRbdZf9+VkB\n",
       "Jw1xZ0Zkgxlph8gQ+pVi7rD2nCubhqIdz3jqYyjmZQfIMw3zF2IUN2chVp8/J69zHcY+JjZ+LQxv\n",
       "AMjyexC9lD9LkluuXq/NlV3tCMhBoKjS7VmX3hWjCj+of8+726TCFQoQNRI6ryIPdAr401RDD778\n",
       "atXJpF6A9+xuOisnZ4fbw2B5sT9tBKO902Fxt0paadPU47Dui2VlH0UJWHeEfA/dA/6qBBHDs13b\n",
       "XspWJ6x+uO36Rhj3TRKmxp18nhWPELmEZXuReDh44UnY3kGNTOaKe6NFq3XXZOCyJk6Pus//eUzu\n",
       "YjIBVX/d4cHiAPApz+Fv4OalaUU9+VP688dCKo43ATfVXAJIX/tJ/1F8ExLF6Evn86ynVoRWEjts\n",
       "gqYrkcvqYXOqJ0aEqRW++UPHU8olQDnb0c/30X4UlHlWNkHC0CgKerJ9s4OoWnnGV1Dpf+juA8IP\n",
       "idulKqGDNCFEMsAv2qTWAJ+YxQPSN9zazI8dCpQyKhDutAvNPAQYDzISj1q4tEm94xZBChpJIfUi\n",
       "/d8FZGr6pu/ZSBZJw06RJxdB7h5KZqn0MVrDVkocntRNJ3nCtACRZDjYIj6hDcpK15/Andc3AKCm\n",
       "K8TfZziksFDJ2a4J4DJPika6EWET/8Sh9bv2OT86oKEj3vXFUwWypKPZeO7JQH5CssYXC4qkhDNk\n",
       "Cq/7F86+NU0zEruaCHR9EwL4DwVFnneHr8+fke9OknipX63tdxw2ubE3AZVAXRWzLct6Vm5EMH3X\n",
       "ItoKUONWjikfixEEyw/1qKFm1sbW3CUMD1ejUMg+mSbk+f/rFfQ6DIAZZ2hP7pFl0mw8oH2Ena3n\n",
       "YgzZjhW0d1lyRqvKEPr7Ut9nD374hJLTVKaJ4ijypnnDQXRcMh1ymxjNfLWIF/uo3tXu+iKHJ3E3\n",
       "p2dGTSP7IYGyGoOsxjPnOQtTn7u/okQY1TnmzphOr4qdRJwh+pV3DqV+UAnq9LTrAa9se8aSenZ9\n",
       "CQ8Zb5z65Z/SbpsLaAAAAj9BnkJ4hX8AFHZ/2iwLqQATtx5gxC+/dc0Tzlu7CP1chOngEB3WxeCS\n",
       "jJ/8sifAUB74mFelxU9xyInHz9XGnqaSqyhayN9R4HfsqS6iz299Dz+sG2UlCC8qttApwAS9/hwa\n",
       "/hIkYsH7QdIOU6XYGiv3FLURnddx+kzdjwzyaTCsXQLE3u86h0o3IIqGNCj/CtyKD2tmbpZ/OnyZ\n",
       "Q01nEhSVmROXndO/TG13HpxnRl8ePNR/OZ6U4zXLAa7JEZDaJkdgyTIxUjn1AI1dftD+58HO2K5r\n",
       "wWwNX16otySU60EAIVHmhqFVZ7T0GMLoK47o3hT/XBr2mDHlkZyYp3yF/LbLkCAownNObtiCH0uV\n",
       "VPsD4b3gd+lKi3iZ3OC8K33d+ioIYSTE0Rv+m9bKgu8Vxb4LrCip6zILalCdFrycroepFKZC136Q\n",
       "yCml4yLW9C15iRXMk5dTfpTVpA0xFBzUprdwYcllyVqdbmRClyt39bPzikVNY3VpRpW6MC/YPTyr\n",
       "JSdN7NTbIQ1rF9YTjMF67DO4qLZ7LckUDzAVxVsLChIAAAMADjFPf073qjNUvBhMcSm3cN+z+jws\n",
       "SkzDwCb27NPxP7trIN639sXzKj/6d3LHoJYreOXGkZT6BiDqMM5KnTEOeC/PgI/ClZLRQuWWy/Lp\n",
       "+yst17huIYe8cKfKb9ohsdKDcMcce6P8wXj9j/tnmQHO+xTiWEvzd9IPCLYjQJst4G2foAuPC1tB\n",
       "8vGxzVmTBAWIwKCkeCjMDs9nTsA6YQAAAVEBnmF0Qn8AGcoucAD90/dIpCTQybUjmO5OqBMfyE3D\n",
       "+csRFnOmEYUN5j3AqXUuq5JIsJIPUYK2gJr+/gk5tMR6+Sppiyub0MzUiq8P72WkjnSQLjV219oK\n",
       "BifyS9Oa8AQMdtarxafvIBKlH84OJXWNyh6rPGy8js3mpX9kIw6zwz5ZmvYmlprpwEkQ+96AGkXj\n",
       "jcZvn4SZQcTg7NETim9ICqQTlBoJrVDCwPLI3qg4eKtB7olNWwOVIS7nN1qE15GCyclexYRXgk3O\n",
       "burwfjhw+Ntj01V+0brTH4U5AuQtPtd7+WmMiTkwrpLzSAbbf+Bu3rHP2E8H7BvR5Mx96JEW87wt\n",
       "yQZgk4v0eMD/uOomx/igZMxGfe+fdsFlAZ0VMi1d52efrVpv8Ttae98cKFSVkPwBs5vgAjwz5ocL\n",
       "KuBfbucYxNyerplAJf3na7W6AD/AAAAAvQGeY2pCfwAZxp9aDI6yS+0MUV1EMFT+tABojAYzV7u2\n",
       "RAXAw1BwqtfKMnzi+xpdqAtAgXV41TsA1+2g//tk8iOhyyw+YD6jio12zRncfPL5gEmZEAop+32E\n",
       "vbzQFrRYJ1+Ulhs1USKEcU3AqxT7jVXzDThAGvUZC2lYa0WIy/DMFD2+5VB/HDAWZW8AvaPo2yPU\n",
       "Yuur89TNXlhwJyPR8STC3M0o76Sq9aau6PmNAEQsMPPvmqAUPTDjbSSE7QAAAp1BmmdJqEFomUwI\n",
       "b//+p4QAGHdkCyOaSFVKTTIAvkw2jcFJ2ZE3LkCxmaRWPyruYTXmKHh11iR0b1PoSXb3/pRy3HL6\n",
       "83Vhu6QJa3tNrxneNru1dcc85RNxddSn7aUtRPjK7apbtUOr75eg6MhwIyR2nLFWMKhvZMS8p0Pc\n",
       "dhQI8WaEImfRMxkDIHZXshkg4xHoWgrncBB7k2o/+UrdW0gS4lGMVnyghZYkp8FoASVSAlY0S99C\n",
       "jjszkpm51xmaA15lGVdZKbstG9jZEOClyX/+xIu6nqt8ygbx5Nk+CYLUVhw6pMint/G8br9MN3BO\n",
       "kuhdcgewE/PUnexk7kzavKxckJPYyMzOxygA+Nk1hUyTb2XdtLFXtBxvvJVFKArQBOP+X9VHR1RD\n",
       "61m9FA40V3gyTGhDIvTdbQf/t9OcPLEpurxYDkEpmHJ2B8d56ajyHWik7QnSf3JusfJ95ZsuiYn9\n",
       "4v4PZM0cIHGeAJpgQDENmiNKmjWDn1dBa8Uqhiaqmia7FBbnoEACbUMdJNSfFK1G5+wJ4vW6NlwP\n",
       "JZF6vbpWUpHzF8YwO6puug+5RU/yEyuGt0I5/b7waBQGx0l0a6n4o6xWfIzvmK+Pj4f6udqFgyYQ\n",
       "OYDmWkzojhjvn++SfWOAdNOMKu3bNX7xlojWzvmeZ5wK03EMLpvCf31IneFMLpip6sFROS1crBGp\n",
       "TVpalCulh5ZC75q4Gxp3KbYfKAh4129/5N50PMPntS8mh6dIajiAjmp7uY/YZSCsfocYK5ZBcWBg\n",
       "UXwGYlWj0dHDAAL0IUtWADHYD0DTWjyp8Th49vyX4YWrI40uz4azPZw27YdSpbnFuMDWNWC97KFe\n",
       "rrTLof7Bw63wORxeletfwmQkL0y4c/QzW0dMRcfJB80AAACDQZ6FRREsK/8AE+VuooqlwAEHYuA8\n",
       "3Tj+ai8wukYwrFEpcYGaGmG6DonKuHYK2yWeXd/QXvLeFtTILKo1fk3XZ7eCkPn1XDo9pmN8QduQ\n",
       "YKlPrkkk0XheunPXDx4MdXj0/t6IgZboI07JuLxzkgwrgWOXT/JVuLu403iXBACxzSRhEPEAAABV\n",
       "AZ6makJ/ABnBHfusuT7ve53qhNQZSbEft0bDz+YpKfI7VocheKNNhG036fL2pqnrZtSIAQwH48np\n",
       "DMfiXeEq9/YbWmhlqE5wl4lUc32AQ3yJwFri2wAAAjVBmqtJqEFsmUwIb//+p4QAGHcg/sgCJe24\n",
       "6T20pJ3PJL9N8w9zy3cazIEebi7uqFweBNjGY3CXVHLlcsDMV/5TLwCohzv8f5L/4E412vei/v45\n",
       "4+1eRvQbyfMkr8nEg+u1Axhm2TOwSKduCk6IpyrngjqTxr6s0dpNs6L47+MliNUMtV5540zAWIWN\n",
       "YHnPAAQHJ3ta+uTMR3v3+ikVT+//CHCJo/IYxArdv9GVtbcYhju7+AbSuJq6yeqOfXFKQPcNRAH9\n",
       "DEja/+y6uQcJKVWFl9+iMLZN/ssNuwPbrV0PYmNS/7zWf5NoHRa5GO07023PmNbDa1t9ZLKPx1tZ\n",
       "ovZG4Q+UB4BNGtsqxZBIpmDekc7Hu/Eq+WRPrVIgyXHU8PhfrVv0XY3EJMzX2bkXckvJ0/bZGp8K\n",
       "o4vptLZZ4TnpGkzehbE4JeWvFQ4KDcJKIR+GhXGRPFYvVFHRbuH2Zxu7PMkanU7FjVzaHL9oxLKC\n",
       "KR0GvGplQ4lAIE6vRkGxKZ7wD23k3g4Y8j61vQpiDOxGshLwsOB4xNUZLRUmQcf/dNXteMHgDhv9\n",
       "xmswTwoWhwWNG9ufvpcc3r3zvZqybPkDvudlUrw6GOcFc94Qml19XQAd3ZBvAt6uTDpmo6jjoPsL\n",
       "y5kz42YyswO7Svdm/prUnCNAjWc7mG2xb8Jl2DfEQLq0yetXrovWhrCLO3XlO/9La2NOWtQ6ujfq\n",
       "934pF25jZbfAhFQu/Vd+nAz3fjSrAOtG4hoQAAAAg0GeyUUVLCv/ABPqWthVdleAFujUDuhPP+zU\n",
       "N2jt589CEuCU5NYnq5gsQmta+Ybz7wLlclgx1qwKmZQUogLD9ChtihyqSgg4ZxBkKi2SGyQEh3Za\n",
       "VMQIJifAtqRprAsQXsKX+eSzrBWxtIgbT9wpYN9oeCiKeJVPsdrnFVQAxJAHhCUkAAAATAGe6HRC\n",
       "fwAZvlzUztbCQejurugTN7ILO4AVZl5f7OoVqVhzLAue6OJ3ixnx2zpgzMKlGKnQjhgJhyZJ/2o4\n",
       "t8tSewTgq4VDS7KOARMAAABKAZ7qakJ/ABnHU9SzpJBi61/DbpGUtqUWggF1HHdd5va2+X8ddVeY\n",
       "n6sLfT8saVLhQAlBKK+teuNyPeGRmjvxddsf2xYAJ++7XcAAAAEEQZrvSahBbJlMCG///qeEABh7\n",
       "7MjKGPd/zm4rwBG27GWlzFl+xiAFBZmdfeqaSCYa4hq+niZDXy9n2rDp/X1Iai7Hiru/WBshKToX\n",
       "u65MFZs87EGSquDmfW7VBMVQzgdwJ/bGggcGshQ1h2P+eOYn8qYwM8nK7catvH9cAV61mX9Ruc79\n",
       "vCsVFHrBaQMoY2tbVOywVsJaS8ZBOEEo1eChAcCHLEVd1qPjJV8mI/o5oF39aiT5h9Q3lKQw+d39\n",
       "Cj1PkXqNl7phBAbhZxkww+9AWDJroyUZc379i/iAyiZvAreVjBjd7Lbpj3An8AuUAalmrt+ZuKRi\n",
       "FffJEcGA0UPMDU3gIOAAAABdQZ8NRRUsK/8AE+HxyO/e+jpNh9m/nXACqqVNZb/wSam4fYiCNiMu\n",
       "EueFQ+NE6VMU3EWzF27iXJwHUsiMbMApgvZVB2G6jYYHrb72pnwd6IkSteTBaYMgcLeUbRUlAAAA\n",
       "SgGfLHRCfwAZvlwB35ZzdvcriE1aM+M73inCb35uS76/vjUxsfsWwTTwfYu2z7sThc5LI15bBap4\n",
       "fctmyt+wpFY4Zq1ttTQRG+tJAAAAUgGfLmpCfwAY0Z3n0KnX4vh4pcZN4cGyn01INkBNvNNnC7fI\n",
       "g3/dIlD9AAd6Z2Ud5CLVJ1w+V1uzxcm6JMgCo8UVrlLbRzpLLr9+ImoiA4owaTkAAAGGQZszSahB\n",
       "bJlMCG///qeEABfld1DVKAHRPoUqlGANygGyZP+AkotoeyHDSqJYZvr2ZmZnKMHycCXDdVKRll3a\n",
       "wdHYiuTQfLV67sHqs2+SyxCcXRVUKkvh/EjCNRt9smjv7BYpEOsDmeUCpAewM1rJTVyd87H5FGhK\n",
       "/3g0eLTp1fw7K2q8qyjxoZwfYzKVrdqn4MP8s+BP68qdH5uOFjpmxlWmhNRQaf9gMvppR09K9RH7\n",
       "c3UfZoBbsPDnsIXbQPniQD++eg8On8cnf8RP/m17mfM4Gq816PH+sJRfDfReYdaURlhrv+AO5dFe\n",
       "xRKLBaOO/GOh/Nk+TWe++rvPZAHl4et6GCdzuf9RST/MTqTJoTZMvn0dAsDkySMzQrj//AFaj1OB\n",
       "Q6gWbNnklti5BHHbItE3M1x+/hcH+LmQa6X9VRgwvRV9Vuz/eqfmF7WJBNlQzOjHtw7pI8/KAaHW\n",
       "TCISUg7HiPJxPKEWP9ZKp2o3Me/W53h3A99jq6nrxkAq1KhCa2uPCnpAAAAASUGfUUUVLCv/ABNc\n",
       "/PghGB2JK81QtH8sXzd5fGpO1oU+YL7GFEjG9kHjLJmBBg0AJE0UjxRKHb0DDtOcH5yCP+F9Ra5b\n",
       "nctJGVAAAAA3AZ9wdEJ/ABkYqGeDXwKFXhIeHYuwaL8uMYxRbF11nA9/bQfG+wgTnXaM/HPy5nUt\n",
       "Gc3bafwDmwAAADgBn3JqQn8AGR/OM9SXjbvd+qDgS8vsi69LNS1qwGnqs3O9ljqhmu/8yiVzjoig\n",
       "WWlkVYDLG3oRcAAAAVBBm3VJqEFsmUwUTDf//qeEABfXmG+AMtIk/0TG8mH0ooZROuFyzNAGgBLa\n",
       "GA8wnB1o2JxU34+QgGtl7WSyxbkCjJ7tT5oBNWShXJ+C/03BBH+mOVyD5o6myuIqPMqKdCWNDBdO\n",
       "tIqU0RJ0jbEAcgirW83gKZNw0it9LmLVymP3nD6X1zA1uWeNX8BsJkZfv3h25EgCA1VjfOS0I8wN\n",
       "IZSuRJ1rbKP1t3xJ3wt6yJZNpLvAjHQ89syoTb8XXT+VJ9DGOV1b8+r83TTeHUIP3Rh5R0GYX5Op\n",
       "TfCQjwiV85qSAuaJ13msKEy4i4os6efAf86iXEv0rI0rkcirwk5Ko8kPFqU0G0mJUa2H9Sdc0af2\n",
       "lCUw4GwCQ9lRsOH15joW6ToigZ4S0LbbGH74YOQgapQ2+IBiOMhnS+/ZiF2RgXs5HE3/SVhI1O4v\n",
       "SOSPWwr5YEAAAAA5AZ+UakJ/ABknm6ZHpA2PB2TWmCEvpESk5U68VuADeQeNJkujgrFAXnENQuUM\n",
       "XQRVYYeBjRQffhDxAAAB3UGbmUnhClJlMCG//qeEABfbCiHIAFg7CLIqSVaHOsoe2PMxtkeDkb1Y\n",
       "gjqCSVibTGpNiDWJR55+q7v2fYWQTKdiNcCdg7RazI8Gb9MvNfPZk503q3GXvKpN2gUb1p4Nk2DS\n",
       "5QXvtGzr0TyKN27/Gg93/XOcUeahpynoCpUGbvnW6G8Yeb+gkJNk3jdcXL513faVvA4EBWfQTFfY\n",
       "jrV8L5K1J5pia9+ZEJnOb9pvP+SV4dMI08LI0Vbm3Me5C1oKPu0cC9IFEptvE5kSs+aUexJvaGJz\n",
       "EuAljvh1h5Bx/yOsbIBzTB/1R69cwbg1Wr3aAfUAv/tBMOs2DOiT3D7CHDlSsTpp6G2wkIhAezPf\n",
       "BXm3L7jO+1ky3N6AHg3OfVGkQpeu8CEOoLRQxc5L2C+DOb9Cguh+bECGbLmsEZ916F7o7FVYzndC\n",
       "AnGFL0tWDY+3FNwmW10hJOKFdS9tMgGSKxa9yCCKWvO8Aoj0zS5YN7NjJcNKKB/N68bM68ig+n9H\n",
       "pffGTjKilLn7VHsctBwBxa63vjBxDLdKVINWCUwXeL0BhgA4bIFqhVjMt1pOLQ2+nMx54FKiXYuD\n",
       "2YD+UVDembKFRtH4Uq7qkdiKXTLfqVbWVA0TsmLTHFv3GiTCRgAAAFJBn7dFNEwr/wATV+6QqcNv\n",
       "ikU/nSobM8Inhp4liBtlOO1o9uB/VFy90hzeuoASMnOKGZCMWyvFnEewcrmhB8JpeMGNyU2Q5x+n\n",
       "CJgPro0bUoW1AAAANwGf1nRCfwAXRHPG6xponKLRtJpXTGr95NE43ugfAq93TixXjNYL5Ib9LL9Y\n",
       "bCahIICDagEwIeEAAAA4AZ/YakJ/ABkhb38NX66C80UAhYbY4LUGM7QgB9pyeR4kglBfaJSMLoYR\n",
       "7bZ22/ZGW09KBszaCpgAAAGGQZvdSahBaJlMCG///qeEABfXmc6gCt+03nIK5XUaLIY+QfC4oapL\n",
       "aFNTW8/ut9r5OoSyK7hu81uCukMegoYbIqQP8IvlXesNw4kJNOJzGP5mMObjIUJrTP14Jdx1gB/X\n",
       "PawTUzhU4WDEAdAv79knThI7rIE25DM+97OVbZitcme0yZtvPCEd2Ql81/2QdU5G+ROeDN9Xvkph\n",
       "+gRcrV313EoknZjNd5nWn/RQLi56tn5EhFTYeSSO92oG/Udpz/OLyqojP2rvlWb0NRQS7o9YnqAP\n",
       "MG75Z1K1WueyfTguy3pB9GHKYlluBn/3dk6nkvAwgNT2aIO/9PgJD6wroUvIuQ2dJuQKyWxx08qQ\n",
       "sn7IcS8rt06xzR9EShnjbtK+bj45QlNJQWr3/1BGpFkMCyU7CK5l+/dklZq7SI14jL9ZUL+GHZFu\n",
       "co5DWCunoH7zbHFzeGD6iNtl07VMLZqjbfl0l8/O3O4Q4uSRdq4r0hfXtJZeAUoyb3FvOCsFJlR6\n",
       "fqeWuQ7NIQSdAAAAT0Gf+0URLCv/ABNUccjv9SmO4sWbhreMPQYUfReiHFEE9LsvZgBT7bzrHGjL\n",
       "Qof8aRrANMQJLT9B1d30I0jHDIqA1siJP8NaQcAQCTwuDagAAAAmAZ4adEJ/ABkeXL9gOax4hhvx\n",
       "PPT43pTR9lUe2mLB0sw8SF3om4EAAAA6AZ4cakJ/ABdGgRVbLgpF6di9JQfyGjAP0FYAVZVdgAj1\n",
       "2+8EQHtCL2OF2CXpp8QKEtMTmcdD6fhSQQAAAY1BmgFJqEFsmUwIb//+p4QAF+AJP48qZXkcqc/n\n",
       "PAFp2hM41UraxbutG3MBTtKGEDbGgsgZ5SH4/PQ9FFk2y20rihyhMCQ8IEfBF2hEyhNbUV+X4Jym\n",
       "VUKL9pzWaZ4s+V0zzeuyG5LFhwc/dsDWEu61KgnHs6dmwwHhi9eu7nE/3TEWWdXPg/rkNgJqBkKF\n",
       "MjuzyxvYTsGELsIdJUDRzsomndL/bPa4JAT6wHKT2XpNTJldz3ch/BKMc464GWbsKnYY2qYywSzs\n",
       "n/zv86GnbNUQsvlLsiOmrWIHSMux6UiKTNE/FPhuHH780oBkas4XD40cy/76bDu0Rxv8XT2EPaj1\n",
       "9euCWfUAM6l8qm4xnNLLJsiZRjKdOmFcLjc4neYABLtBmRPB2cYD+P8mlIdvmu/6SnRfhNu6nP/n\n",
       "Wh8k1LRegdZN27eEuOd2l4vlAtg4Pu5rkUqJrbocGHGCjHSAEEUh7NnPEHaD3mZICqFW5vH7csMg\n",
       "1T2vGpRFC6RKI9DDhUAC+c6BDTs2qSUHwOmAAAAAUkGeP0UVLCv/ABNX70HfwA9oOUuA9a3Nqjrw\n",
       "tQoCRvPhbed3R4hYtGDWHnaBLMR9cGbyTkbQwbpW2LKS0/1scACuHQde2EwEov3CrsUASQsmB/gA\n",
       "AAA1AZ5edEJ/ABkfR8bic+fuAWwbylmrMpgBVlV2AFXzy0mu1HLKPVQrjQRuucQqF2DxsliLImEA\n",
       "AAAjAZ5AakJ/ABknl755R3HYV4QNN8NFzR7phQeCvMAiqGJCCtgAAAFDQZpFSahBbJlMCG///qeE\n",
       "ABfXmU9TBFl0y71IAh8Om0Yug8HNU1LTvmQQrpUiX3qxGBsx/fCtSNoHp3tgxT8Ws9e/mythEM9U\n",
       "/qv+GKr9ddH4UY/T4fR9PR7TSjDQ3WnNeQirBC6eXkYzYgz82jTe78+53cKzGuPQy1XhwR5z6UL6\n",
       "naAPwrl4wA9zkGWzjKL41jNRQUDCQun8alnqUcyMA440oxyFaVi5N5te3ylCGvk6M2USrmXem/fY\n",
       "V6tf4lVUnyNTB5xA4HMZSDXelPV1P6kSQF66saEzMUm1oTMDjsQiWpmDm1qhCPmTQd5as2zqjmE4\n",
       "HfTHmSnxVUj8vnrAM2ZpST/FM6BodEQPpUYpQjvc4IWNMuOyKssn22XoK1H40ICaiy/vtmwGMj/u\n",
       "BsrAgzd3L6PKuYy2KOu+Oz2WPr6gl4EAAABLQZ5jRRUsK/8AE11275vX/lqKnTpXS76FoNa4abRv\n",
       "NaUaiTLdPRSj+9AAtkVybbYknxZ42z7cvM+NIA6uxmAc0cxBQeO/tHYE0H+AAAAANAGegnRCfwAX\n",
       "RHPGzaaIbo2xMGkQBDhdVLOSuiDEX0kABCuQ3oYQ1qBVI/6E9+qbnSiMA0MAAAAmAZ6EakJ/ABkn\n",
       "iDzhdtqomXpyr5O37tms0CJ1998l56j1czvgYsEAAAE5QZqJSahBbJlMCG///qeEABfbCgNvgogB\n",
       "0QnodxRe6FYzXd/vILm5wglgodWc3SKoypVMih+y37fNXPtjn4GpZouFrh5S13MH/vOK5ZyUt+Ra\n",
       "BVHVOrJyk958o3QsHm9OJgcXticWCywO14kB0R1GUO0Q/4Vnps969kZ60V1B1qTIq5TNIawqTcna\n",
       "iFIr7nEkNu2awQ0Bqaum9AXB04wOw+n2savczEHZtQikn8cKG3EN41NVqKJYdF5xWkDO+vt4pDh+\n",
       "/jxZaw9tKiv6TD+M58O2LCjAID4kMgWC2VaHIOcy9oTc/XhfEnUoDfPleptEOULpXcEOMY6yRBpv\n",
       "UunoGF93afgAbCsU36zSGAdV8KsWaYLWkKaUD8TLIwMN8KrMtOKCdZNWqhNGx06vqoIuvUZZcPgv\n",
       "HdUFtQAAAFJBnqdFFSwr/wATXXQS6rWn8Vj5CxAR/hEmzOYMygZZNfApVYAWK448EHEZ7rpKT13l\n",
       "B6FTwf4zjv7CMJtd5m60UtApulfDTWt9L6xdeir0LY7pAAAAIgGexnRCfwAXRHPGzauGOVtNObkM\n",
       "mu6FsiQ43C1FyoLgoIAAAAAoAZ7IakJ/ABkhUHajYiMW3mwHsnubMmP44Otj/mZsqwAHmIPa3UjW\n",
       "gAAAAR1Bms1JqEFsmUwIb//+p4QAF9eZdU7N8LwBfVCkABVPUgkBBB+9tR1cefzbGuWy9FPuzuLH\n",
       "TE3680dSD/VSNVVRQ+kd1zCm/XCJIUDEW7s5IP/MTv/vYxJjZ/qJMCyKUiu2Wy6z0LPJ864kWyGL\n",
       "/mbBe960yUprWXuOjg6ZPRKRAc3Aexd32xRJaRPYhTMSeAK6jNbmPEJIk+SdkkLPxir22TyylHe7\n",
       "vsMdL1bbOuJsTvoJC5+Y0xvl3yfYYqOvBS/36+uoVEKGoPg5B+szMnXt6MC5WzUvIay9UVb12SlT\n",
       "hrpnDzSafsKA9TJdDP7hh3dZMMp0g1yxWy/24RGC9unn4txkqwGlldK0Gz6OAnDWetHapL7dM0I+\n",
       "+9XKfMEAAABMQZ7rRRUsK/8AE110EuzH3LmauHXmm/PG3iA+XvW1e0h+/VEc3lNTAArcUaQUwc1o\n",
       "KMddqpBfBIFNiai5DhwaX0BrNHHNM1YGjFmFDAAAABwBnwp0Qn8AFv373fMSuvO5ZrSFHqr0YPnP\n",
       "2AD/AAAAJgGfDGpCfwAZIVX4sKoZ0Su2HGlN2u4ALbOnKZ84w7/JzLLvUGVBAAABdEGbEUmoQWyZ\n",
       "TAhv//6nhAAX2woHQqP+hADm1Rz1DAh5nfUBCDdKWZfxCmmSvroG/Muxp1V113FbZOfmEKkCpsc5\n",
       "aG6hN98qzYbu5rDYRrUsCNg2QfYZQdoWSQZJSQE7bK3lnvlUvAaJVancnf6olW7fc2soHa0Ibmqw\n",
       "kUtghqvn3qq6cI9syPl8Sh7oCijD4iB0Rd+/rb/cvX8kkMtddH26IHAUuFWEPhCU/7z6IzO2BSG2\n",
       "WD3vUA9pLO0WNC9d4HH4YaUhJHdRSk9rugvdh83eTqDTOY2HA1usfRchz0+w6SYOrY56LArBC4Q+\n",
       "FzODai5N7f5qxDaVo2Wv74bYgn8f+ZvGeeYligkCWq12M68WyHt+XLLK0OgmTZj23m+3912Dwd3i\n",
       "U48kLhJY+YXoxa2gXtEnI2fQixFvNiuFhaSzOuyTQHwVWoVSNVNluwjliYSd8fDjRWu4m/EoaAp3\n",
       "Ep9YK6LrvPfH+f/wf0Js/bfg3jf4qQAAAElBny9FFSwr/wATXXQD5wfDcf5zsM6kJbYjy4Agb14+\n",
       "vjhcesFPKEV3XI8XhOHpSop8/dWXTi6Cz6XGTvpdz3WACwLjPQqEcykhAAAAIgGfTnRCfwAXRFPd\n",
       "nQ5i1cko+gzVYNWdNexmAkMPIoGgFJAAAAAZAZ9QakJ/ABknjnB2jGpDuZm9K1+pICADFgAAATxB\n",
       "m1VJqEFsmUwIb//+p4QAF9eZaTdlqQBf5OsWfddwA49eqDw2O/8uHREnvuDrqtDA0zUuVqvU/uK2\n",
       "NAf7N1rfrTMOJwEkKTHlYXJxEjmhwnTVV9/zVP/S7UGneRL+3e0ZTWCCQd5i3AgsZPZg2mSQwNRU\n",
       "WUkEKO6la4T2KLTRmPdoa6mvaWgV/EovtrGRDyDH/VU5yWl0zKXjEM1NDHtPFeJAHnZy58n4Gu3L\n",
       "4EA4Pfe6SoP9ezzn+STpp7VFkEn3/m8U1Jph7ml7h7mpjFPAGVUBUxbDsvYopPWcHssje36H8Ilu\n",
       "2EydwqYtbx6BzvBDYSrUlWo1Ka3+y2OP8iuNoO9ap/yEzK9D6BhnGl3YxnmxiYXm3s4siideU7Lx\n",
       "uNP40WcaxxvEK1xUzJ8SLnDBs8v7RheA3BmeEEnBAAAAWkGfc0UVLCv/ABNddBLmD4cp6LH+vCe1\n",
       "VkAAW1uYxyUJAOTgaqMdQnUKvAJKBz0xQjdBHDW58EURBkj/4oLMlhdKDrLq0SsVLjD+k+CBtIJ3\n",
       "6FtJ+NgbXq6dUwAAACQBn5J0Qn8AF0RT3ZxpnCDmyReZwdOr1nfUwFOFl+zcpurRYyoAAAAZAZ+U\n",
       "akJ/ABkr2m22Ox5OTmWe2RDY4v3frQAAAWNBm5lJqEFsmUwIb//+p4QAF0Z3MR4BB6rGQdiHs+4J\n",
       "9TF5WZ+zD2UZdwMg6yHSEt7nup4QfqUMSzNDol//c3GfgYs32DZ/Ttg/tigDSKpyKkt1sKcE4NkT\n",
       "vv5lACnYG17OJn7KonmKyoURBglmKmksgBHKsdVdXWFDr6focS0DHzMWT1o2Oxb2VYJjLav7OGRr\n",
       "+VU6k4YzINB8qbuGSrZmqAQgsC/ZDJPSdE/sonwT5OSyA6mbbzBntfd3EEa2EqD/t2SR75lq2UoR\n",
       "vCkA/7dR//r1o4iTYi4srufkwe7nqhhAIviu/E/NjeMHhNngMZMd3Hr9xHzPD+cMjm5pTCcJHIv2\n",
       "BySsZARwxSP4F0Isx/zYbv5YBRRALccvmc5FNErb2UBRypyZG4jXml2o4zkM1z+/38NMPy1RjHKO\n",
       "w3ACFiVmm58qs9NiDpIwncIiQWhLG/BVLeDLD34QaO49ys2VkikgAAAASUGft0UVLCv/ABHP/Pyq\n",
       "wZOh1icCrKFTFGZ39coN3oAWm1ByewUeVUafOrWKWPJvht+7N1OtlwJr30JuMeltAAmf162MT7sv\n",
       "oUUAAAAkAZ/WdEJ/ABdIbnhPKI7M1+cGVD6JqRGn5UpP6GfVKSowQBQRAAAAGwGf2GpCfwAVlkxM\n",
       "AIlmcMsyjKwsbGsfM9ytgAAAAZdBm91JqEFsmUwIb//+p4QAF9eYb4AVSITEsA/z3COuy7vckf/7\n",
       "XTNvCenhynehOGQstkGThnp0O3JLB8gunk1GUOdS7eZCyXXl1QPYww4twRJEvlE4dVNjyWVr/wMI\n",
       "BPikNboEKRzJYNDAmFwrVQjRF/CJ3rsAASmOP7kSTDhmVGbA+9dE6Y9+1eAYbF+ACf6T5HenlK9T\n",
       "eMIMogsrRFJlbT9xCBHoeE4qIvl9BCjdrOFWZrj/diDbtTn32mYCKmuDFqaYEaA3lIwjKY3MgLjs\n",
       "MD4/a9mhaGPXtzWAPoL7FDE8C+pEUBXE0F7vFD+FjhP5VaI6lR5O9290kU9iqIunmfXU2axXPVlA\n",
       "BPvzThW/y5OAXz1r+SkkhRYbRlLDQfkKCgpuG0m0ozwiXc9OwW6CaSi4vPVlpRq9DsWDiQPEWUX7\n",
       "v4PDEo+NzFPChyykMaAwhq/ksj+xme4VJVSPe5NPzamhTRa7Oi3fA+ctY5x81Ds3vlJ37nDuX/cV\n",
       "8fmiK/3kCnmA8bUloAfMdRACuxZ46qY4bhBJwQAAAEhBn/tFFSwr/wATWNJ48msqzxXaV0tRDFpg\n",
       "q3EJqEugWOIy24jy0dtymAHcKB4g/2ADubsSGPcEAErqm6Q3qswwaA0thbHa+YAAAAAeAZ4adEJ/\n",
       "ABkfJ8xqb9Z502q/uRcsbqvDrEU7ER8xAAAAIAGeHGpCfwAXOfmlKh205VhZ6SXMeS11pXyDPKQK\n",
       "AgK3AAABpEGaAUmoQWyZTAhv//6nhAAX122U0ANvHXPtF9sDFNflGFYHRF8mCxpWBwieaBuVLHZp\n",
       "OxdjA2L6c8HJmtHGx+5Y+vd1laOd0M/qIqJ2CGZVdVPTxHu0t5p183eAmVVp91GmqjLnnpF1OAu/\n",
       "v9cxGE3LCl9PABawT8agmoyjTZg4a6zIKSgYqoTq88DYKYfnUuSIzJh5GRuIRKPx16tMLGMbeqM8\n",
       "7P7lZlcACJdvnOpQqBd9pNJkwpWJT53WzrDWy6/ALJGok/18VTNW+AHGVHsKXIECmeFGY9WNhU8S\n",
       "xFmo5wcJPLm4UsQslP2nGH64q8co0g43IfMsHrymCtSJjzTiTE3DLxJxwUv0NQDjvNaOvK6t+evw\n",
       "7aqVP8iYPs+IJ8rdznrFKUAe2tOouhAsLZZpWAYQqDeax3OwIf+KpVu63WHD5bQsC+LAlMdDsti7\n",
       "4U9ZurJB7/DR298AAAMAAN6UjMqAVdAuPlFAAASUQHLdg1xiPdo5EjRB1PS0u53vpCnWGspdsCEK\n",
       "1GNv1M+mPlBs0pW0XygISaf60klsI9btpaGSpgAAAElBnj9FFSwr/wATWNB9q9LGEFSUq7+X4Lhp\n",
       "Zp+adg+RwASseO5gnPqHOp/s59F5zBbps6c4r9EDHHWZ0vYrBNGYN3FC4MvV4vqYAAAAFAGeXnRC\n",
       "fwAZKX42NIZKaygXg+mBAAAAHwGeQGpCfwAXSfqhxElJrdcp6qk8QAbFJaQdYDLVD0gAAAF2QZpF\n",
       "SahBbJlMCG///qeEABf/gGfd6o9TZvs1u4ArQa1B7OiUMBGqByjqVcQSs5wJ3f/d2EcttNV1zVa4\n",
       "qZanuIjRhQCJ5FRrvTkxDhDsMq/dWp5LaCwbASjUKa8NG6LqVcfU2pwVR7gTfG7dpK2ENf8mcwtH\n",
       "Git8oWwqG+D7QqqweRZRA2CfRp23bS17A6fKV5FvkwvTrI6BHLMrQL7lZ9zBRVuup4XMVs/mEBCU\n",
       "tunCQvd3qYuiD1Sl35ZheNCUDks74+vSeI1UPYOob6nznozcLnyJ31hyypU+xkk6tJUrz5FPIIxO\n",
       "+sFAxre+2L4iVgB15LZ6UCRDd7IEBCBdl4DC/D9H3RRdoEGzsykEoZ9qCm1eWy6fB1lUIjOdACoz\n",
       "b1fYZF3HAz2aiHd/JBzIsXPkea9pOQ9fm+etS6M+rNbTK8iB2BwQ2pe0nTOEH9+rNZzbYj2GrXIb\n",
       "tSO6uZLXpT03aUQt+vHUUoau2Y++rrhFo5Byg3sAAAAsQZ5jRRUsK/8AE11XT0bbK0w5swACvxBY\n",
       "QGEIfKdwZs9R5g4TT65A9h+pBEwAAAAeAZ6CdEJ/ABWdJ7jUBl0raE15HjIlkUaYNxuXYPmBAAAA\n",
       "GQGehGpCfwAZJ4Cm2wpUK3Jr9RYi/iV2DAkAAAG7QZqJSahBbJlMCG///qeEABdGdzWSATX27s+2\n",
       "vgLplb3spy75k627w0oopxjOZ6Wubx3d4Y50IUWpTqGoaDW803Z7DSndjSm47CuL20eAnb7IO7vc\n",
       "1K0ukMcNl8GNc+UJ9ZrVY0dEdobYx1QQb5bO/kCeho8oUBc329KTWnsuijSDMygXx24VdNscOFcn\n",
       "okcc0bh9gVA2MTX5dNDuJykMxX9hJllAZbkiZmd1xO9mP1iTQ/nd+8FqRnHW5mpvAEZ3CBREWn+B\n",
       "3PrJVAj3Vpi6kUTn4ZB+HFJ2NiFnaQpVliErN13tRL2y8ga6aCV1fRUFxf89bVZFki+dMWKkTNmb\n",
       "pQD18/Dm6Bo60j83sgj4+h8HyVw32yml3thfXg7THXg05opYdrpLpDhRiyiXO6UNhSw4YGX0K4Kt\n",
       "rRjyNrJdNpiJvUOGwqF5E1LlO/0QDhIcswOUkzu3UwgdfdJZG8vy1v6y636WZ7Z7l2lpjUpZVzaw\n",
       "p/0PmUZpHwwCc4V4pUZZs1NWaj0wLT1FcEZBba1jsasjrl1+0wrFmSJ3vr/tmZP3qeq6gkuINC8k\n",
       "xYuT3ytMjVF/R1JzkQS+GVEAAABBQZ6nRRUsK/8AEaG40Z5NaOMNADdeVNhBm+dTsXyMG1CH91Ne\n",
       "PRCj/pbqxQDoEU3MZ9jsjKuOgGNED7+VgEiKzfMAAAAiAZ7GdEJ/ABcArXHQnPUTAGnhU9EhdzyO\n",
       "Vg708nN4OcLudgAAABcBnshqQn8AF0t1tY45EL40lUUUuIIFtAAAAWpBms1JqEFsmUwIb//+p4QA\n",
       "FzyYb4Ayvr92irGvw83BjePNpKcwtAj0tMfsufVSMQ6GFuDDXx69q1zLNUfMoAgV5JZm4bYJ0XxE\n",
       "lCXThbRC7Wq5FqtAZ40+r/H4gUgh9L6pjOLZCsMA9jXTRye8juxFoBqULCuUwAXUiUxV43vHUG/6\n",
       "b2t1lNG9JjeQYzEpQ9fzmz8sRNIMMq1hWy2twYN8rQYlldotFYe+mCbZ+qc4tohsuvOvTQYLLagW\n",
       "CBVdBOixV4Jl8Zu6cVfayxy5VQelV7mXBZjHM5GofQjgQFaZAvCorZMzpIUl9qIUPT0dSbA/Eesl\n",
       "dYIc0BjENqlf+/U0U9It9m0D04Mgu0nDErCMU0GzzTE9Ac5nDVwxxhNo+IXHVofrneYKAkzoygYz\n",
       "2+o+c/ce9GkMXuprup3IkcvD8A7yo/MVi373t8h68Xwt1dozxpGHnTsxrKNvn06aF9w5p5F3pvop\n",
       "a0FPHQAAADVBnutFFSwr/wAS0DMAJYpUkiCG9H6IhdHO0ACuAiWtgFxJFprSDOQA6OqSYz+6EKwl\n",
       "OfZGwAAAABIBnwp0Qn8AGImPdDLrAUrhH/gAAAAfAZ8MakJ/ABdLdaddxPLk3J4xuJcVYxNbHymO\n",
       "Ae5EnQAAAY5BmxFJqEFsmUwIb//+p4QAF0Z7x/4AEkJS6Lcz9D3y61oq/SFICZa6EOCjICO49Cb5\n",
       "4HTgTDaIQshQm2spXiPOypI8FFcGJE6aVkGl5Tc/F42kP3uOwEnlN8KrW4b4xwDFVbQZE2PSyf52\n",
       "o8LtLVQ0JOFOvwGrvtQqe427R4M2GbqomJu4W4Rr72DDaP3Lwfj4xwYeFhhvaB1maolENe6iZMGf\n",
       "lOAwjXgF2YdFY9xKWJ4/WMzE7cXG0KAe9HphLCKYpucWvhTp1muI3hmwEbUXiL9N7O1BMvuM1ZPS\n",
       "RxbbOpjBSYGmz3Q0oGHrUmtyzhZGzCy9b1eY9K+84HTsG9aswlYiHOPTVebyPve4Uh/FUMwuyf/Y\n",
       "9wU35fkoY8KHLEVTIb8ksVvNsUyahKgK1+KwuOuwzqA0itY/bMP/EX81Ucdk/OkRwUMmKYYx4A72\n",
       "ZEFEtJDc88GxPg+LIK5EJZZb1xVn7JKn2Ck5ZKloFsEdo7xqJEAJCmuTdmWtdJuyyM+bW2e8BXZs\n",
       "63H6gdUHpQAAACBBny9FFSwr/wAP4B0W6uwfTWBVVAvBPYv6uiZ6W1Zz4QAAABQBn050Qn8AFQ08\n",
       "Dkd2xcI4POORWAAAABABn1BqQn8AC13AX8izUrjgAAABd0GbVUmoQWyZTAhv//6nhAAXPJhvgESG\n",
       "nTcwLqbgpAJyOz0cH2qjoEXjAv1rQlkvXl9lZl8pUQBnS8x367RVABEE54iLjCkMLl3rOYOL72ya\n",
       "6TPSYYHbqMh7eO41fwTg/B0vULILixl10rJ+Crk75VhqXxkilc/kOatfsgmyQkx6YparlB6Xbwgk\n",
       "lDdZr9B5zOrH5odtWdMuk4B0ya+YKmoWiIKrq9MqbOGfbAHpSAk4KI0ilrRBrDaHVMDX9HYUAQ8D\n",
       "crK6XHa3RsyQ7Qw52qKk6dvOJOmZi9AHT2FutDCvL3i+NPKTqh1LiOewiiAZycJNlcO08nubJLop\n",
       "p1ZIfmAKf5kYjfBEd2XzUXa/rOQFT/wGWhUxDXuQv2pa1tT+0A1btJsuXr0A9AK/ZJ0AgCSvTq5l\n",
       "P6djUBeQR03TxZSICqLg40cDXumguP8I6fsiH+Lu60Ers+BjBuurD0Ybd0OVv9DOuTT+QaBDn8d7\n",
       "TwrwCbIIjimrKQAAAEFBn3NFFSwr/wAS0DL+XlbSAt2FRZ4TyAD5jJC+Ga5UMH7QWJvG4N3kgItq\n",
       "EnJL1n5TEojFaA9fqZhpebaNxBol4AAAAB0Bn5J0Qn8AGH83nEfU97oW6So19rRVzI7hrA1hHwAA\n",
       "ABoBn5RqQn8AFrZtS7bwgIqpJHicjRSc8dK44QAAAW5Bm5lJqEFsmUwIb//+p4QAF0Duucouk46p\n",
       "AEHGdx2VLtVviO6vSwJnFGUIBU/jZBJzbaWWzdHAtre0SGrhYgpq/r65NhQ4MO/OIyyio+FdZ5s3\n",
       "e64XzoCdH4XNAnwzijwS5+DCXhJMEeRHppXFi2F8HgeDf5wvjCnWvMnutVm1q4JTJ203fD6YZnC+\n",
       "YRJo5sTpVExEWzwXDerEfcXPcBcye/geZ3wxhvKmSL54GV/xGECnVdLDjDmD/1ub8oJ+mtxDFR7O\n",
       "H8rb/W+cd2octVzzFVQXbNIe9NS5CyB/KNsn0UA97coj1ZcXqTjjyrPWfbddBJgfa+Ofwdpxg/Kw\n",
       "gvSTB9lQFire4bA8HTmH8R174147wN0fFmCezObiGVSmXFl7WjyUtzaeTv8AbPrBbMZQsvAfI2Ky\n",
       "AsD2y4v93ja2bQi0HdgIIm3DBcEtBANgjwKZdQS3iVnNhUv19wE8o5MATExki2qBxClzVzVAb0AA\n",
       "AAAiQZ+3RRUsK/8AEt2HLh8cp4tKn7yn0dYUOkk1WHe6z4t1BQAAABQBn9Z0Qn8AFQRm+QQh6t/a\n",
       "HsYBIwAAABUBn9hqQn8AGIeMBIJs6X9jIe6gBxwAAAFCQZvdSahBbJlMCG///qeEABdGMmkAmh9/\n",
       "5rUr3n5dzI9XjOmiq618WlQmhgWRv4VXSlun4WBK7SfqoDr3pilNXkocvCvk+cgBMI0+geb7hSSi\n",
       "7Fj7P+FoZtZD0S+CrNYeEqWGFne9Ci3IOKYNEBvkcJexcsEBdWwrS6/NCKw4fceGRlC4QYE4pLji\n",
       "Q8iQVDBSXeQyoBGn4UlepALK9iSDxvMFOjYi3r3daonAzRUTIbuKhUVY9K8cyG7VQle6a7IF9Dj+\n",
       "jLP/yr30gCHKH87QxxoZuktFg9R2T4sklwqFI2CvRPMfnbdZebzBAlrjyvOlTTrxuF+gjpYra3I0\n",
       "3JnPoMsQ2RYEWY/NYnCXDKyeQ2TX8tK8As/O2Z5DKQx6YFBXDCf/QxZJFAeZU4U4EFMpgj74oAnq\n",
       "bin/dIGvZzwnw5xoQQAAADNBn/tFFSwr/wARWSLcf6HHoQM3+5Nd6TBbZgLnMiMLwAK2tZgoA+gz\n",
       "E7UmY2nrdYZALaAAAAAgAZ4adEJ/ABa9Nv5HWuhC+aswEUTm60fPCORIj9u3gu8AAAAXAZ4cakJ/\n",
       "AAulutSVsqzc/uFAhl84PmEAAAEjQZoBSahBbJlMCG///qeEABc8mG+AMr7EtyabuWNWc8tTt9fs\n",
       "LCvbLPPL59K0SmAXKHyml15eGImZ/xyxWHCfZ02r4+i2zqOrZXXDxP/yIKwzDkKoCg31m+Rphgn2\n",
       "cHfcq2mXml6SZaIFAO8pzUdx0U3i58ENzi2oZiHsP9W4m3QQ60sxygbLZJdotyFqBuwTlcMbHUbr\n",
       "YqCczX/VNfv6DTtcevKQpJd+xzJY0wRwIUowxJ1+ttxrwU8456vZjcFWmDNfUYR8kJDYmJQzWoDE\n",
       "Ck4nX2VQ9DkBmNJcEcBYgXHuIgpO5GPtU/jH73Iuq0mqZE7BWZxKiyZSWBFef3u6TxRVqcgvwtbd\n",
       "cXl8MttvD19QtrKz5uA8BqrnR/zbEG5nxDAgAAAAJEGeP0UVLCv/ABLdhy4mvkpmRD4ZKrWj9/sR\n",
       "bn6zyQByCqsEbAAAABMBnl50Qn8AFQRnLO0oHuiAGsCBAAAAGAGeQGpCfwAYgVU2R6w/GVSSqpmk\n",
       "XwEPmAAAAX1BmkVJqEFsmUwIb//+p4QAFz2saADooEoAooIW3wDy4lnYemL0VKGiexMgK0oEb3j4\n",
       "01TSa7PmKDuJQ0xV+qqKfDHC+xWa/HlWmFZu+3owaKDEBfTzwqzGOzD/fCqfoASV9tQrCMZYvahQ\n",
       "SIk3562+S9zc8Rdnfhq0ZGfk2Dw7Xz+5WFKvuxbKnV02p0ACDbJcvkQJGbzeuOmscV3Aj97/z0Sl\n",
       "HMBFoTOIPVzkuol3gglNOtpf7aboc3FSlvI9sP1pjfmsO+TX5iNlSWFyoiaJD6076+MT7s1JaxI5\n",
       "mDxqc0GUO25RwNyFAhIR5JFjBE3jo+dOlZu9KqJRm+9fTEVtyLHduPAC9miQQPs+EchdBGxYydzj\n",
       "suMbQV48lWk5rH2lo1loqBJZOv79reuQ8YvRksx5oFYppdrbZB2QpSJBc+pPdQpl4CV+jmVrtVvv\n",
       "vxqtUNqJCJ50HaIMRWCeo374PPchcBSjOqF4DvrPK4JhRuQawU7BCkeSseJHBi0AAAAvQZ5jRRUs\n",
       "K/8AEVkz21StlSOhGdGQv+uIs2r1ckbF9ogT1eWPBNG0HhM0yf50B0wAAAAiAZ6CdEJ/ABa9PQUi\n",
       "Y16l7XlXwr20DeclX2ha4FsutqAM+QAAABoBnoRqQn8AFQuCRDEaeV4L2wGPXN9uWk4yoQAAAR1B\n",
       "molJqEFsmUwIb//+p4QAF0AXG+AMr67H36VmlKi+E+csMFjN6qlh72k/bJ3M5OxxJacYKeAc3FSR\n",
       "5jhXLrXE8l0mTMores7Tgwi+/RtjKtA+tUItNJu0X/cTzFGjkp4fCFfeKHgIfN+hB2nsNiedLT+Z\n",
       "/tlcftCRFBQMwWdHAJjBsxLH8PXAxtm08raKdBwZTqk8qqYYGh6eDNX04GLpfEwk/cN4X0CS8qRC\n",
       "/GR7BEfpjC7ynoGPw3SAhZjhBNO1SQc/hZYT04vyteToMleQLkcoi2Q0Gpvks0JPr5F+65HBioOF\n",
       "nZ69SAjD6pm8NXVxBvvKj/iVme9qy8pPWoi3hQIG7CoNwQiLNuiSMqHN15klg3RAvlaARBN6LaEA\n",
       "AAAgQZ6nRRUsK/8AEt2A0HzRK4ilmBtg1bhECnwbQrDYhYEAAAAZAZ7GdEJ/AAuiKewq6NQRF2G3\n",
       "W2zM0+RtQAAAABgBnshqQn8AGIFPcM7GiuUDqWbloqc14Z8AAAFtQZrNSahBbJlMCG///qeEABc9\n",
       "pagDmRL05uD3XLbChnQDaRhh9/da9PewuKXuu9gj2lL4Eux1Nbwo0EWPGVGaej9E23GdV+EWjaAm\n",
       "9YfWw8mB3uq7SvEw/ZCUQkkliBqRgaFvUS4A3fMMoUP8jY483BrxVklRHzyWECC20jyKX0sfMfxD\n",
       "taxS5erIGk0imKSznWc56OvyBC5NMkvQy3JrIj/kPxIVu7jCzjz5/bdOIXb5AYho5bcSmB8Jtu0o\n",
       "2xK3kzCiHr3FQPpH0frmhR4akTWpU14toAdL8LqXJ4ICEblgfe5/ucZZh1Fr7j202pNAK+O4ybWU\n",
       "DrOEqq0b17kj81Ephj4zB61KBXDNjmU0qoqIMpfvX/GpFwNcHeB8PnAnTEZTtiS56K0vRF4Bs0FF\n",
       "Y8n7MeDrfNjH0TscNMXHDCBRJhTs661+owMogVtbK/Xhj4w3brUhwMYrleyTmXk8nBPFjUu1/XGi\n",
       "CTKzgR8AAAAoQZ7rRRUsK/8AEVkge79nAmA3uFHJnq3Xq+7Od2eYDcOeeTKmwQDagAAAAB4Bnwp0\n",
       "Qn8AFr06na5/emN9HxeQcUzgQdp0dvAAN6AAAAATAZ8MakJ/AAaYXKtAa1fOo9QqgQAAAShBmxFJ\n",
       "qEFsmUwIb//+p4QAF0AXLIADZIQNn7FV5K9kgepTG5j3xQLNtPAoJre6QcIV5lICwbJV5ECZtOHs\n",
       "sl+IlV1S/5FBQvKvY34V65HnWSivHVVRLb3CN10XiwcVWf83pTU2d+JEB4ITJ7z9wIz4GniGBTIG\n",
       "aUoJjr3Ivrn7S9yiAGAuaWORVDs6KgDUKaysQyLunZGa2dcV7RyuHI+1VRa2QvWIWWw6rQEocT7L\n",
       "yvd9k8fSrkRHvAvr5RK3oWPnTDOMAdorx8dMHNAgk84yQTKJKIcZwcWw3fCwpcq/EczvjzWDtJTe\n",
       "jiODAtnQ6yQ5gp51PaXB+HqndLNDlfzHB1CvZXPJ8/l1c/l/GXDsUFeNdB5A+9vW1D3zaUxO74hm\n",
       "thjVvG9SJwAAACFBny9FFSwr/wAS3YcuHC1RtkE90IblDeJUIs3K1Bcw5D0AAAAYAZ9OdEJ/ABUE\n",
       "Zvj9CaXHANkOSJbIBknAAAAAGAGfUGpCfwAYh4wD2b1Wmk/TrSOMMMGMqAAAAV1Bm1VJqEFsmUwI\n",
       "b//+p4QAFz2lqAOZEuwTphgbkHaOH2VohvBf1ryJbbva3a8epYB1Bx9R/RU3MKlXs8TZ1rkEn8dA\n",
       "K4kJl9Dk20Rzeff0SfsTlpUvkpw5/nZvdANvFjvjmCQodECaF3UhIQ+PPXFIIKUbBsZq79+teBwK\n",
       "MIbqOkBBMKd/W4rMQssKItFdB5Ck5hJQsp04lVMkj4jUq1QeKv63NQr4yJM0d8U00qe7iDI8W73W\n",
       "9vYEbgnLYe/sbDlgayR1FRWZEWQWQjqi7g5cE6h83P+M+DXRkxU4YHwKiGxGG/Nd7xqzSIIwE4oU\n",
       "Enla+KfjDwl/S4xg7V6YCtJXvsddil2MayOwTXdUJMb3g866F5tPE5CO9+319W8G+rESbXddNGKP\n",
       "R7QeauEGQdJ5LeJsHgIx/YX5cs357gmak+bQuNWESgQbRyUzZUz7L6aaah8Az3F/Gsx89K+BAAAA\n",
       "LUGfc0UVLCv/ABFdgD3e4gfUuARzACrLkKzSNMXfbUSwi0/DEF/HoIc2fsDPgAAAAB4Bn5J0Qn8A\n",
       "C16fU+2Bjx4pZa4xSGskDe4/BUgoykgAAAAfAZ+UakJ/ABa2Z5w62JbqxYgGuEnnvRAu21iqSzwS\n",
       "8QAAAPNBm5lJqEFsmUwIb//+p4QAFqy1KOsrc0euD2EAOhdDeBisNokd3znk3NTwLBP8XRO/7JUh\n",
       "kaDvHBmHIuTxhpC809XlD8Y1ncUZL9xHX8RUv9GzOp6D8++m9zod9cP6e10258or94+9eltFgFxb\n",
       "YUqEYOb3R9iqVKlfBaQneR2x2Vym5excwgxg4zhducdRivfRjtrb09SNg5tZoTxfJJ2aiwEgG5Yk\n",
       "KQPeNIfZ9bY+aRKGH97EJ+zYF0ph6NBy8pR6E7vrkyek8bvLFOYr9Ei/shv7jMgdETtlsH94RIMU\n",
       "Q8H+FjMBFipKKzg75f5AiyJY2BAAAAAdQZ+3RRUsK/8AD+AdFk085XPjOLoQunU3Bl0/6TcAAAAb\n",
       "AZ/WdEJ/ABUNPck16lz1X7lKtC6l6sEMK4eFAAAAEgGf2GpCfwALXcGMmNkDTjNGVQAAAQZBm91J\n",
       "qEFsmUwIb//+p4QAFzyYb4AyzQGMGxApJn33cbQtlEpVo2Hst5YVB7tfaik3d8IsippkAk4GtmVh\n",
       "YpKr9vLYgzAmgRHx3A+DoMk0goMamKwP/PqRPt3kA+FmKcrcuqnh5vpamvYfspvMZAs88DBIvtlX\n",
       "wlx8ZTFbMOaJws/ebRCEJDfqFScdugxn8ftXr7LiNPM3TEC2Qm52oX0P2sFqhw28MI0MaSOe/oHS\n",
       "qDFZkaS/GJuEsPFNdzlLi7K7H4hZoaWjnhk8iJxo7J/iDDB3cvWjsVi4HSbYaD6u3dN0z0tKw8OT\n",
       "BWg7CLNoW7gRJ4Uo4n4ToWmDxCKBScfyNsZn7NFBAAAAPUGf+0UVLCv/ABLZM7x2YRQct7dBhN+U\n",
       "RStUAGicDF+sWspfYJ6N7EjwAzxj83q1G9FC7Uk4UBpTJnwGPmAAAAAaAZ4adEJ/ABh/N5yBw0CG\n",
       "Q4WndQbKEB6wd0EAAAAhAZ4cakJ/AAtdwYyaBdrqIrukKUxZxcKszC8QHN80QOOBAAAA/UGaAUmo\n",
       "QWyZTAhv//6nhAAXPbkgAsOp6mtC+iRRRewtO7n1bxuZUi2zk+uy5k8yGK70BVOno+rTOloIuj6r\n",
       "GU2cg9t7D2cBZG10aHxUfAr+7YGsdJKIPUbe1QOweZKWFbwbHN5KdFjtgoW9Z1OUoNYVnTzFCI8P\n",
       "0HVPNbmEgK+nc5ek77yR9qKFkCLGHU3qRTOKFB0FOZyavCJSx926iEA4eJ0CEIOBqWCNDV0tcl0S\n",
       "eTOpsJbbmZwpkRPusr5GWcebK0pIOyrsyDiQqtn1FX7vJSR7CTQVuAcsSAYQZlN74NvIRJZJwPhT\n",
       "Gmrop68TfQa6JcLHPfGKvfptELAAAAAlQZ4/RRUsK/8AEVTP+QVLA1rtjTuclTxBdeZNsFfQ+T1u\n",
       "akNDugAAABoBnl50Qn8AFrRjmbHZibEqYfyzMUiSySjpgQAAABkBnkBqQn8AFQuCFdWJOlQY+jmZ\n",
       "Ryi3V8GrAAAA+EGaRUmoQWyZTAhv//6nhAAXUL6nr0wH5woAbytjtbZE3CiokFW/VAdNw/7PWU8l\n",
       "HHxXQ1DZlKNyuZQ15HKYFe8Y5yjKvSLXbagYYu2KmNJqAp9qNODGfXTWuVOoQR8b16JN3x02/l3O\n",
       "EwhR+4nVJz4KzwblAYqqqxBw3YKuyvihe4JBPtaejoajYs8KbNfvPEHiNDixghqeDpqtEHaSZ7Tw\n",
       "0Wo+mn411sDVwxlBPXTb4s2cO28DpErCM/v+kBfNuZFjmjpJs4PngqkZ/yuclVKJJwgZOs3G8muK\n",
       "bNXjbc2RZbpJpd7ZvKlUnoy0JnvzxArEnaBQGIeBAAAAIUGeY0UVLCv/ABLdfoRQIjKhDmM9tWX0\n",
       "fumy8QnWVMwVUAAAABcBnoJ0Qn8AC1o0I2zHd5qLYpeAbfArYQAAAB0BnoRqQn8AGIFPcM7G735i\n",
       "iYbMOYYmWosAZsA1IQAAAMpBmolJqEFsmUwIb//+p4QAFqz9xDbbRvACypfOUW/EZfvmEn4wHr2D\n",
       "QSFTCIlciZjw51EvZIep42OwrNrSmNEnMjg26gpXVnQNo/0WT7i+dan2aNaaYF7829pgkhLW8S3e\n",
       "0mP4MKRADlSxWEFGwFKiNky2SVJ+Crn6vwl4mc+6MDWLBqF/a+A2MYBQZEd85pEmF1Nz3T3PyxMK\n",
       "3uRN7R8zmAbLL81OZMFLXSBidDHeq0lEuuTEJMHYOV9Kmxf3n5Lny7iexP8xSsCxAAAAMUGep0UV\n",
       "LCv/ABFdgLTxqS++vj7X0FpoovjsDz89yAD54BX5xjGcsdTYSVSX/Y2A7oEAAAAcAZ7GdEJ/AAbC\n",
       "X4XRa5SEvWYDvxwgtaQ5hMCkgAAAABsBnshqQn8AFrZpo6k2Y7SUVpxnTC4xnaKYFJAAAACSQZrN\n",
       "SahBbJlMCG///qeEABastSjmkdfACWNP78qczyH9aKzBqoR4lg1MlfiR5HSRfKYLFAYG6OjjP++p\n",
       "MDck7EB4x6G/SK3M282N733RuJHHV7XHLM3PlsHaVKyLEGEQYbTedlESLt6N4G+JXkRlcByXofa2\n",
       "/xjb5gO5liQxUp98AGG7K7m++BlhuNTf6pxmg4EAAAAiQZ7rRRUsK/8AD+AdFLNgtuiy1I3IWsih\n",
       "wc8ILycs4BizgAAAABsBnwp0Qn8AFQ08pWiTDuXoc9VoytRoB2q8JeAAAAAaAZ8MakJ/AAtdwMPS\n",
       "dKK0fCqxJTi9yZWQKaEAAACGQZsRSahBbJlMCGf//p4QAFqtAYvUEANPvvcNZgeg6sy+k2RVXcL4\n",
       "77WmpOX5aUz4BXedJbBwd1kqgh5Nk8vVucZWSCiQw67tjyo7XBnPfswj/f0Tm+pI+jyKaqjxxw1z\n",
       "+3hDJ2AwWPuOI/A4JpBZCnS1MS5VVrbg5Q/Xvi6wLQSoHDHBAGEAAAApQZ8vRRUsK/8AEtkxrUcT\n",
       "iRQ6D0va5OKQWAEvwCMS0otc69GHtyiIWUEAAAAaAZ9OdEJ/ABiJj3WDUTNPt7QTPF8d/87mCTgA\n",
       "AAAVAZ9QakJ/AAtdwMPTOGDNI+xDVD2UAAAAg0GbVUmoQWyZTAhP//3xAANfHQQvACavHss83M7x\n",
       "W5MObD/rHX1vSpdf3EYsoirnUwa08mzET/0esye58zdxf9pumQKfLPo3E+9scC1h+gp+U/IaIMIk\n",
       "JXlou1QAhet9+L953/QAVSubXCNfcCixqbzcz7avKMBnN+MJcWYoWsg6Bcu5AAAATEGfc0UVLCv/\n",
       "ABLdid5zxRcTobqiZ/e0AI2CNqcYXaoc1M2jRrlrywe1rQDFO30xyp0xcjj4d85Qq5UUwyX8pZRj\n",
       "qW1sRMufLt3zpLwAAAAlAZ+SdEJ/ABa9PdItHUxDAI1JCsKQSd9qRQ66bhGy1KdHhFRjAgAAAB8B\n",
       "n5RqQn8AGHw0k9OlV4bVjZRtUxby9CXnn+EZYDRhAAAKLm1vb3YAAABsbXZoZAAAAAAAAAAAAAAA\n",
       "AAAAA+gAABOIAAEAAAEAAAAAAAAAAAAAAAABAAAAAAAAAAAAAAAAAAAAAQAAAAAAAAAAAAAAAAAA\n",
       "QAAAAAAAAAAAAAAAAAAAAAAAAAAAAAAAAAAAAAAAAAIAAAlYdHJhawAAAFx0a2hkAAAAAwAAAAAA\n",
       "AAAAAAAAAQAAAAAAABOIAAAAAAAAAAAAAAAAAAAAAAABAAAAAAAAAAAAAAAAAAAAAQAAAAAAAAAA\n",
       "AAAAAAAAQAAAAAGwAAABIAAAAAAAJGVkdHMAAAAcZWxzdAAAAAAAAAABAAATiAAABAAAAQAAAAAI\n",
       "0G1kaWEAAAAgbWRoZAAAAAAAAAAAAAAAAAAAPAAAASwAVcQAAAAAAC1oZGxyAAAAAAAAAAB2aWRl\n",
       "AAAAAAAAAAAAAAAAVmlkZW9IYW5kbGVyAAAACHttaW5mAAAAFHZtaGQAAAABAAAAAAAAAAAAAAAk\n",
       "ZGluZgAAABxkcmVmAAAAAAAAAAEAAAAMdXJsIAAAAAEAAAg7c3RibAAAALNzdHNkAAAAAAAAAAEA\n",
       "AACjYXZjMQAAAAAAAAABAAAAAAAAAAAAAAAAAAAAAAGwASAASAAAAEgAAAAAAAAAAQAAAAAAAAAA\n",
       "AAAAAAAAAAAAAAAAAAAAAAAAAAAAAAAAABj//wAAADFhdmNDAWQAFf/hABhnZAAVrNlBsJaEAAAD\n",
       "AAQAAAMA8DxYtlgBAAZo6+PLIsAAAAAcdXVpZGtoQPJfJE/FujmlG88DI/MAAAAAAAAAGHN0dHMA\n",
       "AAAAAAAAAQAAAJYAAAIAAAAAFHN0c3MAAAAAAAAAAQAAAAEAAAS4Y3R0cwAAAAAAAACVAAAAAQAA\n",
       "BAAAAAABAAAKAAAAAAEAAAQAAAAAAQAAAAAAAAABAAACAAAAAAEAAAgAAAAAAgAAAgAAAAABAAAK\n",
       "AAAAAAEAAAQAAAAAAQAAAAAAAAABAAACAAAAAAEAAAoAAAAAAQAABAAAAAABAAAAAAAAAAEAAAIA\n",
       "AAAAAQAACgAAAAABAAAEAAAAAAEAAAAAAAAAAQAAAgAAAAABAAAGAAAAAAEAAAIAAAAAAQAACgAA\n",
       "AAABAAAEAAAAAAEAAAAAAAAAAQAAAgAAAAABAAAKAAAAAAEAAAQAAAAAAQAAAAAAAAABAAACAAAA\n",
       "AAEAAAoAAAAAAQAABAAAAAABAAAAAAAAAAEAAAIAAAAAAQAACgAAAAABAAAEAAAAAAEAAAAAAAAA\n",
       "AQAAAgAAAAABAAAKAAAAAAEAAAQAAAAAAQAAAAAAAAABAAACAAAAAAEAAAoAAAAAAQAABAAAAAAB\n",
       "AAAAAAAAAAEAAAIAAAAAAQAACgAAAAABAAAEAAAAAAEAAAAAAAAAAQAAAgAAAAABAAAKAAAAAAEA\n",
       "AAQAAAAAAQAAAAAAAAABAAACAAAAAAEAAAoAAAAAAQAABAAAAAABAAAAAAAAAAEAAAIAAAAAAQAA\n",
       "CgAAAAABAAAEAAAAAAEAAAAAAAAAAQAAAgAAAAABAAAKAAAAAAEAAAQAAAAAAQAAAAAAAAABAAAC\n",
       "AAAAAAEAAAoAAAAAAQAABAAAAAABAAAAAAAAAAEAAAIAAAAAAQAACgAAAAABAAAEAAAAAAEAAAAA\n",
       "AAAAAQAAAgAAAAABAAAKAAAAAAEAAAQAAAAAAQAAAAAAAAABAAACAAAAAAEAAAoAAAAAAQAABAAA\n",
       "AAABAAAAAAAAAAEAAAIAAAAAAQAACgAAAAABAAAEAAAAAAEAAAAAAAAAAQAAAgAAAAABAAAKAAAA\n",
       "AAEAAAQAAAAAAQAAAAAAAAABAAACAAAAAAEAAAoAAAAAAQAABAAAAAABAAAAAAAAAAEAAAIAAAAA\n",
       "AQAACgAAAAABAAAEAAAAAAEAAAAAAAAAAQAAAgAAAAABAAAKAAAAAAEAAAQAAAAAAQAAAAAAAAAB\n",
       "AAACAAAAAAEAAAoAAAAAAQAABAAAAAABAAAAAAAAAAEAAAIAAAAAAQAACgAAAAABAAAEAAAAAAEA\n",
       "AAAAAAAAAQAAAgAAAAABAAAKAAAAAAEAAAQAAAAAAQAAAAAAAAABAAACAAAAAAEAAAoAAAAAAQAA\n",
       "BAAAAAABAAAAAAAAAAEAAAIAAAAAAQAACgAAAAABAAAEAAAAAAEAAAAAAAAAAQAAAgAAAAABAAAK\n",
       "AAAAAAEAAAQAAAAAAQAAAAAAAAABAAACAAAAAAEAAAoAAAAAAQAABAAAAAABAAAAAAAAAAEAAAIA\n",
       "AAAAAQAACgAAAAABAAAEAAAAAAEAAAAAAAAAAQAAAgAAAAABAAAKAAAAAAEAAAQAAAAAAQAAAAAA\n",
       "AAABAAACAAAAAAEAAAoAAAAAAQAABAAAAAABAAAAAAAAAAEAAAIAAAAAAQAACgAAAAABAAAEAAAA\n",
       "AAEAAAAAAAAAAQAAAgAAAAABAAAKAAAAAAEAAAQAAAAAAQAAAAAAAAABAAACAAAAABxzdHNjAAAA\n",
       "AAAAAAEAAAABAAAAlgAAAAEAAAJsc3RzegAAAAAAAAAAAAAAlgAAEAoAAAYbAAACQwAAAVUAAADB\n",
       "AAACoQAAAIcAAABZAAACOQAAAIcAAABQAAAATgAAAQgAAABhAAAATgAAAFYAAAGKAAAATQAAADsA\n",
       "AAA8AAABVAAAAD0AAAHhAAAAVgAAADsAAAA8AAABigAAAFMAAAAqAAAAPgAAAZEAAABWAAAAOQAA\n",
       "ACcAAAFHAAAATwAAADgAAAAqAAABPQAAAFYAAAAmAAAALAAAASEAAABQAAAAIAAAACoAAAF4AAAA\n",
       "TQAAACYAAAAdAAABQAAAAF4AAAAoAAAAHQAAAWcAAABNAAAAKAAAAB8AAAGbAAAATAAAACIAAAAk\n",
       "AAABqAAAAE0AAAAYAAAAIwAAAXoAAAAwAAAAIgAAAB0AAAG/AAAARQAAACYAAAAbAAABbgAAADkA\n",
       "AAAWAAAAIwAAAZIAAAAkAAAAGAAAABQAAAF7AAAARQAAACEAAAAeAAABcgAAACYAAAAYAAAAGQAA\n",
       "AUYAAAA3AAAAJAAAABsAAAEnAAAAKAAAABcAAAAcAAABgQAAADMAAAAmAAAAHgAAASEAAAAkAAAA\n",
       "HQAAABwAAAFxAAAALAAAACIAAAAXAAABLAAAACUAAAAcAAAAHAAAAWEAAAAxAAAAIgAAACMAAAD3\n",
       "AAAAIQAAAB8AAAAWAAABCgAAAEEAAAAeAAAAJQAAAQEAAAApAAAAHgAAAB0AAAD8AAAAJQAAABsA\n",
       "AAAhAAAAzgAAADUAAAAgAAAAHwAAAJYAAAAmAAAAHwAAAB4AAACKAAAALQAAAB4AAAAZAAAAhwAA\n",
       "AFAAAAApAAAAIwAAABRzdGNvAAAAAAAAAAEAAAAsAAAAYnVkdGEAAABabWV0YQAAAAAAAAAhaGRs\n",
       "cgAAAAAAAAAAbWRpcmFwcGwAAAAAAAAAAAAAAAAtaWxzdAAAACWpdG9vAAAAHWRhdGEAAAABAAAA\n",
       "AExhdmY1OC4yOS4xMDA=\n",
       "\">\n",
       "  Your browser does not support the video tag.\n",
       "</video>"
      ],
      "text/plain": [
       "<IPython.core.display.HTML object>"
      ]
     },
     "execution_count": 21,
     "metadata": {},
     "output_type": "execute_result"
    },
    {
     "data": {
      "image/png": "[encoded data removed]",
      "text/plain": [
       "<Figure size 432x288 with 1 Axes>"
      ]
     },
     "metadata": {
      "needs_background": "light"
     },
     "output_type": "display_data"
    }
   ],
   "source": [
    "if use_free_move:\n",
    "    points_output.animate(fps = fps,movie_name = 'dynamics_free_swimming_final.mp4',lw=2,marker='o',color=(1,0,0,1),linestyle='-')\n",
    "else:\n",
    "    points_output.animate(fps = fps,movie_name = 'dynamics_final.mp4',lw=2,marker='o',color=(1,0,0,1),linestyle='-')\n",
    "    \n",
    "HTML(points_output.anim.to_html5_video())"
   ]
  },
  {
   "cell_type": "markdown",
   "id": "e92edbe4",
   "metadata": {},
   "source": [
    "# Changes "
   ]
  }
 ],
 "metadata": {
  "kernelspec": {
   "display_name": "Python 3 (ipykernel)",
   "language": "python",
   "name": "python3"
  },
  "language_info": {
   "codemirror_mode": {
    "name": "ipython",
    "version": 3
   },
   "file_extension": ".py",
   "mimetype": "text/x-python",
   "name": "python",
   "nbconvert_exporter": "python",
   "pygments_lexer": "ipython3",
   "version": "3.9.7"
  }
 },
 "nbformat": 4,
 "nbformat_minor": 5
}
