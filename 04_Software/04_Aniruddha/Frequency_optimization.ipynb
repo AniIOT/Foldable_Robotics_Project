{
 "cells": [
  {
   "cell_type": "code",
   "execution_count": 1,
   "id": "d75ff359",
   "metadata": {},
   "outputs": [],
   "source": [
    "%matplotlib inline"
   ]
  },
  {
   "cell_type": "code",
   "execution_count": 2,
   "id": "5eb036ed",
   "metadata": {},
   "outputs": [],
   "source": [
    "#Set script to run optimization\n",
    "run_fit = True"
   ]
  },
  {
   "cell_type": "markdown",
   "id": "fd2f9962",
   "metadata": {},
   "source": [
    "# Importing Libraries\n",
    "\n",
    "Importing libraries for script"
   ]
  },
  {
   "cell_type": "code",
   "execution_count": 3,
   "id": "19dc092c",
   "metadata": {},
   "outputs": [],
   "source": [
    "import pynamics\n",
    "from pynamics.frame import Frame\n",
    "from pynamics.variable_types import Differentiable,Constant\n",
    "from pynamics.system import System\n",
    "from pynamics.body import Body\n",
    "from pynamics.dyadic import Dyadic\n",
    "from pynamics.output import Output,PointsOutput\n",
    "from pynamics.output_points_3d import PointsOutput3D\n",
    "from pynamics.constraint import AccelerationConstraint,KinematicConstraint\n",
    "from pynamics.particle import Particle\n",
    "import pynamics.integration\n",
    "import numpy\n",
    "import matplotlib.pyplot as plt\n",
    "plt.ion()\n",
    "from math import pi,sin\n",
    "import sympy\n",
    "from sympy import sqrt\n",
    "import math\n",
    "import logging\n",
    "import scipy.optimize\n",
    "import pynamics.integration\n",
    "import pynamics.system\n",
    "import numpy.random\n",
    "import scipy.interpolate\n",
    "import scipy.optimize\n",
    "import cma\n",
    "import pandas as pd\n",
    "import idealab_tools.units\n",
    "from matplotlib import animation, rc\n",
    "from IPython.display import HTML\n",
    "\n",
    "\n",
    "system = System()\n",
    "pynamics.set_system(__name__,system)"
   ]
  },
  {
   "cell_type": "markdown",
   "id": "92c478a5",
   "metadata": {},
   "source": [
    "# Constants of System\n",
    "\n",
    "In this block of code we are defining all the constants of our system that we will use for our simulation"
   ]
  },
  {
   "cell_type": "code",
   "execution_count": 4,
   "id": "73ab2bd7",
   "metadata": {},
   "outputs": [],
   "source": [
    "#seg = segment, t = tail\n",
    "seg_l = 0.02\n",
    "t_l = 0.02\n",
    "seg_h = 0.01\n",
    "len_factor = 5.5\n",
    "\n",
    "#Set segment lengths\n",
    "l = Constant(seg_l,'l',system) #Segment Length, Formula:seg_len\n",
    "lT = Constant(seg_l,'tail',system) #Tail Length, Formula:tail_len\n",
    "lP = Constant(seg_l*len_factor,'lP',system) #Constrained length, Forumla:seg_len*constrainted_length_factor\n",
    "\n",
    "#Set masses, 666.7 is density of laminate structure\n",
    "m = Constant(666.7*seg_l*seg_h*0.001,'m',system) #Segment Mass, Formula:666.7*seg_len*seg_h*seg_th\n",
    "mT = Constant(666.7*t_l*seg_h*0.001,'mT',system) #Tail Mass, Formula:666.7*tail_len*seg_h*seg_th\n",
    "\n",
    "b = Constant(2.148e-6,'b',system)\n",
    "k = Constant(1.599e-4,'k',system)\n",
    "rho = Constant(998,'rho',system)\n",
    "area_p = Constant(seg_l*seg_h,'area_p',system) #area of flat plates\n",
    "area_f = Constant(seg_h*0.001,'area_f',system)\n",
    "\n",
    "freq = Constant(1,'freq',system) #frequency of head oscilation\n",
    "amp = Constant(40*pi/180,'amp',system) #maximum pitch angle of servo \n",
    "\n",
    "Ixx = Constant(1/12*(666.7*seg_l*seg_h*0.001)*(seg_h**2 + 0.001**2),'Ixx',system) #Formula: 1/12*666.7*seg_len*seg_h*seg_th*(seg_h**2 + seg_th**2\n",
    "Iyy = Constant(1/12*(666.7*seg_l*seg_h*0.001)*(seg_h**2 + seg_l**2),'Iyy',system) #Formula: 1/12*(666.7*seg_len*seg_h*seg_th)*(seg_h**2 + seg_len**2)\n",
    "Izz = Constant(1/12*(666.7*seg_l*seg_h*0.001)*(seg_l**2 + 0.001**2),'Izz',system) #Formula: 1/12*(666.7*seg_len*seg_h*seg_th)*(seg_len**2 + seg_th**2)\n",
    "Ixx_T = Constant(1/12*(666.7*t_l*seg_h*0.001)*(seg_h*2 + 0.001**2),'Ixx_T',system) #Formula: 1/12*(666.7*tail_len*seg_h*seg_th)*(seg_h*2 + seg_th**2) \n",
    "Iyy_T = Constant(1/12*(666.7*t_l*seg_h*0.001)*(seg_h**2 + t_l**2),'Iyy_T',system) #Formula: 1/12*(666.7*tail_len*seg_h*seg_th)*(seg_h**2 + tail_len**2)\n",
    "Izz_T = Constant(1/12*(666.7*t_l*seg_h*0.001)*(t_l**2 + 0.001**2),'Izz_T',system) #Formula: 1/12*(666.7*tail_len*seg_h*seg_th)*(tail_len**2 + seg_th**2)\n"
   ]
  },
  {
   "cell_type": "code",
   "execution_count": 5,
   "id": "e398a02c",
   "metadata": {},
   "outputs": [],
   "source": [
    "#Set integration tolerance\n",
    "tol = 1e-12"
   ]
  },
  {
   "cell_type": "code",
   "execution_count": 6,
   "id": "0be73862",
   "metadata": {},
   "outputs": [],
   "source": [
    "#Set simulation run time\n",
    "fps = 30\n",
    "tinitial = 0\n",
    "tfinal = 2\n",
    "tstep = 1/fps\n",
    "t = numpy.r_[tinitial:tfinal:tstep]"
   ]
  },
  {
   "cell_type": "code",
   "execution_count": 7,
   "id": "9afc2913",
   "metadata": {},
   "outputs": [],
   "source": [
    "#Define derivatives of frames\n",
    "qA,qA_d,qA_dd = Differentiable('qA',system)\n",
    "qB,qB_d,qB_dd = Differentiable('qB',system)\n",
    "qC,qC_d,qC_dd = Differentiable('qC',system)\n",
    "qD,qD_d,qD_dd = Differentiable('qD',system)\n",
    "qE,qE_d,qE_dd = Differentiable('qE',system)\n",
    "qF,qF_d,qF_dd = Differentiable('qF',system)\n",
    "qT,qT_d,qT_dd = Differentiable('qT',system)\n",
    "\n",
    "x,x_d,x_dd = Differentiable('x',system)\n",
    "y,y_d,y_dd = Differentiable('y',system)"
   ]
  },
  {
   "cell_type": "code",
   "execution_count": 8,
   "id": "ea73239d",
   "metadata": {},
   "outputs": [],
   "source": [
    "#set initial conditions\n",
    "initialvalues = {}\n",
    "initialvalues[qA]=40*pi/180\n",
    "initialvalues[qA_d]=0*pi/180\n",
    "initialvalues[qB]=20*pi/180\n",
    "initialvalues[qB_d]=0*pi/180\n",
    "initialvalues[qC]=10*pi/180\n",
    "initialvalues[qC_d]=0*pi/180\n",
    "initialvalues[qD]=0*pi/180\n",
    "initialvalues[qD_d]=0*pi/180\n",
    "initialvalues[qE]=-10*pi/180\n",
    "initialvalues[qE_d]=0*pi/180\n",
    "initialvalues[qF]=-40*pi/180\n",
    "initialvalues[qF_d]=0*pi/180\n",
    "initialvalues[qT]=0*pi/180\n",
    "initialvalues[qT_d]=0*pi/180\n",
    "\n",
    "initialvalues[x]=0*pi/180\n",
    "initialvalues[x_d]=0*pi/180\n",
    "initialvalues[y]=0*pi/180\n",
    "initialvalues[y_d]=0*pi/180\n",
    "\n",
    "statevariables = system.get_state_variables()\n",
    "ini0 = [initialvalues[item] for item in statevariables]"
   ]
  },
  {
   "cell_type": "code",
   "execution_count": 9,
   "id": "c3799823",
   "metadata": {},
   "outputs": [],
   "source": [
    "#Frames\n",
    "N = Frame('N',system)\n",
    "A = Frame('A',system)\n",
    "B = Frame('B',system)\n",
    "C = Frame('C',system)\n",
    "D = Frame('D',system)\n",
    "E = Frame('E',system)\n",
    "F = Frame('F',system)\n",
    "T = Frame('T',system)\n",
    "\n",
    "system.set_newtonian(N)\n",
    "\n",
    "A.rotate_fixed_axis(N,[0,0,1],qA,system)\n",
    "B.rotate_fixed_axis(N,[0,0,1],qB,system)\n",
    "C.rotate_fixed_axis(N,[0,0,1],qC,system)\n",
    "D.rotate_fixed_axis(N,[0,0,1],qD,system)\n",
    "E.rotate_fixed_axis(N,[0,0,1],qE,system)\n",
    "F.rotate_fixed_axis(N,[0,0,1],qF,system)\n",
    "T.rotate_fixed_axis(N,[0,0,1],qT,system)"
   ]
  },
  {
   "cell_type": "markdown",
   "id": "8d126165",
   "metadata": {},
   "source": [
    "# Defining Vectors\n",
    "\n",
    "In this section of code we are defining all the position and center of mass vecotors. Additionally we are calculating angular velocity of each frame and the respective linear velocities at the center of mass. We also build each body of the system in this section."
   ]
  },
  {
   "cell_type": "code",
   "execution_count": 10,
   "id": "1e8f4de1",
   "metadata": {},
   "outputs": [],
   "source": [
    "#Vectors\n",
    "\n",
    "pNA=x*N.x + y*N.y + 0*N.z\n",
    "pP = lP*N.x + pNA\n",
    "    \n",
    "pAB= pNA + l*A.x\n",
    "pBC = pAB + l*B.x\n",
    "pCD = pBC + l*C.x\n",
    "pDE = pCD + l*D.x\n",
    "pEF = pDE + l*E.x\n",
    "pFT = pEF + l*F.x\n",
    "pTtip = pFT + lT*T.x\n",
    "\n",
    "#Center of Mass\n",
    "pAcm=pNA+l/2*A.x\n",
    "pBcm=pAB+l/2*B.x\n",
    "pCcm=pBC+l/2*C.x\n",
    "pDcm=pCD+l/2*D.x\n",
    "pEcm=pDE+l/2*E.x\n",
    "pFcm=pEF+l/2*F.x\n",
    "pTcm=pFT+lT/2*T.x\n",
    "\n",
    "#Angular Velocity\n",
    "wNA = N.get_w_to(A)\n",
    "wAB = A.get_w_to(B) \n",
    "wBC = B.get_w_to(C)\n",
    "wCD = C.get_w_to(D) \n",
    "wDE = D.get_w_to(E)\n",
    "wEF = E.get_w_to(F)\n",
    "wFT = F.get_w_to(T)\n",
    "\n",
    "#Velocities \n",
    "vA=pAcm.time_derivative()\n",
    "vB=pBcm.time_derivative()\n",
    "vC=pCcm.time_derivative()\n",
    "vD=pDcm.time_derivative()\n",
    "vE=pEcm.time_derivative()\n",
    "vF=pFcm.time_derivative()\n",
    "vTtip=pTtip.time_derivative()\n",
    "\n",
    "#Interia and Bodys\n",
    "IA = Dyadic.build(A,Ixx,Iyy,Izz)\n",
    "IB = Dyadic.build(B,Ixx,Iyy,Izz)\n",
    "IC = Dyadic.build(C,Ixx,Iyy,Izz)\n",
    "ID = Dyadic.build(D,Ixx,Iyy,Izz)\n",
    "IE = Dyadic.build(E,Ixx,Iyy,Izz)\n",
    "IF = Dyadic.build(F,Ixx,Iyy,Izz)\n",
    "IT = Dyadic.build(T,Ixx_T,Iyy_T,Izz_T)\n",
    "\n",
    "BodyA = Body('BodyA',A,pAcm,m,IA,system)\n",
    "BodyB = Body('BodyB',B,pBcm,m,IB,system)\n",
    "BodyC = Body('BodyC',C,pCcm,m,IC,system)\n",
    "BodyD = Body('BodyD',D,pDcm,m,ID,system)\n",
    "BodyE = Body('BodyE',E,pEcm,m,IE,system)\n",
    "BodyF = Body('BodyF',F,pFcm,m,IF,system)\n",
    "BodyT = Body('BodyT',T,pTcm,mT,IT,system)"
   ]
  },
  {
   "cell_type": "markdown",
   "id": "b41227bd",
   "metadata": {},
   "source": [
    "# Adding Forces\n",
    "\n",
    "In this section of code we are adding the aerodynamic, spring, and damping forces in the system. The damping and spring values will be calculated experimentally."
   ]
  },
  {
   "cell_type": "code",
   "execution_count": 11,
   "id": "5f8946a3",
   "metadata": {},
   "outputs": [
    {
     "data": {
      "text/plain": [
       "(<pynamics.force.Force at 0x150378186d0>,\n",
       " <pynamics.spring.Spring at 0x15037818730>)"
      ]
     },
     "execution_count": 11,
     "metadata": {},
     "output_type": "execute_result"
    }
   ],
   "source": [
    "#Forces\n",
    "#system.addforce(-torque*sympy.sin(freq*2*pi*system.t)*A.z,wNA) #setting motor parameter\n",
    "\n",
    "#Aerodynamic Forces orthogonal to flat plates\n",
    "f_aero_Ay = rho * vA.length()*(vA.dot(A.y)) * area_p * A.y\n",
    "f_aero_By = rho * vB.length()*(vB.dot(B.y)) * area_p * B.y\n",
    "f_aero_Cy = rho * vC.length()*(vC.dot(C.y)) * area_p * C.y\n",
    "f_aero_Dy = rho * vD.length()*(vD.dot(D.y)) * area_p * D.y\n",
    "f_aero_Ey = rho * vE.length()*(vE.dot(E.y)) * area_p * E.y\n",
    "f_aero_Fy = rho * vF.length()*(vF.dot(F.y)) * area_p * F.y\n",
    "f_aero_Ty = rho * vTtip.length()*(vTtip.dot(T.y)) * area_p * T.y\n",
    "\n",
    "system.addforce(-f_aero_Ay,vA)\n",
    "system.addforce(-f_aero_By,vB)\n",
    "system.addforce(-f_aero_Cy,vC)\n",
    "system.addforce(-f_aero_Dy,vD)\n",
    "system.addforce(-f_aero_Ey,vE)\n",
    "system.addforce(-f_aero_Fy,vF)\n",
    "system.addforce(-f_aero_Ty,vTtip)\n",
    "\n",
    "#Aerodynamic Forces against front of device\n",
    "f_aero_Ax = rho * vA.length()*(vA.dot(A.x)) * area_f * A.x\n",
    "system.addforce(-f_aero_Ax,vA)\n",
    "\n",
    "#Damping Forces\n",
    "system.addforce(-b*wAB,wAB)\n",
    "system.addforce(-b*wBC,wBC)\n",
    "system.addforce(-b*wCD,wCD)\n",
    "system.addforce(-b*wDE,wDE)\n",
    "system.addforce(-b*wEF,wEF)\n",
    "system.addforce(-b*wFT,wFT)\n",
    "\n",
    "#Spring Force (Torsion)\n",
    "system.add_spring_force1(k,(qB-qA)*N.z,wAB)\n",
    "system.add_spring_force1(k,(qC-qB)*N.z,wBC)\n",
    "system.add_spring_force1(k,(qD-qC)*N.z,wCD) \n",
    "system.add_spring_force1(k,(qE-qD)*N.z,wDE)\n",
    "system.add_spring_force1(k,(qF-qE)*N.z,wEF)\n",
    "system.add_spring_force1(k,(qT-qF)*N.z,wFT)"
   ]
  },
  {
   "cell_type": "markdown",
   "id": "4fdef0bc",
   "metadata": {},
   "source": [
    "# Initial Condition\n",
    "\n",
    "Solving for initial condition constraints and using scipy to solve for initial states and setting initial states to system initial states."
   ]
  },
  {
   "cell_type": "code",
   "execution_count": 12,
   "id": "6714f080",
   "metadata": {},
   "outputs": [],
   "source": [
    "#Constraints for initial condition\n",
    "\n",
    "eq = []\n",
    "\n",
    "eq.append(pFT-pP)\n",
    "    \n",
    "eq_scalar = []\n",
    "eq_scalar.append(eq[0].dot(N.x))\n",
    "eq_scalar.append(eq[0].dot(N.y))"
   ]
  },
  {
   "cell_type": "code",
   "execution_count": 13,
   "id": "5cd73806",
   "metadata": {},
   "outputs": [],
   "source": [
    "#Solve for Intial Conditions\n",
    "\n",
    "qi = [qA,x,y]\n",
    "\n",
    "qd = [qB,qC,qD,qE,qF,qT]\n",
    "\n",
    "eq_scalar_c = [item.subs(system.constant_values) for item in eq_scalar]\n",
    "defined = dict([(item,initialvalues[item]) for item in qi])\n",
    "eq_scalar_c = [item.subs(defined) for item in eq_scalar_c]\n",
    "\n",
    "error = (numpy.array(eq_scalar_c)**2).sum()\n",
    "\n",
    "f = sympy.lambdify(qd,error)\n",
    "\n",
    "def function(args):\n",
    "    return f(*args)\n",
    "\n",
    "guess = [initialvalues[item] for item in qd]\n",
    "\n",
    "result = scipy.optimize.minimize(function,guess)\n",
    "if result.fun>1e-3:\n",
    "    raise(Exception(\"out of tolerance\"))\n",
    "    \n",
    "ini = []\n",
    "for item in system.get_state_variables():\n",
    "    if item in qd:\n",
    "        ini.append(result.x[qd.index(item)])\n",
    "    else:\n",
    "        ini.append(initialvalues[item])"
   ]
  },
  {
   "cell_type": "markdown",
   "id": "523d1c38",
   "metadata": {},
   "source": [
    "# Setting Dynamic Constraints\n",
    "\n",
    "Solving for dynamic constraints of system to run simulation."
   ]
  },
  {
   "cell_type": "code",
   "execution_count": 14,
   "id": "838764ed",
   "metadata": {},
   "outputs": [],
   "source": [
    "#Adding Dynamic Constraints\n",
    "\n",
    "#Position of motor limits\n",
    "pos = amp*sympy.cos(freq*2*pi*system.t)\n",
    "\n",
    "eq = []\n",
    "\n",
    "eq.append(pFT-pP)\n",
    "eq.append(pos*N.z-qA*A.z)\n",
    "\n",
    "eq_d = []\n",
    "eq_d = [item.time_derivative() for item in eq]\n",
    "\n",
    "eq_dd = []\n",
    "eq_dd = [item.time_derivative() for item in eq_d]\n",
    "\n",
    "eq_dd_scalar = []\n",
    "eq_dd_scalar.append(eq_dd[0].dot(N.x))\n",
    "eq_dd_scalar.append(eq_dd[0].dot(N.y))\n",
    "eq_dd_scalar.append(eq_dd[1].dot(N.z))\n",
    "\n",
    "system.add_constraint(AccelerationConstraint(eq_dd_scalar))"
   ]
  },
  {
   "cell_type": "markdown",
   "id": "0c1b8795",
   "metadata": {},
   "source": [
    "# Solving for Simulation\n",
    "\n",
    "Code to run simulation and plot motion, states, and total energy in system."
   ]
  },
  {
   "cell_type": "code",
   "execution_count": 15,
   "id": "7b18b3c6",
   "metadata": {
    "scrolled": true
   },
   "outputs": [
    {
     "name": "stderr",
     "output_type": "stream",
     "text": [
      "2022-04-26 21:27:16,538 - pynamics.system - INFO - getting dynamic equations\n",
      "2022-04-26 21:27:38,063 - pynamics.integration - INFO - beginning integration\n"
     ]
    },
    {
     "name": "stdout",
     "output_type": "stream",
     "text": [
      "[1.]\n"
     ]
    },
    {
     "name": "stderr",
     "output_type": "stream",
     "text": [
      "2022-04-26 21:31:01,480 - pynamics.integration - INFO - finished integration\n",
      "2022-04-26 21:31:01,480 - pynamics.integration - INFO - beginning integration\n"
     ]
    },
    {
     "name": "stdout",
     "output_type": "stream",
     "text": [
      "[1.00000001]\n"
     ]
    },
    {
     "name": "stderr",
     "output_type": "stream",
     "text": [
      "2022-04-26 21:34:19,043 - pynamics.integration - INFO - finished integration\n",
      "2022-04-26 21:34:19,063 - pynamics.integration - INFO - beginning integration\n"
     ]
    },
    {
     "name": "stdout",
     "output_type": "stream",
     "text": [
      "[1.04380728]\n"
     ]
    },
    {
     "name": "stderr",
     "output_type": "stream",
     "text": [
      "2022-04-26 21:37:30,705 - pynamics.integration - INFO - finished integration\n",
      "2022-04-26 21:37:30,721 - pynamics.integration - INFO - beginning integration\n"
     ]
    },
    {
     "name": "stdout",
     "output_type": "stream",
     "text": [
      "[1.04380729]\n"
     ]
    },
    {
     "name": "stderr",
     "output_type": "stream",
     "text": [
      "2022-04-26 21:40:43,730 - pynamics.integration - INFO - finished integration\n",
      "2022-04-26 21:40:43,730 - pynamics.integration - INFO - beginning integration\n"
     ]
    },
    {
     "name": "stdout",
     "output_type": "stream",
     "text": [
      "[1.43063314]\n"
     ]
    },
    {
     "name": "stderr",
     "output_type": "stream",
     "text": [
      "2022-04-26 21:45:04,007 - pynamics.integration - INFO - finished integration\n",
      "2022-04-26 21:45:04,023 - pynamics.integration - INFO - beginning integration\n"
     ]
    },
    {
     "name": "stdout",
     "output_type": "stream",
     "text": [
      "[1.43063315]\n"
     ]
    },
    {
     "name": "stderr",
     "output_type": "stream",
     "text": [
      "2022-04-26 21:49:25,626 - pynamics.integration - INFO - finished integration\n",
      "2022-04-26 21:49:25,641 - pynamics.integration - INFO - beginning integration\n"
     ]
    },
    {
     "name": "stdout",
     "output_type": "stream",
     "text": [
      "[1.53568948]\n"
     ]
    },
    {
     "name": "stderr",
     "output_type": "stream",
     "text": [
      "2022-04-26 21:54:20,285 - pynamics.integration - INFO - finished integration\n",
      "2022-04-26 21:54:20,288 - pynamics.integration - INFO - beginning integration\n"
     ]
    },
    {
     "name": "stdout",
     "output_type": "stream",
     "text": [
      "[1.53568949]\n"
     ]
    },
    {
     "name": "stderr",
     "output_type": "stream",
     "text": [
      "2022-04-26 22:00:05,263 - pynamics.integration - INFO - finished integration\n",
      "2022-04-26 22:00:05,267 - pynamics.integration - INFO - beginning integration\n"
     ]
    },
    {
     "name": "stdout",
     "output_type": "stream",
     "text": [
      "[2.2837036]\n"
     ]
    },
    {
     "name": "stderr",
     "output_type": "stream",
     "text": [
      "2022-04-26 22:07:21,604 - pynamics.integration - INFO - finished integration\n",
      "2022-04-26 22:07:21,607 - pynamics.integration - INFO - beginning integration\n"
     ]
    },
    {
     "name": "stdout",
     "output_type": "stream",
     "text": [
      "[2.28370361]\n"
     ]
    },
    {
     "name": "stderr",
     "output_type": "stream",
     "text": [
      "2022-04-26 22:14:52,899 - pynamics.integration - INFO - finished integration\n",
      "2022-04-26 22:14:52,903 - pynamics.integration - INFO - beginning integration\n"
     ]
    },
    {
     "name": "stdout",
     "output_type": "stream",
     "text": [
      "[1.55046261]\n"
     ]
    },
    {
     "name": "stderr",
     "output_type": "stream",
     "text": [
      "2022-04-26 22:19:35,643 - pynamics.integration - INFO - finished integration\n",
      "2022-04-26 22:19:35,645 - pynamics.integration - INFO - beginning integration\n"
     ]
    },
    {
     "name": "stdout",
     "output_type": "stream",
     "text": [
      "[1.55046262]\n"
     ]
    },
    {
     "name": "stderr",
     "output_type": "stream",
     "text": [
      "2022-04-26 22:24:20,802 - pynamics.integration - INFO - finished integration\n",
      "2022-04-26 22:24:20,804 - pynamics.integration - INFO - beginning integration\n"
     ]
    },
    {
     "name": "stdout",
     "output_type": "stream",
     "text": [
      "[2.03440166]\n"
     ]
    },
    {
     "name": "stderr",
     "output_type": "stream",
     "text": [
      "2022-04-26 22:30:21,156 - pynamics.integration - INFO - finished integration\n",
      "2022-04-26 22:30:21,162 - pynamics.integration - INFO - beginning integration\n"
     ]
    },
    {
     "name": "stdout",
     "output_type": "stream",
     "text": [
      "[2.03440167]\n"
     ]
    },
    {
     "name": "stderr",
     "output_type": "stream",
     "text": [
      "2022-04-26 22:36:12,323 - pynamics.integration - INFO - finished integration\n",
      "2022-04-26 22:36:12,326 - pynamics.integration - INFO - beginning integration\n"
     ]
    },
    {
     "name": "stdout",
     "output_type": "stream",
     "text": [
      "[2.17285252]\n"
     ]
    },
    {
     "name": "stderr",
     "output_type": "stream",
     "text": [
      "2022-04-26 22:42:21,704 - pynamics.integration - INFO - finished integration\n",
      "2022-04-26 22:42:21,708 - pynamics.integration - INFO - beginning integration\n"
     ]
    },
    {
     "name": "stdout",
     "output_type": "stream",
     "text": [
      "[2.17285253]\n"
     ]
    },
    {
     "name": "stderr",
     "output_type": "stream",
     "text": [
      "2022-04-26 22:48:30,532 - pynamics.integration - INFO - finished integration\n",
      "2022-04-26 22:48:30,535 - pynamics.integration - INFO - beginning integration\n"
     ]
    },
    {
     "name": "stdout",
     "output_type": "stream",
     "text": [
      "[2.09026749]\n"
     ]
    },
    {
     "name": "stderr",
     "output_type": "stream",
     "text": [
      "2022-04-26 22:54:17,791 - pynamics.integration - INFO - finished integration\n",
      "2022-04-26 22:54:17,793 - pynamics.integration - INFO - beginning integration\n"
     ]
    },
    {
     "name": "stdout",
     "output_type": "stream",
     "text": [
      "[2.0902675]\n"
     ]
    },
    {
     "name": "stderr",
     "output_type": "stream",
     "text": [
      "2022-04-26 23:00:01,449 - pynamics.integration - INFO - finished integration\n",
      "2022-04-26 23:00:01,452 - pynamics.integration - INFO - beginning integration\n"
     ]
    },
    {
     "name": "stdout",
     "output_type": "stream",
     "text": [
      "[2.16347631]\n"
     ]
    },
    {
     "name": "stderr",
     "output_type": "stream",
     "text": [
      "2022-04-26 23:06:09,397 - pynamics.integration - INFO - finished integration\n",
      "2022-04-26 23:06:09,399 - pynamics.integration - INFO - beginning integration\n"
     ]
    },
    {
     "name": "stdout",
     "output_type": "stream",
     "text": [
      "[2.16347632]\n"
     ]
    },
    {
     "name": "stderr",
     "output_type": "stream",
     "text": [
      "2022-04-26 23:12:17,131 - pynamics.integration - INFO - finished integration\n",
      "2022-04-26 23:12:17,133 - pynamics.integration - INFO - beginning integration\n"
     ]
    },
    {
     "name": "stdout",
     "output_type": "stream",
     "text": [
      "[2.11820558]\n"
     ]
    },
    {
     "name": "stderr",
     "output_type": "stream",
     "text": [
      "2022-04-26 23:18:16,812 - pynamics.integration - INFO - finished integration\n",
      "2022-04-26 23:18:16,815 - pynamics.integration - INFO - beginning integration\n"
     ]
    },
    {
     "name": "stdout",
     "output_type": "stream",
     "text": [
      "[2.11820559]\n"
     ]
    },
    {
     "name": "stderr",
     "output_type": "stream",
     "text": [
      "2022-04-26 23:24:08,785 - pynamics.integration - INFO - finished integration\n",
      "2022-04-26 23:24:08,787 - pynamics.integration - INFO - beginning integration\n"
     ]
    },
    {
     "name": "stdout",
     "output_type": "stream",
     "text": [
      "[2.15830527]\n"
     ]
    },
    {
     "name": "stderr",
     "output_type": "stream",
     "text": [
      "2022-04-26 23:30:16,108 - pynamics.integration - INFO - finished integration\n",
      "2022-04-26 23:30:16,110 - pynamics.integration - INFO - beginning integration\n"
     ]
    },
    {
     "name": "stdout",
     "output_type": "stream",
     "text": [
      "[2.15830528]\n"
     ]
    },
    {
     "name": "stderr",
     "output_type": "stream",
     "text": [
      "2022-04-26 23:36:29,072 - pynamics.integration - INFO - finished integration\n",
      "2022-04-26 23:36:29,075 - pynamics.integration - INFO - beginning integration\n"
     ]
    },
    {
     "name": "stdout",
     "output_type": "stream",
     "text": [
      "[2.13334855]\n"
     ]
    },
    {
     "name": "stderr",
     "output_type": "stream",
     "text": [
      "2022-04-26 23:42:33,808 - pynamics.integration - INFO - finished integration\n",
      "2022-04-26 23:42:33,811 - pynamics.integration - INFO - beginning integration\n"
     ]
    },
    {
     "name": "stdout",
     "output_type": "stream",
     "text": [
      "[2.13334856]\n"
     ]
    },
    {
     "name": "stderr",
     "output_type": "stream",
     "text": [
      "2022-04-26 23:48:39,990 - pynamics.integration - INFO - finished integration\n",
      "2022-04-26 23:48:39,998 - pynamics.integration - INFO - beginning integration\n"
     ]
    },
    {
     "name": "stdout",
     "output_type": "stream",
     "text": [
      "[2.13389765]\n"
     ]
    },
    {
     "name": "stderr",
     "output_type": "stream",
     "text": [
      "2022-04-26 23:53:31,114 - pynamics.integration - INFO - finished integration\n",
      "2022-04-26 23:53:31,117 - pynamics.integration - INFO - beginning integration\n"
     ]
    },
    {
     "name": "stdout",
     "output_type": "stream",
     "text": [
      "[2.13389766]\n"
     ]
    },
    {
     "name": "stderr",
     "output_type": "stream",
     "text": [
      "2022-04-26 23:59:40,079 - pynamics.integration - INFO - finished integration\n",
      "2022-04-26 23:59:40,082 - pynamics.integration - INFO - beginning integration\n"
     ]
    },
    {
     "name": "stdout",
     "output_type": "stream",
     "text": [
      "[2.13609406]\n"
     ]
    },
    {
     "name": "stderr",
     "output_type": "stream",
     "text": [
      "2022-04-27 00:06:38,408 - pynamics.integration - INFO - finished integration\n",
      "2022-04-27 00:06:38,411 - pynamics.integration - INFO - beginning integration\n"
     ]
    },
    {
     "name": "stdout",
     "output_type": "stream",
     "text": [
      "[2.13609407]\n"
     ]
    },
    {
     "name": "stderr",
     "output_type": "stream",
     "text": [
      "2022-04-27 00:12:47,498 - pynamics.integration - INFO - finished integration\n",
      "2022-04-27 00:12:47,501 - pynamics.integration - INFO - beginning integration\n"
     ]
    },
    {
     "name": "stdout",
     "output_type": "stream",
     "text": [
      "[2.13452987]\n"
     ]
    },
    {
     "name": "stderr",
     "output_type": "stream",
     "text": [
      "2022-04-27 00:19:21,998 - pynamics.integration - INFO - finished integration\n",
      "2022-04-27 00:19:22,003 - pynamics.integration - INFO - beginning integration\n"
     ]
    },
    {
     "name": "stdout",
     "output_type": "stream",
     "text": [
      "[2.13452988]\n"
     ]
    },
    {
     "name": "stderr",
     "output_type": "stream",
     "text": [
      "2022-04-27 00:26:07,667 - pynamics.integration - INFO - finished integration\n",
      "2022-04-27 00:26:07,667 - pynamics.integration - INFO - beginning integration\n"
     ]
    },
    {
     "name": "stdout",
     "output_type": "stream",
     "text": [
      "[2.13403029]\n"
     ]
    },
    {
     "name": "stderr",
     "output_type": "stream",
     "text": [
      "2022-04-27 00:32:09,637 - pynamics.integration - INFO - finished integration\n",
      "2022-04-27 00:32:09,637 - pynamics.integration - INFO - beginning integration\n"
     ]
    },
    {
     "name": "stdout",
     "output_type": "stream",
     "text": [
      "[2.1340303]\n"
     ]
    },
    {
     "name": "stderr",
     "output_type": "stream",
     "text": [
      "2022-04-27 00:38:09,041 - pynamics.integration - INFO - finished integration\n",
      "2022-04-27 00:38:09,056 - pynamics.integration - INFO - beginning integration\n"
     ]
    },
    {
     "name": "stdout",
     "output_type": "stream",
     "text": [
      "[2.13203198]\n"
     ]
    },
    {
     "name": "stderr",
     "output_type": "stream",
     "text": [
      "2022-04-27 00:44:07,431 - pynamics.integration - INFO - finished integration\n",
      "2022-04-27 00:44:07,431 - pynamics.integration - INFO - beginning integration\n"
     ]
    },
    {
     "name": "stdout",
     "output_type": "stream",
     "text": [
      "[2.13203199]\n"
     ]
    },
    {
     "name": "stderr",
     "output_type": "stream",
     "text": [
      "2022-04-27 00:50:04,410 - pynamics.integration - INFO - finished integration\n",
      "2022-04-27 00:50:04,410 - pynamics.integration - INFO - beginning integration\n"
     ]
    },
    {
     "name": "stdout",
     "output_type": "stream",
     "text": [
      "[2.13359316]\n"
     ]
    },
    {
     "name": "stderr",
     "output_type": "stream",
     "text": [
      "2022-04-27 00:55:57,381 - pynamics.integration - INFO - finished integration\n",
      "2022-04-27 00:55:57,381 - pynamics.integration - INFO - beginning integration\n"
     ]
    },
    {
     "name": "stdout",
     "output_type": "stream",
     "text": [
      "[2.13359317]\n"
     ]
    },
    {
     "name": "stderr",
     "output_type": "stream",
     "text": [
      "2022-04-27 01:01:43,375 - pynamics.integration - INFO - finished integration\n",
      "2022-04-27 01:01:43,375 - pynamics.integration - INFO - beginning integration\n"
     ]
    },
    {
     "name": "stdout",
     "output_type": "stream",
     "text": [
      "[2.13394062]\n"
     ]
    },
    {
     "name": "stderr",
     "output_type": "stream",
     "text": [
      "2022-04-27 01:07:33,277 - pynamics.integration - INFO - finished integration\n",
      "2022-04-27 01:07:33,277 - pynamics.integration - INFO - beginning integration\n"
     ]
    },
    {
     "name": "stdout",
     "output_type": "stream",
     "text": [
      "[2.13394063]\n"
     ]
    },
    {
     "name": "stderr",
     "output_type": "stream",
     "text": [
      "2022-04-27 01:13:29,785 - pynamics.integration - INFO - finished integration\n",
      "2022-04-27 01:13:29,785 - pynamics.integration - INFO - beginning integration\n"
     ]
    },
    {
     "name": "stdout",
     "output_type": "stream",
     "text": [
      "[2.13401317]\n"
     ]
    },
    {
     "name": "stderr",
     "output_type": "stream",
     "text": [
      "2022-04-27 01:19:27,483 - pynamics.integration - INFO - finished integration\n",
      "2022-04-27 01:19:27,498 - pynamics.integration - INFO - beginning integration\n"
     ]
    },
    {
     "name": "stdout",
     "output_type": "stream",
     "text": [
      "[2.13401318]\n"
     ]
    },
    {
     "name": "stderr",
     "output_type": "stream",
     "text": [
      "2022-04-27 01:25:24,101 - pynamics.integration - INFO - finished integration\n",
      "2022-04-27 01:25:24,101 - pynamics.integration - INFO - beginning integration\n"
     ]
    },
    {
     "name": "stdout",
     "output_type": "stream",
     "text": [
      "[2.13403029]\n"
     ]
    },
    {
     "name": "stderr",
     "output_type": "stream",
     "text": [
      "2022-04-27 01:31:23,742 - pynamics.integration - INFO - finished integration\n",
      "2022-04-27 01:31:23,742 - pynamics.integration - INFO - beginning integration\n"
     ]
    },
    {
     "name": "stdout",
     "output_type": "stream",
     "text": [
      "[2.1340303]\n"
     ]
    },
    {
     "name": "stderr",
     "output_type": "stream",
     "text": [
      "2022-04-27 01:37:21,566 - pynamics.integration - INFO - finished integration\n",
      "2022-04-27 01:37:21,566 - pynamics.integration - INFO - beginning integration\n"
     ]
    },
    {
     "name": "stdout",
     "output_type": "stream",
     "text": [
      "[2.13180321]\n"
     ]
    },
    {
     "name": "stderr",
     "output_type": "stream",
     "text": [
      "2022-04-27 01:43:20,538 - pynamics.integration - INFO - finished integration\n",
      "2022-04-27 01:43:20,553 - pynamics.integration - INFO - beginning integration\n"
     ]
    },
    {
     "name": "stdout",
     "output_type": "stream",
     "text": [
      "[2.13180322]\n"
     ]
    },
    {
     "name": "stderr",
     "output_type": "stream",
     "text": [
      "2022-04-27 01:49:18,248 - pynamics.integration - INFO - finished integration\n",
      "2022-04-27 01:49:18,248 - pynamics.integration - INFO - beginning integration\n"
     ]
    },
    {
     "name": "stdout",
     "output_type": "stream",
     "text": [
      "[2.13369226]\n"
     ]
    },
    {
     "name": "stderr",
     "output_type": "stream",
     "text": [
      "2022-04-27 01:55:17,474 - pynamics.integration - INFO - finished integration\n",
      "2022-04-27 01:55:17,474 - pynamics.integration - INFO - beginning integration\n"
     ]
    },
    {
     "name": "stdout",
     "output_type": "stream",
     "text": [
      "[2.13369227]\n"
     ]
    },
    {
     "name": "stderr",
     "output_type": "stream",
     "text": [
      "2022-04-27 02:01:12,766 - pynamics.integration - INFO - finished integration\n",
      "2022-04-27 02:01:12,766 - pynamics.integration - INFO - beginning integration\n"
     ]
    },
    {
     "name": "stdout",
     "output_type": "stream",
     "text": [
      "[2.13392308]\n"
     ]
    },
    {
     "name": "stderr",
     "output_type": "stream",
     "text": [
      "2022-04-27 02:07:08,333 - pynamics.integration - INFO - finished integration\n",
      "2022-04-27 02:07:08,349 - pynamics.integration - INFO - beginning integration\n"
     ]
    },
    {
     "name": "stdout",
     "output_type": "stream",
     "text": [
      "[2.13392309]\n"
     ]
    },
    {
     "name": "stderr",
     "output_type": "stream",
     "text": [
      "2022-04-27 02:13:04,481 - pynamics.integration - INFO - finished integration\n",
      "2022-04-27 02:13:04,481 - pynamics.integration - INFO - beginning integration\n"
     ]
    },
    {
     "name": "stdout",
     "output_type": "stream",
     "text": [
      "[2.13399578]\n"
     ]
    },
    {
     "name": "stderr",
     "output_type": "stream",
     "text": [
      "2022-04-27 02:19:05,810 - pynamics.integration - INFO - finished integration\n",
      "2022-04-27 02:19:05,826 - pynamics.integration - INFO - beginning integration\n"
     ]
    },
    {
     "name": "stdout",
     "output_type": "stream",
     "text": [
      "[2.13399579]\n"
     ]
    },
    {
     "name": "stderr",
     "output_type": "stream",
     "text": [
      "2022-04-27 02:24:59,160 - pynamics.integration - INFO - finished integration\n",
      "2022-04-27 02:24:59,175 - pynamics.integration - INFO - beginning integration\n"
     ]
    },
    {
     "name": "stdout",
     "output_type": "stream",
     "text": [
      "[2.13401688]\n"
     ]
    },
    {
     "name": "stderr",
     "output_type": "stream",
     "text": [
      "2022-04-27 02:30:49,535 - pynamics.integration - INFO - finished integration\n",
      "2022-04-27 02:30:49,535 - pynamics.integration - INFO - beginning integration\n"
     ]
    },
    {
     "name": "stdout",
     "output_type": "stream",
     "text": [
      "[2.13401689]\n"
     ]
    },
    {
     "name": "stderr",
     "output_type": "stream",
     "text": [
      "2022-04-27 02:36:47,926 - pynamics.integration - INFO - finished integration\n",
      "2022-04-27 02:36:47,926 - pynamics.integration - INFO - beginning integration\n"
     ]
    },
    {
     "name": "stdout",
     "output_type": "stream",
     "text": [
      "[2.13402676]\n"
     ]
    },
    {
     "name": "stderr",
     "output_type": "stream",
     "text": [
      "2022-04-27 02:42:40,144 - pynamics.integration - INFO - finished integration\n",
      "2022-04-27 02:42:40,144 - pynamics.integration - INFO - beginning integration\n"
     ]
    },
    {
     "name": "stdout",
     "output_type": "stream",
     "text": [
      "[2.13402677]\n"
     ]
    },
    {
     "name": "stderr",
     "output_type": "stream",
     "text": [
      "2022-04-27 02:48:28,283 - pynamics.integration - INFO - finished integration\n",
      "2022-04-27 02:48:28,283 - pynamics.integration - INFO - beginning integration\n"
     ]
    },
    {
     "name": "stdout",
     "output_type": "stream",
     "text": [
      "[2.13402921]\n"
     ]
    },
    {
     "name": "stderr",
     "output_type": "stream",
     "text": [
      "2022-04-27 02:54:25,242 - pynamics.integration - INFO - finished integration\n",
      "2022-04-27 02:54:25,242 - pynamics.integration - INFO - beginning integration\n"
     ]
    },
    {
     "name": "stdout",
     "output_type": "stream",
     "text": [
      "[2.13402922]\n"
     ]
    },
    {
     "name": "stderr",
     "output_type": "stream",
     "text": [
      "2022-04-27 03:00:24,064 - pynamics.integration - INFO - finished integration\n",
      "2022-04-27 03:00:24,064 - pynamics.integration - INFO - beginning integration\n"
     ]
    },
    {
     "name": "stdout",
     "output_type": "stream",
     "text": [
      "[2.13402998]\n"
     ]
    },
    {
     "name": "stderr",
     "output_type": "stream",
     "text": [
      "2022-04-27 03:06:17,658 - pynamics.integration - INFO - finished integration\n",
      "2022-04-27 03:06:17,658 - pynamics.integration - INFO - beginning integration\n"
     ]
    },
    {
     "name": "stdout",
     "output_type": "stream",
     "text": [
      "[2.13402999]\n"
     ]
    },
    {
     "name": "stderr",
     "output_type": "stream",
     "text": [
      "2022-04-27 03:12:14,136 - pynamics.integration - INFO - finished integration\n",
      "2022-04-27 03:12:14,136 - pynamics.integration - INFO - beginning integration\n"
     ]
    },
    {
     "name": "stdout",
     "output_type": "stream",
     "text": [
      "[2.13403024]\n"
     ]
    },
    {
     "name": "stderr",
     "output_type": "stream",
     "text": [
      "2022-04-27 03:18:09,842 - pynamics.integration - INFO - finished integration\n",
      "2022-04-27 03:18:09,842 - pynamics.integration - INFO - beginning integration\n"
     ]
    },
    {
     "name": "stdout",
     "output_type": "stream",
     "text": [
      "[2.13403025]\n"
     ]
    },
    {
     "name": "stderr",
     "output_type": "stream",
     "text": [
      "2022-04-27 03:23:59,402 - pynamics.integration - INFO - finished integration\n",
      "2022-04-27 03:23:59,402 - pynamics.integration - INFO - beginning integration\n"
     ]
    },
    {
     "name": "stdout",
     "output_type": "stream",
     "text": [
      "[2.13403027]\n"
     ]
    },
    {
     "name": "stderr",
     "output_type": "stream",
     "text": [
      "2022-04-27 03:29:46,719 - pynamics.integration - INFO - finished integration\n",
      "2022-04-27 03:29:46,719 - pynamics.integration - INFO - beginning integration\n"
     ]
    },
    {
     "name": "stdout",
     "output_type": "stream",
     "text": [
      "[2.13403028]\n"
     ]
    },
    {
     "name": "stderr",
     "output_type": "stream",
     "text": [
      "2022-04-27 03:35:44,831 - pynamics.integration - INFO - finished integration\n",
      "2022-04-27 03:35:44,831 - pynamics.integration - INFO - beginning integration\n"
     ]
    },
    {
     "name": "stdout",
     "output_type": "stream",
     "text": [
      "[2.13403026]\n"
     ]
    },
    {
     "name": "stderr",
     "output_type": "stream",
     "text": [
      "2022-04-27 03:41:37,779 - pynamics.integration - INFO - finished integration\n",
      "2022-04-27 03:41:37,779 - pynamics.integration - INFO - beginning integration\n"
     ]
    },
    {
     "name": "stdout",
     "output_type": "stream",
     "text": [
      "[2.13403027]\n"
     ]
    },
    {
     "name": "stderr",
     "output_type": "stream",
     "text": [
      "2022-04-27 03:47:33,432 - pynamics.integration - INFO - finished integration\n"
     ]
    },
    {
     "name": "stdout",
     "output_type": "stream",
     "text": [
      "0.0032902224833889445\n"
     ]
    }
   ],
   "source": [
    "#Solve model and plot angles\n",
    "\n",
    "#Constraints and Plots\n",
    "\n",
    "f,ma = system.getdynamics();\n",
    "\n",
    "tol = 1e-12\n",
    "points = [pNA,pAB,pBC,pCD,pDE,pEF,pFT,pTtip]\n",
    "\n",
    "def run_sim(args):\n",
    "    new_f = args[0] #Set to variables that optimizing\n",
    "    \n",
    "    #updating constant values affected by changing optimized values\n",
    "    new_freq = new_f\n",
    "    \n",
    "    #Populate constants with new values, in case for optimizing length and height, all constants get updated\n",
    "    constants = system.constant_values.copy()\n",
    "    constants[freq] = new_f\n",
    "    \n",
    "    states=pynamics.integration.integrate(func1,ini,t,rtol=tol,atol=tol,hmin=tol, args=({'constants':constants},))\n",
    "    return states\n",
    "\n",
    "def measured_perf(args):\n",
    "    print(args)\n",
    "    try:\n",
    "        states = run_sim(args)\n",
    "        linear_disp = abs(states[-1,7])/seg_l #linear displacement relative to segment length, default seg_len = .02\n",
    "        perf = (1/linear_disp)**2 #desired result is largest propulsion relative to size of device\n",
    "        return perf\n",
    "    except scipy.linalg.LinAlgError:\n",
    "        return 1000\n",
    "\n",
    "\n",
    "pynamics.system.logger.setLevel(logging.ERROR)\n",
    "\n",
    "if run_fit:\n",
    "\n",
    "    func1 = system.state_space_post_invert(f,ma)\n",
    "    \n",
    "    guess = [1] #Change depending on what factor you are optimizing \n",
    "\n",
    "    pynamics.system.logger.setLevel(logging.ERROR)\n",
    "    \n",
    "    sol = scipy.optimize.minimize(measured_perf,guess,bounds=[(0,10)]) #Change bounds depending on optimization parameter\n",
    "    print(sol.fun)\n",
    "    result = sol.x"
   ]
  },
  {
   "cell_type": "code",
   "execution_count": 16,
   "id": "03452b65",
   "metadata": {
    "scrolled": false
   },
   "outputs": [
    {
     "name": "stderr",
     "output_type": "stream",
     "text": [
      "2022-04-27 03:47:33,589 - pynamics.integration - INFO - beginning integration\n",
      "2022-04-27 03:53:25,810 - pynamics.integration - INFO - finished integration\n",
      "2022-04-27 03:53:26,013 - pynamics.output - INFO - calculating outputs\n",
      "2022-04-27 03:53:26,021 - pynamics.output - INFO - done calculating outputs\n"
     ]
    },
    {
     "name": "stdout",
     "output_type": "stream",
     "text": [
      "[2.13403026]\n"
     ]
    },
    {
     "data": {
      "image/png": "[encoded data removed]",
      "text/plain": [
       "<Figure size 432x288 with 2 Axes>"
      ]
     },
     "metadata": {
      "needs_background": "light"
     },
     "output_type": "display_data"
    }
   ],
   "source": [
    "#Constraint Forces\n",
    "if run_fit:\n",
    "    states2 = run_sim(result)\n",
    "    points_output = PointsOutput(points,system)\n",
    "    y2 = points_output.calc(states2,t)\n",
    "\n",
    "    fig = plt.figure()\n",
    "    ax1 = plt.subplot(2,1,2)\n",
    "    ax1.plot(t,states2[:,:7])\n",
    "    ax1.legend(['qA','qB','qC','qD','qE','qF','qT'])\n",
    "    ax1.set_title('State Positions')\n",
    "    ax1.set_xlabel('Time (s)')\n",
    "    ax1.set_ylabel('Position (mm)')\n",
    "\n",
    "    ax2 = plt.subplot(2,1,1)\n",
    "    ax2.plot(y2[:,0,0],y2[:,0,1])\n",
    "    ax2.axis('equal')\n",
    "    ax2.set_title('Position of Head')\n",
    "    ax2.set_xlabel('Position X (m)')\n",
    "    ax2.set_ylabel('Position Y (m)')\n",
    "\n",
    "    fig.tight_layout()\n",
    "\n",
    "    print(result)\n",
    "    \n",
    "else:\n",
    "    \n",
    "    func1,lambda1 = system.state_space_post_invert(f,ma,return_lambda = True)\n",
    "    states=pynamics.integration.integrate(func1,ini,t,rtol=tol,atol=tol,hmin=tol, args=({'constants':system.constant_values},))\n",
    "\n",
    "    points_output = PointsOutput(points,system) \n",
    "    y = points_output.calc(states,t)\n",
    "\n",
    "    fig = plt.figure(figsize=(8, 6), dpi=80)\n",
    "\n",
    "    ax1 = plt.subplot(2,1,1)\n",
    "    ax1.plot(y[:,7,0],y[:,7,1])\n",
    "    ax1.axis('equal')\n",
    "    ax1.set_title('Position of Tail Tip')\n",
    "    ax1.set_xlabel('Position X (m)')\n",
    "    ax1.set_ylabel('Position Y (m)')\n",
    "\n",
    "    ax2 = plt.subplot(2,1,2)\n",
    "    ax2.plot(y[:,0,0],y[:,0,1])\n",
    "    ax2.axis('equal')\n",
    "    ax2.set_title('Position of Head')\n",
    "    ax2.set_xlabel('Position X (m)')\n",
    "    ax2.set_ylabel('Position Y (m)')\n",
    "    \n",
    "    \n",
    "    fig.tight_layout()\n",
    "    \n",
    "    lambda2 = numpy.array([lambda1(item1,item2,system.constant_values) for item1,item2 in zip(t,states)])\n",
    "    plt.figure()\n",
    "    plt.plot(t, lambda2)\n",
    "    \n",
    "    points_output = PointsOutput(points,system)\n",
    "    y = points_output.calc(states,t)\n",
    "    points_output.plot_time(20)"
   ]
  },
  {
   "cell_type": "code",
   "execution_count": 17,
   "id": "c02dad6f",
   "metadata": {},
   "outputs": [
    {
     "data": {
      "text/html": [
       "<video width=\"432\" height=\"288\" controls autoplay loop>\n",
       "  <source type=\"video/mp4\" src=\"data:video/mp4;base64,AAAAIGZ0eXBNNFYgAAACAE00ViBpc29taXNvMmF2YzEAAAAIZnJlZQAAPQ1tZGF0AAACoAYF//+c\n",
       "3EXpvebZSLeWLNgg2SPu73gyNjQgLSBjb3JlIDE2MSAtIEguMjY0L01QRUctNCBBVkMgY29kZWMg\n",
       "LSBDb3B5bGVmdCAyMDAzLTIwMjAgLSBodHRwOi8vd3d3LnZpZGVvbGFuLm9yZy94MjY0Lmh0bWwg\n",
       "LSBvcHRpb25zOiBjYWJhYz0xIHJlZj0zIGRlYmxvY2s9MTowOjAgYW5hbHlzZT0weDM6MHgxMTMg\n",
       "bWU9aGV4IHN1Ym1lPTcgcHN5PTEgcHN5X3JkPTEuMDA6MC4wMCBtaXhlZF9yZWY9MSBtZV9yYW5n\n",
       "ZT0xNiBjaHJvbWFfbWU9MSB0cmVsbGlzPTEgOHg4ZGN0PTEgY3FtPTAgZGVhZHpvbmU9MjEsMTEg\n",
       "ZmFzdF9wc2tpcD0xIGNocm9tYV9xcF9vZmZzZXQ9LTIgdGhyZWFkcz05IGxvb2thaGVhZF90aHJl\n",
       "YWRzPTEgc2xpY2VkX3RocmVhZHM9MCBucj0wIGRlY2ltYXRlPTEgaW50ZXJsYWNlZD0wIGJsdXJh\n",
       "eV9jb21wYXQ9MCBjb25zdHJhaW5lZF9pbnRyYT0wIGJmcmFtZXM9MyBiX3B5cmFtaWQ9MiBiX2Fk\n",
       "YXB0PTEgYl9iaWFzPTAgZGlyZWN0PTEgd2VpZ2h0Yj0xIG9wZW5fZ29wPTAgd2VpZ2h0cD0yIGtl\n",
       "eWludD0yNTAga2V5aW50X21pbj0yNSBzY2VuZWN1dD00MCBpbnRyYV9yZWZyZXNoPTAgcmNfbG9v\n",
       "a2FoZWFkPTQwIHJjPWNyZiBtYnRyZWU9MSBjcmY9MjMuMCBxY29tcD0wLjYwIHFwbWluPTAgcXBt\n",
       "YXg9NjkgcXBzdGVwPTQgaXBfcmF0aW89MS40MCBhcT0xOjEuMDAAgAAABz9liIQAN//+9vD+BTY7\n",
       "mNCXEc3onTMfvxW4ujQ3vc4AAAMAADfc5kT+ypMG5sAAAuAACeERTV3NWo+RxyIeTV7MAQYqzcjK\n",
       "SflYE2Bxj8R0D5FJbLXpadyEKvd4gTQ7PiwZ7juF0oNmSWOgg38LaErAcq02bXvH0NeSlXt0g73e\n",
       "xwjbwVXdLAoxC53K/8XI2jR/qzbgdML2TV93WgNnTSyuhwAmn0GbbyRIvRR6QkCh1uokWp4RlD7R\n",
       "qf3jhuYHFkjroiP2DEy5ZoS/4mTFbMQTKSJs/GrFTuPIAYaWx0+fPtD7weHv+l3XCbSYqxfsEeVX\n",
       "4tVRSz4GwZQGyrT4BoEWnFIYtMib7GxtpYTxs8AkcCrSsx/R5kZboinCkQKBgINra9x/TnfbExIP\n",
       "pUMjHgZfBcE9bjvez/sEadPkv1Eqe4RGXXy8u17e5GsddmeiEBkPP2EihWqokPjquyWPupRsgUpm\n",
       "LqnvOR3tiDvq6oKTlTwGLhj853wTZ+fVrZrifLvwsXWj7Y/I8sm5Bf9UrxF7W2Amsb2jyVIM7Gz6\n",
       "ZQMOwQo+Uo3Lwd2dLqHUWkdUXKjrfVIcmta6t952twsN0ifakej40QxptC2pzerSc4Drsp5F3ybT\n",
       "cLyv8sQNfPs1uPb7h53rF9bEchCDVFiFKg9zO2ww3WdsvC6Lyp1+gshy3jg4sKicdw8u1TxZIMm9\n",
       "yc3Y6q4SZrqbMTUelRF0PCLzL1b3bMzj5KH62Vpv8INkTVv+JwmlnCKpJUBqd5/3Cf1WyAAz9Phc\n",
       "DWdWMKleaYt8UlxYWY7AgO77sZ06PswSe6kuhjz6kv1+rTDz+aYDge/qrdxuNxQutSt8H/K5P+IM\n",
       "9+dxvux7Uc1TnKXvT2dUyCj1ZzFkPMcCrEgXYWL1td7Xk6zFYBbDFHacI3IEijtfBHEQ0aFplSUh\n",
       "Un6sAVkiMJAL97/ybcY9Ej7AHDPsflQ4gGxbQwolSkIMuB0mELX00473qbnWgowZMqkiP5bzAK5T\n",
       "YyNSY2p/V6Zis+7xyYFqBB7giy8MnrH+/h33GIf3MyJlvRnVFCHp2qar5P7hyFrrQtNo8YsHKPXu\n",
       "E3IpJG3PkJOGmrcGZfloIHIHMAkPVDacg2br9gIqyCtoJIrWvPHDzTzPbpOog0b5RuSzSvHZ+hKH\n",
       "LJcDi9ll3mFdgJ2iSj8y4Q5y9PPhr9aMqKjUorkqUsjgJOCWx+L8YzRW+qimW1EzxXGz7qKrq6eT\n",
       "01zuOPZUnf6bdcSZc82TUbNujNG8PwxqUYpoE1y5gwRuBZjJ9+/YGBoLNfZRJxQRGjK6ALuphHhP\n",
       "HBXTMXKGW6P9qlaVXS6JW0E8wK6IVpD3wK2Q1DCIvlEwVUPm9GRF0VJLnefw+xH+2omewjQO+qCG\n",
       "ytFmDBVLutGX6y9TfpD6Dy3MSNAWyn9QO/V+G5J9OltJjBzqt+24QUHBQafAt6NCES5FygoclKSO\n",
       "RLgNiMEIrNG0mVmVk02nVbPhkDH47vhPjzIxcOHSNHU9oHQpUSt/4b5QP8Fx8SAnwNKfVqyOpXpb\n",
       "RhBRu/koWB9jAmJgmKJl8zieAPHJEfYb+MboWfbCtFZxwQZYTRaLKOJlpfomF0a7OttK50hHUajW\n",
       "UiC6TaVfcyYp5q347t9TN7UlYlzexLq2X5tUEZHjZBpwiHeB+1seT6vsKLFvRLAAJNIarO/Gx/iS\n",
       "WQYXHtJ1COcGurREGVK/CfVocdoMXS3SMP5nrLTuIeLbtubQRmvEU0LWue2IX0+ZFjBm4aM76ndA\n",
       "TkIchDsBQaVLn06A+kr8/z4WwN82Jd5qfDFoI0MpyFHegxh8pyvLb2MEdUJrHpZXmvDu7B0izy6i\n",
       "GihvZf9REsycdqS+LX73a1M10QFRI682gl8tOnJ26BDj1MYwRF+k5F4LhLnQFTYLS2e6meaYrU/5\n",
       "Cf/+EI7E3teu47gE9wcsPdOTghaXu4UcF2TIdeHSSSTKNINLuPJmTVZK4DMr0QHQ+WhNXPF1irws\n",
       "XZt46BIwWZyyPCHCbXb4jPbRgLH3ULP9j5XfLEpxmZu6jT7+hYntNAU78ViOtt8cBv82/uGPigwv\n",
       "42C3Br/Trd8N98AXWbffNlP/dmOPJz/5io8dKVHAjcGaLJxOLoZpyES5eRIuFQbfnJNk203zCqCj\n",
       "znxfhosoBH+Bde3MKLDp7ODCuNqz+6u7VXTtY7WE3pbjZ4IBDnZ+PrRh4o5uctIGyBlW6xpKQ3Db\n",
       "VAkeNIwbaLxPpFNY24aPX9xU6zai/aBt253mk4cGcFWOHeo2BQGzzPFQm1zmMbboKuwLbIqEipBZ\n",
       "6Sk4ZjMjI7wB/OWhRjzdkqPQlooD/eXKy/zQaqi+kMHwQfLJy0aAhTntu2+MJvYXgRVaik8H1Qzx\n",
       "P+zFqm+LsD6UGFQVYplmkFf9N3MKIniEdhQBMKsAD3qB07SBWS/9/C4KMlhQc5J1q0X/sV5EspAb\n",
       "uvjZxAgKUHUAAAMAAAMAAAk5AAACH0GaJGxDf/6nhAAEu433w5t1YAD+kH6L2ooXTXI9CDIBMS3q\n",
       "qAwsn30MYF5XXDSIN+G1Dg7YgFKMBvzE1fRw0k7CDiZVc/pct38y8WrTL19RlZHioc40sb7y7Dvc\n",
       "JoOyoeY+JwfEYvXXBlbcm15gHHGzhrNFUSK8fb/cZw4lDzdlqUGuOohaQhWL+haqh5T0OxhsUdl7\n",
       "ZA9gqOEAykQ8abpC+0X4XHjlHun0T8YPoWd7VlK9/LBKzgv+CBIJLgQDZ39uvRS5L3NSU0WrI6dc\n",
       "qmHOtt6NI0T2N5PufyUKC1YW2v4mTeqDKAyFStTC5qazg4O+RrRXhXLMMMoUuqsQxLCTP4Yxicej\n",
       "e1SAfuQo8gckwal/LBlATqQaoCWYQIjv2Pl8zV4FNxny2xdzCDImYw+2LGEl9kDOMwSravkWB3nW\n",
       "ACG7mc0nqmNcxI3guh+UxWyQOPVVbEvt9kRlJg/1GwaAFcGAzx+8nD4th1Nco2EwGJIflVV77EB5\n",
       "KXBXVpD5HEIrcKFlJnVxsig428fcWNG151EpR6DNsmnoQQlE3FB3Q2pz+HqrWfIiujUCmB9aJzqP\n",
       "xN0WP62X+L5PDY7KylviIH+pXDzaxZivM+IeY3l6m9/6NkX/bObcOBgEn6Sl6as86pTprR5Pof6x\n",
       "tyT5K6y+WkGkT6MN1kG1Wn8lFUb1XoTiN51qPk7kC+MTsiIIVIV7v5DkkDBJWOSB+52ouAAAAQlB\n",
       "nkJ4hX8AA8KxTg0ylo6MAIfJkBOTXwHff5NLvsu8xDBA21kKrVAxNAOvNz0pcHj/4LVIx0aXBC2Z\n",
       "rLdEySCSnlRBhCSvumLAhuxRLRNpyJHjlvDkdfSrovLSFBt3TX33f8pwMcUD6REq/Fk1dbKKU6Oi\n",
       "drhqfqg7aa+jXKPPqpvmKYAkjJRZn/1NCY/LC4GemcUcx7GzWv+uvM1OaWn2tzANNkoVOznYNzmF\n",
       "7pg2hUrNOwYfiGnKjZUB3/0S/q/jXlUDp9mlz4floSSjezxjuCM2XXRKR8Xg4x5lNoug4f5EJvu5\n",
       "0wP+V446A0L8mFWZZkgKNJvQxpciniJkFXfp9SiJX9s0UxvRAAAAkgGeYXRCfwAE+QsHD7Qnv8gf\n",
       "3SAAacVF3xPCzH6xXkngkGe65hAvYtvf+H8ka9fEsgC2JU+T0Wan8hbBUYZ0XOWGGDiNoYQmXJ01\n",
       "CVt4muNfheGAzWy2gMsg3ScCNpMcdmE0CgcLLa/8c/8olsd94F5Z6QTDZpOzu8+0NL+sQbo+7mU5\n",
       "9aReK1uub23uXs+/YN6AAAAAqQGeY2pCfwAE+tNdfUrZQCkRTQAmnS2T6XYyosHTutuIwCAp5dUk\n",
       "mE0fVmH0Bx8jZNo7lJGNYhoHcOmKxBlHGY5mazLHcphAH5Bl372xwiEIFK9vOZ85ewBPfl8X15LG\n",
       "dmAyS3n7Mu86gDCDQ1bhiH7NhizGwxRU2hPZJMiebXVrhN42CvJfUTWVIzlYdCydblXHvLdKiNGh\n",
       "Z0GeUyXuSfp+6YbsZPAahhUAAAGXQZpoSahBaJlMCG///qeEAAT3pC8AVAJKklpZ7eHw9/5RF993\n",
       "/z9Bkad+iOSYw7Nxz/voNoix5zwfvlWNFOM2Snk4Rsj2KyhJtjU5J0h9IRb5h7pG1sgm+u/YbQYp\n",
       "K6Z3zfthTC+JIW1dI4J6fjMn3kjCW5a716Jt/e0PNPb07YuKjOFweX+LJ8lr/kkDVIEimMxUDKnn\n",
       "DRsu15YGq9H4sM43QSBVoe+IAc85Z91IfXML6p4jyNkiAXCH1++beNVoB6mjFjeBC9B1Ojf6IpLp\n",
       "4fDzMDrSRlg1KhI7j5yBjfZdevGmSGbB4gta5evhRCWDytAfM+7zHmS+p9Oid8ZxdQSDBH8Prn6i\n",
       "lyWa6b6uRc9ZMUPKrLMw6hXkaUSXTa9tkHKFxFF1VFgBMq76ogN8Tn5ksI4Sb66tYJD/cxJR1UZ0\n",
       "lVo8CVGD9CO37pyC2A3PXTwhZgMh7qYTIuoHxSuoPcCeNl+AfHHsBJRI9cD3oM3HaqW2E08lPb/5\n",
       "d9bOOth9SgIqxszkwG4jFdd15vQKXoYCUM6dumEAAAEEQZ6GRREsK/8AA9lZ7wRcyYAPxSruoGfg\n",
       "6OAhyKSEt0oiOZNDhnRS7m1OVAWHxd5eB2mjUl3XZkjXTvAO/mtQ7h5cridojY2g/C9Hk+tYHFlD\n",
       "UoLcAokao6CsESl6rOanF0PRADhL29RQ2bpFb6uyejFa3tG512XrVPXyj7kz17Ed8GmkafJs6t8F\n",
       "lQf2Krc1TxaJIKPd57eOIQqedUa/OBUh6k6uOyaXIf1L85yGp8sSx2MsIlAfJXHcdzkOjmeSHP1P\n",
       "+JO5dCg7GA6xvGrSIfzsWzRrGvbhVEtI0gNtNNOs0wK14CBCTOH9gtrurPTlW3aDlgmv3by1qK0U\n",
       "MTb6MypcRMEAAACjAZ6ldEJ/AAUfN76UGXuEMrfJXVWlZVuO3onfeAEJjsUXvgIiF0ldqWce+C4u\n",
       "OnvEutS7pkrlCvg6+ujQrzUf/kuwtuVJbISx2nBEjgnDmZYry+lmDQRZl8TSUrFFyopgv7P8b8XO\n",
       "Us9kGuKNgXGnENHh9LMm50HmX2JBMj6eZ6TNec0cTgeapp/NFK6/f1ubKqbEolv9rXCvG1pjWNiW\n",
       "u80D5wAAAJoBnqdqQn8ABRTsUHWaDe4AGyts3KaNV0LSlhRvvCEgUtVd0ljkWpzSEj7MaeFBmOL6\n",
       "873+LUAi6GNqCFSwqxsi9Or4JLDF/W8sRzP+t/uqsVP+6NkX35E7E2KUg8v+gMEb+a2eU0oarfkc\n",
       "vDRXgCTw1koGGgCxlKIxT1QTvNCu7+VNu5Hoys30OhSgh2UL4Z6cvZlRb5YQC7FxAAABIEGaq0mo\n",
       "QWyZTAhv//6nhAAE/3z1Fi5X2SgAy73mThrWenLACCHqK9ilPGQ9Y2RDfV9/h5/0ZoYppivZE52Q\n",
       "S8l9xGhGL6fv6e8udERAdnL86lQFVy86EQ+HaC3RHcluFOlBCNRM+qxHTH2fhprpcIQaxNs5UjQJ\n",
       "dVj4vNPk/MFrsY0pwXY2VdI2Mv+zsIFxxZh+WwyVHjxUB5dfxKLd9+KtuF8+sP4nvDfBKVy36VaE\n",
       "1KCOe6X8/C6P/X7yU2Ni7OzooFmmgq47T24T24CiSwDy8vv3+KE0G0sdhJ2+3H5uGs+8I4ZSIkQu\n",
       "gqWrG5/UUgu37LesU6TtLBtIPxBMng0VtQMwTsz30g8uQRGt3CNilDV2c1lmKf0lmLe2XIc9IAAA\n",
       "AI1BnslFFSwr/wAD+MSJBaGhEJ0sbeSbEADsLWZ1mMq1O+KvW5BTH5fg4fWbTJQz8OggcvfbMBjE\n",
       "2twZI+0c27hXWw4nbccw2j1EyQrMR5oCETLe12KwIh+oZ3xLPEO9S62b9X1HuAb9TC7CyWRY/APy\n",
       "fAIAeFsnQkWxj9hZCVCIu2F7D2P+CVrbEahnmFEAAACtAZ7qakJ/AAVCpOAA7bgUnrD/hawplXF2\n",
       "u2PAAhR6+pTrdoiEZQRbwkyCWpZ/VeB5knmU3OBNma3dMKVx95wZ6279RbxAAaszYJ5njhvyzIMd\n",
       "rUUZR3+98AfSU91cPojINAITvFw6S9aA0xfga0lQ97cSQM2LSaw9k/9tvzd2J4V12BMz4Utt0/I6\n",
       "HuHGhFu5vwmj4WtiN05e0AOX0ZpbBrijOIX/Ne3fhA/lSggAAAFIQZrvSahBbJlMCG///qeEAAWH\n",
       "pC8AoISVJLTCHXafB2IpVUg+9OBxibB6HdnRT+E85ohWfcxAO4iD9mC09u04E4sL26dZKq1n7wKX\n",
       "uTytpSBoPPRfnKeDTwbdmvBlgM5s2n4otBu5ZOO6ltIY4wtamFSua4GV+jzRSGeMAeNv7ShGsSez\n",
       "I9VVIlIQHvglWYpmWovFCD/idw3eccGNQV8HtJegzj4lUvlejqAoksdEsC0y5oJQAyjEsFEbmEjE\n",
       "zsA5u9GS4AWDoWprUWO+5Pa+l/DlfXVkTq63E3XKy20xAYsNiQ6CXoXMIOOhnjx8TCfq4AliDGQt\n",
       "AkmtSzZvHF2a5kDEjR5sqPSnbfwQ9DkgG9523R0BesPfbgRiU4rIWo3P143GHmT2zUDQ27LWgyhw\n",
       "RmTZuU271USJsDFPi/q4Qa6xU2NVN/N5BAAAALZBnw1FFSwr/wAEFGEU4UxyR7/cKAA2griW8Fot\n",
       "ZxFz+nlSD3UhUNIqTmxivhSqulaNBAptCZfK4uVuS0qwJew2zf76/d2sxT9XXqbzEOrUCesVBB7d\n",
       "aWbTU7hW568WQTKlMH3UaiGSbVq70DZdaYi885GFIB/fEd56gyAsblkXBbQxi5dfWBc4Vl9T06Ud\n",
       "xzabFSwDsvsitDIiPBwyUdKAPs3roveWnf8Y/AZZSnoR53p6qlDwDQAAAKkBnyx0Qn8ABWc3LCdr\n",
       "xcOTB4tVgaAEKNkq8QuXLfk1tSCw6OqjVQ5c9o3NODeM/NfRRxVJMF2k3RYZhnqJcav9JPfwW521\n",
       "wrHOUoBDFMmVQhTmngtjGBg7MhQnYnEALaSHe9GmhMTHOnofYyA3EdwKs+ECBZLQt0QiorUb0wk8\n",
       "G17CcaxmMuuTomcQFZLMceKEHWe+X1tTsc4ie+GTXSIVll8lJq3Hgr0FAAAAcgGfLmpCfwAFYyg2\n",
       "eDjZMfpABECO6TjjT3SkycPAfMVcHxcU1khaPNHxRax+eLOxAShweSNvk+rVo/fn41cJUd9+6W4P\n",
       "+FyGuzJgOUrc7iWwmuj+vAitP/zrHIz9KcuEz9PyH7txqd+Uhc9TCX2X1GifAwAAAX1BmzNJqEFs\n",
       "mUwIb//+p4QABawBqQkPYyfEEJZgAL695p7YftIMjRlD1OfPpnhYZKFCitUuMfjCAkPUTewne26D\n",
       "pr9TAp1cLvbLqStJ/sDb64exYJAswyr2ftkaK4OKIuz+oXl3aDYKdtr1fBsyFCvi8sMyUOVFjWyW\n",
       "mesvANSEwyld3avrU6N5g/YF8cEK3iS6GWHcKljAINhZ7Pp13xvTwGv8zZJoeaC36Usw7p1fly7G\n",
       "u8o2pyauXWFMmZ8Q6+HLJcbHQLYVO1qCDqXx86R/dMAp/vufz9t+2IuYgiLoGq3BYzf2HcdxqP9U\n",
       "CCsoXpd8v+91t/tALEcIEB66qIakAJufGfNd8vQXwam0sVpXBOnSMVtAD698WRcdgREUVqkl/8ec\n",
       "Si1uqKlCq791d+b/c7dcJAiNkGQzFUTv6Jdlg/AOaE1Ki6zpeRklnCJkNiUYB571jz9CPcWT5Rtu\n",
       "GnwS5XfyVBYVEvSVllj9YTpGgqve1jopYzy1KeRNLGgAAADaQZ9RRRUsK/8ABDXk1sRAC3joY+OZ\n",
       "3vY10xOBXbLUVyhNnCasqWDgcHlZNebAFhbpP/UhMMRaPpuzIvFyeTQud4SwemHd6xUA79pM896H\n",
       "TVOKLJJAgA8gXH+YsemxTAUWtFSpKK1ymASsN3lTwMaP5SGGr5loC4JR+rTSMRw73aZCTxDRg16a\n",
       "MqkqR+wpHsYOmMvONIYVPITFsFcjjF+4UHw9Gjkdbu/epEDNjvrWAX8VsddD8EzNgeVnnftZLqa8\n",
       "aRvbZlkEpcwMtcW3PhG5LPjgI7XqxR1osoAAAACmAZ9wdEJ/AAWLN8Fu6bK4YAAmp+mhaj4xRlAU\n",
       "MNVueakvalKFV3SWw7DAuYKeHjF9qp+XTGbi8ISqZU732NwiDkEzd78ivnul0N7URjNe5JEkIkpB\n",
       "NSlnd1mqinxRwMob1mEmPbRa6MlZTo+fQ0/RNqa0VsArTmp620yt3vSq4XG3FSvOzHN3KaO/jFFX\n",
       "aoy+52O4yFW2d7YWnCyhPxpiHlxlpjAdgQAAAKkBn3JqQn8ABYcoNoiitOxXZS6Ea3tik6ACH4pm\n",
       "gJQaNxvEb+FvWY2bdssu1zQmOkyEa5UMVFYD5uLpMJv/bVQfqgb/fzbqkX25Fd2xTCDZ9QABp1qS\n",
       "KRzERRVCz4KgKcM8pTtgo9u9htyd0qDv9XPigfMQ4X1crOjXjOVTL1svw8iebn84y6DVYbsn4L7v\n",
       "I9JCTCxEBt6qpowyMs1CReN5oaqEEzMdE93AAAABgEGbd0moQWyZTAhv//6nhAAFzxWkJD2MkYur\n",
       "BncDAAvmhoCsXfR3oWXm8HJqgezu4t4zt0YXefgmnW6sGMbKZTeHCXWJijUP2xAfV9XixXcBDQ7h\n",
       "bXhasTkRNxCTlWIfwE3vcB1hyOcl7K118+MM+DRBnfnHwslQV1unFllb3Fo37rjoC3r+yN/8PkwZ\n",
       "0WjuaQO4cExnBvKfHTWopaXHVdMtMzBmHVg0yzK3xnBJBWTrp0KUhdyxOYhVtzw5dRjnL1DmHyLm\n",
       "xS/8WSDToW65Fm32kC/1Wwz3BdI6HMf286lssZAAoziql9wZFNptfwElyKi65OJV//jHR3+Hytyq\n",
       "8YYv2vaSFnLR2Y0fJM2xnenuf31MGxxX6RRGWqUsvXz+Ltk/8BIpCDPOzs2ppxBSeUBo0xckGgra\n",
       "lFJwG4veP4dDCNzB+kJOtndOSQw64KG/Vm1HMYqjQ03H8+UTkT8gAWicheRvLPNMvbpa6zZ4yoHy\n",
       "0ZLnDuBf04TrWDyNRWQjWAAAAL5Bn5VFFSwr/wAETbpJ4mRRCaAC+svMLG6goe/uyyqmwGUME3sC\n",
       "St2HobHyulioYezL7nNhMt70M+uTpgHPhJ4ukU7Trb/fP6Jwr+reV6cnXA7ZA0pm/VUBlB3qUvoh\n",
       "wAwq1xBdFAmzmYxKm3F0Ur663/8n/IppX5CLFqX6ejmHqexLRHAg+FTCZyJFUID39HrxuW2SJpDV\n",
       "KmgCVJ4frbfiDmM9pRuTs+3Q92gCKH9JBGAJIZ421hMgObPxNJRRAAAAuQGftHRCfwAFn1L+CDvU\n",
       "ABOOd2cQ2dWZRc2kraH72Rh0VFoYBY6h+RN1CmEunu+o7cTCgIvWX6f+WN4ZfHWt48Udby2MdJZl\n",
       "OD4BmQb5ZFS1Jbw3P2NUBQzYN+u4dCGxp9DGxN1Rcs1mT7C+a9YWl+UZ85z3UzUe4ndkWrpbJid+\n",
       "8EsYMyY8GSmasw7TNUgLuhVYKshOnGgR9LjIUq0XIRkTvsFB9cgoRzl+LB5odI3yiWRzvdgab8+A\n",
       "AAAAnwGftmpCfwAFmpFVt5BHMwYsyzcIAIetMfBu8XdOfBdtwOSVlv9jb/si9Y+Gt6Pw2fs2qI89\n",
       "ncExE0brKslAyYX2EAzHKaXXlDhFFCu2rQI7RJAAYIgeiDZE0tuWKlshqsudGCnpD+oD8PM0zvKF\n",
       "MLZ4AZ+gdBwkJTSKhdoujJZSFVA/iXU4QD2hgz1WC0wZd2wV5kA81BD7504APxg2YQAAAWhBm7tJ\n",
       "qEFsmUwIb//+p4QABf1D3monf9g+fLSQAc2eNJagZyz4z/x0pdYQH8zNNFId+pfHtNTCnprdz7Dz\n",
       "smx5jdeuRG00jTQtWe8iBl/0ZzFiHLuWeE9lSVO0wU/2q+o5CxVUpg1+5B2ZxVXai8eLuLqcRkFX\n",
       "XIaBNMJmxh0rrThjnNJiBzwN7/vI/G4DHd5YeX6jnaWj23NlQ+jms4Il9AQi6TIndV0CEJJgGDJA\n",
       "xLTSYXWevQxFh51QaHnxrum7jpAMlrk8xDI7+PxsNp5KdLcoZExBYxH81IvqDHuZ5A6NNu5bZZGD\n",
       "mHKZBqcgtMjEbgFLnWeTNNuS38d5MaVk8U4C518EywaCURCVcT4S+PPRmym+AqN3kIFTWH86QWGu\n",
       "nuVLOD0uaZ1IzYQKmu77Gob8pOIF1XwA/zzVsw1apxi0SIWw9R8SIachFIO8ohkMCLS8nt9vQAol\n",
       "Oqk8wzPjw/1IQETUqrkAAADaQZ/ZRRUsK/8ABG8p4jlV8lMaADajZGwwLrbWlHjQrtpLFtzDusXp\n",
       "ETYEUT5JBzSXpragryeIvSILfPUIJVRNgzTk+Hzzkx3Kr3A4PzBc3SyTgxZF/0ubCxxIzjNe7as/\n",
       "zsx4QmYyEZlMpStZAUhw4E6H39i3JiVmHrxFzUTAJiGjKxE2wclTapiICLQWDDrk8DjriuztH7tP\n",
       "8kcOnqGiaVId9kYU8hADr92oHqFQJfDjXkmBYVhlCdIWI+tIogfML6tmrs0IZ5iHrOA6DZl4G3kX\n",
       "WgO2KdrDzYAAAACrAZ/4dEJ/AAXS6YKhQd9nom2IgACFDh+Fq0t75yWbwLnTZkkydK6RttamxkSd\n",
       "Tcat4D95VYWI4R5T8TVaXaTSmBjfhQYqbIGk2cPxsH6/rWIZvDt62KHYyGyD0IsgrfkUV615CJXB\n",
       "mglNfmOtpiJgoPNDWVf2MBctH2dofeYF4EnWicHEVM8SFU/OLxUxLJAWROyi7ecdZdHktBjKh/z5\n",
       "lt1aaDwfLqDL0lqhAAAAtwGf+mpCfwAFzv81E9BcGABEHkU8XlGKtZ/kC/Or3PSrLlNR4nlDm5Kv\n",
       "jYR4jYSW4/OHPEWsz9TcOYVOYmHwgvIhxFTqs6a+/cCD0Jf0OajHcJrB9fsFmztRiZrd6d9h2N+b\n",
       "RyOSs74a7g0stqr4IjCUikzJqYaHl3/AgQY+4IuKu3iUSQCyvTtTXjPtDVTOnexj+Swq8nFz/JAY\n",
       "89H0u35hW5LJvR3uOPthaIK8pNeUffqX7E/oQAAAAUlBm/9JqEFsmUwIb//+p4QABh3WxgkL/iry\n",
       "yQAOLWfiWwv9/VJ4gLO+3bXltuBKFU69m7pvCNtRBPSAgR0tt8e6P1MvWdejMHd1TutF90wG9oD/\n",
       "OdwD822jiOZFv3JInzl9REdHNdDqTC+7h2OOqhPZFelCR/XEUekxipnJ9nRLhkEnmXKvi2NeR3pv\n",
       "0jZAtz2Ypqh1OMC+xJ7eUP2lAh3WKemsk7Avh9ODmF+suRNoknvOz7mPDC5y+BtwWT6fcqUUnCRF\n",
       "vtwQlTBLVFjMu1NEByaCZstRPfs4oQ+vJeiiQBqzusyiH2PrZp9Ka51iSCO862WW3+q9cxpA7fi3\n",
       "/tf8R4o5YvX+FAuwDLfvegcwf+UklW+bJhs2nP5AL4JAXUjldL9lZ48CqCibb4MGlIKCeatH4Ojs\n",
       "SAczfVle6cDk1Rs1ilK7zh6TKQAAALNBnh1FFSwr/wAEhthZ6ALABcuhB+0ZMrdWsOyy3NJCU5Lc\n",
       "EuI/0tKg3/elWS9Qjby14U051XdfYoJAHJPF9Y7NM2SEcibiFuwBydGSi34ign4SNX6NwmhK4wAg\n",
       "osyQK0O6HN88wAh8oqzu0VVZyOmC2TABaMKMB316ee4VnbfKMmkyFnBt6ZoIoMiZoAL7+t/hfVc4\n",
       "qsW8lHQkCDmxCttzkPBJ4olA44lvDH5c5ZrL2HZSQQAAAGwBnjx0Qn8ABfQdUGQEOjdHJO2OXgAb\n",
       "IOyki1KixS5UIezdYHIwW9U5TcSJx2ym5cQ5srW3iTCS6lQEJnBxs1r17PAxfURz3sHH5O1jfZtd\n",
       "/FeicAZhTYL4ix9uYKtyPRSS9fbUrEvCxQU6HMoAAACOAZ4+akJ/AAX2y8reAA/njiaWDdpqIEeg\n",
       "hNaMeFhTs1NT/iaZeTS0/ykwTyGSAjoLgAmdyAOeOoVCekYdiEbRYcwMooRW2HGL4DCXq65Kj7Hf\n",
       "fO/MZDuyn1+KyEPKNORh8hRNAIc20mDXGEs1ZaXNDesB1U1IwtGTMQd3lSUQ2mW52BchVD+vyeYA\n",
       "oS8EkgAAAZNBmiNJqEFsmUwIb//+p4QABk1D3vV4nxfI2QAC+vd9M0CwrawE37BVPVE9FVpoEkZ/\n",
       "5q19xL7BUAr0DNI6eM1M0rusd+xe4LfijlG4NMh6qV5on/23v7GBJX3PQ+ENH6UjdH6gnvp30Ehb\n",
       "5swFTv2Tv1jlkOutJAzqog+s2V6hXw79vTvDBz2QLrrCJgtSIByV7g4s8iJRCHAa3d8RewBlWdbc\n",
       "04Oq+DcOnphjbgSUzkGklT0HA8TF7GcEbv7kTqWQ0ddPYRqXpFJBKBPPWFutscTQbPAUc30C66vO\n",
       "GdBSOh2tlFoj3jaTIPZSIvqrY5dH+5KIFKE94dMGrampmNLyrtkxg4rQdhUyXq+Mzunz3KlagnuT\n",
       "AVHQmDs4G8GJB6D2F0fYIkd4MbWFw5vRq6ITbUK1cFrt1O8tIJ/eDOiwGmCIfNFjXkq2P4015eDH\n",
       "9wdkOTomQBq21lcNTjpmI67XCuh388faD6j4zu1Aj+mpBzAhdb51LKhKafCbRP5XdPEzy03yV0AM\n",
       "kPlnL7pBw+dX1qpBAAAA5EGeQUUVLCv/AATXVX5VSIj+tgANqO5F1OeC8HfdNbNrmMUe/s4F+2CI\n",
       "8T/awEDVc2TC0nJ4vOnE3+iP/xbW02koAv9nOwljSYDnRjJE0Z0TsidOkhelG9CInjMVU9tjsbpy\n",
       "I0/D4mLCh6Aq76yHL+h6/gX2t7OB8zNUCD3KDELF4FbAf1N5cK6W2qaSyuRChBvjWJt78Rn4ogJV\n",
       "blT9kjIFfo9Mt3VsfTDvH13FzkgpwRQuejNqGZKjGkuLqqzehaCpzdepbw12RuQrGSZ36yxPzoDv\n",
       "9zxhL6Ic4eji8OEFffiN6AAAALYBnmB0Qn8ABh+EfWzAAnbyveoEvNCfqr1cCRy+5Nbqq5Ov5IdZ\n",
       "z5ZWul57b9pNDFe+MW2yWA5WcCrKe9vlhYOSADAs6oRYSvVmRlOigWYVFlXAIkD1Yn/gtaimeSZQ\n",
       "l5Gda6lGlXYOUQW3g45Bhc6UbqjvMNp3eBv66fBfxBZVDgqz9FhhNCT9/Z7LzRc+A/Zbo9o+ZSgQ\n",
       "tjA1lxo1w4/1DLlBl91jzSYLu7PKPUBekumsYxi0uQAAAMABnmJqQn8ABkr1NQaIcKsHDdUQATs/\n",
       "XoGyMKomb3OwG8q9ytIfZoX6NZq3S0clgIPKWWTAVrbPJ5exDg5HaV9sb4HOvrMkqdYTWQynX9CL\n",
       "KQiyoLiqD55EzXHpxKyHLDKOghBVTJsExavNSSqmeLeQ3gNRucFt4gkTtn5HlojMxfqTSulimkMc\n",
       "rr6IaIBa54Qx1iRW52ypU3nkVMNvqL4f8/QEVP9jO1LelMmCxru1Aj2+nZltb3GPFSqQJijOusoA\n",
       "AAEZQZpmSahBbJlMCG///qeEAAZt1qNJD2UC8fUfnGADLay4Q1tKrLGb2JrSxvirQ1FvC6ecj5Pp\n",
       "1pRtqYhgouAWMLySkrTD66sqrVqP/jPybJcz4hkfH5Ik3wXOkWskRxr0y/jc6C2dX9Q3rKSlT4gN\n",
       "4IZ5oi31Y7+VBXEgtY5q3LDF5CFLBt1ETsMuPjYOwnaiH5SOyZSiDwTR9C1/QdmlKzzGSPqtZhOn\n",
       "b9QJeQ9+3TVzttw4VuQ5Q1v2Q/qDQ6slVIYYDbLJEl1/Jebe00DpXHBlZOcCyJ8A1yESWGLu9nCl\n",
       "i+EH/3IsK8Jd69JexzpyZLT6Km0WOtCB/OTW9NSLEw48u2BkrnAb6njMVluLeK3SluLN1kNyczEA\n",
       "AACyQZ6ERRUsK/8ABNTVMsFfMTQAXzPW4rC7LBJEUy/lvc0xHlHa+S4hxpHdCGfdHH6PnJpC8NXO\n",
       "QN7CwzoqSJRwDRcoYSrPbZ4GJG8rXLYVgSS3+XcqeKUa0bQ3lENGaQdFE/jp4ZXPI1uqx00+tqGV\n",
       "O5kx6E/OeCOcKUy0Hfx/DbEqq5+PcXJBF6D6/pDzhAetSFhAJ0oq85IVYS0lkyZXgFznUQ5NeNdd\n",
       "xk+mL1fQ0F8WwQAAAJ4BnqVqQn8ABjNyLQFc+dVNVC9aSACHgSMbfXteZlaebQK38gXjWHfz3Fr+\n",
       "cYcCCeZpEc9k7QQvB3jJ4zsyCYcVmlE/N8r74GHC8JZDlRspxJwSJQSSkWJx3CjARqrcMSKs0IP0\n",
       "Mo/F3HIam2h9Td9HUsmv5n+ZCcZqmK7tBlW6BOlZSAGLNAtkttejEXQpqdrnLnWOcjRw9zXwwCue\n",
       "YQAAAVFBmqpJqEFsmUwIb//+p4QABp1D3sWlkAE7eb2327G1OzTVM7U6ySJDM2Wnhayz62OOg4Ej\n",
       "t40x1AJURjGqLPIyOB8FgNQ6O/iSDaDsxkDFHwm7qQ53jBuRKP9U7A9eYlmKvzYIQvyGvtg1aDk5\n",
       "7WnVmKyWeF3K/AwuZkdLf0Jn8CcTKqbiz26Bb1B9P+3SjWq1iOdb3DSCdVv2SkaQkwdscgNhNxnV\n",
       "dBIw9qnuPoLVL7cPNEOtDh1eHbvmS1sOlnprxWvQ1OmzPiovwOGEx0/dFDrG/Mpcnafg8urQZFiQ\n",
       "NxegrH/Vs0wVxyEVIZGxAWaQd06pb4QfZspNgtgFDcNb/8bScw60L7Vaz3KegZcTPd/r25RoMRww\n",
       "2JuVqmiiV3IPMflzCcTRUVaLqSCyvC1Yqxiq/MbLn0YhPEvHYK+AGGFSMSN3YZko98ENqbfUv5Ah\n",
       "AAAA00GeyEUVLCv/AAUetdObQCk40gAh+UtbdUd6Ok2TFFgWjgZ7pkBP6gk7oF6C/OxVdJiPBicW\n",
       "IYLgplxhq6oe1YYjxqnrDOKeaxjNOKIhwBRDRZ72bfE4ANh+q7JIGKpniivgkYz8Bkhvosnf+RwC\n",
       "BzaWCx4ayZMXBkX0mkxyoezmdGsOKwtDPo9mMpw3KKRQDs2KqnSb/ve9xcJ9XSFAxQVBu42izKz0\n",
       "xdUmByVZ4WnWqvvTcEpWHwjy9q1Sm48BJklL2u9NPKa85i80j4pB/6MQAekAAACXAZ7ndEJ/AAZu\n",
       "Z7+zTxpFtwKm3Zlab40ABsy9w13MCFlND1AEh6qaOroAeK2kvcgQj2PAc/n2sfV+iMTax9zLlGI+\n",
       "OoygUlcKXTuHZtWq5+K7OmXxyuwmzU8Obs3gmhBrP9ReBo027KrH0VoaVZlU/LJQhKIe0l04VXQK\n",
       "XAoDkRDCKhyhTd3Y7Ar0aDiU+sqReT4kyR81NwAAALMBnulqQn8ABpnU4pfGGBnwIqclAA2odis2\n",
       "K3cul3ulHHusOrG3vgR/FIVIbqF3kBE/LXr7IbdH7AlFDhs+qoDfQXzsCxCZV55NGO9wweR+GRn2\n",
       "EQGxuJpuTCN5P/QRuKBg7/txNF+7N+XeF50HZezJ8ONdU3TGqG31suLTiMcV4zYYr83StSbih9fV\n",
       "8PO3Dy0nzfhwj9t0ND01qLsBnOwzMgBeoEXdTf90IwQ7CdMafOOWqQAAAWlBmu5JqEFsmUwIb//+\n",
       "p4QABr3Wyy5L7bcAF9e2o1ce6SHnXQ4GeJhkbX+7PQVzmAMZRRFln/8PlT2pVDFqKuZuQy84g3Kr\n",
       "X0rgWZSR1sPpQGfjl49USwCCS72iamzYzceLxURKoLeC4N1RUNJ9HTOdJH0AFkVy4uKEC2BDmXLI\n",
       "IeCeKansJBpiUHkMOfDxZHiuF22innc/LQFH5K+cmuJsZw12TlG5N0TklXMqTQ6CCyFKakEzALm4\n",
       "Wd4F0pyrtqlW+sVyosMK2s5xcbtAcK5JDYQpi1U29ejHrShKVl73f/eH13BMzWzu5gRMjRqIA8nG\n",
       "I8CIAgAkoWJ1VRYkGAhJNucUvvzmewJRh+g3R+zbbFKxQ9Kp/YM1Kun1LF3QNa8vUP84cUlx+JDB\n",
       "jveFLFPEUaKpTmItPc56zMKyUl6RnyVr5KiOKLdcTFqEvn+KhuFENV2ZADXWMkeFBW7/K3atb4ze\n",
       "BmcxppXcAAAAkUGfDEUVLCv/AAVCu5vSGeAAurh5ZAFj0dtbNVO7Az230UraQdQa3O0u5XaDjgJ4\n",
       "PItkuC0I3mB0yFk1VYYJEbobsoaAbCBtLpVStsViViNHyBfyXYLwFMNzemIqcK1fn3MrYEpm34K0\n",
       "/9MTTbBtacZ1UFnkDvzroZRAVsbzGSiAAQIr0yxjeiZ1IBXD3q+tGroAAACfAZ8rdEJ/AAadegAE\n",
       "7P3C+axGo5ss7mP9bTTs3nCZ7V/bCdY9PwsLzfI7aTJztP+W8KMREqf+IbtXUMpvmHuzHKUZZkOX\n",
       "045BwEL+QnuNbO2eBVa6o3jA5i1ofOTfMX5sESzTlgaluUC7Z1fDaaPoSdKJhFnhT3SXIKjEodY1\n",
       "FpWC6T79S5MQP/+W0dOp8R8gvZk2X2cUAUGMXSXgfpXdAAAAcAGfLWpCfwAGwd/8K8UehEnBBf5w\n",
       "AGzJ3fTsVDSRLeAOHr2HdkGJl7Ed3Bhf9VnbIHFBpJi6l8KyvczMe13i6EA/bHCpZ8QbM7rre9eG\n",
       "gM0ywMNZ7tpEHHaQoyglr3B1Qhi47uak47/sAgcM1+ucgfEAAAETQZsxSahBbJlMCG///qeEAAaf\n",
       "W3/CU5PAAunIygFtwOQbGcMTbdng5Sp1AV5NN3vmhwPoxpEPl2veHb+oUCB2pi1f6xhFV9C1nE9u\n",
       "tc3qQela1uVgjzItSvWTEr0sxqtPmjeBKLqWPIugGlyAts9yhEsSXdOvgc1j8/9XtxzMpzP8CrNm\n",
       "apjMlr6ri9IsvxjioK8LSDC9B6zvGRxR66n0NRp5K1PgO1eSBBq/quEh5sjwLasXPogMNcCmsIWj\n",
       "LCpD3r7wRpekr8b8+LO0t75CJvc+9WpZF5531OE7xVmunsGMPtxCvaU7U0mPM3An6bfUMTuiXPVY\n",
       "gYk7ZfcuOS9WLEQeVV9U5ULme/NOFgFkjoDu0m8AAACiQZ9PRRUsK/8ABWa8ZkBHxdYATV5hm5tr\n",
       "dYAZxBdPtEaUDQuS6qvN9KtJQQ2Hq7dJDT+494SFgGcmJZHOA+5aJ4AvyKSMetA5Kn9ZkR3Lm9Ey\n",
       "tS7G0ETD141mlAF++hSVRlKcVtJero7REMMImZejdM1IP0BzLWJFSNHy53KY7rLYYlj5XuvgXGri\n",
       "h/6fKykeBc7bjU6tLwr5IVTAgM6Ra4lIAAAAowGfcGpCfwAG6dvBaGyWM/039ft2HFVsACH5pkiZ\n",
       "vU3vbJrcCKbLtLuaL+wis/hHAG46BbYDTe4WQC3zmrWZQR/UHTc58MXOnhQcbrtGVYwR8IXkXd3d\n",
       "T8tmy328rzZFU1NffLnYfavZDCIh87XzoVsvGd3Qyn4IRdNYpcmIfHSP5gp3aRN+Nlz8MXONcWV9\n",
       "t2SwDCCzrA/Mpac6UgE90X5BTW0AAAFWQZt1SahBbJlMCGf//p4QABp9Xb8Ta0cAGXeuK8y07TNt\n",
       "XQUJdIKr9qBpk4sjF+cpe7eJR1/KdDmZSm4eG7WvnnIsMo7/dW4fKuLXN9Nz3msqpJGHiR8/GyrN\n",
       "uSa0bY7/QT4YVV4YWf8+DXL7weH/VJs7MgTNqhP4rknNUd73iWFB4OpppENieD6sHYKso3PIKola\n",
       "UQkRKBvVvkufeEMv02iFWDJFlSSk42tJ7IhfKX74s+rsaHaIVoPuKA2VTnQkd2ocbkxFzHGuOLaq\n",
       "1f2WquOnRGLSRiVOjPkhtI1JWRbQOypF5HIWml8uX7P6lVs8L5/2bXyEh7WQEk3Ia26lnE7LiIe3\n",
       "dpd5YcuEel+EMIFNYZfuGqjBl2XmWOMd20iKPecSopT/JlAivEEbDbhIt4sAw4/4mqZJA+5l68xb\n",
       "sYMM1Y7E8FRu06oi0MsrYOzwD870ExeRAAAAwEGfk0UVLCv/AAWKtXgL3uNpMl/7sAB/POYMRec9\n",
       "M0z73PNoOKtwzJQNvBEeJfn2TEjeJKrgV0edVVsgCSWSYJtD2gFlTW6snmHlzAG0L5+TMxnzoGo7\n",
       "4HOwLhzj4XwtbvZ0rvwRgSLEcmEJCg9EWA1lJoQAKKjhpgGrSqSTW0nqcRqQqFljltmaur/lfBZt\n",
       "BajN+xkqdQv0DhMc2WtYtTAfidE1kRuQROvEV+HATWvIC3yMP3chHkzq5k+eHqck9AAAAHwBn7J0\n",
       "Qn8ABuOj4aclJOF754Fg7axbUun3HCfAY+LQANpcMGjO2iP4yLdzKoW4kYjAeL0RcNAN3McR2Jpc\n",
       "TOBDvEUQ0lNnxfi8qAXGmYdKMTd93d7zWWwt3QfF8TTqKNc7iTFv1kOvzA0dfwOlrWw0qDi0UQuI\n",
       "r+HWOOFWAAAAbgGftGpCfwAHFdRobrMORMAACE50wtwXaFm8kVNj5oSrazaFJSVtINGmco0A1NBa\n",
       "gWkIqOgzc56oNL9KWe/jrj6ypG+TFj7WnnkvszbUp6bS09PXRmKHjXL2tks8DBIlzUHmFkHqxVri\n",
       "36HXghw9AAABTEGbuUmoQWyZTAhf//6MsAAbJ3bYAW8d9hA251KRkOPmn+6ztsranBINkNWRDk68\n",
       "+7e6a3yEh9nZbcJG2gmaDL1W/V9KFDGRAueqscOTB5SMxWnh5psKOrthBFQPmCQCqFSUA3IJN6LT\n",
       "jsFY+MEWBp/+Fgzuab0xntwQQ8pFobzvf8ha3unJNcLaV30aWoy+znGdp+72HInyOCKfnpaHvZ1U\n",
       "TIcGanFKAs3Y+U+gDgesUqLZubQszA4xJgAxbQdOR6/PoKXe0uV/TmKbElM/v6x0eeHu9Rb7WcKy\n",
       "QQBrfVosefi1mwHFH26+n5MJOICtVng5Dd5wvF+zhgWS/v+zySu8oYemmAAZbRjdgAwLZ6eXf5G/\n",
       "+GBH8LFSwR0Jergz0LPatIZ6FW5zpTGOEHEY1EGHCoKIUcqXOGZn0Sdx1p4ROIoGjheB5TA85FQ+\n",
       "AAAAk0Gf10UVLCv/AAWutXgL32sJ5gV067GgBAqETJd8ctqQBxIbNr5nlODwrdY+/UHif4y2iorO\n",
       "x7pxpqnDxI33OPMhDz2hpJsSiMW6J06KnIdv+O5Ui+431dQ26JPMKSAyBj3KntshbCo1qQFKPNhT\n",
       "gSFhvYa6BC3G82ut4t5N29sjKuS75asJw4TpphMcgmDAj+PZmQAAALwBn/Z0Qn8ABvvgsoFS13qO\n",
       "ABtBPf2GqxkI+2U48uQ2fWEzhcE1fNeb25flHGMEjIoET/sPwCwucoacp6Dazp5beDCeLXU4CnuV\n",
       "hHvFwI4irwz4Y61wbxyqTYltG+o9NG8QkPPbp5TVtlJElBnDfl9uPvruAFifFpMjDUMyM/DkKfV9\n",
       "MnGp2pT/9Xlmizq568wQW2zYQXysHxIh9CCHM6/RXsxti6m76CASeyJaVYe2ZoDik0MeHup+ylrS\n",
       "cQAAAIoBn/hqQn8AB0HdWbwEQ4XQAaxNRrRGP6iJ1E5PhLs/W/J+hbA2m/PIg7B5HoDv3dCZqtyR\n",
       "LVhVsSKtOAm0cffg13bEj704U2OPd/UsyfgWV5+e29RE5vFAAtozwInEMRD6iSulmVE6Rbpn25IT\n",
       "EQljNG7lRJtNoe9K0LNsUeW/NhO5gR5ryRsU71QAAADOQZv7SahBbJlMFEwn//3xAAD+ekxdeE67\n",
       "SX2cADagrs/EogaYVeihg2lCBokeefLPuO+bkfSxPJGLWSLwBLRH37osS1dSbfVwcsvklqzGAoCc\n",
       "QA50ngMfD2kUBNq29q8Sja/Cny5yEJncMbHZlfJCjfxEu2ORwlJsAN76xjI+CMumiO0VSUFmjxOg\n",
       "hVkPvowFydKDiKF+SvzDgP5uCtxpYPiVqhMzQIRCL66d3+TuIsAnbtHchvzFu0mXqQfDt9dwjYc5\n",
       "iD3UXWIKrv27fjkAAACWAZ4aakJ/AAdB1I4zJhS1tKABtP8i/cCNLB1pJt4oU065ZZnwQO+RAI2l\n",
       "6EUVX9bADtKVij9VB/js6J98sJxyfp6UH5hQUk1ThTP0PiJUtWXP64cv0UGtHOxzsrR2GRvoEbDL\n",
       "jbhUHt8rzzWUAnBuWFLrrKnSBglNIsf7BTM1bkqn9ya91onX3coCi9RJNk8CyzHxGkZBAAAF6m1v\n",
       "b3YAAABsbXZoZAAAAAAAAAAAAAAAAAAAA+gAAAfQAAEAAAEAAAAAAAAAAAAAAAABAAAAAAAAAAAA\n",
       "AAAAAAAAAQAAAAAAAAAAAAAAAAAAQAAAAAAAAAAAAAAAAAAAAAAAAAAAAAAAAAAAAAAAAAIAAAUU\n",
       "dHJhawAAAFx0a2hkAAAAAwAAAAAAAAAAAAAAAQAAAAAAAAfQAAAAAAAAAAAAAAAAAAAAAAABAAAA\n",
       "AAAAAAAAAAAAAAAAAQAAAAAAAAAAAAAAAAAAQAAAAAGwAAABIAAAAAAAJGVkdHMAAAAcZWxzdAAA\n",
       "AAAAAAABAAAH0AAABAAAAQAAAAAEjG1kaWEAAAAgbWRoZAAAAAAAAAAAAAAAAAAAPAAAAHgAVcQA\n",
       "AAAAAC1oZGxyAAAAAAAAAAB2aWRlAAAAAAAAAAAAAAAAVmlkZW9IYW5kbGVyAAAABDdtaW5mAAAA\n",
       "FHZtaGQAAAABAAAAAAAAAAAAAAAkZGluZgAAABxkcmVmAAAAAAAAAAEAAAAMdXJsIAAAAAEAAAP3\n",
       "c3RibAAAALdzdHNkAAAAAAAAAAEAAACnYXZjMQAAAAAAAAABAAAAAAAAAAAAAAAAAAAAAAGwASAA\n",
       "SAAAAEgAAAAAAAAAAQAAAAAAAAAAAAAAAAAAAAAAAAAAAAAAAAAAAAAAAAAAABj//wAAADVhdmND\n",
       "AWQAFf/hABhnZAAVrNlBsJaEAAADAAQAAAMA8DxYtlgBAAZo6+PLIsD9+PgAAAAAHHV1aWRraEDy\n",
       "XyRPxbo5pRvPAyPzAAAAAAAAABhzdHRzAAAAAAAAAAEAAAA8AAACAAAAABRzdHNzAAAAAAAAAAEA\n",
       "AAABAAAB2GN0dHMAAAAAAAAAOQAAAAEAAAQAAAAAAQAACgAAAAABAAAEAAAAAAEAAAAAAAAAAQAA\n",
       "AgAAAAABAAAKAAAAAAEAAAQAAAAAAQAAAAAAAAABAAACAAAAAAEAAAgAAAAAAgAAAgAAAAABAAAK\n",
       "AAAAAAEAAAQAAAAAAQAAAAAAAAABAAACAAAAAAEAAAoAAAAAAQAABAAAAAABAAAAAAAAAAEAAAIA\n",
       "AAAAAQAACgAAAAABAAAEAAAAAAEAAAAAAAAAAQAAAgAAAAABAAAKAAAAAAEAAAQAAAAAAQAAAAAA\n",
       "AAABAAACAAAAAAEAAAoAAAAAAQAABAAAAAABAAAAAAAAAAEAAAIAAAAAAQAACgAAAAABAAAEAAAA\n",
       "AAEAAAAAAAAAAQAAAgAAAAABAAAIAAAAAAIAAAIAAAAAAQAACgAAAAABAAAEAAAAAAEAAAAAAAAA\n",
       "AQAAAgAAAAABAAAKAAAAAAEAAAQAAAAAAQAAAAAAAAABAAACAAAAAAEAAAgAAAAAAgAAAgAAAAAB\n",
       "AAAKAAAAAAEAAAQAAAAAAQAAAAAAAAABAAACAAAAAAEAAAoAAAAAAQAABAAAAAABAAAAAAAAAAEA\n",
       "AAIAAAAAAQAABgAAAAABAAACAAAAABxzdHNjAAAAAAAAAAEAAAABAAAAPAAAAAEAAAEEc3RzegAA\n",
       "AAAAAAAAAAAAPAAACecAAAIjAAABDQAAAJYAAACtAAABmwAAAQgAAACnAAAAngAAASQAAACRAAAA\n",
       "sQAAAUwAAAC6AAAArQAAAHYAAAGBAAAA3gAAAKoAAACtAAABhAAAAMIAAAC9AAAAowAAAWwAAADe\n",
       "AAAArwAAALsAAAFNAAAAtwAAAHAAAACSAAABlwAAAOgAAAC6AAAAxAAAAR0AAAC2AAAAogAAAVUA\n",
       "AADXAAAAmwAAALcAAAFtAAAAlQAAAKMAAAB0AAABFwAAAKYAAACnAAABWgAAAMQAAACAAAAAcgAA\n",
       "AVAAAACXAAAAwAAAAI4AAADSAAAAmgAAABRzdGNvAAAAAAAAAAEAAAAwAAAAYnVkdGEAAABabWV0\n",
       "YQAAAAAAAAAhaGRscgAAAAAAAAAAbWRpcmFwcGwAAAAAAAAAAAAAAAAtaWxzdAAAACWpdG9vAAAA\n",
       "HWRhdGEAAAABAAAAAExhdmY1OC40NS4xMDA=\n",
       "\">\n",
       "  Your browser does not support the video tag.\n",
       "</video>"
      ],
      "text/plain": [
       "<IPython.core.display.HTML object>"
      ]
     },
     "execution_count": 17,
     "metadata": {},
     "output_type": "execute_result"
    },
    {
     "data": {
      "image/png": "[encoded data removed]",
      "text/plain": [
       "<Figure size 432x288 with 1 Axes>"
      ]
     },
     "metadata": {
      "needs_background": "light"
     },
     "output_type": "display_data"
    }
   ],
   "source": [
    "points_output.animate(fps = fps,movie_name = 'dynamics_free_swimming_opt.mp4',lw=2,marker='o',color=(1,0,0,1),linestyle='-')\n",
    "    \n",
    "HTML(points_output.anim.to_html5_video())"
   ]
  },
  {
   "cell_type": "code",
   "execution_count": 19,
   "id": "f5bd21b8",
   "metadata": {},
   "outputs": [
    {
     "name": "stdout",
     "output_type": "stream",
     "text": [
      "17.433611637412202\n"
     ]
    }
   ],
   "source": [
    "linear_disp_final = abs(states2[-1,7])/seg_l  #relative length of segment\n",
    "print(linear_disp_final)"
   ]
  },
  {
   "cell_type": "markdown",
   "id": "942a6cdb",
   "metadata": {},
   "source": [
    "### Discussion"
   ]
  },
  {
   "cell_type": "markdown",
   "id": "31413cf2",
   "metadata": {},
   "source": [
    "### Simulation: \n",
    "We ran optimization on different constants of the system. I was assigned to optimize the frequency of the cosine wave that is the oscillation frequency. We used scipy.optimize.minimize to optimize the parameters and used the velocity in the x-direction as the performance measure. The performance measure can also be optimized by considering energy of the system that includes the energy used by the motor and the body of the tail. The tail and segment size was optimized based purely on the velocity in the x-direction and thus the displacement can vary with respect to the size of the whole system size."
   ]
  },
  {
   "cell_type": "markdown",
   "id": "49f2ed75",
   "metadata": {},
   "source": [
    "### Experimental Validation\n",
    "We manufactured the tail using the optimized parameters and tested it under water. The test results show that the materials used and parameters chosen did not give us the expected results. We believe that the performance measure used while optimizing the parameters should consider not just x-directional velocity but also other factors such as energy used, joint stiffness so that the output would be more close to our expected results."
   ]
  },
  {
   "cell_type": "markdown",
   "id": "6b07f43c",
   "metadata": {},
   "source": [
    "<img src=\"https://media.giphy.com/media/QW4wPd85ysxR1jALnX/giphy-downsized-large.gif\" width=\"400\" height=\"400\"/>"
   ]
  }
 ],
 "metadata": {
  "kernelspec": {
   "display_name": "Python 3 (ipykernel)",
   "language": "python",
   "name": "python3"
  },
  "language_info": {
   "codemirror_mode": {
    "name": "ipython",
    "version": 3
   },
   "file_extension": ".py",
   "mimetype": "text/x-python",
   "name": "python",
   "nbconvert_exporter": "python",
   "pygments_lexer": "ipython3",
   "version": "3.9.7"
  }
 },
 "nbformat": 4,
 "nbformat_minor": 5
}
